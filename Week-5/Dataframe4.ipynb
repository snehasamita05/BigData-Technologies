{
 "cells": [
  {
   "cell_type": "code",
   "execution_count": 13,
   "id": "d4ce74c7",
   "metadata": {},
   "outputs": [],
   "source": [
    "from pyspark.sql import SparkSession\n",
    "import getpass\n",
    "username = getpass.getuser()\n",
    "spark = SparkSession. \\\n",
    "builder. \\\n",
    "config('spark.ui.port','0'). \\\n",
    "config(\"spark.sql.warehouse.dir\", f\"/user/{username}/warehouse\"). \\\n",
    "enableHiveSupport(). \\\n",
    "master('yarn'). \\\n",
    "getOrCreate()"
   ]
  },
  {
   "cell_type": "code",
   "execution_count": 14,
   "id": "fd8df611",
   "metadata": {},
   "outputs": [
    {
     "data": {
      "text/html": [
       "\n",
       "            <div>\n",
       "                <p><b>SparkSession - hive</b></p>\n",
       "                \n",
       "        <div>\n",
       "            <p><b>SparkContext</b></p>\n",
       "\n",
       "            <p><a href=\"http://g01.itversity.com:43369\">Spark UI</a></p>\n",
       "\n",
       "            <dl>\n",
       "              <dt>Version</dt>\n",
       "                <dd><code>v3.1.2</code></dd>\n",
       "              <dt>Master</dt>\n",
       "                <dd><code>yarn</code></dd>\n",
       "              <dt>AppName</dt>\n",
       "                <dd><code>pyspark-shell</code></dd>\n",
       "            </dl>\n",
       "        </div>\n",
       "        \n",
       "            </div>\n",
       "        "
      ],
      "text/plain": [
       "<pyspark.sql.session.SparkSession at 0x7f486d1b2780>"
      ]
     },
     "execution_count": 14,
     "metadata": {},
     "output_type": "execute_result"
    }
   ],
   "source": [
    "spark"
   ]
  },
  {
   "cell_type": "code",
   "execution_count": 15,
   "id": "50c3b153",
   "metadata": {},
   "outputs": [],
   "source": [
    "orders_df = spark.read.\\\n",
    "format(\"csv\").\\\n",
    "option(\"header\",\"true\").\\\n",
    "option(\"inferSchema\", \"True\").\\\n",
    "load(\"/public/trendytech/orders_wh/*\")"
   ]
  },
  {
   "cell_type": "code",
   "execution_count": 16,
   "id": "da21de3b",
   "metadata": {},
   "outputs": [
    {
     "name": "stdout",
     "output_type": "stream",
     "text": [
      "+--------+--------------------+-----------+---------------+\n",
      "|order_id|          order_date|customer_id|   order_status|\n",
      "+--------+--------------------+-----------+---------------+\n",
      "|       1|2013-07-25 00:00:...|      11599|         CLOSED|\n",
      "|       2|2013-07-25 00:00:...|        256|PENDING_PAYMENT|\n",
      "|       3|2013-07-25 00:00:...|      12111|       COMPLETE|\n",
      "|       4|2013-07-25 00:00:...|       8827|         CLOSED|\n",
      "|       5|2013-07-25 00:00:...|      11318|       COMPLETE|\n",
      "|       6|2013-07-25 00:00:...|       7130|       COMPLETE|\n",
      "|       7|2013-07-25 00:00:...|       4530|       COMPLETE|\n",
      "|       8|2013-07-25 00:00:...|       2911|     PROCESSING|\n",
      "|       9|2013-07-25 00:00:...|       5657|PENDING_PAYMENT|\n",
      "|      10|2013-07-25 00:00:...|       5648|PENDING_PAYMENT|\n",
      "|      11|2013-07-25 00:00:...|        918| PAYMENT_REVIEW|\n",
      "|      12|2013-07-25 00:00:...|       1837|         CLOSED|\n",
      "|      13|2013-07-25 00:00:...|       9149|PENDING_PAYMENT|\n",
      "|      14|2013-07-25 00:00:...|       9842|     PROCESSING|\n",
      "|      15|2013-07-25 00:00:...|       2568|       COMPLETE|\n",
      "|      16|2013-07-25 00:00:...|       7276|PENDING_PAYMENT|\n",
      "|      17|2013-07-25 00:00:...|       2667|       COMPLETE|\n",
      "|      18|2013-07-25 00:00:...|       1205|         CLOSED|\n",
      "|      19|2013-07-25 00:00:...|       9488|PENDING_PAYMENT|\n",
      "|      20|2013-07-25 00:00:...|       9198|     PROCESSING|\n",
      "+--------+--------------------+-----------+---------------+\n",
      "only showing top 20 rows\n",
      "\n"
     ]
    }
   ],
   "source": [
    "orders_df.show()"
   ]
  },
  {
   "cell_type": "code",
   "execution_count": 17,
   "id": "aca7d432",
   "metadata": {},
   "outputs": [
    {
     "name": "stdout",
     "output_type": "stream",
     "text": [
      "root\n",
      " |-- order_id: integer (nullable = true)\n",
      " |-- order_date: string (nullable = true)\n",
      " |-- customer_id: integer (nullable = true)\n",
      " |-- order_status: string (nullable = true)\n",
      "\n"
     ]
    }
   ],
   "source": [
    "orders_df.printSchema()"
   ]
  },
  {
   "cell_type": "code",
   "execution_count": 22,
   "id": "46afd171",
   "metadata": {},
   "outputs": [],
   "source": [
    "orders_df.createOrReplaceTempView(\"orders\")"
   ]
  },
  {
   "cell_type": "markdown",
   "id": "6b9e402e",
   "metadata": {},
   "source": [
    "## Higher Level API's Demo"
   ]
  },
  {
   "cell_type": "markdown",
   "id": "aef48baa",
   "metadata": {},
   "source": [
    "#### 1. Top 15 customers who placed the most number of orders"
   ]
  },
  {
   "cell_type": "code",
   "execution_count": 18,
   "id": "f5778bc4",
   "metadata": {},
   "outputs": [],
   "source": [
    "result = orders_df.groupBy(\"customer_id\").count().sort(\"count\", ascending = False).limit(15)"
   ]
  },
  {
   "cell_type": "code",
   "execution_count": 19,
   "id": "6c099ad6",
   "metadata": {},
   "outputs": [
    {
     "name": "stdout",
     "output_type": "stream",
     "text": [
      "+-----------+-----+\n",
      "|customer_id|count|\n",
      "+-----------+-----+\n",
      "|       5897|   16|\n",
      "|      12431|   16|\n",
      "|        569|   16|\n",
      "|       6316|   16|\n",
      "|       5624|   15|\n",
      "|      12284|   15|\n",
      "|       4320|   15|\n",
      "|       5283|   15|\n",
      "|        221|   15|\n",
      "|       5654|   15|\n",
      "|        791|   14|\n",
      "|       4517|   14|\n",
      "|       3708|   14|\n",
      "|       8652|   14|\n",
      "|       4249|   14|\n",
      "+-----------+-----+\n",
      "\n"
     ]
    }
   ],
   "source": [
    "result.show()"
   ]
  },
  {
   "cell_type": "code",
   "execution_count": 23,
   "id": "b595d15b",
   "metadata": {},
   "outputs": [],
   "source": [
    "result = spark.sql(\"select customer_id, count(order_id) as count from orders group by customer_id order by count desc limit 15\")"
   ]
  },
  {
   "cell_type": "code",
   "execution_count": 25,
   "id": "8293f9de",
   "metadata": {},
   "outputs": [
    {
     "name": "stdout",
     "output_type": "stream",
     "text": [
      "+-----------+-----+\n",
      "|customer_id|count|\n",
      "+-----------+-----+\n",
      "|        569|   16|\n",
      "|       5897|   16|\n",
      "|      12431|   16|\n",
      "|       6316|   16|\n",
      "|      12284|   15|\n",
      "|       5654|   15|\n",
      "|        221|   15|\n",
      "|       5624|   15|\n",
      "|       4320|   15|\n",
      "|       5283|   15|\n",
      "|       4517|   14|\n",
      "|       3708|   14|\n",
      "|       4249|   14|\n",
      "|       3710|   14|\n",
      "|        791|   14|\n",
      "+-----------+-----+\n",
      "\n"
     ]
    }
   ],
   "source": [
    "result.show()"
   ]
  },
  {
   "cell_type": "code",
   "execution_count": null,
   "id": "a4235c9e",
   "metadata": {},
   "outputs": [],
   "source": []
  },
  {
   "cell_type": "markdown",
   "id": "f8185ba1",
   "metadata": {},
   "source": [
    "#### 2. Find the number of of orders under each order status"
   ]
  },
  {
   "cell_type": "code",
   "execution_count": null,
   "id": "0fc14bc9",
   "metadata": {},
   "outputs": [],
   "source": [
    "result = orders_df.groupBy(\"order_status\").count()"
   ]
  },
  {
   "cell_type": "code",
   "execution_count": 26,
   "id": "bb674a71",
   "metadata": {},
   "outputs": [
    {
     "name": "stdout",
     "output_type": "stream",
     "text": [
      "+-----------+-----+\n",
      "|customer_id|count|\n",
      "+-----------+-----+\n",
      "|      12431|   16|\n",
      "|       5897|   16|\n",
      "|        569|   16|\n",
      "|       6316|   16|\n",
      "|       4320|   15|\n",
      "|        221|   15|\n",
      "|      12284|   15|\n",
      "|       5624|   15|\n",
      "|       5283|   15|\n",
      "|       5654|   15|\n",
      "|       4249|   14|\n",
      "|       3708|   14|\n",
      "|      11689|   14|\n",
      "|       3710|   14|\n",
      "|        791|   14|\n",
      "+-----------+-----+\n",
      "\n"
     ]
    }
   ],
   "source": [
    "result.show()"
   ]
  },
  {
   "cell_type": "code",
   "execution_count": 31,
   "id": "2c505447",
   "metadata": {},
   "outputs": [],
   "source": [
    "result = spark.sql(\"select order_status, count(order_id) as count from orders group by order_status\")"
   ]
  },
  {
   "cell_type": "code",
   "execution_count": 32,
   "id": "7fda8321",
   "metadata": {},
   "outputs": [
    {
     "name": "stdout",
     "output_type": "stream",
     "text": [
      "+---------------+-----+\n",
      "|   order_status|count|\n",
      "+---------------+-----+\n",
      "|PENDING_PAYMENT|15030|\n",
      "|       COMPLETE|22899|\n",
      "|        ON_HOLD| 3798|\n",
      "| PAYMENT_REVIEW|  729|\n",
      "|     PROCESSING| 8275|\n",
      "|         CLOSED| 7556|\n",
      "|SUSPECTED_FRAUD| 1558|\n",
      "|        PENDING| 7610|\n",
      "|       CANCELED| 1428|\n",
      "+---------------+-----+\n",
      "\n"
     ]
    }
   ],
   "source": [
    "result.show()"
   ]
  },
  {
   "cell_type": "markdown",
   "id": "8923effd",
   "metadata": {},
   "source": [
    "#### 3. No of active customers who placed atleast one order"
   ]
  },
  {
   "cell_type": "code",
   "execution_count": 33,
   "id": "efd351fe",
   "metadata": {},
   "outputs": [],
   "source": [
    "result = orders_df.select(\"customer_id\").distinct().count()"
   ]
  },
  {
   "cell_type": "code",
   "execution_count": 35,
   "id": "6ab9b26e",
   "metadata": {},
   "outputs": [
    {
     "name": "stdout",
     "output_type": "stream",
     "text": [
      "12405\n"
     ]
    }
   ],
   "source": [
    "print(result)"
   ]
  },
  {
   "cell_type": "code",
   "execution_count": 37,
   "id": "911f1a3d",
   "metadata": {},
   "outputs": [],
   "source": [
    "result = spark.sql(\"select count(distinct (customer_id)) as active_customers from orders\")"
   ]
  },
  {
   "cell_type": "code",
   "execution_count": 38,
   "id": "3273f8ad",
   "metadata": {},
   "outputs": [
    {
     "name": "stdout",
     "output_type": "stream",
     "text": [
      "+----------------+\n",
      "|active_customers|\n",
      "+----------------+\n",
      "|           12405|\n",
      "+----------------+\n",
      "\n"
     ]
    }
   ],
   "source": [
    "print(result)"
   ]
  },
  {
   "cell_type": "markdown",
   "id": "b8288896",
   "metadata": {},
   "source": [
    "#### 4. Customer with most number of closed orders"
   ]
  },
  {
   "cell_type": "code",
   "execution_count": 42,
   "id": "7c4fabf1",
   "metadata": {},
   "outputs": [],
   "source": [
    "result = orders_df.filter(\"order_status = 'CLOSED'\").groupBy ('customer_id').count().sort(\"count\", ascending = False)"
   ]
  },
  {
   "cell_type": "code",
   "execution_count": 43,
   "id": "893bd79f",
   "metadata": {},
   "outputs": [
    {
     "name": "stdout",
     "output_type": "stream",
     "text": [
      "+-----------+-----+\n",
      "|customer_id|count|\n",
      "+-----------+-----+\n",
      "|       1833|    6|\n",
      "|       1363|    5|\n",
      "|       1687|    5|\n",
      "|       5493|    5|\n",
      "|       7948|    4|\n",
      "|       2768|    4|\n",
      "|      10263|    4|\n",
      "|       7850|    4|\n",
      "|       2403|    4|\n",
      "|        437|    4|\n",
      "|       4573|    4|\n",
      "|       3631|    4|\n",
      "|      12431|    4|\n",
      "|       1521|    4|\n",
      "|      10111|    4|\n",
      "|       7879|    4|\n",
      "|      10018|    4|\n",
      "|       5319|    4|\n",
      "|       2236|    4|\n",
      "|       2774|    4|\n",
      "+-----------+-----+\n",
      "only showing top 20 rows\n",
      "\n"
     ]
    }
   ],
   "source": [
    "result.show()"
   ]
  },
  {
   "cell_type": "code",
   "execution_count": 45,
   "id": "05c56205",
   "metadata": {},
   "outputs": [],
   "source": [
    "result= spark.sql(\"select customer_id, count(order_id) as count from orders where order_status = 'CLOSED' group by customer_id order by count desc\")"
   ]
  },
  {
   "cell_type": "code",
   "execution_count": 46,
   "id": "28eaf27b",
   "metadata": {},
   "outputs": [
    {
     "name": "stdout",
     "output_type": "stream",
     "text": [
      "+-----------+-----+\n",
      "|customer_id|count|\n",
      "+-----------+-----+\n",
      "|       1833|    6|\n",
      "|       1363|    5|\n",
      "|       1687|    5|\n",
      "|       5493|    5|\n",
      "|       7948|    4|\n",
      "|       2768|    4|\n",
      "|      10263|    4|\n",
      "|       2236|    4|\n",
      "|       2403|    4|\n",
      "|        437|    4|\n",
      "|       4573|    4|\n",
      "|       7850|    4|\n",
      "|      12431|    4|\n",
      "|       1521|    4|\n",
      "|      10111|    4|\n",
      "|       7879|    4|\n",
      "|      10018|    4|\n",
      "|       5319|    4|\n",
      "|       2774|    4|\n",
      "|       3631|    4|\n",
      "+-----------+-----+\n",
      "only showing top 20 rows\n",
      "\n"
     ]
    }
   ],
   "source": [
    "result.show()"
   ]
  },
  {
   "cell_type": "code",
   "execution_count": null,
   "id": "369e790f",
   "metadata": {},
   "outputs": [],
   "source": []
  }
 ],
 "metadata": {
  "kernelspec": {
   "display_name": "Pyspark 3",
   "language": "python",
   "name": "pyspark3"
  },
  "language_info": {
   "codemirror_mode": {
    "name": "ipython",
    "version": 3
   },
   "file_extension": ".py",
   "mimetype": "text/x-python",
   "name": "python",
   "nbconvert_exporter": "python",
   "pygments_lexer": "ipython3",
   "version": "3.6.12"
  }
 },
 "nbformat": 4,
 "nbformat_minor": 5
}
