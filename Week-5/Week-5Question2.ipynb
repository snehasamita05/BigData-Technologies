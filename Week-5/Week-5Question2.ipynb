{
 "cells": [
  {
   "cell_type": "code",
   "execution_count": 1,
   "id": "7b4cc6a8",
   "metadata": {},
   "outputs": [],
   "source": [
    "from pyspark.sql import SparkSession\n",
    "from pyspark.sql import SparkSession\n",
    "import getpass\n",
    "username = getpass.getuser()\n",
    "spark= SparkSession. \\\n",
    "builder. \\\n",
    "config('spark.ui.port','0'). \\\n",
    "config(\"spark.sql.warehouse.dir\", f\"/user/{username}/warehouse\"). \\\n",
    "enableHiveSupport(). \\\n",
    "master('yarn'). \\\n",
    "getOrCreate()"
   ]
  },
  {
   "cell_type": "code",
   "execution_count": 2,
   "id": "c183f7c5",
   "metadata": {},
   "outputs": [
    {
     "data": {
      "text/html": [
       "\n",
       "            <div>\n",
       "                <p><b>SparkSession - hive</b></p>\n",
       "                \n",
       "        <div>\n",
       "            <p><b>SparkContext</b></p>\n",
       "\n",
       "            <p><a href=\"http://g01.itversity.com:35917\">Spark UI</a></p>\n",
       "\n",
       "            <dl>\n",
       "              <dt>Version</dt>\n",
       "                <dd><code>v3.1.2</code></dd>\n",
       "              <dt>Master</dt>\n",
       "                <dd><code>yarn</code></dd>\n",
       "              <dt>AppName</dt>\n",
       "                <dd><code>pyspark-shell</code></dd>\n",
       "            </dl>\n",
       "        </div>\n",
       "        \n",
       "            </div>\n",
       "        "
      ],
      "text/plain": [
       "<pyspark.sql.session.SparkSession at 0x7f2a09c4b6d8>"
      ]
     },
     "execution_count": 2,
     "metadata": {},
     "output_type": "execute_result"
    }
   ],
   "source": [
    "spark"
   ]
  },
  {
   "cell_type": "code",
   "execution_count": 4,
   "id": "bb001f83",
   "metadata": {},
   "outputs": [],
   "source": [
    "products_df=spark.read \\\n",
    ".format(\"csv\") \\\n",
    ".option(\"header\",\"true\") \\\n",
    ".option(\"inferSchema\",\"true\") \\\n",
    ".load(\"/user/itv017244/products_folder/products_wh_data.csv\")"
   ]
  },
  {
   "cell_type": "code",
   "execution_count": 6,
   "id": "12244d5d",
   "metadata": {},
   "outputs": [
    {
     "name": "stdout",
     "output_type": "stream",
     "text": [
      "+----------+--------+--------------------+-----------+------+--------------------+\n",
      "|product_id|category|        product_name|description| price|           image_url|\n",
      "+----------+--------+--------------------+-----------+------+--------------------+\n",
      "|      null|    null|        product_name|description|  null|           image_url|\n",
      "|         1|       2|Quest Q64 10 FT. ...|       null| 59.98|http://images.acm...|\n",
      "|         2|       2|Under Armour Men'...|       null|129.99|http://images.acm...|\n",
      "|         3|       2|Under Armour Men'...|       null| 89.99|http://images.acm...|\n",
      "|         4|       2|Under Armour Men'...|       null| 89.99|http://images.acm...|\n",
      "+----------+--------+--------------------+-----------+------+--------------------+\n",
      "only showing top 5 rows\n",
      "\n"
     ]
    }
   ],
   "source": [
    "products_df.show(5)"
   ]
  },
  {
   "cell_type": "code",
   "execution_count": 7,
   "id": "3b051037",
   "metadata": {},
   "outputs": [],
   "source": [
    "total_products = products_df.count()"
   ]
  },
  {
   "cell_type": "code",
   "execution_count": 8,
   "id": "289b2cb5",
   "metadata": {},
   "outputs": [
    {
     "name": "stdout",
     "output_type": "stream",
     "text": [
      "1346\n"
     ]
    }
   ],
   "source": [
    "print(total_products)"
   ]
  },
  {
   "cell_type": "code",
   "execution_count": 9,
   "id": "deb18c71",
   "metadata": {},
   "outputs": [],
   "source": [
    "unique_categories = products_df.select(\"Category\").distinct().count()"
   ]
  },
  {
   "cell_type": "code",
   "execution_count": 10,
   "id": "78987a06",
   "metadata": {},
   "outputs": [
    {
     "name": "stdout",
     "output_type": "stream",
     "text": [
      "56\n"
     ]
    }
   ],
   "source": [
    "print(unique_categories)"
   ]
  },
  {
   "cell_type": "code",
   "execution_count": 12,
   "id": "cefe065e",
   "metadata": {},
   "outputs": [],
   "source": [
    "expensive_products = products_df.select(\"product_name\",\"category\",\"image_url\",\"price\").orderBy(\"price\", ascending = False).limit(5)"
   ]
  },
  {
   "cell_type": "code",
   "execution_count": 13,
   "id": "18dde67f",
   "metadata": {},
   "outputs": [
    {
     "name": "stdout",
     "output_type": "stream",
     "text": [
      "+--------------------+--------+--------------------+-------+\n",
      "|        product_name|category|           image_url|  price|\n",
      "+--------------------+--------+--------------------+-------+\n",
      "| SOLE E35 Elliptical|      10|http://images.acm...|1999.99|\n",
      "|  SOLE F85 Treadmill|       4|http://images.acm...|1799.99|\n",
      "|  SOLE F85 Treadmill|      10|http://images.acm...|1799.99|\n",
      "|  SOLE F85 Treadmill|      22|http://images.acm...|1799.99|\n",
      "|\"Spalding Beast 6...|      47|http://images.acm...|1099.99|\n",
      "+--------------------+--------+--------------------+-------+\n",
      "\n"
     ]
    }
   ],
   "source": [
    "expensive_products.show()"
   ]
  },
  {
   "cell_type": "code",
   "execution_count": 16,
   "id": "5941da80",
   "metadata": {},
   "outputs": [],
   "source": [
    "category_df = products_df.filter(\"price > 100\").groupBy(\"category\").count().withColumnRenamed(\"count\", \"NumberOfProducts\")"
   ]
  },
  {
   "cell_type": "code",
   "execution_count": 17,
   "id": "8d6a76d6",
   "metadata": {},
   "outputs": [
    {
     "name": "stdout",
     "output_type": "stream",
     "text": [
      "+--------+----------------+\n",
      "|category|NumberOfProducts|\n",
      "+--------+----------------+\n",
      "|      31|              17|\n",
      "|      53|              16|\n",
      "|      34|              15|\n",
      "|      44|               9|\n",
      "|      12|               3|\n",
      "|      22|               4|\n",
      "|      47|              10|\n",
      "|      52|               5|\n",
      "|      13|               1|\n",
      "|       6|               5|\n",
      "+--------+----------------+\n",
      "only showing top 10 rows\n",
      "\n"
     ]
    }
   ],
   "source": [
    "category_df.show(10)"
   ]
  },
  {
   "cell_type": "code",
   "execution_count": 20,
   "id": "70c0c376",
   "metadata": {},
   "outputs": [],
   "source": [
    "category_product = products_df.filter(\"price > 200 and category = 5\")"
   ]
  },
  {
   "cell_type": "code",
   "execution_count": 21,
   "id": "9e160042",
   "metadata": {},
   "outputs": [],
   "source": [
    "result = category_product.select(\"product_name\", \"price\")"
   ]
  },
  {
   "cell_type": "code",
   "execution_count": 22,
   "id": "6893e4ac",
   "metadata": {},
   "outputs": [
    {
     "name": "stdout",
     "output_type": "stream",
     "text": [
      "+--------------------+------+\n",
      "|        product_name| price|\n",
      "+--------------------+------+\n",
      "|\"Goaliath 54\"\" In...|499.99|\n",
      "|Fitness Gear 300 ...|209.99|\n",
      "|Teeter Hang Ups N...|299.99|\n",
      "+--------------------+------+\n",
      "\n"
     ]
    }
   ],
   "source": [
    "result.show()"
   ]
  },
  {
   "cell_type": "code",
   "execution_count": 23,
   "id": "39e52e42",
   "metadata": {},
   "outputs": [],
   "source": [
    "products_df.createOrReplaceTempView(\"products\")"
   ]
  },
  {
   "cell_type": "code",
   "execution_count": 24,
   "id": "1da3a119",
   "metadata": {},
   "outputs": [],
   "source": [
    "result1 = spark.sql(\"select count(product_id) as total_products from products\")"
   ]
  },
  {
   "cell_type": "code",
   "execution_count": 25,
   "id": "cf89ee8a",
   "metadata": {},
   "outputs": [
    {
     "name": "stdout",
     "output_type": "stream",
     "text": [
      "+--------------+\n",
      "|total_products|\n",
      "+--------------+\n",
      "|          1345|\n",
      "+--------------+\n",
      "\n"
     ]
    }
   ],
   "source": [
    "result1.show()"
   ]
  },
  {
   "cell_type": "code",
   "execution_count": 27,
   "id": "183dbdf9",
   "metadata": {},
   "outputs": [
    {
     "data": {
      "text/html": [
       "<table border='1'>\n",
       "<tr><th>unique_category</th></tr>\n",
       "<tr><td>55</td></tr>\n",
       "</table>\n"
      ],
      "text/plain": [
       "+---------------+\n",
       "|unique_category|\n",
       "+---------------+\n",
       "|             55|\n",
       "+---------------+"
      ]
     },
     "execution_count": 27,
     "metadata": {},
     "output_type": "execute_result"
    }
   ],
   "source": [
    "result2 = spark.sql(\"select count(distinct(category)) as unique_category from products\")\n",
    "result2"
   ]
  },
  {
   "cell_type": "code",
   "execution_count": 28,
   "id": "cd037645",
   "metadata": {},
   "outputs": [
    {
     "name": "stdout",
     "output_type": "stream",
     "text": [
      "+--------------------+--------+--------------------+\n",
      "|        product_name|category|           image_url|\n",
      "+--------------------+--------+--------------------+\n",
      "| SOLE E35 Elliptical|      10|http://images.acm...|\n",
      "|  SOLE F85 Treadmill|       4|http://images.acm...|\n",
      "|  SOLE F85 Treadmill|      10|http://images.acm...|\n",
      "|  SOLE F85 Treadmill|      22|http://images.acm...|\n",
      "|\"Spalding Beast 6...|      47|http://images.acm...|\n",
      "+--------------------+--------+--------------------+\n",
      "\n"
     ]
    }
   ],
   "source": [
    "result3 = spark.sql(\"select product_name, category,image_url from products order by price desc limit 5\")\n",
    "result3.show()"
   ]
  },
  {
   "cell_type": "code",
   "execution_count": 29,
   "id": "6c6db0a2",
   "metadata": {},
   "outputs": [
    {
     "name": "stdout",
     "output_type": "stream",
     "text": [
      "+--------+---------------+\n",
      "|category|numberOfProduct|\n",
      "+--------+---------------+\n",
      "|      31|             17|\n",
      "|      53|             16|\n",
      "|      34|             15|\n",
      "|      44|              9|\n",
      "|      12|              3|\n",
      "|      22|              4|\n",
      "|      47|             10|\n",
      "|      52|              5|\n",
      "|      13|              1|\n",
      "|       6|              5|\n",
      "|      16|             11|\n",
      "|       3|              5|\n",
      "|      20|              7|\n",
      "|      57|              6|\n",
      "|      54|              6|\n",
      "|      48|             17|\n",
      "|       5|             11|\n",
      "|      19|             13|\n",
      "|      41|             11|\n",
      "|      43|             23|\n",
      "+--------+---------------+\n",
      "only showing top 20 rows\n",
      "\n"
     ]
    }
   ],
   "source": [
    "result4 = spark.sql(\"select category,count(product_id) as numberOfProduct from products where price >100 group by category \")\n",
    "result4.show()"
   ]
  },
  {
   "cell_type": "code",
   "execution_count": 31,
   "id": "f004208e",
   "metadata": {},
   "outputs": [
    {
     "name": "stdout",
     "output_type": "stream",
     "text": [
      "+--------------------+------+\n",
      "|        product_name| price|\n",
      "+--------------------+------+\n",
      "|\"Goaliath 54\"\" In...|499.99|\n",
      "|Fitness Gear 300 ...|209.99|\n",
      "|Teeter Hang Ups N...|299.99|\n",
      "+--------------------+------+\n",
      "\n"
     ]
    }
   ],
   "source": [
    "result5 = spark.sql(\"select product_name,price from products where price >200 and category = 5\")\n",
    "result5.show()"
   ]
  },
  {
   "cell_type": "code",
   "execution_count": null,
   "id": "e95d0a0a",
   "metadata": {},
   "outputs": [],
   "source": []
  }
 ],
 "metadata": {
  "kernelspec": {
   "display_name": "Pyspark 3",
   "language": "python",
   "name": "pyspark3"
  },
  "language_info": {
   "codemirror_mode": {
    "name": "ipython",
    "version": 3
   },
   "file_extension": ".py",
   "mimetype": "text/x-python",
   "name": "python",
   "nbconvert_exporter": "python",
   "pygments_lexer": "ipython3",
   "version": "3.6.12"
  }
 },
 "nbformat": 4,
 "nbformat_minor": 5
}
