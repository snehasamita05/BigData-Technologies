{
 "cells": [
  {
   "cell_type": "code",
   "execution_count": 1,
   "id": "bf7371d5",
   "metadata": {},
   "outputs": [],
   "source": [
    "from pyspark.sql import SparkSession\n",
    "import getpass\n",
    "username = getpass.getuser()\n",
    "spark = SparkSession. \\\n",
    "builder. \\\n",
    "config('spark.ui.port','0'). \\\n",
    "config(\"spark.sql.warehouse.dir\", f\"/user/{username}/warehouse\"). \\\n",
    "enableHiveSupport(). \\\n",
    "master('yarn'). \\\n",
    "getOrCreate()"
   ]
  },
  {
   "cell_type": "code",
   "execution_count": 2,
   "id": "3f7636bc",
   "metadata": {},
   "outputs": [
    {
     "data": {
      "text/html": [
       "\n",
       "            <div>\n",
       "                <p><b>SparkSession - hive</b></p>\n",
       "                \n",
       "        <div>\n",
       "            <p><b>SparkContext</b></p>\n",
       "\n",
       "            <p><a href=\"http://g01.itversity.com:43249\">Spark UI</a></p>\n",
       "\n",
       "            <dl>\n",
       "              <dt>Version</dt>\n",
       "                <dd><code>v3.1.2</code></dd>\n",
       "              <dt>Master</dt>\n",
       "                <dd><code>yarn</code></dd>\n",
       "              <dt>AppName</dt>\n",
       "                <dd><code>pyspark-shell</code></dd>\n",
       "            </dl>\n",
       "        </div>\n",
       "        \n",
       "            </div>\n",
       "        "
      ],
      "text/plain": [
       "<pyspark.sql.session.SparkSession at 0x7ffaf1d0a780>"
      ]
     },
     "execution_count": 2,
     "metadata": {},
     "output_type": "execute_result"
    }
   ],
   "source": [
    "spark"
   ]
  },
  {
   "cell_type": "code",
   "execution_count": 3,
   "id": "aa85367e",
   "metadata": {},
   "outputs": [],
   "source": [
    "orders_df = spark.read.\\\n",
    "format(\"csv\").\\\n",
    "option(\"header\",\"true\").\\\n",
    "option(\"inferSchema\", \"True\").\\\n",
    "load(\"/public/trendytech/orders_wh/*\")"
   ]
  },
  {
   "cell_type": "code",
   "execution_count": 4,
   "id": "3c9ac433",
   "metadata": {},
   "outputs": [],
   "source": [
    "orders_df = spark.read.csv(\"/public/trendytech/orders_wh/*\", header = \"true\", inferSchema = \"true\")"
   ]
  },
  {
   "cell_type": "code",
   "execution_count": 5,
   "id": "9164be7e",
   "metadata": {},
   "outputs": [
    {
     "name": "stdout",
     "output_type": "stream",
     "text": [
      "+--------+--------------------+-----------+---------------+\n",
      "|order_id|          order_date|customer_id|   order_status|\n",
      "+--------+--------------------+-----------+---------------+\n",
      "|       1|2013-07-25 00:00:...|      11599|         CLOSED|\n",
      "|       2|2013-07-25 00:00:...|        256|PENDING_PAYMENT|\n",
      "|       3|2013-07-25 00:00:...|      12111|       COMPLETE|\n",
      "|       4|2013-07-25 00:00:...|       8827|         CLOSED|\n",
      "+--------+--------------------+-----------+---------------+\n",
      "only showing top 4 rows\n",
      "\n"
     ]
    }
   ],
   "source": [
    "orders_df.show(4)"
   ]
  },
  {
   "cell_type": "code",
   "execution_count": 6,
   "id": "8e12f344",
   "metadata": {},
   "outputs": [],
   "source": [
    "orders_df = spark.read.json(\"/public/trendytech/datasets/orders.json\")"
   ]
  },
  {
   "cell_type": "code",
   "execution_count": 7,
   "id": "21179d48",
   "metadata": {},
   "outputs": [
    {
     "name": "stdout",
     "output_type": "stream",
     "text": [
      "+-----------+--------------------+--------+---------------+\n",
      "|customer_id|          order_date|order_id|   order_status|\n",
      "+-----------+--------------------+--------+---------------+\n",
      "|      11599|2013-07-25 00:00:...|       1|         CLOSED|\n",
      "|        256|2013-07-25 00:00:...|       2|PENDING_PAYMENT|\n",
      "|      12111|2013-07-25 00:00:...|       3|       COMPLETE|\n",
      "|       8827|2013-07-25 00:00:...|       4|         CLOSED|\n",
      "+-----------+--------------------+--------+---------------+\n",
      "only showing top 4 rows\n",
      "\n"
     ]
    }
   ],
   "source": [
    "orders_df.show(4)"
   ]
  },
  {
   "cell_type": "code",
   "execution_count": 8,
   "id": "5a2e1529",
   "metadata": {},
   "outputs": [],
   "source": [
    "orders_df = spark.read.orc(\"/public/trendytech/datasets/ordersorc\")"
   ]
  },
  {
   "cell_type": "code",
   "execution_count": 9,
   "id": "4a416e15",
   "metadata": {},
   "outputs": [
    {
     "name": "stdout",
     "output_type": "stream",
     "text": [
      "+-----------+--------------------+--------+---------------+\n",
      "|customer_id|          order_date|order_id|   order_status|\n",
      "+-----------+--------------------+--------+---------------+\n",
      "|      11599|2013-07-25 00:00:...|       1|         CLOSED|\n",
      "|        256|2013-07-25 00:00:...|       2|PENDING_PAYMENT|\n",
      "|      12111|2013-07-25 00:00:...|       3|       COMPLETE|\n",
      "|       8827|2013-07-25 00:00:...|       4|         CLOSED|\n",
      "+-----------+--------------------+--------+---------------+\n",
      "only showing top 4 rows\n",
      "\n"
     ]
    }
   ],
   "source": [
    "orders_df.show(4)"
   ]
  },
  {
   "cell_type": "code",
   "execution_count": 10,
   "id": "017cef68",
   "metadata": {},
   "outputs": [],
   "source": [
    "orders_df = spark.read.parquet(\"/public/trendytech/datasets/ordersparquet\")"
   ]
  },
  {
   "cell_type": "code",
   "execution_count": 11,
   "id": "67b4f89e",
   "metadata": {},
   "outputs": [
    {
     "name": "stdout",
     "output_type": "stream",
     "text": [
      "+-----------+--------------------+--------+---------------+\n",
      "|customer_id|          order_date|order_id|   order_status|\n",
      "+-----------+--------------------+--------+---------------+\n",
      "|      11599|2013-07-25 00:00:...|       1|         CLOSED|\n",
      "|        256|2013-07-25 00:00:...|       2|PENDING_PAYMENT|\n",
      "|      12111|2013-07-25 00:00:...|       3|       COMPLETE|\n",
      "|       8827|2013-07-25 00:00:...|       4|         CLOSED|\n",
      "+-----------+--------------------+--------+---------------+\n",
      "only showing top 4 rows\n",
      "\n"
     ]
    }
   ],
   "source": [
    "orders_df.show(4)"
   ]
  },
  {
   "cell_type": "code",
   "execution_count": 12,
   "id": "48406cdb",
   "metadata": {},
   "outputs": [],
   "source": [
    "filtered_df = orders_df.where(\"customer_id = 11599\")"
   ]
  },
  {
   "cell_type": "code",
   "execution_count": 13,
   "id": "7aa01a11",
   "metadata": {},
   "outputs": [
    {
     "name": "stdout",
     "output_type": "stream",
     "text": [
      "+-----------+---------------------+--------+------------+\n",
      "|customer_id|order_date           |order_id|order_status|\n",
      "+-----------+---------------------+--------+------------+\n",
      "|11599      |2013-07-25 00:00:00.0|1       |CLOSED      |\n",
      "|11599      |2013-10-03 00:00:00.0|11397   |COMPLETE    |\n",
      "|11599      |2013-12-20 00:00:00.0|23908   |COMPLETE    |\n",
      "|11599      |2014-06-27 00:00:00.0|53545   |PENDING     |\n",
      "|11599      |2013-10-17 00:00:00.0|59911   |PROCESSING  |\n",
      "+-----------+---------------------+--------+------------+\n",
      "\n"
     ]
    }
   ],
   "source": [
    "filtered_df.show(truncate = False)"
   ]
  },
  {
   "cell_type": "code",
   "execution_count": 14,
   "id": "e883662e",
   "metadata": {},
   "outputs": [],
   "source": [
    "orders_df.createOrReplaceTempView(\"orders\")"
   ]
  },
  {
   "cell_type": "code",
   "execution_count": 15,
   "id": "721c5a31",
   "metadata": {},
   "outputs": [],
   "source": [
    "filtered_df = spark.sql(\"select * from orders where order_status = 'CLOSED'\")"
   ]
  },
  {
   "cell_type": "code",
   "execution_count": 16,
   "id": "b57f829c",
   "metadata": {},
   "outputs": [
    {
     "name": "stdout",
     "output_type": "stream",
     "text": [
      "+-----------+--------------------+--------+------------+\n",
      "|customer_id|          order_date|order_id|order_status|\n",
      "+-----------+--------------------+--------+------------+\n",
      "|      11599|2013-07-25 00:00:...|       1|      CLOSED|\n",
      "|       8827|2013-07-25 00:00:...|       4|      CLOSED|\n",
      "|       1837|2013-07-25 00:00:...|      12|      CLOSED|\n",
      "|       1205|2013-07-25 00:00:...|      18|      CLOSED|\n",
      "|      11441|2013-07-25 00:00:...|      24|      CLOSED|\n",
      "|       9503|2013-07-25 00:00:...|      25|      CLOSED|\n",
      "|       5863|2013-07-25 00:00:...|      37|      CLOSED|\n",
      "|      12271|2013-07-25 00:00:...|      51|      CLOSED|\n",
      "|       7073|2013-07-25 00:00:...|      57|      CLOSED|\n",
      "|       4791|2013-07-25 00:00:...|      61|      CLOSED|\n",
      "|       9111|2013-07-25 00:00:...|      62|      CLOSED|\n",
      "|       3065|2013-07-25 00:00:...|      87|      CLOSED|\n",
      "|       9131|2013-07-25 00:00:...|      90|      CLOSED|\n",
      "|       5116|2013-07-25 00:00:...|     101|      CLOSED|\n",
      "|       8763|2013-07-26 00:00:...|     116|      CLOSED|\n",
      "|       9937|2013-07-26 00:00:...|     129|      CLOSED|\n",
      "|      10604|2013-07-26 00:00:...|     133|      CLOSED|\n",
      "|         16|2013-07-26 00:00:...|     191|      CLOSED|\n",
      "|       9055|2013-07-26 00:00:...|     201|      CLOSED|\n",
      "|      10372|2013-07-26 00:00:...|     211|      CLOSED|\n",
      "+-----------+--------------------+--------+------------+\n",
      "only showing top 20 rows\n",
      "\n"
     ]
    }
   ],
   "source": [
    "filtered_df.show()"
   ]
  },
  {
   "cell_type": "code",
   "execution_count": 20,
   "id": "3d174c58",
   "metadata": {},
   "outputs": [],
   "source": [
    "orders_df.createOrReplaceGlobalTempView(\"orders\")"
   ]
  },
  {
   "cell_type": "code",
   "execution_count": 21,
   "id": "4fbfaf48",
   "metadata": {},
   "outputs": [],
   "source": [
    "df1 = spark.sql(\"select * from orders where order_status = 'CLOSED'\")"
   ]
  },
  {
   "cell_type": "code",
   "execution_count": 22,
   "id": "fbf0023f",
   "metadata": {},
   "outputs": [
    {
     "name": "stdout",
     "output_type": "stream",
     "text": [
      "+-----------+--------------------+--------+------------+\n",
      "|customer_id|          order_date|order_id|order_status|\n",
      "+-----------+--------------------+--------+------------+\n",
      "|      11599|2013-07-25 00:00:...|       1|      CLOSED|\n",
      "|       8827|2013-07-25 00:00:...|       4|      CLOSED|\n",
      "|       1837|2013-07-25 00:00:...|      12|      CLOSED|\n",
      "|       1205|2013-07-25 00:00:...|      18|      CLOSED|\n",
      "|      11441|2013-07-25 00:00:...|      24|      CLOSED|\n",
      "|       9503|2013-07-25 00:00:...|      25|      CLOSED|\n",
      "|       5863|2013-07-25 00:00:...|      37|      CLOSED|\n",
      "|      12271|2013-07-25 00:00:...|      51|      CLOSED|\n",
      "|       7073|2013-07-25 00:00:...|      57|      CLOSED|\n",
      "|       4791|2013-07-25 00:00:...|      61|      CLOSED|\n",
      "|       9111|2013-07-25 00:00:...|      62|      CLOSED|\n",
      "|       3065|2013-07-25 00:00:...|      87|      CLOSED|\n",
      "|       9131|2013-07-25 00:00:...|      90|      CLOSED|\n",
      "|       5116|2013-07-25 00:00:...|     101|      CLOSED|\n",
      "|       8763|2013-07-26 00:00:...|     116|      CLOSED|\n",
      "|       9937|2013-07-26 00:00:...|     129|      CLOSED|\n",
      "|      10604|2013-07-26 00:00:...|     133|      CLOSED|\n",
      "|         16|2013-07-26 00:00:...|     191|      CLOSED|\n",
      "|       9055|2013-07-26 00:00:...|     201|      CLOSED|\n",
      "|      10372|2013-07-26 00:00:...|     211|      CLOSED|\n",
      "+-----------+--------------------+--------+------------+\n",
      "only showing top 20 rows\n",
      "\n"
     ]
    }
   ],
   "source": [
    "df1.show()"
   ]
  },
  {
   "cell_type": "code",
   "execution_count": null,
   "id": "4e1be4a7",
   "metadata": {},
   "outputs": [],
   "source": []
  }
 ],
 "metadata": {
  "kernelspec": {
   "display_name": "Pyspark 3",
   "language": "python",
   "name": "pyspark3"
  },
  "language_info": {
   "codemirror_mode": {
    "name": "ipython",
    "version": 3
   },
   "file_extension": ".py",
   "mimetype": "text/x-python",
   "name": "python",
   "nbconvert_exporter": "python",
   "pygments_lexer": "ipython3",
   "version": "3.6.12"
  }
 },
 "nbformat": 4,
 "nbformat_minor": 5
}
