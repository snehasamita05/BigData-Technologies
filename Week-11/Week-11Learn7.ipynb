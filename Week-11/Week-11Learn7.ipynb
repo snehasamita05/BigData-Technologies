{
 "cells": [
  {
   "cell_type": "code",
   "execution_count": 1,
   "id": "a1ad3006",
   "metadata": {},
   "outputs": [],
   "source": [
    "from pyspark.sql import SparkSession\n",
    "import getpass\n",
    "username = getpass.getuser()\n",
    "spark = SparkSession. \\\n",
    "    builder. \\\n",
    "    config('spark.ui.port','0'). \\\n",
    "    config(\"spark.sql.warehouse.dir\", f\"/user/{username}/warehouse\"). \\\n",
    "    config('spark.shuffle.useOldFetchProtocol','true'). \\\n",
    "    enableHiveSupport(). \\\n",
    "    master('yarn'). \\\n",
    "    getOrCreate()"
   ]
  },
  {
   "cell_type": "code",
   "execution_count": 2,
   "id": "8d9181b1",
   "metadata": {},
   "outputs": [
    {
     "data": {
      "text/html": [
       "\n",
       "            <div>\n",
       "                <p><b>SparkSession - hive</b></p>\n",
       "                \n",
       "        <div>\n",
       "            <p><b>SparkContext</b></p>\n",
       "\n",
       "            <p><a href=\"http://g01.itversity.com:39817\">Spark UI</a></p>\n",
       "\n",
       "            <dl>\n",
       "              <dt>Version</dt>\n",
       "                <dd><code>v3.1.2</code></dd>\n",
       "              <dt>Master</dt>\n",
       "                <dd><code>yarn</code></dd>\n",
       "              <dt>AppName</dt>\n",
       "                <dd><code>pyspark-shell</code></dd>\n",
       "            </dl>\n",
       "        </div>\n",
       "        \n",
       "            </div>\n",
       "        "
      ],
      "text/plain": [
       "<pyspark.sql.session.SparkSession at 0x7f6035d0e588>"
      ]
     },
     "execution_count": 2,
     "metadata": {},
     "output_type": "execute_result"
    }
   ],
   "source": [
    "spark"
   ]
  },
  {
   "cell_type": "code",
   "execution_count": 5,
   "id": "f110bf4c",
   "metadata": {},
   "outputs": [],
   "source": [
    "order_schema = 'order_id long, order_date date, customer_id long, order_status string'"
   ]
  },
  {
   "cell_type": "code",
   "execution_count": 6,
   "id": "65331aa3",
   "metadata": {},
   "outputs": [],
   "source": [
    "order_df = spark.read.\\\n",
    "format(\"csv\").\\\n",
    "schema(order_schema).\\\n",
    "load(\"/public/trendytech/orders/orders_1gb.csv\")"
   ]
  },
  {
   "cell_type": "code",
   "execution_count": 8,
   "id": "d1cfd651",
   "metadata": {},
   "outputs": [],
   "source": [
    "order_df.coalesce(1). \\\n",
    "write. \\\n",
    "format(\"csv\"). \\\n",
    "option(\"compression\", \"snappy\"). \\\n",
    "mode(\"overwrite\"). \\\n",
    "option(\"path\", \"/user/itv017244/datasets/compression-techniques-demo/csv-snappy\"). \\\n",
    "save()"
   ]
  },
  {
   "cell_type": "code",
   "execution_count": 9,
   "id": "432536c8",
   "metadata": {},
   "outputs": [],
   "source": [
    "order_csv_snappy_df = spark.read.format(\"csv\").load(\"/user/itv017244/datasets/compression-techniques-demo/csv-snappy\")"
   ]
  },
  {
   "cell_type": "code",
   "execution_count": 10,
   "id": "a7d562c5",
   "metadata": {},
   "outputs": [
    {
     "data": {
      "text/plain": [
       "1"
      ]
     },
     "execution_count": 10,
     "metadata": {},
     "output_type": "execute_result"
    }
   ],
   "source": [
    "order_csv_snappy_df.rdd.getNumPartitions()"
   ]
  },
  {
   "cell_type": "code",
   "execution_count": 11,
   "id": "4ffb6f9c",
   "metadata": {},
   "outputs": [],
   "source": [
    "order_df.coalesce(1). \\\n",
    "write. \\\n",
    "format(\"csv\"). \\\n",
    "option(\"compression\", \"gzip\"). \\\n",
    "mode(\"overwrite\"). \\\n",
    "option(\"path\", \"/user/itv017244/datasets/compression-techniques-demo/csv-gzip\"). \\\n",
    "save()"
   ]
  },
  {
   "cell_type": "code",
   "execution_count": 12,
   "id": "47e64073",
   "metadata": {},
   "outputs": [],
   "source": [
    "order_csv_gzip_df = spark.read.format(\"csv\").load(\"/user/itv017244/datasets/compression-techniques-demo/csv-gzip\")"
   ]
  },
  {
   "cell_type": "code",
   "execution_count": 15,
   "id": "c4a2f054",
   "metadata": {},
   "outputs": [
    {
     "data": {
      "text/plain": [
       "1"
      ]
     },
     "execution_count": 15,
     "metadata": {},
     "output_type": "execute_result"
    }
   ],
   "source": [
    "order_csv_gzip_df.rdd.getNumPartitions()"
   ]
  },
  {
   "cell_type": "code",
   "execution_count": 14,
   "id": "11c3ed37",
   "metadata": {},
   "outputs": [],
   "source": [
    "order_df.coalesce(1). \\\n",
    "write. \\\n",
    "format(\"csv\"). \\\n",
    "option(\"compression\", \"bzip2\"). \\\n",
    "mode(\"overwrite\"). \\\n",
    "option(\"path\", \"/user/itv017244/datasets/compression-techniques-demo/csv-bzip2\"). \\\n",
    "save()"
   ]
  },
  {
   "cell_type": "code",
   "execution_count": 16,
   "id": "4fec0ed3",
   "metadata": {},
   "outputs": [],
   "source": [
    "order_csv_bzip2_df = spark.read.format(\"csv\").load(\"/user/itv017244/datasets/compression-techniques-demo/csv-bzip2\")"
   ]
  },
  {
   "cell_type": "code",
   "execution_count": 17,
   "id": "d968ef16",
   "metadata": {},
   "outputs": [
    {
     "data": {
      "text/plain": [
       "2"
      ]
     },
     "execution_count": 17,
     "metadata": {},
     "output_type": "execute_result"
    }
   ],
   "source": [
    "order_csv_bzip2_df.rdd.getNumPartitions()"
   ]
  },
  {
   "cell_type": "code",
   "execution_count": 18,
   "id": "6792ed57",
   "metadata": {},
   "outputs": [],
   "source": [
    "order_df.coalesce(1). \\\n",
    "write. \\\n",
    "format(\"parquet\"). \\\n",
    "option(\"compression\", \"snappy\"). \\\n",
    "mode(\"overwrite\"). \\\n",
    "option(\"path\", \"/user/itv017244/datasets/compression-techniques-demo/parquet-snappy\"). \\\n",
    "save()"
   ]
  },
  {
   "cell_type": "code",
   "execution_count": 19,
   "id": "018ea8fb",
   "metadata": {},
   "outputs": [],
   "source": [
    "order_parquet_snappy_df = spark.read.format(\"parquet\").load(\"/user/itv017244/datasets/compression-techniques-demo/parquet-snappy\")"
   ]
  },
  {
   "cell_type": "code",
   "execution_count": 20,
   "id": "09a25567",
   "metadata": {},
   "outputs": [
    {
     "data": {
      "text/plain": [
       "2"
      ]
     },
     "execution_count": 20,
     "metadata": {},
     "output_type": "execute_result"
    }
   ],
   "source": [
    "order_parquet_snappy_df.rdd.getNumPartitions()"
   ]
  },
  {
   "cell_type": "code",
   "execution_count": 21,
   "id": "1ca1d9f3",
   "metadata": {},
   "outputs": [],
   "source": [
    "order_df.coalesce(1). \\\n",
    "write. \\\n",
    "format(\"parquet\"). \\\n",
    "option(\"compression\", \"gzip\"). \\\n",
    "mode(\"overwrite\"). \\\n",
    "option(\"path\", \"/user/itv017244/datasets/compression-techniques-demo/parquet-gzip\"). \\\n",
    "save()"
   ]
  },
  {
   "cell_type": "code",
   "execution_count": null,
   "id": "2d1b5100",
   "metadata": {},
   "outputs": [],
   "source": [
    "order_parquet_gzip_df = spark.read.format(\"parquet\").load(\"/user/itv017244/datasets/compression-techniques-demo/parquet-gzip\")"
   ]
  },
  {
   "cell_type": "code",
   "execution_count": null,
   "id": "3faafde4",
   "metadata": {},
   "outputs": [],
   "source": [
    "order_parquet_gzip_df.rdd.getNumPartitions()"
   ]
  },
  {
   "cell_type": "code",
   "execution_count": null,
   "id": "f32f634e",
   "metadata": {},
   "outputs": [],
   "source": [
    "order_df.coalesce(1). \\\n",
    "write. \\\n",
    "format(\"orc\"). \\\n",
    "option(\"compression\", \"lzo\"). \\\n",
    "mode(\"overwrite\"). \\\n",
    "option(\"path\", \"/user/itv017244/datasets/compression-techniques-demo/orc-lzo\"). \\\n",
    "save()"
   ]
  },
  {
   "cell_type": "code",
   "execution_count": null,
   "id": "bca01382",
   "metadata": {},
   "outputs": [],
   "source": [
    "order_orc_lzo_df = spark.read.format(\"orc\").load(\"/user/itv017244/datasets/compression-techniques-demo/orc-lzo\")"
   ]
  },
  {
   "cell_type": "code",
   "execution_count": null,
   "id": "b51debd4",
   "metadata": {},
   "outputs": [],
   "source": [
    "order_orc_lzo_df.rdd.getNumPartitions()"
   ]
  },
  {
   "cell_type": "code",
   "execution_count": null,
   "id": "38003bc0",
   "metadata": {},
   "outputs": [],
   "source": [
    "order_df.coalesce(1). \\\n",
    "write. \\\n",
    "format(\"orc\"). \\\n",
    "option(\"compression\", \"snappy\"). \\\n",
    "mode(\"overwrite\"). \\\n",
    "option(\"path\", \"/user/itv017244/datasets/compression-techniques-demo/orc-snappy\"). \\\n",
    "save()"
   ]
  },
  {
   "cell_type": "code",
   "execution_count": null,
   "id": "e696fb16",
   "metadata": {},
   "outputs": [],
   "source": [
    "order_orc_snappy_df = spark.read.format(\"orc\").load(\"/user/itv017244/datasets/compression-techniques-demo/orc-snappy\")"
   ]
  },
  {
   "cell_type": "code",
   "execution_count": null,
   "id": "f4fa22e2",
   "metadata": {},
   "outputs": [],
   "source": [
    "order_orc_snappy_df.rdd.getNumPartitions()"
   ]
  }
 ],
 "metadata": {
  "kernelspec": {
   "display_name": "Pyspark 3",
   "language": "python",
   "name": "pyspark3"
  },
  "language_info": {
   "codemirror_mode": {
    "name": "ipython",
    "version": 3
   },
   "file_extension": ".py",
   "mimetype": "text/x-python",
   "name": "python",
   "nbconvert_exporter": "python",
   "pygments_lexer": "ipython3",
   "version": "3.6.12"
  }
 },
 "nbformat": 4,
 "nbformat_minor": 5
}
