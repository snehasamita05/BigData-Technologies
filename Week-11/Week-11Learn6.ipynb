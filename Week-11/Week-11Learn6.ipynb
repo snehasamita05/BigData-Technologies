{
 "cells": [
  {
   "cell_type": "code",
   "execution_count": 46,
   "id": "a6e1ed43",
   "metadata": {},
   "outputs": [],
   "source": [
    "from pyspark.sql import SparkSession\n",
    "import getpass\n",
    "username = getpass.getuser()\n",
    "spark = SparkSession. \\\n",
    "    builder. \\\n",
    "    config('spark.ui.port','0'). \\\n",
    "    config(\"spark.sql.warehouse.dir\", f\"/user/{username}/warehouse\"). \\\n",
    "    config('spark.shuffle.useOldFetchProtocol','true'). \\\n",
    "    enableHiveSupport(). \\\n",
    "    master('yarn'). \\\n",
    "    getOrCreate()"
   ]
  },
  {
   "cell_type": "code",
   "execution_count": 47,
   "id": "ded75c69",
   "metadata": {},
   "outputs": [
    {
     "data": {
      "text/html": [
       "\n",
       "            <div>\n",
       "                <p><b>SparkSession - hive</b></p>\n",
       "                \n",
       "        <div>\n",
       "            <p><b>SparkContext</b></p>\n",
       "\n",
       "            <p><a href=\"http://g01.itversity.com:44141\">Spark UI</a></p>\n",
       "\n",
       "            <dl>\n",
       "              <dt>Version</dt>\n",
       "                <dd><code>v3.1.2</code></dd>\n",
       "              <dt>Master</dt>\n",
       "                <dd><code>yarn</code></dd>\n",
       "              <dt>AppName</dt>\n",
       "                <dd><code>pyspark-shell</code></dd>\n",
       "            </dl>\n",
       "        </div>\n",
       "        \n",
       "            </div>\n",
       "        "
      ],
      "text/plain": [
       "<pyspark.sql.session.SparkSession at 0x7f8e25620898>"
      ]
     },
     "execution_count": 47,
     "metadata": {},
     "output_type": "execute_result"
    }
   ],
   "source": [
    "spark"
   ]
  },
  {
   "cell_type": "code",
   "execution_count": 48,
   "id": "16cc419a",
   "metadata": {},
   "outputs": [],
   "source": [
    "order_schema = 'order_id long, order_date date ' #, customer_id long, order_status string'"
   ]
  },
  {
   "cell_type": "code",
   "execution_count": 49,
   "id": "a95ba906",
   "metadata": {},
   "outputs": [],
   "source": [
    "order_df = spark.read.\\\n",
    "format(\"csv\").\\\n",
    "schema(order_schema).\\\n",
    "load(\"/public/trendytech/datasets/parquet-schema-evol-demo/csv/orders1.csv\")"
   ]
  },
  {
   "cell_type": "code",
   "execution_count": 50,
   "id": "4f17a65a",
   "metadata": {},
   "outputs": [
    {
     "name": "stdout",
     "output_type": "stream",
     "text": [
      "+--------+----------+\n",
      "|order_id|order_date|\n",
      "+--------+----------+\n",
      "|       1|2013-07-25|\n",
      "|       2|2013-07-25|\n",
      "+--------+----------+\n",
      "\n"
     ]
    }
   ],
   "source": [
    "order_df.show()"
   ]
  },
  {
   "cell_type": "code",
   "execution_count": 51,
   "id": "40c22256",
   "metadata": {},
   "outputs": [],
   "source": [
    "order_df.write.mode(\"overwrite\").option(\"path\",\"/user/itv017244/datasets/parquet-schema-evol-demo1/parquet\").save()"
   ]
  },
  {
   "cell_type": "code",
   "execution_count": 52,
   "id": "f4586143",
   "metadata": {},
   "outputs": [],
   "source": [
    "order_parquet_df = spark.read.load(\"/user/itv017244/datasets/parquet-schema-evol-demo1/parquet\")"
   ]
  },
  {
   "cell_type": "code",
   "execution_count": 53,
   "id": "57629762",
   "metadata": {},
   "outputs": [
    {
     "name": "stdout",
     "output_type": "stream",
     "text": [
      "+--------+----------+\n",
      "|order_id|order_date|\n",
      "+--------+----------+\n",
      "|       1|2013-07-25|\n",
      "|       2|2013-07-25|\n",
      "+--------+----------+\n",
      "\n"
     ]
    }
   ],
   "source": [
    "order_parquet_df.show()"
   ]
  },
  {
   "cell_type": "code",
   "execution_count": 54,
   "id": "e06f5e5d",
   "metadata": {},
   "outputs": [],
   "source": [
    "order_schema = 'order_id long, order_date date , customer_id long'  #, order_status string'"
   ]
  },
  {
   "cell_type": "code",
   "execution_count": 55,
   "id": "2c1e632a",
   "metadata": {},
   "outputs": [],
   "source": [
    "order_df = spark.read.\\\n",
    "format(\"csv\").\\\n",
    "schema(order_schema).\\\n",
    "load(\"/public/trendytech/datasets/parquet-schema-evol-demo/csv/orders2.csv\")"
   ]
  },
  {
   "cell_type": "code",
   "execution_count": 56,
   "id": "c10b7267",
   "metadata": {},
   "outputs": [
    {
     "name": "stdout",
     "output_type": "stream",
     "text": [
      "+--------+----------+-----------+\n",
      "|order_id|order_date|customer_id|\n",
      "+--------+----------+-----------+\n",
      "|       3|2013-07-25|      12111|\n",
      "|       4|2013-07-25|       8827|\n",
      "+--------+----------+-----------+\n",
      "\n"
     ]
    }
   ],
   "source": [
    "order_df.show()"
   ]
  },
  {
   "cell_type": "code",
   "execution_count": 57,
   "id": "490aa5b1",
   "metadata": {},
   "outputs": [],
   "source": [
    "order_df.write.mode(\"append\").option(\"path\",\"/user/itv017244/datasets/parquet-schema-evol-demo1/parquet\").save()"
   ]
  },
  {
   "cell_type": "code",
   "execution_count": 58,
   "id": "465a97d1",
   "metadata": {},
   "outputs": [],
   "source": [
    "order_parquet_df = spark.read.load(\"/user/itv017244/datasets/parquet-schema-evol-demo1/parquet\")"
   ]
  },
  {
   "cell_type": "code",
   "execution_count": 59,
   "id": "e156e3fe",
   "metadata": {},
   "outputs": [
    {
     "name": "stdout",
     "output_type": "stream",
     "text": [
      "+--------+----------+\n",
      "|order_id|order_date|\n",
      "+--------+----------+\n",
      "|       3|2013-07-25|\n",
      "|       4|2013-07-25|\n",
      "|       1|2013-07-25|\n",
      "|       2|2013-07-25|\n",
      "+--------+----------+\n",
      "\n"
     ]
    }
   ],
   "source": [
    "order_parquet_df.show()"
   ]
  },
  {
   "cell_type": "code",
   "execution_count": 60,
   "id": "8185b2f4",
   "metadata": {},
   "outputs": [],
   "source": [
    "order_parquet_merged_df = spark.read.option(\"mergeSchema\",True).load(\"/user/itv017244/datasets/parquet-schema-evol-demo1/parquet\")"
   ]
  },
  {
   "cell_type": "code",
   "execution_count": 61,
   "id": "bcda27e8",
   "metadata": {},
   "outputs": [
    {
     "name": "stdout",
     "output_type": "stream",
     "text": [
      "+--------+----------+-----------+\n",
      "|order_id|order_date|customer_id|\n",
      "+--------+----------+-----------+\n",
      "|       3|2013-07-25|      12111|\n",
      "|       4|2013-07-25|       8827|\n",
      "|       1|2013-07-25|       null|\n",
      "|       2|2013-07-25|       null|\n",
      "+--------+----------+-----------+\n",
      "\n"
     ]
    }
   ],
   "source": [
    "order_parquet_merged_df.show()"
   ]
  },
  {
   "cell_type": "code",
   "execution_count": 62,
   "id": "a277fdc3",
   "metadata": {},
   "outputs": [],
   "source": [
    "order_schema = 'order_id long, order_date date ,  order_status string,customer_id long'"
   ]
  },
  {
   "cell_type": "code",
   "execution_count": 63,
   "id": "934764bf",
   "metadata": {},
   "outputs": [],
   "source": [
    "order_df = spark.read.\\\n",
    "format(\"csv\").\\\n",
    "schema(order_schema).\\\n",
    "load(\"/public/trendytech/datasets/parquet-schema-evol-demo/csv/orders4.csv\")"
   ]
  },
  {
   "cell_type": "code",
   "execution_count": 64,
   "id": "7bd3b887",
   "metadata": {},
   "outputs": [
    {
     "name": "stdout",
     "output_type": "stream",
     "text": [
      "+--------+----------+------------+-----------+\n",
      "|order_id|order_date|order_status|customer_id|\n",
      "+--------+----------+------------+-----------+\n",
      "|       5|2013-07-25|    COMPLETE|      11318|\n",
      "|       6|2013-07-25|    COMPLETE|       7130|\n",
      "+--------+----------+------------+-----------+\n",
      "\n"
     ]
    }
   ],
   "source": [
    "order_df.show()"
   ]
  },
  {
   "cell_type": "code",
   "execution_count": 65,
   "id": "7b5c5bd6",
   "metadata": {},
   "outputs": [],
   "source": [
    "order_df.write.mode(\"append\").option(\"path\",\"/user/itv017244/datasets/parquet-schema-evol-demo1/parquet\").save()"
   ]
  },
  {
   "cell_type": "code",
   "execution_count": 66,
   "id": "0788eba0",
   "metadata": {},
   "outputs": [],
   "source": [
    "order_parquet_df = spark.read.option(\"mergeSchema\",True).load(\"/user/itv017244/datasets/parquet-schema-evol-demo1/parquet\")"
   ]
  },
  {
   "cell_type": "code",
   "execution_count": 67,
   "id": "38ead0ad",
   "metadata": {},
   "outputs": [
    {
     "name": "stdout",
     "output_type": "stream",
     "text": [
      "+--------+----------+-----------+------------+\n",
      "|order_id|order_date|customer_id|order_status|\n",
      "+--------+----------+-----------+------------+\n",
      "|       5|2013-07-25|      11318|    COMPLETE|\n",
      "|       6|2013-07-25|       7130|    COMPLETE|\n",
      "|       3|2013-07-25|      12111|        null|\n",
      "|       4|2013-07-25|       8827|        null|\n",
      "|       1|2013-07-25|       null|        null|\n",
      "|       2|2013-07-25|       null|        null|\n",
      "+--------+----------+-----------+------------+\n",
      "\n"
     ]
    }
   ],
   "source": [
    "order_parquet_df.show()"
   ]
  },
  {
   "cell_type": "code",
   "execution_count": 68,
   "id": "3b719201",
   "metadata": {},
   "outputs": [],
   "source": [
    "order_schema = 'order_id long, order_date date , customer_id long, order_status string'"
   ]
  },
  {
   "cell_type": "code",
   "execution_count": 69,
   "id": "ced179ce",
   "metadata": {},
   "outputs": [],
   "source": [
    "order_df = spark.read.\\\n",
    "format(\"csv\").\\\n",
    "schema(order_schema).\\\n",
    "load(\"/public/trendytech/datasets/parquet-schema-evol-demo/csv/orders3.csv\")"
   ]
  },
  {
   "cell_type": "code",
   "execution_count": 70,
   "id": "509798c6",
   "metadata": {},
   "outputs": [],
   "source": [
    "order_df.write.mode(\"append\").option(\"path\",\"/user/itv017244/datasets/parquet-schema-evol-demo1/parquet\").save()"
   ]
  },
  {
   "cell_type": "code",
   "execution_count": 71,
   "id": "e45b6b23",
   "metadata": {},
   "outputs": [],
   "source": [
    "order_parquet_df = spark.read.option(\"mergeSchema\",True).load(\"/user/itv017244/datasets/parquet-schema-evol-demo1/parquet\")"
   ]
  },
  {
   "cell_type": "code",
   "execution_count": 72,
   "id": "ccac9794",
   "metadata": {},
   "outputs": [
    {
     "name": "stdout",
     "output_type": "stream",
     "text": [
      "+--------+----------+-----------+------------+\n",
      "|order_id|order_date|customer_id|order_status|\n",
      "+--------+----------+-----------+------------+\n",
      "|       5|2013-07-25|      11318|    COMPLETE|\n",
      "|       6|2013-07-25|       7130|    COMPLETE|\n",
      "|       5|2013-07-25|      11318|    COMPLETE|\n",
      "|       6|2013-07-25|       7130|    COMPLETE|\n",
      "|       3|2013-07-25|      12111|        null|\n",
      "|       4|2013-07-25|       8827|        null|\n",
      "|       1|2013-07-25|       null|        null|\n",
      "|       2|2013-07-25|       null|        null|\n",
      "+--------+----------+-----------+------------+\n",
      "\n"
     ]
    }
   ],
   "source": [
    "order_parquet_df.show()"
   ]
  },
  {
   "cell_type": "code",
   "execution_count": null,
   "id": "e4f12acc",
   "metadata": {},
   "outputs": [],
   "source": []
  },
  {
   "cell_type": "code",
   "execution_count": null,
   "id": "6b5c6482",
   "metadata": {},
   "outputs": [],
   "source": []
  },
  {
   "cell_type": "code",
   "execution_count": null,
   "id": "eade7f0c",
   "metadata": {},
   "outputs": [],
   "source": []
  }
 ],
 "metadata": {
  "kernelspec": {
   "display_name": "Pyspark 3",
   "language": "python",
   "name": "pyspark3"
  },
  "language_info": {
   "codemirror_mode": {
    "name": "ipython",
    "version": 3
   },
   "file_extension": ".py",
   "mimetype": "text/x-python",
   "name": "python",
   "nbconvert_exporter": "python",
   "pygments_lexer": "ipython3",
   "version": "3.6.12"
  }
 },
 "nbformat": 4,
 "nbformat_minor": 5
}
