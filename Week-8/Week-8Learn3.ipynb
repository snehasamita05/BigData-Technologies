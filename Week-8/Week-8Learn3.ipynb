{
 "cells": [
  {
   "cell_type": "code",
   "execution_count": 1,
   "id": "85446daa",
   "metadata": {},
   "outputs": [],
   "source": [
    "from pyspark.sql import SparkSession\n",
    "import getpass\n",
    "username = getpass.getuser()\n",
    "spark = SparkSession. \\\n",
    "builder. \\\n",
    "appName(\"Sneha Spark Session\").\\\n",
    "config(\"spark.sql.warehouse.dir\", f\"/user/{username}/warehouse\"). \\\n",
    "enableHiveSupport(). \\\n",
    "master('yarn'). \\\n",
    "getOrCreate()"
   ]
  },
  {
   "cell_type": "code",
   "execution_count": 2,
   "id": "41dc92db",
   "metadata": {},
   "outputs": [
    {
     "data": {
      "text/html": [
       "\n",
       "            <div>\n",
       "                <p><b>SparkSession - hive</b></p>\n",
       "                \n",
       "        <div>\n",
       "            <p><b>SparkContext</b></p>\n",
       "\n",
       "            <p><a href=\"http://g01.itversity.com:4040\">Spark UI</a></p>\n",
       "\n",
       "            <dl>\n",
       "              <dt>Version</dt>\n",
       "                <dd><code>v3.1.2</code></dd>\n",
       "              <dt>Master</dt>\n",
       "                <dd><code>yarn</code></dd>\n",
       "              <dt>AppName</dt>\n",
       "                <dd><code>Sneha Spark Session</code></dd>\n",
       "            </dl>\n",
       "        </div>\n",
       "        \n",
       "            </div>\n",
       "        "
      ],
      "text/plain": [
       "<pyspark.sql.session.SparkSession at 0x7fc597d31550>"
      ]
     },
     "execution_count": 2,
     "metadata": {},
     "output_type": "execute_result"
    }
   ],
   "source": [
    "spark"
   ]
  },
  {
   "cell_type": "code",
   "execution_count": 5,
   "id": "53be07e6",
   "metadata": {},
   "outputs": [
    {
     "name": "stdout",
     "output_type": "stream",
     "text": [
      "country,weeknum,numinvoices,totalquantity,invoicevalue\n",
      "Spain,49,1,67,174.72\n",
      "Germany,48,11,1795,3309.75\n",
      "Lithuania,48,3,622,1598.06\n",
      "Germany,49,12,1852,4521.39\n",
      "Bahrain,51,1,54,205.74\n",
      "Iceland,49,1,319,711.79\n",
      "India,51,5,95,276.84\n",
      "Australia,50,2,133,387.95\n",
      "Italy,49,1,-2,-17.0\n"
     ]
    }
   ],
   "source": [
    "! hadoop fs -cat /public/trendytech/datasets/windowdata.csv |head"
   ]
  },
  {
   "cell_type": "code",
   "execution_count": 6,
   "id": "658ac71f",
   "metadata": {},
   "outputs": [],
   "source": [
    "order_df = spark.read.\\\n",
    "format('csv').\\\n",
    "option(\"inferSchema\", True).\\\n",
    "option(\"header\", True).\\\n",
    "load('/public/trendytech/datasets/windowdata.csv')"
   ]
  },
  {
   "cell_type": "code",
   "execution_count": 7,
   "id": "94dcaec8",
   "metadata": {},
   "outputs": [
    {
     "name": "stdout",
     "output_type": "stream",
     "text": [
      "+---------------+-------+-----------+-------------+------------+\n",
      "|        country|weeknum|numinvoices|totalquantity|invoicevalue|\n",
      "+---------------+-------+-----------+-------------+------------+\n",
      "|      Australia|     48|          1|          107|      358.25|\n",
      "|      Australia|     49|          1|          214|       258.9|\n",
      "|      Australia|     50|          2|          133|      387.95|\n",
      "|        Austria|     50|          2|            3|      257.04|\n",
      "|        Bahrain|     51|          1|           54|      205.74|\n",
      "|        Belgium|     48|          1|          528|       346.1|\n",
      "|        Belgium|     50|          2|          285|      625.16|\n",
      "|        Belgium|     51|          2|          942|      838.65|\n",
      "|Channel Islands|     49|          1|           80|      363.53|\n",
      "|         Cyprus|     50|          1|          917|     1590.82|\n",
      "|        Denmark|     49|          1|          454|      1281.5|\n",
      "|        Finland|     50|          1|         1254|       892.8|\n",
      "|         France|     48|          4|         1299|     2808.16|\n",
      "|         France|     49|          9|         2303|     4527.01|\n",
      "|         France|     50|          6|          529|      537.32|\n",
      "|         France|     51|          5|          847|     1702.87|\n",
      "|        Germany|     48|         11|         1795|     3309.75|\n",
      "|        Germany|     49|         12|         1852|     4521.39|\n",
      "|        Germany|     50|         15|         1973|     5065.79|\n",
      "|        Germany|     51|          5|         1103|     1665.91|\n",
      "+---------------+-------+-----------+-------------+------------+\n",
      "only showing top 20 rows\n",
      "\n"
     ]
    }
   ],
   "source": [
    "order_df.sort(\"country\",\"weeknum\").show()"
   ]
  },
  {
   "cell_type": "code",
   "execution_count": 8,
   "id": "3096aac0",
   "metadata": {},
   "outputs": [],
   "source": [
    "from pyspark.sql import *"
   ]
  },
  {
   "cell_type": "code",
   "execution_count": 13,
   "id": "88ac5e5c",
   "metadata": {},
   "outputs": [],
   "source": [
    "from pyspark.sql.functions import *"
   ]
  },
  {
   "cell_type": "code",
   "execution_count": 14,
   "id": "80a104b1",
   "metadata": {},
   "outputs": [],
   "source": [
    "mywindow = Window.partitionBy(\"country\").orderBy(\"weeknum\").rowsBetween(Window.unboundedPreceding,Window.currentRow)"
   ]
  },
  {
   "cell_type": "code",
   "execution_count": 15,
   "id": "a219865d",
   "metadata": {},
   "outputs": [],
   "source": [
    "result = order_df.withColumn(\"running_total\",sum(\"invoicevalue\").over(mywindow))"
   ]
  },
  {
   "cell_type": "code",
   "execution_count": 16,
   "id": "5982a72e",
   "metadata": {},
   "outputs": [
    {
     "name": "stdout",
     "output_type": "stream",
     "text": [
      "+-------+-------+-----------+-------------+------------+------------------+\n",
      "|country|weeknum|numinvoices|totalquantity|invoicevalue|     running_total|\n",
      "+-------+-------+-----------+-------------+------------+------------------+\n",
      "| Sweden|     50|          3|         3714|      2646.3|            2646.3|\n",
      "|Germany|     48|         11|         1795|     3309.75|           3309.75|\n",
      "|Germany|     49|         12|         1852|     4521.39|           7831.14|\n",
      "|Germany|     50|         15|         1973|     5065.79|          12896.93|\n",
      "|Germany|     51|          5|         1103|     1665.91|          14562.84|\n",
      "| France|     48|          4|         1299|     2808.16|           2808.16|\n",
      "| France|     49|          9|         2303|     4527.01|           7335.17|\n",
      "| France|     50|          6|          529|      537.32|           7872.49|\n",
      "| France|     51|          5|          847|     1702.87|           9575.36|\n",
      "|Belgium|     48|          1|          528|       346.1|             346.1|\n",
      "|Belgium|     50|          2|          285|      625.16|            971.26|\n",
      "|Belgium|     51|          2|          942|      838.65|1809.9099999999999|\n",
      "|Finland|     50|          1|         1254|       892.8|             892.8|\n",
      "|  India|     48|          7|         2822|     3147.23|           3147.23|\n",
      "|  India|     49|          5|         1280|      3284.1|           6431.33|\n",
      "|  India|     50|          5|         1184|     2321.78|           8753.11|\n",
      "|  India|     51|          5|           95|      276.84|           9029.95|\n",
      "|  Italy|     48|          1|          164|       427.8|             427.8|\n",
      "|  Italy|     49|          1|           -2|       -17.0|             410.8|\n",
      "|  Italy|     51|          1|          131|       383.7|             794.5|\n",
      "+-------+-------+-----------+-------------+------------+------------------+\n",
      "only showing top 20 rows\n",
      "\n"
     ]
    }
   ],
   "source": [
    "result.show()"
   ]
  },
  {
   "cell_type": "code",
   "execution_count": null,
   "id": "8a3d6525",
   "metadata": {},
   "outputs": [],
   "source": []
  }
 ],
 "metadata": {
  "kernelspec": {
   "display_name": "Pyspark 3",
   "language": "python",
   "name": "pyspark3"
  },
  "language_info": {
   "codemirror_mode": {
    "name": "ipython",
    "version": 3
   },
   "file_extension": ".py",
   "mimetype": "text/x-python",
   "name": "python",
   "nbconvert_exporter": "python",
   "pygments_lexer": "ipython3",
   "version": "3.6.12"
  }
 },
 "nbformat": 4,
 "nbformat_minor": 5
}
