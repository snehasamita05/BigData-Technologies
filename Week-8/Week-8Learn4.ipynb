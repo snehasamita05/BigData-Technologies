{
 "cells": [
  {
   "cell_type": "code",
   "execution_count": 34,
   "id": "7e749936",
   "metadata": {},
   "outputs": [],
   "source": [
    "from pyspark.sql import SparkSession\n",
    "import getpass\n",
    "username = getpass.getuser()\n",
    "spark = SparkSession. \\\n",
    "builder. \\\n",
    "appName(\"Sneha Spark Session\").\\\n",
    "config(\"spark.sql.warehouse.dir\", f\"/user/{username}/warehouse\"). \\\n",
    "enableHiveSupport(). \\\n",
    "master('yarn'). \\\n",
    "getOrCreate()"
   ]
  },
  {
   "cell_type": "code",
   "execution_count": 35,
   "id": "0b26293d",
   "metadata": {},
   "outputs": [
    {
     "data": {
      "text/html": [
       "\n",
       "            <div>\n",
       "                <p><b>SparkSession - hive</b></p>\n",
       "                \n",
       "        <div>\n",
       "            <p><b>SparkContext</b></p>\n",
       "\n",
       "            <p><a href=\"http://g01.itversity.com:4041\">Spark UI</a></p>\n",
       "\n",
       "            <dl>\n",
       "              <dt>Version</dt>\n",
       "                <dd><code>v3.1.2</code></dd>\n",
       "              <dt>Master</dt>\n",
       "                <dd><code>yarn</code></dd>\n",
       "              <dt>AppName</dt>\n",
       "                <dd><code>Sneha Spark Session</code></dd>\n",
       "            </dl>\n",
       "        </div>\n",
       "        \n",
       "            </div>\n",
       "        "
      ],
      "text/plain": [
       "<pyspark.sql.session.SparkSession at 0x7fc9d2ef0208>"
      ]
     },
     "execution_count": 35,
     "metadata": {},
     "output_type": "execute_result"
    }
   ],
   "source": [
    "spark"
   ]
  },
  {
   "cell_type": "code",
   "execution_count": 36,
   "id": "6ac257f3",
   "metadata": {},
   "outputs": [
    {
     "name": "stdout",
     "output_type": "stream",
     "text": [
      "country,weeknum,numinvoices,totalquantity,invoicevalue\n",
      "Spain,49,1,67,174.72\n",
      "Germany,48,11,1795,1600\n",
      "Lithuania,48,3,622,1598.06\n",
      "Germany,49,12,1852,1800\n",
      "Bahrain,51,1,54,205.74\n",
      "Iceland,49,1,319,711.79\n",
      "India,51,5,95,300\n",
      "Australia,50,2,133,387.95\n",
      "Italy,49,1,-2,-17.0\n"
     ]
    }
   ],
   "source": [
    "! hadoop fs -cat /public/trendytech/datasets/windowdatamodified.csv |head"
   ]
  },
  {
   "cell_type": "code",
   "execution_count": 37,
   "id": "fdb0d857",
   "metadata": {},
   "outputs": [],
   "source": [
    "order_df = spark.read.\\\n",
    "format('csv').\\\n",
    "option(\"inferSchema\", True).\\\n",
    "option(\"header\", True).\\\n",
    "load('/public/trendytech/datasets/windowdatamodified.csv')"
   ]
  },
  {
   "cell_type": "code",
   "execution_count": 38,
   "id": "77e2f282",
   "metadata": {},
   "outputs": [
    {
     "name": "stdout",
     "output_type": "stream",
     "text": [
      "+---------------+-------+-----------+-------------+------------+\n",
      "|        country|weeknum|numinvoices|totalquantity|invoicevalue|\n",
      "+---------------+-------+-----------+-------------+------------+\n",
      "|      Australia|     48|          1|          107|      358.25|\n",
      "|      Australia|     49|          1|          214|       258.9|\n",
      "|      Australia|     50|          2|          133|      387.95|\n",
      "|        Austria|     50|          2|            3|      257.04|\n",
      "|        Bahrain|     51|          1|           54|      205.74|\n",
      "|        Belgium|     48|          1|          528|       800.0|\n",
      "|        Belgium|     50|          2|          285|      625.16|\n",
      "|        Belgium|     51|          2|          942|       800.0|\n",
      "|Channel Islands|     49|          1|           80|      363.53|\n",
      "|         Cyprus|     50|          1|          917|     1590.82|\n",
      "|        Denmark|     49|          1|          454|      1281.5|\n",
      "|        Finland|     50|          1|         1254|       892.8|\n",
      "|         France|     48|          4|         1299|       500.0|\n",
      "|         France|     49|          9|         2303|       500.0|\n",
      "|         France|     50|          6|          529|      537.32|\n",
      "|         France|     51|          5|          847|       500.0|\n",
      "|        Germany|     48|         11|         1795|      1600.0|\n",
      "|        Germany|     49|         12|         1852|      1800.0|\n",
      "|        Germany|     50|         15|         1973|      1800.0|\n",
      "|        Germany|     51|          5|         1103|      1600.0|\n",
      "+---------------+-------+-----------+-------------+------------+\n",
      "only showing top 20 rows\n",
      "\n"
     ]
    }
   ],
   "source": [
    "order_df.sort(\"country\",\"weeknum\").show()"
   ]
  },
  {
   "cell_type": "code",
   "execution_count": 39,
   "id": "b40a7eef",
   "metadata": {},
   "outputs": [
    {
     "name": "stdout",
     "output_type": "stream",
     "text": [
      "+---------------+-------+-----------+-------------+------------+\n",
      "|        country|weeknum|numinvoices|totalquantity|invoicevalue|\n",
      "+---------------+-------+-----------+-------------+------------+\n",
      "|      Australia|     49|          1|          214|       258.9|\n",
      "|      Australia|     48|          1|          107|      358.25|\n",
      "|      Australia|     50|          2|          133|      387.95|\n",
      "|        Austria|     50|          2|            3|      257.04|\n",
      "|        Bahrain|     51|          1|           54|      205.74|\n",
      "|        Belgium|     50|          2|          285|      625.16|\n",
      "|        Belgium|     48|          1|          528|       800.0|\n",
      "|        Belgium|     51|          2|          942|       800.0|\n",
      "|Channel Islands|     49|          1|           80|      363.53|\n",
      "|         Cyprus|     50|          1|          917|     1590.82|\n",
      "|        Denmark|     49|          1|          454|      1281.5|\n",
      "|        Finland|     50|          1|         1254|       892.8|\n",
      "|         France|     49|          9|         2303|       500.0|\n",
      "|         France|     48|          4|         1299|       500.0|\n",
      "|         France|     51|          5|          847|       500.0|\n",
      "|         France|     50|          6|          529|      537.32|\n",
      "|        Germany|     51|          5|         1103|      1600.0|\n",
      "|        Germany|     48|         11|         1795|      1600.0|\n",
      "|        Germany|     49|         12|         1852|      1800.0|\n",
      "|        Germany|     50|         15|         1973|      1800.0|\n",
      "+---------------+-------+-----------+-------------+------------+\n",
      "only showing top 20 rows\n",
      "\n"
     ]
    }
   ],
   "source": [
    "order_df.orderBy(\"country\",\"invoicevalue\").show()"
   ]
  },
  {
   "cell_type": "code",
   "execution_count": 40,
   "id": "4de286e9",
   "metadata": {},
   "outputs": [],
   "source": [
    "from pyspark.sql import *"
   ]
  },
  {
   "cell_type": "code",
   "execution_count": 41,
   "id": "5266d883",
   "metadata": {},
   "outputs": [],
   "source": [
    "from pyspark.sql.functions import *"
   ]
  },
  {
   "cell_type": "code",
   "execution_count": 42,
   "id": "6df0194e",
   "metadata": {},
   "outputs": [],
   "source": [
    "mywindow = Window.partitionBy(\"Country\").orderBy(\"weeknum\").rowsBetween(Window.unboundedPreceding,Window.currentRow)"
   ]
  },
  {
   "cell_type": "code",
   "execution_count": 43,
   "id": "e45f2e16",
   "metadata": {},
   "outputs": [],
   "source": [
    "result_df = order_df.withColumn(\"running_total\",sum(\"invoicevalue\").over(mywindow))"
   ]
  },
  {
   "cell_type": "code",
   "execution_count": 44,
   "id": "6d98ef10",
   "metadata": {},
   "outputs": [
    {
     "name": "stdout",
     "output_type": "stream",
     "text": [
      "+-------+-------+-----------+-------------+------------+------------------+\n",
      "|country|weeknum|numinvoices|totalquantity|invoicevalue|     running_total|\n",
      "+-------+-------+-----------+-------------+------------+------------------+\n",
      "| Sweden|     50|          3|         3714|      2646.3|            2646.3|\n",
      "|Germany|     48|         11|         1795|      1600.0|            1600.0|\n",
      "|Germany|     49|         12|         1852|      1800.0|            3400.0|\n",
      "|Germany|     50|         15|         1973|      1800.0|            5200.0|\n",
      "|Germany|     51|          5|         1103|      1600.0|            6800.0|\n",
      "| France|     48|          4|         1299|       500.0|             500.0|\n",
      "| France|     49|          9|         2303|       500.0|            1000.0|\n",
      "| France|     50|          6|          529|      537.32|1537.3200000000002|\n",
      "| France|     51|          5|          847|       500.0|2037.3200000000002|\n",
      "|Belgium|     48|          1|          528|       800.0|             800.0|\n",
      "|Belgium|     50|          2|          285|      625.16|1425.1599999999999|\n",
      "|Belgium|     51|          2|          942|       800.0|           2225.16|\n",
      "|Finland|     50|          1|         1254|       892.8|             892.8|\n",
      "|  India|     48|          7|         2822|       300.0|             300.0|\n",
      "|  India|     49|          5|         1280|      3284.1|            3584.1|\n",
      "|  India|     50|          5|         1184|     2321.78|           5905.88|\n",
      "|  India|     51|          5|           95|       300.0|           6205.88|\n",
      "|  Italy|     48|          1|          164|       427.8|             427.8|\n",
      "|  Italy|     49|          1|           -2|       -17.0|             410.8|\n",
      "|  Italy|     51|          1|          131|       383.7|             794.5|\n",
      "+-------+-------+-----------+-------------+------------+------------------+\n",
      "only showing top 20 rows\n",
      "\n"
     ]
    }
   ],
   "source": [
    "result_df.show()"
   ]
  },
  {
   "cell_type": "code",
   "execution_count": 45,
   "id": "76a277b8",
   "metadata": {},
   "outputs": [],
   "source": [
    "mywindow = Window.partitionBy(\"country\").orderBy(desc(\"invoicevalue\"))"
   ]
  },
  {
   "cell_type": "code",
   "execution_count": 46,
   "id": "619d7eba",
   "metadata": {},
   "outputs": [],
   "source": [
    "result_df = order_df.withColumn(\"rank\",rank().over(mywindow))"
   ]
  },
  {
   "cell_type": "code",
   "execution_count": 47,
   "id": "401b1f1e",
   "metadata": {},
   "outputs": [
    {
     "name": "stdout",
     "output_type": "stream",
     "text": [
      "+-------+-------+-----------+-------------+------------+----+\n",
      "|country|weeknum|numinvoices|totalquantity|invoicevalue|rank|\n",
      "+-------+-------+-----------+-------------+------------+----+\n",
      "| Sweden|     50|          3|         3714|      2646.3|   1|\n",
      "|Germany|     49|         12|         1852|      1800.0|   1|\n",
      "|Germany|     50|         15|         1973|      1800.0|   1|\n",
      "|Germany|     48|         11|         1795|      1600.0|   3|\n",
      "|Germany|     51|          5|         1103|      1600.0|   3|\n",
      "| France|     50|          6|          529|      537.32|   1|\n",
      "| France|     51|          5|          847|       500.0|   2|\n",
      "| France|     49|          9|         2303|       500.0|   2|\n",
      "| France|     48|          4|         1299|       500.0|   2|\n",
      "|Belgium|     48|          1|          528|       800.0|   1|\n",
      "|Belgium|     51|          2|          942|       800.0|   1|\n",
      "|Belgium|     50|          2|          285|      625.16|   3|\n",
      "|Finland|     50|          1|         1254|       892.8|   1|\n",
      "|  India|     49|          5|         1280|      3284.1|   1|\n",
      "|  India|     50|          5|         1184|     2321.78|   2|\n",
      "|  India|     51|          5|           95|       300.0|   3|\n",
      "|  India|     48|          7|         2822|       300.0|   3|\n",
      "|  Italy|     48|          1|          164|       427.8|   1|\n",
      "|  Italy|     51|          1|          131|       383.7|   2|\n",
      "|  Italy|     49|          1|           -2|       -17.0|   3|\n",
      "+-------+-------+-----------+-------------+------------+----+\n",
      "only showing top 20 rows\n",
      "\n"
     ]
    }
   ],
   "source": [
    "result_df.show()"
   ]
  },
  {
   "cell_type": "code",
   "execution_count": 48,
   "id": "57dd0c90",
   "metadata": {},
   "outputs": [],
   "source": [
    "result_df = order_df.withColumn(\"desnserank\",dense_rank().over(mywindow))"
   ]
  },
  {
   "cell_type": "code",
   "execution_count": 49,
   "id": "952f6e67",
   "metadata": {},
   "outputs": [
    {
     "name": "stdout",
     "output_type": "stream",
     "text": [
      "+-------+-------+-----------+-------------+------------+----------+\n",
      "|country|weeknum|numinvoices|totalquantity|invoicevalue|desnserank|\n",
      "+-------+-------+-----------+-------------+------------+----------+\n",
      "| Sweden|     50|          3|         3714|      2646.3|         1|\n",
      "|Germany|     49|         12|         1852|      1800.0|         1|\n",
      "|Germany|     50|         15|         1973|      1800.0|         1|\n",
      "|Germany|     48|         11|         1795|      1600.0|         2|\n",
      "|Germany|     51|          5|         1103|      1600.0|         2|\n",
      "| France|     50|          6|          529|      537.32|         1|\n",
      "| France|     51|          5|          847|       500.0|         2|\n",
      "| France|     49|          9|         2303|       500.0|         2|\n",
      "| France|     48|          4|         1299|       500.0|         2|\n",
      "|Belgium|     48|          1|          528|       800.0|         1|\n",
      "|Belgium|     51|          2|          942|       800.0|         1|\n",
      "|Belgium|     50|          2|          285|      625.16|         2|\n",
      "|Finland|     50|          1|         1254|       892.8|         1|\n",
      "|  India|     49|          5|         1280|      3284.1|         1|\n",
      "|  India|     50|          5|         1184|     2321.78|         2|\n",
      "|  India|     51|          5|           95|       300.0|         3|\n",
      "|  India|     48|          7|         2822|       300.0|         3|\n",
      "|  Italy|     48|          1|          164|       427.8|         1|\n",
      "|  Italy|     51|          1|          131|       383.7|         2|\n",
      "|  Italy|     49|          1|           -2|       -17.0|         3|\n",
      "+-------+-------+-----------+-------------+------------+----------+\n",
      "only showing top 20 rows\n",
      "\n"
     ]
    }
   ],
   "source": [
    "result_df.show()"
   ]
  },
  {
   "cell_type": "code",
   "execution_count": 50,
   "id": "66350116",
   "metadata": {},
   "outputs": [],
   "source": [
    "result_df = order_df.withColumn(\"rownumber\",row_number().over(mywindow))"
   ]
  },
  {
   "cell_type": "code",
   "execution_count": 51,
   "id": "c8052be3",
   "metadata": {},
   "outputs": [
    {
     "name": "stdout",
     "output_type": "stream",
     "text": [
      "+-------+-------+-----------+-------------+------------+---------+\n",
      "|country|weeknum|numinvoices|totalquantity|invoicevalue|rownumber|\n",
      "+-------+-------+-----------+-------------+------------+---------+\n",
      "| Sweden|     50|          3|         3714|      2646.3|        1|\n",
      "|Germany|     49|         12|         1852|      1800.0|        1|\n",
      "|Germany|     50|         15|         1973|      1800.0|        2|\n",
      "|Germany|     48|         11|         1795|      1600.0|        3|\n",
      "|Germany|     51|          5|         1103|      1600.0|        4|\n",
      "| France|     50|          6|          529|      537.32|        1|\n",
      "| France|     51|          5|          847|       500.0|        2|\n",
      "| France|     49|          9|         2303|       500.0|        3|\n",
      "| France|     48|          4|         1299|       500.0|        4|\n",
      "|Belgium|     48|          1|          528|       800.0|        1|\n",
      "|Belgium|     51|          2|          942|       800.0|        2|\n",
      "|Belgium|     50|          2|          285|      625.16|        3|\n",
      "|Finland|     50|          1|         1254|       892.8|        1|\n",
      "|  India|     49|          5|         1280|      3284.1|        1|\n",
      "|  India|     50|          5|         1184|     2321.78|        2|\n",
      "|  India|     51|          5|           95|       300.0|        3|\n",
      "|  India|     48|          7|         2822|       300.0|        4|\n",
      "|  Italy|     48|          1|          164|       427.8|        1|\n",
      "|  Italy|     51|          1|          131|       383.7|        2|\n",
      "|  Italy|     49|          1|           -2|       -17.0|        3|\n",
      "+-------+-------+-----------+-------------+------------+---------+\n",
      "only showing top 20 rows\n",
      "\n"
     ]
    }
   ],
   "source": [
    "result_df.show()"
   ]
  },
  {
   "cell_type": "code",
   "execution_count": 52,
   "id": "d2c41114",
   "metadata": {},
   "outputs": [
    {
     "name": "stdout",
     "output_type": "stream",
     "text": [
      "+---------------+-------+-----------+-------------+------------+---------+\n",
      "|        country|weeknum|numinvoices|totalquantity|invoicevalue|rownumber|\n",
      "+---------------+-------+-----------+-------------+------------+---------+\n",
      "|         Sweden|     50|          3|         3714|      2646.3|        1|\n",
      "|        Germany|     49|         12|         1852|      1800.0|        1|\n",
      "|         France|     50|          6|          529|      537.32|        1|\n",
      "|        Belgium|     48|          1|          528|       800.0|        1|\n",
      "|        Finland|     50|          1|         1254|       892.8|        1|\n",
      "|          India|     49|          5|         1280|      3284.1|        1|\n",
      "|          Italy|     48|          1|          164|       427.8|        1|\n",
      "|      Lithuania|     48|          3|          622|     1598.06|        1|\n",
      "|         Norway|     48|          1|         1852|     1919.14|        1|\n",
      "|          Spain|     50|          2|          400|     1049.01|        1|\n",
      "|        Denmark|     49|          1|          454|      1281.5|        1|\n",
      "|        Iceland|     49|          1|          319|      711.79|        1|\n",
      "|         Israel|     50|          1|          -56|     -227.44|        1|\n",
      "|Channel Islands|     49|          1|           80|      363.53|        1|\n",
      "|         Cyprus|     50|          1|          917|     1590.82|        1|\n",
      "|    Switzerland|     51|          1|          604|     1001.52|        1|\n",
      "|          Japan|     49|          2|         3897|     7384.99|        1|\n",
      "|         Poland|     48|          1|          140|      248.16|        1|\n",
      "|       Portugal|     49|          4|          726|     1844.67|        1|\n",
      "|      Australia|     50|          2|          133|      387.95|        1|\n",
      "+---------------+-------+-----------+-------------+------------+---------+\n",
      "only showing top 20 rows\n",
      "\n"
     ]
    }
   ],
   "source": [
    "result_df.select(\"*\").where(\"rownumber == 1\").show()"
   ]
  },
  {
   "cell_type": "code",
   "execution_count": 53,
   "id": "fa5b9a94",
   "metadata": {},
   "outputs": [
    {
     "name": "stdout",
     "output_type": "stream",
     "text": [
      "+---------------+-------+-----------+-------------+------------+\n",
      "|        country|weeknum|numinvoices|totalquantity|invoicevalue|\n",
      "+---------------+-------+-----------+-------------+------------+\n",
      "|         Sweden|     50|          3|         3714|      2646.3|\n",
      "|        Germany|     49|         12|         1852|      1800.0|\n",
      "|         France|     50|          6|          529|      537.32|\n",
      "|        Belgium|     48|          1|          528|       800.0|\n",
      "|        Finland|     50|          1|         1254|       892.8|\n",
      "|          India|     49|          5|         1280|      3284.1|\n",
      "|          Italy|     48|          1|          164|       427.8|\n",
      "|      Lithuania|     48|          3|          622|     1598.06|\n",
      "|         Norway|     48|          1|         1852|     1919.14|\n",
      "|          Spain|     50|          2|          400|     1049.01|\n",
      "|        Denmark|     49|          1|          454|      1281.5|\n",
      "|        Iceland|     49|          1|          319|      711.79|\n",
      "|         Israel|     50|          1|          -56|     -227.44|\n",
      "|Channel Islands|     49|          1|           80|      363.53|\n",
      "|         Cyprus|     50|          1|          917|     1590.82|\n",
      "|    Switzerland|     51|          1|          604|     1001.52|\n",
      "|          Japan|     49|          2|         3897|     7384.99|\n",
      "|         Poland|     48|          1|          140|      248.16|\n",
      "|       Portugal|     49|          4|          726|     1844.67|\n",
      "|      Australia|     50|          2|          133|      387.95|\n",
      "+---------------+-------+-----------+-------------+------------+\n",
      "only showing top 20 rows\n",
      "\n"
     ]
    }
   ],
   "source": [
    "result_df.select(\"*\").where(\"rownumber == 1\").drop(\"rownumber\").show()"
   ]
  },
  {
   "cell_type": "code",
   "execution_count": 54,
   "id": "4e9f2117",
   "metadata": {},
   "outputs": [],
   "source": [
    "mywindow = Window.partitionBy(\"country\").orderBy(\"weeknum\")"
   ]
  },
  {
   "cell_type": "code",
   "execution_count": 55,
   "id": "5d3165ef",
   "metadata": {},
   "outputs": [],
   "source": [
    "result = order_df.withColumn(\"previous_week\",lag(\"invoicevalue\").over(mywindow))"
   ]
  },
  {
   "cell_type": "code",
   "execution_count": 56,
   "id": "07891d5c",
   "metadata": {},
   "outputs": [
    {
     "name": "stdout",
     "output_type": "stream",
     "text": [
      "+-------+-------+-----------+-------------+------------+-------------+\n",
      "|country|weeknum|numinvoices|totalquantity|invoicevalue|previous_week|\n",
      "+-------+-------+-----------+-------------+------------+-------------+\n",
      "| Sweden|     50|          3|         3714|      2646.3|         null|\n",
      "|Germany|     48|         11|         1795|      1600.0|         null|\n",
      "|Germany|     49|         12|         1852|      1800.0|       1600.0|\n",
      "|Germany|     50|         15|         1973|      1800.0|       1800.0|\n",
      "|Germany|     51|          5|         1103|      1600.0|       1800.0|\n",
      "| France|     48|          4|         1299|       500.0|         null|\n",
      "| France|     49|          9|         2303|       500.0|        500.0|\n",
      "| France|     50|          6|          529|      537.32|        500.0|\n",
      "| France|     51|          5|          847|       500.0|       537.32|\n",
      "|Belgium|     48|          1|          528|       800.0|         null|\n",
      "|Belgium|     50|          2|          285|      625.16|        800.0|\n",
      "|Belgium|     51|          2|          942|       800.0|       625.16|\n",
      "|Finland|     50|          1|         1254|       892.8|         null|\n",
      "|  India|     48|          7|         2822|       300.0|         null|\n",
      "|  India|     49|          5|         1280|      3284.1|        300.0|\n",
      "|  India|     50|          5|         1184|     2321.78|       3284.1|\n",
      "|  India|     51|          5|           95|       300.0|      2321.78|\n",
      "|  Italy|     48|          1|          164|       427.8|         null|\n",
      "|  Italy|     49|          1|           -2|       -17.0|        427.8|\n",
      "|  Italy|     51|          1|          131|       383.7|        -17.0|\n",
      "+-------+-------+-----------+-------------+------------+-------------+\n",
      "only showing top 20 rows\n",
      "\n"
     ]
    }
   ],
   "source": [
    "result.show()"
   ]
  },
  {
   "cell_type": "code",
   "execution_count": 58,
   "id": "c69cfaf1",
   "metadata": {},
   "outputs": [],
   "source": [
    "result1 = result.withColumn(\"invoice_diff\",expr(\"invoicevalue-previous_week\"))"
   ]
  },
  {
   "cell_type": "code",
   "execution_count": 59,
   "id": "2d61e94e",
   "metadata": {},
   "outputs": [
    {
     "name": "stdout",
     "output_type": "stream",
     "text": [
      "+-------+-------+-----------+-------------+------------+-------------+-------------------+\n",
      "|country|weeknum|numinvoices|totalquantity|invoicevalue|previous_week|       invoice_diff|\n",
      "+-------+-------+-----------+-------------+------------+-------------+-------------------+\n",
      "| Sweden|     50|          3|         3714|      2646.3|         null|               null|\n",
      "|Germany|     48|         11|         1795|      1600.0|         null|               null|\n",
      "|Germany|     49|         12|         1852|      1800.0|       1600.0|              200.0|\n",
      "|Germany|     50|         15|         1973|      1800.0|       1800.0|                0.0|\n",
      "|Germany|     51|          5|         1103|      1600.0|       1800.0|             -200.0|\n",
      "| France|     48|          4|         1299|       500.0|         null|               null|\n",
      "| France|     49|          9|         2303|       500.0|        500.0|                0.0|\n",
      "| France|     50|          6|          529|      537.32|        500.0|  37.32000000000005|\n",
      "| France|     51|          5|          847|       500.0|       537.32| -37.32000000000005|\n",
      "|Belgium|     48|          1|          528|       800.0|         null|               null|\n",
      "|Belgium|     50|          2|          285|      625.16|        800.0|-174.84000000000003|\n",
      "|Belgium|     51|          2|          942|       800.0|       625.16| 174.84000000000003|\n",
      "|Finland|     50|          1|         1254|       892.8|         null|               null|\n",
      "|  India|     48|          7|         2822|       300.0|         null|               null|\n",
      "|  India|     49|          5|         1280|      3284.1|        300.0|             2984.1|\n",
      "|  India|     50|          5|         1184|     2321.78|       3284.1| -962.3199999999997|\n",
      "|  India|     51|          5|           95|       300.0|      2321.78|-2021.7800000000002|\n",
      "|  Italy|     48|          1|          164|       427.8|         null|               null|\n",
      "|  Italy|     49|          1|           -2|       -17.0|        427.8|             -444.8|\n",
      "|  Italy|     51|          1|          131|       383.7|        -17.0|              400.7|\n",
      "+-------+-------+-----------+-------------+------------+-------------+-------------------+\n",
      "only showing top 20 rows\n",
      "\n"
     ]
    }
   ],
   "source": [
    "result1.show()"
   ]
  },
  {
   "cell_type": "code",
   "execution_count": 60,
   "id": "58165e01",
   "metadata": {},
   "outputs": [],
   "source": [
    "mywindow = Window.partitionBy(\"country\")"
   ]
  },
  {
   "cell_type": "code",
   "execution_count": 62,
   "id": "04b662c4",
   "metadata": {},
   "outputs": [],
   "source": [
    "result = order_df.withColumn(\"total_invoice\",sum(\"invoicevalue\").over(mywindow))"
   ]
  },
  {
   "cell_type": "code",
   "execution_count": 63,
   "id": "8545d2b1",
   "metadata": {},
   "outputs": [
    {
     "name": "stdout",
     "output_type": "stream",
     "text": [
      "+-------+-------+-----------+-------------+------------+------------------+\n",
      "|country|weeknum|numinvoices|totalquantity|invoicevalue|     total_invoice|\n",
      "+-------+-------+-----------+-------------+------------+------------------+\n",
      "| Sweden|     50|          3|         3714|      2646.3|            2646.3|\n",
      "|Germany|     48|         11|         1795|      1600.0|            6800.0|\n",
      "|Germany|     49|         12|         1852|      1800.0|            6800.0|\n",
      "|Germany|     50|         15|         1973|      1800.0|            6800.0|\n",
      "|Germany|     51|          5|         1103|      1600.0|            6800.0|\n",
      "| France|     51|          5|          847|       500.0|2037.3200000000002|\n",
      "| France|     49|          9|         2303|       500.0|2037.3200000000002|\n",
      "| France|     48|          4|         1299|       500.0|2037.3200000000002|\n",
      "| France|     50|          6|          529|      537.32|2037.3200000000002|\n",
      "|Belgium|     48|          1|          528|       800.0|           2225.16|\n",
      "|Belgium|     50|          2|          285|      625.16|           2225.16|\n",
      "|Belgium|     51|          2|          942|       800.0|           2225.16|\n",
      "|Finland|     50|          1|         1254|       892.8|             892.8|\n",
      "|  India|     51|          5|           95|       300.0|           6205.88|\n",
      "|  India|     49|          5|         1280|      3284.1|           6205.88|\n",
      "|  India|     48|          7|         2822|       300.0|           6205.88|\n",
      "|  India|     50|          5|         1184|     2321.78|           6205.88|\n",
      "|  Italy|     49|          1|           -2|       -17.0|             794.5|\n",
      "|  Italy|     51|          1|          131|       383.7|             794.5|\n",
      "|  Italy|     48|          1|          164|       427.8|             794.5|\n",
      "+-------+-------+-----------+-------------+------------+------------------+\n",
      "only showing top 20 rows\n",
      "\n"
     ]
    }
   ],
   "source": [
    "result.show()"
   ]
  },
  {
   "cell_type": "code",
   "execution_count": null,
   "id": "f6a84a0f",
   "metadata": {},
   "outputs": [],
   "source": []
  }
 ],
 "metadata": {
  "kernelspec": {
   "display_name": "Pyspark 3",
   "language": "python",
   "name": "pyspark3"
  },
  "language_info": {
   "codemirror_mode": {
    "name": "ipython",
    "version": 3
   },
   "file_extension": ".py",
   "mimetype": "text/x-python",
   "name": "python",
   "nbconvert_exporter": "python",
   "pygments_lexer": "ipython3",
   "version": "3.6.12"
  }
 },
 "nbformat": 4,
 "nbformat_minor": 5
}
