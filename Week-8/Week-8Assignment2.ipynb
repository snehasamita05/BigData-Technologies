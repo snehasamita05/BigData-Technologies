{
 "cells": [
  {
   "cell_type": "code",
   "execution_count": 27,
   "id": "96168068",
   "metadata": {},
   "outputs": [],
   "source": [
    "from pyspark.sql import SparkSession\n",
    "import getpass\n",
    "username = getpass.getuser()\n",
    "spark = SparkSession. \\\n",
    "builder. \\\n",
    "appName(\"Sneha Spark Session\").\\\n",
    "config(\"spark.sql.warehouse.dir\", f\"/user/{username}/warehouse\"). \\\n",
    "enableHiveSupport(). \\\n",
    "master('yarn'). \\\n",
    "getOrCreate()"
   ]
  },
  {
   "cell_type": "code",
   "execution_count": 28,
   "id": "20b56749",
   "metadata": {},
   "outputs": [
    {
     "data": {
      "text/html": [
       "\n",
       "            <div>\n",
       "                <p><b>SparkSession - hive</b></p>\n",
       "                \n",
       "        <div>\n",
       "            <p><b>SparkContext</b></p>\n",
       "\n",
       "            <p><a href=\"http://g01.itversity.com:4040\">Spark UI</a></p>\n",
       "\n",
       "            <dl>\n",
       "              <dt>Version</dt>\n",
       "                <dd><code>v3.1.2</code></dd>\n",
       "              <dt>Master</dt>\n",
       "                <dd><code>yarn</code></dd>\n",
       "              <dt>AppName</dt>\n",
       "                <dd><code>Sneha Spark Session</code></dd>\n",
       "            </dl>\n",
       "        </div>\n",
       "        \n",
       "            </div>\n",
       "        "
      ],
      "text/plain": [
       "<pyspark.sql.session.SparkSession at 0x7fe82f8f39b0>"
      ]
     },
     "execution_count": 28,
     "metadata": {},
     "output_type": "execute_result"
    }
   ],
   "source": [
    "spark"
   ]
  },
  {
   "cell_type": "code",
   "execution_count": 29,
   "id": "8008e51d",
   "metadata": {},
   "outputs": [],
   "source": [
    "groceries_df = spark.read.format('csv').option(\"header\", \"True\").load('/public/trendytech/groceries.csv')"
   ]
  },
  {
   "cell_type": "code",
   "execution_count": 30,
   "id": "45f9449a",
   "metadata": {},
   "outputs": [
    {
     "name": "stdout",
     "output_type": "stream",
     "text": [
      "+--------+---------+--------+----------+--------+\n",
      "|order_id| location|    item|order_date|quantity|\n",
      "+--------+---------+--------+----------+--------+\n",
      "|      o1|  Seattle| Bananas|01/01/2017|       7|\n",
      "|      o2|     Kent|  Apples|02/01/2017|      20|\n",
      "|      o3| Bellevue| Flowers|02/01/2017|      10|\n",
      "|      o4|  Redmond|    Meat|03/01/2017|      40|\n",
      "|      o5|  Seattle|Potatoes|04/01/2017|       9|\n",
      "|      o6| Bellevue|   Bread|04/01/2017|       5|\n",
      "|      o7|  Redmond|   Bread|05/01/2017|       5|\n",
      "|      o8| Issaquah|   Onion|05/01/2017|       4|\n",
      "|      o9|  Redmond|  Cheese|05/01/2017|      15|\n",
      "|     o10| Issaquah|   Onion|06/01/2017|       4|\n",
      "|     o11|   Renton|   Bread|05/01/2017|       5|\n",
      "|     o12| Issaquah|   Onion|07/01/2017|       4|\n",
      "|     o13|Sammamish|   Bread|07/01/2017|       5|\n",
      "|     o14| Issaquah|  Tomato|07/01/2017|       6|\n",
      "|     o15| Issaquah|    Meat|08/01/2017|       3|\n",
      "|     o16| Issaquah|    Meat|09/01/2017|       5|\n",
      "|     o17| Issaquah|    Meat|10/01/2017|       6|\n",
      "|     o18| Bellevue|   Bread|11/01/2017|       7|\n",
      "|     o19| Bellevue|   Bread|12/01/2017|      54|\n",
      "|     o20| Bellevue|   Bread|13/01/2017|      34|\n",
      "+--------+---------+--------+----------+--------+\n",
      "only showing top 20 rows\n",
      "\n"
     ]
    }
   ],
   "source": [
    "groceries_df.show()"
   ]
  },
  {
   "cell_type": "code",
   "execution_count": 31,
   "id": "bd834f81",
   "metadata": {},
   "outputs": [],
   "source": [
    "from pyspark.sql.functions import col,lead\n",
    "from pyspark.sql import Window"
   ]
  },
  {
   "cell_type": "code",
   "execution_count": 32,
   "id": "abaa48f8",
   "metadata": {},
   "outputs": [],
   "source": [
    "mywindow = Window.partitionBy(\"location\").orderBy(\"order_date\")"
   ]
  },
  {
   "cell_type": "code",
   "execution_count": 46,
   "id": "1ca6e768",
   "metadata": {},
   "outputs": [],
   "source": [
    "groceries_df_new = groceries_df.withColumn(\"lead_quantity\",lead(\"quantity\").over(mywindow))"
   ]
  },
  {
   "cell_type": "code",
   "execution_count": 34,
   "id": "fd6a7f57",
   "metadata": {},
   "outputs": [
    {
     "name": "stdout",
     "output_type": "stream",
     "text": [
      "+--------+---------+--------+----------+--------+-------------+\n",
      "|order_id| location|    item|order_date|quantity|lead_quantity|\n",
      "+--------+---------+--------+----------+--------+-------------+\n",
      "|     o17| Issaquah|    Meat|10/01/2017|       6|         null|\n",
      "|     o13|Sammamish|   Bread|07/01/2017|       5|         null|\n",
      "|      o9|  Redmond|  Cheese|05/01/2017|      15|         null|\n",
      "|      o5|  Seattle|Potatoes|04/01/2017|       9|         null|\n",
      "|      o2|     Kent|  Apples|02/01/2017|      20|         null|\n",
      "|     o21| Bellevue|   Bread|14/01/2017|      25|         null|\n",
      "|     o11|   Renton|   Bread|05/01/2017|       5|         null|\n",
      "+--------+---------+--------+----------+--------+-------------+\n",
      "\n"
     ]
    }
   ],
   "source": [
    "filter_null_df = groceries_df_new.filter(groceries_df_new[\"lead_quantity\"].isNull())\n",
    "filter_null_df.show()"
   ]
  },
  {
   "cell_type": "code",
   "execution_count": 35,
   "id": "65650a03",
   "metadata": {},
   "outputs": [
    {
     "name": "stdout",
     "output_type": "stream",
     "text": [
      "+--------+--------+-------+----------+--------+-------------+\n",
      "|order_id|location|   item|order_date|quantity|lead_quantity|\n",
      "+--------+--------+-------+----------+--------+-------------+\n",
      "|      o8|Issaquah|  Onion|05/01/2017|       4|            4|\n",
      "|     o10|Issaquah|  Onion|06/01/2017|       4|            4|\n",
      "|     o12|Issaquah|  Onion|07/01/2017|       4|            6|\n",
      "|     o14|Issaquah| Tomato|07/01/2017|       6|            3|\n",
      "|     o15|Issaquah|   Meat|08/01/2017|       3|            5|\n",
      "|     o16|Issaquah|   Meat|09/01/2017|       5|            6|\n",
      "|      o4| Redmond|   Meat|03/01/2017|      40|            5|\n",
      "|      o7| Redmond|  Bread|05/01/2017|       5|           15|\n",
      "|      o1| Seattle|Bananas|01/01/2017|       7|            9|\n",
      "|      o3|Bellevue|Flowers|02/01/2017|      10|            5|\n",
      "|      o6|Bellevue|  Bread|04/01/2017|       5|            7|\n",
      "|     o18|Bellevue|  Bread|11/01/2017|       7|           54|\n",
      "|     o19|Bellevue|  Bread|12/01/2017|      54|           34|\n",
      "|     o20|Bellevue|  Bread|13/01/2017|      34|           25|\n",
      "+--------+--------+-------+----------+--------+-------------+\n",
      "\n"
     ]
    }
   ],
   "source": [
    "filter_not_null_df = groceries_df_new.filter(groceries_df_new[\"lead_quantity\"].isNotNull())\n",
    "filter_not_null_df.show()"
   ]
  },
  {
   "cell_type": "code",
   "execution_count": 36,
   "id": "081d9e1b",
   "metadata": {},
   "outputs": [
    {
     "name": "stdout",
     "output_type": "stream",
     "text": [
      "+--------+--------+----+----------+--------+-------------+\n",
      "|order_id|location|item|order_date|quantity|lead_quantity|\n",
      "+--------+--------+----+----------+--------+-------------+\n",
      "+--------+--------+----+----------+--------+-------------+\n",
      "\n"
     ]
    }
   ],
   "source": [
    "#removing rows with null\n",
    "filter_null_df.dropna().show()\n"
   ]
  },
  {
   "cell_type": "code",
   "execution_count": 37,
   "id": "df839545",
   "metadata": {},
   "outputs": [
    {
     "name": "stdout",
     "output_type": "stream",
     "text": [
      "+--------+--------+-------+----------+--------+-------------+\n",
      "|order_id|location|   item|order_date|quantity|lead_quantity|\n",
      "+--------+--------+-------+----------+--------+-------------+\n",
      "|      o8|Issaquah|  Onion|05/01/2017|       4|            4|\n",
      "|     o10|Issaquah|  Onion|06/01/2017|       4|            4|\n",
      "|     o12|Issaquah|  Onion|07/01/2017|       4|            6|\n",
      "|     o14|Issaquah| Tomato|07/01/2017|       6|            3|\n",
      "|     o15|Issaquah|   Meat|08/01/2017|       3|            5|\n",
      "|     o16|Issaquah|   Meat|09/01/2017|       5|            6|\n",
      "|      o4| Redmond|   Meat|03/01/2017|      40|            5|\n",
      "|      o7| Redmond|  Bread|05/01/2017|       5|           15|\n",
      "|      o1| Seattle|Bananas|01/01/2017|       7|            9|\n",
      "|      o3|Bellevue|Flowers|02/01/2017|      10|            5|\n",
      "|      o6|Bellevue|  Bread|04/01/2017|       5|            7|\n",
      "|     o18|Bellevue|  Bread|11/01/2017|       7|           54|\n",
      "|     o19|Bellevue|  Bread|12/01/2017|      54|           34|\n",
      "|     o20|Bellevue|  Bread|13/01/2017|      34|           25|\n",
      "+--------+--------+-------+----------+--------+-------------+\n",
      "\n"
     ]
    }
   ],
   "source": [
    "#removing rows where a quantity column is null.\n",
    "result_not_null = groceries_df_new.dropna(subset = [\"lead_quantity\"]).show()"
   ]
  },
  {
   "cell_type": "code",
   "execution_count": 38,
   "id": "661370f7",
   "metadata": {},
   "outputs": [
    {
     "name": "stdout",
     "output_type": "stream",
     "text": [
      "+--------+---------+--------+----------+--------+-------------+\n",
      "|order_id| location|    item|order_date|quantity|lead_quantity|\n",
      "+--------+---------+--------+----------+--------+-------------+\n",
      "|      o8| Issaquah|   Onion|05/01/2017|       4|            4|\n",
      "|     o10| Issaquah|   Onion|06/01/2017|       4|            4|\n",
      "|     o12| Issaquah|   Onion|07/01/2017|       4|            6|\n",
      "|     o14| Issaquah|  Tomato|07/01/2017|       6|            3|\n",
      "|     o15| Issaquah|    Meat|08/01/2017|       3|            5|\n",
      "|     o16| Issaquah|    Meat|09/01/2017|       5|            6|\n",
      "|     o17| Issaquah|    Meat|10/01/2017|       6|         null|\n",
      "|     o13|Sammamish|   Bread|07/01/2017|       5|         null|\n",
      "|      o4|  Redmond|    Meat|03/01/2017|      40|            5|\n",
      "|      o7|  Redmond|   Bread|05/01/2017|       5|           15|\n",
      "|      o9|  Redmond|  Cheese|05/01/2017|      15|         null|\n",
      "|      o1|  Seattle| Bananas|01/01/2017|       7|            9|\n",
      "|      o5|  Seattle|Potatoes|04/01/2017|       9|         null|\n",
      "|      o2|     Kent|  Apples|02/01/2017|      20|         null|\n",
      "|      o3| Bellevue| Flowers|02/01/2017|      10|            5|\n",
      "|      o6| Bellevue|   Bread|04/01/2017|       5|            7|\n",
      "|     o18| Bellevue|   Bread|11/01/2017|       7|           54|\n",
      "|     o19| Bellevue|   Bread|12/01/2017|      54|           34|\n",
      "|     o20| Bellevue|   Bread|13/01/2017|      34|           25|\n",
      "|     o21| Bellevue|   Bread|14/01/2017|      25|         null|\n",
      "+--------+---------+--------+----------+--------+-------------+\n",
      "only showing top 20 rows\n",
      "\n"
     ]
    }
   ],
   "source": [
    "groceries_df_new.show()"
   ]
  },
  {
   "cell_type": "code",
   "execution_count": 39,
   "id": "51422231",
   "metadata": {},
   "outputs": [
    {
     "name": "stdout",
     "output_type": "stream",
     "text": [
      "+--------+---------+--------+----------+--------+-------------+\n",
      "|order_id| location|    item|order_date|quantity|lead_quantity|\n",
      "+--------+---------+--------+----------+--------+-------------+\n",
      "|      o8| Issaquah|   Onion|05/01/2017|       4|            4|\n",
      "|     o10| Issaquah|   Onion|06/01/2017|       4|            4|\n",
      "|     o12| Issaquah|   Onion|07/01/2017|       4|            6|\n",
      "|     o14| Issaquah|  Tomato|07/01/2017|       6|            3|\n",
      "|     o15| Issaquah|    Meat|08/01/2017|       3|            5|\n",
      "|     o16| Issaquah|    Meat|09/01/2017|       5|            6|\n",
      "|     o17| Issaquah|    Meat|10/01/2017|       6|           NA|\n",
      "|     o13|Sammamish|   Bread|07/01/2017|       5|           NA|\n",
      "|      o4|  Redmond|    Meat|03/01/2017|      40|            5|\n",
      "|      o7|  Redmond|   Bread|05/01/2017|       5|           15|\n",
      "|      o9|  Redmond|  Cheese|05/01/2017|      15|           NA|\n",
      "|      o1|  Seattle| Bananas|01/01/2017|       7|            9|\n",
      "|      o5|  Seattle|Potatoes|04/01/2017|       9|           NA|\n",
      "|      o2|     Kent|  Apples|02/01/2017|      20|           NA|\n",
      "|      o3| Bellevue| Flowers|02/01/2017|      10|            5|\n",
      "|      o6| Bellevue|   Bread|04/01/2017|       5|            7|\n",
      "|     o18| Bellevue|   Bread|11/01/2017|       7|           54|\n",
      "|     o19| Bellevue|   Bread|12/01/2017|      54|           34|\n",
      "|     o20| Bellevue|   Bread|13/01/2017|      34|           25|\n",
      "|     o21| Bellevue|   Bread|14/01/2017|      25|           NA|\n",
      "+--------+---------+--------+----------+--------+-------------+\n",
      "only showing top 20 rows\n",
      "\n"
     ]
    }
   ],
   "source": [
    "groceries_df_new.fillna(\"NA\").show()"
   ]
  },
  {
   "cell_type": "code",
   "execution_count": 40,
   "id": "082d94f7",
   "metadata": {},
   "outputs": [
    {
     "name": "stdout",
     "output_type": "stream",
     "text": [
      "+--------+---------+--------+----------+--------+-------------+\n",
      "|order_id| location|    item|order_date|quantity|lead_quantity|\n",
      "+--------+---------+--------+----------+--------+-------------+\n",
      "|      o8| Issaquah|   Onion|05/01/2017|       4|            4|\n",
      "|     o10| Issaquah|   Onion|06/01/2017|       4|            4|\n",
      "|     o12| Issaquah|   Onion|07/01/2017|       4|            6|\n",
      "|     o14| Issaquah|  Tomato|07/01/2017|       6|            3|\n",
      "|     o15| Issaquah|    Meat|08/01/2017|       3|            5|\n",
      "|     o16| Issaquah|    Meat|09/01/2017|       5|            6|\n",
      "|     o17| Issaquah|    Meat|10/01/2017|       6|         null|\n",
      "|     o13|Sammamish|   Bread|07/01/2017|       5|         null|\n",
      "|      o4|  Redmond|    Meat|03/01/2017|      40|            5|\n",
      "|      o7|  Redmond|   Bread|05/01/2017|       5|           15|\n",
      "|      o9|  Redmond|  Cheese|05/01/2017|      15|         null|\n",
      "|      o1|  Seattle| Bananas|01/01/2017|       7|            9|\n",
      "|      o5|  Seattle|Potatoes|04/01/2017|       9|         null|\n",
      "|      o2|     Kent|  Apples|02/01/2017|      20|         null|\n",
      "|      o3| Bellevue| Flowers|02/01/2017|      10|            5|\n",
      "|      o6| Bellevue|   Bread|04/01/2017|       5|            7|\n",
      "|     o18| Bellevue|   Bread|11/01/2017|       7|           54|\n",
      "|     o19| Bellevue|   Bread|12/01/2017|      54|           34|\n",
      "|     o20| Bellevue|   Bread|13/01/2017|      34|           25|\n",
      "|     o21| Bellevue|   Bread|14/01/2017|      25|         null|\n",
      "+--------+---------+--------+----------+--------+-------------+\n",
      "only showing top 20 rows\n",
      "\n"
     ]
    }
   ],
   "source": [
    "groceries_df_new.show()"
   ]
  },
  {
   "cell_type": "code",
   "execution_count": 41,
   "id": "6e9e5d7a",
   "metadata": {},
   "outputs": [
    {
     "name": "stdout",
     "output_type": "stream",
     "text": [
      "+--------+---------+--------+----------+--------+-------------+\n",
      "|order_id| location|    item|order_date|quantity|lead_quantity|\n",
      "+--------+---------+--------+----------+--------+-------------+\n",
      "|      o8| Issaquah|   Onion|05/01/2017|       4|            4|\n",
      "|     o10| Issaquah|   Onion|06/01/2017|       4|            4|\n",
      "|     o12| Issaquah|   Onion|07/01/2017|       4|            6|\n",
      "|     o14| Issaquah|  Tomato|07/01/2017|       6|            3|\n",
      "|     o15| Issaquah|    Meat|08/01/2017|       3|            5|\n",
      "|     o16| Issaquah|    Meat|09/01/2017|       5|            6|\n",
      "|     o17| Issaquah|    Meat|10/01/2017|       6|      UNKNOWN|\n",
      "|     o13|Sammamish|   Bread|07/01/2017|       5|      UNKNOWN|\n",
      "|      o4|  Redmond|    Meat|03/01/2017|      40|            5|\n",
      "|      o7|  Redmond|   Bread|05/01/2017|       5|           15|\n",
      "|      o9|  Redmond|  Cheese|05/01/2017|      15|      UNKNOWN|\n",
      "|      o1|  Seattle| Bananas|01/01/2017|       7|            9|\n",
      "|      o5|  Seattle|Potatoes|04/01/2017|       9|      UNKNOWN|\n",
      "|      o2|     Kent|  Apples|02/01/2017|      20|      UNKNOWN|\n",
      "|      o3| Bellevue| Flowers|02/01/2017|      10|            5|\n",
      "|      o6| Bellevue|   Bread|04/01/2017|       5|            7|\n",
      "|     o18| Bellevue|   Bread|11/01/2017|       7|           54|\n",
      "|     o19| Bellevue|   Bread|12/01/2017|      54|           34|\n",
      "|     o20| Bellevue|   Bread|13/01/2017|      34|           25|\n",
      "|     o21| Bellevue|   Bread|14/01/2017|      25|      UNKNOWN|\n",
      "+--------+---------+--------+----------+--------+-------------+\n",
      "only showing top 20 rows\n",
      "\n"
     ]
    }
   ],
   "source": [
    "groceries_df_new.fillna({\"lead_quantity\":\"UNKNOWN\"}).show()"
   ]
  },
  {
   "cell_type": "code",
   "execution_count": 42,
   "id": "8e92c0ef",
   "metadata": {},
   "outputs": [
    {
     "name": "stdout",
     "output_type": "stream",
     "text": [
      "+--------+---------+--------+----------+--------+-------------+\n",
      "|order_id| location|    item|order_date|quantity|lead_quantity|\n",
      "+--------+---------+--------+----------+--------+-------------+\n",
      "|      o8| Issaquah|   Onion|05/01/2017|       4|            4|\n",
      "|     o10| Issaquah|   Onion|06/01/2017|       4|            4|\n",
      "|     o12| Issaquah|   Onion|07/01/2017|       4|            6|\n",
      "|     o14| Issaquah|  Tomato|07/01/2017|       6|            3|\n",
      "|     o15| Issaquah|    Meat|08/01/2017|       3|            5|\n",
      "|     o16| Issaquah|    Meat|09/01/2017|       5|            6|\n",
      "|     o17| Issaquah|    Meat|10/01/2017|       6|         null|\n",
      "|     o13|Sammamish|   Bread|07/01/2017|       5|         null|\n",
      "|      o4|  Redmond|    Meat|03/01/2017|      40|            5|\n",
      "|      o7|  Redmond|   Bread|05/01/2017|       5|           15|\n",
      "|      o9|  Redmond|  Cheese|05/01/2017|      15|         null|\n",
      "|      o1|  Seattle| Bananas|01/01/2017|       7|            9|\n",
      "|      o5|  Seattle|Potatoes|04/01/2017|       9|         null|\n",
      "|      o2|     Kent|  Apples|02/01/2017|      20|         null|\n",
      "|      o3| Bellevue| Flowers|02/01/2017|      10|            5|\n",
      "|      o6| Bellevue|   Bread|04/01/2017|       5|            7|\n",
      "|     o18| Bellevue|   Bread|11/01/2017|       7|           54|\n",
      "|     o19| Bellevue|   Bread|12/01/2017|      54|           34|\n",
      "|     o20| Bellevue|   Bread|13/01/2017|      34|           25|\n",
      "|     o21| Bellevue|   Bread|14/01/2017|      25|         null|\n",
      "+--------+---------+--------+----------+--------+-------------+\n",
      "only showing top 20 rows\n",
      "\n"
     ]
    }
   ],
   "source": [
    "# Use of Colease function\n",
    "groceries_df_new.show()"
   ]
  },
  {
   "cell_type": "code",
   "execution_count": 43,
   "id": "4ec6c611",
   "metadata": {},
   "outputs": [
    {
     "name": "stdout",
     "output_type": "stream",
     "text": [
      "+--------+---------+--------+----------+--------+-------------+\n",
      "|order_id| location|    item|order_date|quantity|lead_quantity|\n",
      "+--------+---------+--------+----------+--------+-------------+\n",
      "|      o8| Issaquah|   Onion|05/01/2017|       4|            4|\n",
      "|     o10| Issaquah|   Onion|06/01/2017|       4|            4|\n",
      "|     o12| Issaquah|   Onion|07/01/2017|       4|            6|\n",
      "|     o14| Issaquah|  Tomato|07/01/2017|       6|            3|\n",
      "|     o15| Issaquah|    Meat|08/01/2017|       3|            5|\n",
      "|     o16| Issaquah|    Meat|09/01/2017|       5|            6|\n",
      "|     o17| Issaquah|    Meat|10/01/2017|       6|            0|\n",
      "|     o13|Sammamish|   Bread|07/01/2017|       5|            0|\n",
      "|      o4|  Redmond|    Meat|03/01/2017|      40|            5|\n",
      "|      o7|  Redmond|   Bread|05/01/2017|       5|           15|\n",
      "|      o9|  Redmond|  Cheese|05/01/2017|      15|            0|\n",
      "|      o1|  Seattle| Bananas|01/01/2017|       7|            9|\n",
      "|      o5|  Seattle|Potatoes|04/01/2017|       9|            0|\n",
      "|      o2|     Kent|  Apples|02/01/2017|      20|            0|\n",
      "|      o3| Bellevue| Flowers|02/01/2017|      10|            5|\n",
      "|      o6| Bellevue|   Bread|04/01/2017|       5|            7|\n",
      "|     o18| Bellevue|   Bread|11/01/2017|       7|           54|\n",
      "|     o19| Bellevue|   Bread|12/01/2017|      54|           34|\n",
      "|     o20| Bellevue|   Bread|13/01/2017|      34|           25|\n",
      "|     o21| Bellevue|   Bread|14/01/2017|      25|            0|\n",
      "+--------+---------+--------+----------+--------+-------------+\n",
      "only showing top 20 rows\n",
      "\n"
     ]
    }
   ],
   "source": [
    "from pyspark.sql.functions import coalesce, lit\n",
    "\n",
    "groceries_df_new = groceries_df_new.withColumn(\"lead_quantity\", coalesce(groceries_df_new[\"lead_quantity\"], lit(0)))\n",
    "groceries_df_new.show()"
   ]
  },
  {
   "cell_type": "code",
   "execution_count": 44,
   "id": "e2f3191e",
   "metadata": {},
   "outputs": [
    {
     "name": "stdout",
     "output_type": "stream",
     "text": [
      "+--------+---------+--------+----------+--------+-------------+\n",
      "|order_id| location|    item|order_date|quantity|lead_quantity|\n",
      "+--------+---------+--------+----------+--------+-------------+\n",
      "|      o8| Issaquah|   Onion|05/01/2017|       4|            4|\n",
      "|     o10| Issaquah|   Onion|06/01/2017|       4|            4|\n",
      "|     o12| Issaquah|   Onion|07/01/2017|       4|            6|\n",
      "|     o14| Issaquah|  Tomato|07/01/2017|       6|            3|\n",
      "|     o15| Issaquah|    Meat|08/01/2017|       3|            5|\n",
      "|     o16| Issaquah|    Meat|09/01/2017|       5|            6|\n",
      "|     o17| Issaquah|    Meat|10/01/2017|       6|            0|\n",
      "|     o13|Sammamish|   Bread|07/01/2017|       5|            0|\n",
      "|      o4|  Redmond|    Meat|03/01/2017|      40|            5|\n",
      "|      o7|  Redmond|   Bread|05/01/2017|       5|           15|\n",
      "|      o9|  Redmond|  Cheese|05/01/2017|      15|            0|\n",
      "|      o1|  Seattle| Bananas|01/01/2017|       7|            9|\n",
      "|      o5|  Seattle|Potatoes|04/01/2017|       9|            0|\n",
      "|      o2|     Kent|  Apples|02/01/2017|      20|            0|\n",
      "|      o3| Bellevue| Flowers|02/01/2017|      10|            5|\n",
      "|      o6| Bellevue|   Bread|04/01/2017|       5|            7|\n",
      "|     o18| Bellevue|   Bread|11/01/2017|       7|           54|\n",
      "|     o19| Bellevue|   Bread|12/01/2017|      54|           34|\n",
      "|     o20| Bellevue|   Bread|13/01/2017|      34|           25|\n",
      "|     o21| Bellevue|   Bread|14/01/2017|      25|            0|\n",
      "+--------+---------+--------+----------+--------+-------------+\n",
      "only showing top 20 rows\n",
      "\n"
     ]
    }
   ],
   "source": [
    "#Handling Nulls in Expressions\n",
    "groceries_df_new.show()"
   ]
  },
  {
   "cell_type": "code",
   "execution_count": 45,
   "id": "71d62124",
   "metadata": {},
   "outputs": [
    {
     "name": "stdout",
     "output_type": "stream",
     "text": [
      "+-------------+\n",
      "|lead_quantity|\n",
      "+-------------+\n",
      "|            4|\n",
      "|            4|\n",
      "|            6|\n",
      "|            3|\n",
      "|            5|\n",
      "|            6|\n",
      "|            0|\n",
      "|            0|\n",
      "|            5|\n",
      "|           15|\n",
      "|            0|\n",
      "|            9|\n",
      "|            0|\n",
      "|            0|\n",
      "|            5|\n",
      "|            7|\n",
      "|           54|\n",
      "|           34|\n",
      "|           25|\n",
      "|            0|\n",
      "+-------------+\n",
      "only showing top 20 rows\n",
      "\n"
     ]
    }
   ],
   "source": [
    "groceries_df_new.selectExpr(\"nvl(lead_quantity,0)as lead_quantity\").show()"
   ]
  },
  {
   "cell_type": "code",
   "execution_count": 48,
   "id": "0fc28dbe",
   "metadata": {},
   "outputs": [],
   "source": [
    "groceries_df_new1 = groceries_df.withColumn(\"lead_quantity\",lead(\"quantity\").over(mywindow))"
   ]
  },
  {
   "cell_type": "code",
   "execution_count": 50,
   "id": "c51815ab",
   "metadata": {},
   "outputs": [
    {
     "name": "stdout",
     "output_type": "stream",
     "text": [
      "+--------------+\n",
      "|total_quantity|\n",
      "+--------------+\n",
      "|         273.0|\n",
      "+--------------+\n",
      "\n"
     ]
    }
   ],
   "source": [
    "groceries_df_new1.selectExpr(\"sum(quantity)as total_quantity\").show()"
   ]
  },
  {
   "cell_type": "code",
   "execution_count": 52,
   "id": "8cc08e16",
   "metadata": {},
   "outputs": [
    {
     "name": "stdout",
     "output_type": "stream",
     "text": [
      "+--------------+\n",
      "|total_quantity|\n",
      "+--------------+\n",
      "|            21|\n",
      "+--------------+\n",
      "\n"
     ]
    }
   ],
   "source": [
    "groceries_df_new1.selectExpr(\"count(*)as total_quantity\").show()"
   ]
  },
  {
   "cell_type": "code",
   "execution_count": 53,
   "id": "8102b0f5",
   "metadata": {},
   "outputs": [
    {
     "name": "stdout",
     "output_type": "stream",
     "text": [
      "+--------------+\n",
      "|total_quantity|\n",
      "+--------------+\n",
      "|            21|\n",
      "+--------------+\n",
      "\n"
     ]
    }
   ],
   "source": [
    "groceries_df_new1.selectExpr(\"count(quantity)as total_quantity\").show()"
   ]
  },
  {
   "cell_type": "code",
   "execution_count": null,
   "id": "6bbe4fd1",
   "metadata": {},
   "outputs": [],
   "source": []
  }
 ],
 "metadata": {
  "kernelspec": {
   "display_name": "Pyspark 3",
   "language": "python",
   "name": "pyspark3"
  },
  "language_info": {
   "codemirror_mode": {
    "name": "ipython",
    "version": 3
   },
   "file_extension": ".py",
   "mimetype": "text/x-python",
   "name": "python",
   "nbconvert_exporter": "python",
   "pygments_lexer": "ipython3",
   "version": "3.6.12"
  }
 },
 "nbformat": 4,
 "nbformat_minor": 5
}
