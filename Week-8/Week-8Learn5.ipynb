{
 "cells": [
  {
   "cell_type": "code",
   "execution_count": 51,
   "id": "698b3dc8",
   "metadata": {},
   "outputs": [],
   "source": [
    "from pyspark.sql import SparkSession\n",
    "import getpass\n",
    "username = getpass.getuser()\n",
    "spark = SparkSession. \\\n",
    "builder. \\\n",
    "appName(\"Sneha Spark Session\").\\\n",
    "config(\"spark.sql.warehouse.dir\", f\"/user/{username}/warehouse\"). \\\n",
    "enableHiveSupport(). \\\n",
    "master('yarn'). \\\n",
    "getOrCreate()"
   ]
  },
  {
   "cell_type": "code",
   "execution_count": 52,
   "id": "c46ac297",
   "metadata": {},
   "outputs": [
    {
     "data": {
      "text/html": [
       "\n",
       "            <div>\n",
       "                <p><b>SparkSession - hive</b></p>\n",
       "                \n",
       "        <div>\n",
       "            <p><b>SparkContext</b></p>\n",
       "\n",
       "            <p><a href=\"http://g01.itversity.com:4040\">Spark UI</a></p>\n",
       "\n",
       "            <dl>\n",
       "              <dt>Version</dt>\n",
       "                <dd><code>v3.1.2</code></dd>\n",
       "              <dt>Master</dt>\n",
       "                <dd><code>yarn</code></dd>\n",
       "              <dt>AppName</dt>\n",
       "                <dd><code>Sneha Spark Session</code></dd>\n",
       "            </dl>\n",
       "        </div>\n",
       "        \n",
       "            </div>\n",
       "        "
      ],
      "text/plain": [
       "<pyspark.sql.session.SparkSession at 0x7fecc711c438>"
      ]
     },
     "execution_count": 52,
     "metadata": {},
     "output_type": "execute_result"
    }
   ],
   "source": [
    "spark"
   ]
  },
  {
   "cell_type": "code",
   "execution_count": 53,
   "id": "432ea988",
   "metadata": {},
   "outputs": [],
   "source": [
    "log_data = [('INFO','2015-8-8 20:49:22'),\n",
    "            ('WARN','2015-1-14 20:05:00'),\n",
    "            ('INFO','2017-6-14 00:08:35'),\n",
    "            ('INFO','2016-1-18 11:50:14'),\n",
    "            ('DEBUG','2017-7-1 12:55:02'),\n",
    "            ('INFO','2014-2-26 12:34:21'),\n",
    "            ('INFO','2015-7-12 11:13:47'),\n",
    "            ('INFO','2017-4-15 01:20:18'),\n",
    "            ('DEBUG','2016-11-2 20:19:23'),\n",
    "            ('INFO','2012-8-20 10:09:44')]"
   ]
  },
  {
   "cell_type": "code",
   "execution_count": 54,
   "id": "b96b6c19",
   "metadata": {},
   "outputs": [],
   "source": [
    "log_df = spark.createDataFrame(log_data).toDF('loglevel','logtime')"
   ]
  },
  {
   "cell_type": "code",
   "execution_count": 55,
   "id": "11a0a178",
   "metadata": {},
   "outputs": [
    {
     "name": "stdout",
     "output_type": "stream",
     "text": [
      "+--------+------------------+\n",
      "|loglevel|           logtime|\n",
      "+--------+------------------+\n",
      "|    INFO| 2015-8-8 20:49:22|\n",
      "|    WARN|2015-1-14 20:05:00|\n",
      "|    INFO|2017-6-14 00:08:35|\n",
      "|    INFO|2016-1-18 11:50:14|\n",
      "|   DEBUG| 2017-7-1 12:55:02|\n",
      "|    INFO|2014-2-26 12:34:21|\n",
      "|    INFO|2015-7-12 11:13:47|\n",
      "|    INFO|2017-4-15 01:20:18|\n",
      "|   DEBUG|2016-11-2 20:19:23|\n",
      "|    INFO|2012-8-20 10:09:44|\n",
      "+--------+------------------+\n",
      "\n"
     ]
    }
   ],
   "source": [
    "log_df.show()"
   ]
  },
  {
   "cell_type": "code",
   "execution_count": 56,
   "id": "130421e6",
   "metadata": {},
   "outputs": [
    {
     "name": "stdout",
     "output_type": "stream",
     "text": [
      "root\n",
      " |-- loglevel: string (nullable = true)\n",
      " |-- logtime: string (nullable = true)\n",
      "\n"
     ]
    }
   ],
   "source": [
    "log_df.printSchema()"
   ]
  },
  {
   "cell_type": "code",
   "execution_count": 57,
   "id": "b19e8341",
   "metadata": {},
   "outputs": [],
   "source": [
    "from pyspark.sql.functions import *"
   ]
  },
  {
   "cell_type": "code",
   "execution_count": 58,
   "id": "c684f07d",
   "metadata": {},
   "outputs": [],
   "source": [
    "new_log_df = log_df.withColumn(\"logtime\",to_timestamp(\"logtime\"))"
   ]
  },
  {
   "cell_type": "code",
   "execution_count": 59,
   "id": "b6323611",
   "metadata": {},
   "outputs": [
    {
     "name": "stdout",
     "output_type": "stream",
     "text": [
      "+--------+-------------------+\n",
      "|loglevel|            logtime|\n",
      "+--------+-------------------+\n",
      "|    INFO|2015-08-08 20:49:22|\n",
      "|    WARN|2015-01-14 20:05:00|\n",
      "|    INFO|2017-06-14 00:08:35|\n",
      "|    INFO|2016-01-18 11:50:14|\n",
      "|   DEBUG|2017-07-01 12:55:02|\n",
      "|    INFO|2014-02-26 12:34:21|\n",
      "|    INFO|2015-07-12 11:13:47|\n",
      "|    INFO|2017-04-15 01:20:18|\n",
      "|   DEBUG|2016-11-02 20:19:23|\n",
      "|    INFO|2012-08-20 10:09:44|\n",
      "+--------+-------------------+\n",
      "\n"
     ]
    }
   ],
   "source": [
    "new_log_df.show()"
   ]
  },
  {
   "cell_type": "code",
   "execution_count": 60,
   "id": "0aa607c7",
   "metadata": {},
   "outputs": [
    {
     "name": "stdout",
     "output_type": "stream",
     "text": [
      "root\n",
      " |-- loglevel: string (nullable = true)\n",
      " |-- logtime: timestamp (nullable = true)\n",
      "\n"
     ]
    }
   ],
   "source": [
    "new_log_df.printSchema()"
   ]
  },
  {
   "cell_type": "code",
   "execution_count": 61,
   "id": "0dff85d7",
   "metadata": {},
   "outputs": [],
   "source": [
    "new_log_df.createOrReplaceTempView(\"serverlogs\")"
   ]
  },
  {
   "cell_type": "code",
   "execution_count": 62,
   "id": "64eedabd",
   "metadata": {},
   "outputs": [
    {
     "name": "stdout",
     "output_type": "stream",
     "text": [
      "+--------+-------------------+\n",
      "|loglevel|            logtime|\n",
      "+--------+-------------------+\n",
      "|    INFO|2015-08-08 20:49:22|\n",
      "|    WARN|2015-01-14 20:05:00|\n",
      "|    INFO|2017-06-14 00:08:35|\n",
      "|    INFO|2016-01-18 11:50:14|\n",
      "|   DEBUG|2017-07-01 12:55:02|\n",
      "|    INFO|2014-02-26 12:34:21|\n",
      "|    INFO|2015-07-12 11:13:47|\n",
      "|    INFO|2017-04-15 01:20:18|\n",
      "|   DEBUG|2016-11-02 20:19:23|\n",
      "|    INFO|2012-08-20 10:09:44|\n",
      "+--------+-------------------+\n",
      "\n"
     ]
    }
   ],
   "source": [
    "spark.sql(\"select * from serverlogs\").show()"
   ]
  },
  {
   "cell_type": "code",
   "execution_count": 63,
   "id": "99bcaae7",
   "metadata": {},
   "outputs": [
    {
     "name": "stdout",
     "output_type": "stream",
     "text": [
      "+--------+--------+\n",
      "|loglevel|   month|\n",
      "+--------+--------+\n",
      "|    INFO|  August|\n",
      "|    WARN| January|\n",
      "|    INFO|    June|\n",
      "|    INFO| January|\n",
      "|   DEBUG|    July|\n",
      "|    INFO|February|\n",
      "|    INFO|    July|\n",
      "|    INFO|   April|\n",
      "|   DEBUG|November|\n",
      "|    INFO|  August|\n",
      "+--------+--------+\n",
      "\n"
     ]
    }
   ],
   "source": [
    "spark.sql(\"select loglevel,date_format(logtime,'MMMM')as month from serverlogs\").show()"
   ]
  },
  {
   "cell_type": "code",
   "execution_count": 64,
   "id": "317cc955",
   "metadata": {},
   "outputs": [
    {
     "name": "stdout",
     "output_type": "stream",
     "text": [
      "+--------+--------+---------------+\n",
      "|loglevel|   month|total_occurance|\n",
      "+--------+--------+---------------+\n",
      "|    INFO|    June|              1|\n",
      "|   DEBUG|    July|              1|\n",
      "|    INFO|February|              1|\n",
      "|    WARN| January|              1|\n",
      "|    INFO|  August|              2|\n",
      "|   DEBUG|November|              1|\n",
      "|    INFO|   April|              1|\n",
      "|    INFO| January|              1|\n",
      "|    INFO|    July|              1|\n",
      "+--------+--------+---------------+\n",
      "\n"
     ]
    }
   ],
   "source": [
    "spark.sql(\"select loglevel,date_format(logtime,'MMMM')as month, count(*) as total_occurance from serverlogs group by loglevel,month\").show()"
   ]
  },
  {
   "cell_type": "code",
   "execution_count": 65,
   "id": "d709aa8e",
   "metadata": {},
   "outputs": [],
   "source": [
    "schema = \"loglevel string,logtime timestamp\""
   ]
  },
  {
   "cell_type": "code",
   "execution_count": 66,
   "id": "45b8fd1c",
   "metadata": {},
   "outputs": [],
   "source": [
    "log_df = spark.read.format('csv').schema(schema).load('/public/trendytech/datasets/logdata1m.csv')"
   ]
  },
  {
   "cell_type": "code",
   "execution_count": 67,
   "id": "764f4697",
   "metadata": {},
   "outputs": [
    {
     "name": "stdout",
     "output_type": "stream",
     "text": [
      "+--------+-------------------+\n",
      "|loglevel|            logtime|\n",
      "+--------+-------------------+\n",
      "|    INFO|2015-08-08 20:49:22|\n",
      "|    WARN|2015-01-14 20:05:00|\n",
      "|    INFO|2017-06-14 00:08:35|\n",
      "|    INFO|2016-01-18 11:50:14|\n",
      "|   DEBUG|2017-07-01 12:55:02|\n",
      "|    INFO|2014-02-26 12:34:21|\n",
      "|    INFO|2015-07-12 11:13:47|\n",
      "|    INFO|2017-04-15 01:20:18|\n",
      "|   DEBUG|2016-11-02 20:19:23|\n",
      "|    INFO|2012-08-20 10:09:44|\n",
      "|   DEBUG|2014-04-22 21:30:49|\n",
      "|    WARN|2013-12-06 17:54:15|\n",
      "|   DEBUG|2017-01-12 10:47:02|\n",
      "|   DEBUG|2016-06-25 11:06:42|\n",
      "|   ERROR|2015-06-28 19:25:05|\n",
      "|   DEBUG|2012-06-24 01:06:37|\n",
      "|    INFO|2014-12-09 09:53:54|\n",
      "|   DEBUG|2015-11-08 19:20:08|\n",
      "|    INFO|2017-07-21 18:34:18|\n",
      "|   DEBUG|2014-12-26 06:38:42|\n",
      "+--------+-------------------+\n",
      "only showing top 20 rows\n",
      "\n"
     ]
    }
   ],
   "source": [
    "log_df.show()"
   ]
  },
  {
   "cell_type": "code",
   "execution_count": 68,
   "id": "d47e3cb4",
   "metadata": {},
   "outputs": [
    {
     "data": {
      "text/plain": [
       "1000000"
      ]
     },
     "execution_count": 68,
     "metadata": {},
     "output_type": "execute_result"
    }
   ],
   "source": [
    "log_df.count()"
   ]
  },
  {
   "cell_type": "code",
   "execution_count": 69,
   "id": "258db034",
   "metadata": {},
   "outputs": [],
   "source": [
    "log_df.createOrReplaceTempView(\"serverlogs\")"
   ]
  },
  {
   "cell_type": "code",
   "execution_count": 70,
   "id": "cfc7d472",
   "metadata": {},
   "outputs": [
    {
     "data": {
      "text/html": [
       "<table border='1'>\n",
       "<tr><th>loglevel</th><th>logtime</th></tr>\n",
       "<tr><td>INFO</td><td>2015-08-08 20:49:22</td></tr>\n",
       "<tr><td>WARN</td><td>2015-01-14 20:05:00</td></tr>\n",
       "<tr><td>INFO</td><td>2017-06-14 00:08:35</td></tr>\n",
       "<tr><td>INFO</td><td>2016-01-18 11:50:14</td></tr>\n",
       "<tr><td>DEBUG</td><td>2017-07-01 12:55:02</td></tr>\n",
       "<tr><td>INFO</td><td>2014-02-26 12:34:21</td></tr>\n",
       "<tr><td>INFO</td><td>2015-07-12 11:13:47</td></tr>\n",
       "<tr><td>INFO</td><td>2017-04-15 01:20:18</td></tr>\n",
       "<tr><td>DEBUG</td><td>2016-11-02 20:19:23</td></tr>\n",
       "<tr><td>INFO</td><td>2012-08-20 10:09:44</td></tr>\n",
       "<tr><td>DEBUG</td><td>2014-04-22 21:30:49</td></tr>\n",
       "<tr><td>WARN</td><td>2013-12-06 17:54:15</td></tr>\n",
       "<tr><td>DEBUG</td><td>2017-01-12 10:47:02</td></tr>\n",
       "<tr><td>DEBUG</td><td>2016-06-25 11:06:42</td></tr>\n",
       "<tr><td>ERROR</td><td>2015-06-28 19:25:05</td></tr>\n",
       "<tr><td>DEBUG</td><td>2012-06-24 01:06:37</td></tr>\n",
       "<tr><td>INFO</td><td>2014-12-09 09:53:54</td></tr>\n",
       "<tr><td>DEBUG</td><td>2015-11-08 19:20:08</td></tr>\n",
       "<tr><td>INFO</td><td>2017-07-21 18:34:18</td></tr>\n",
       "<tr><td>DEBUG</td><td>2014-12-26 06:38:42</td></tr>\n",
       "</table>\n",
       "only showing top 20 rows\n"
      ],
      "text/plain": [
       "+--------+-------------------+\n",
       "|loglevel|            logtime|\n",
       "+--------+-------------------+\n",
       "|    INFO|2015-08-08 20:49:22|\n",
       "|    WARN|2015-01-14 20:05:00|\n",
       "|    INFO|2017-06-14 00:08:35|\n",
       "|    INFO|2016-01-18 11:50:14|\n",
       "|   DEBUG|2017-07-01 12:55:02|\n",
       "|    INFO|2014-02-26 12:34:21|\n",
       "|    INFO|2015-07-12 11:13:47|\n",
       "|    INFO|2017-04-15 01:20:18|\n",
       "|   DEBUG|2016-11-02 20:19:23|\n",
       "|    INFO|2012-08-20 10:09:44|\n",
       "|   DEBUG|2014-04-22 21:30:49|\n",
       "|    WARN|2013-12-06 17:54:15|\n",
       "|   DEBUG|2017-01-12 10:47:02|\n",
       "|   DEBUG|2016-06-25 11:06:42|\n",
       "|   ERROR|2015-06-28 19:25:05|\n",
       "|   DEBUG|2012-06-24 01:06:37|\n",
       "|    INFO|2014-12-09 09:53:54|\n",
       "|   DEBUG|2015-11-08 19:20:08|\n",
       "|    INFO|2017-07-21 18:34:18|\n",
       "|   DEBUG|2014-12-26 06:38:42|\n",
       "+--------+-------------------+\n",
       "only showing top 20 rows"
      ]
     },
     "execution_count": 70,
     "metadata": {},
     "output_type": "execute_result"
    }
   ],
   "source": [
    "spark.sql(\"select * from serverlogs\")"
   ]
  },
  {
   "cell_type": "code",
   "execution_count": 71,
   "id": "15dee13c",
   "metadata": {},
   "outputs": [
    {
     "name": "stdout",
     "output_type": "stream",
     "text": [
      "+--------+--------+\n",
      "|loglevel|   month|\n",
      "+--------+--------+\n",
      "|    INFO|  August|\n",
      "|    WARN| January|\n",
      "|    INFO|    June|\n",
      "|    INFO| January|\n",
      "|   DEBUG|    July|\n",
      "|    INFO|February|\n",
      "|    INFO|    July|\n",
      "|    INFO|   April|\n",
      "|   DEBUG|November|\n",
      "|    INFO|  August|\n",
      "|   DEBUG|   April|\n",
      "|    WARN|December|\n",
      "|   DEBUG| January|\n",
      "|   DEBUG|    June|\n",
      "|   ERROR|    June|\n",
      "|   DEBUG|    June|\n",
      "|    INFO|December|\n",
      "|   DEBUG|November|\n",
      "|    INFO|    July|\n",
      "|   DEBUG|December|\n",
      "+--------+--------+\n",
      "only showing top 20 rows\n",
      "\n"
     ]
    }
   ],
   "source": [
    "spark.sql(\"select loglevel,date_format(logtime,'MMMM')as month from serverlogs\").show()"
   ]
  },
  {
   "cell_type": "code",
   "execution_count": 72,
   "id": "49dbdfb4",
   "metadata": {},
   "outputs": [
    {
     "name": "stdout",
     "output_type": "stream",
     "text": [
      "+--------+---------+---------------+\n",
      "|loglevel|    month|total_occurance|\n",
      "+--------+---------+---------------+\n",
      "|    WARN|     June|           8191|\n",
      "|    INFO|     June|          29143|\n",
      "|   ERROR| November|           3389|\n",
      "|   FATAL|  January|             94|\n",
      "|    WARN| December|           8328|\n",
      "|    WARN|    March|           8165|\n",
      "|   DEBUG|     July|          42085|\n",
      "|   ERROR|    April|           4107|\n",
      "|   ERROR|  January|           4054|\n",
      "|   FATAL|September|             81|\n",
      "|   FATAL|    April|             83|\n",
      "|    INFO|September|          29038|\n",
      "|   FATAL| November|          16797|\n",
      "|   FATAL|  October|             92|\n",
      "|    INFO| February|          28983|\n",
      "|    WARN|    April|           8277|\n",
      "|   DEBUG| December|          41749|\n",
      "|   FATAL| December|             94|\n",
      "|    WARN|      May|           8403|\n",
      "|   ERROR|     June|           4059|\n",
      "+--------+---------+---------------+\n",
      "only showing top 20 rows\n",
      "\n"
     ]
    }
   ],
   "source": [
    "spark.sql(\"select loglevel,date_format(logtime,'MMMM')as month, count(*) as total_occurance from serverlogs group by loglevel,month\").show()"
   ]
  },
  {
   "cell_type": "code",
   "execution_count": 73,
   "id": "a2e60fd1",
   "metadata": {},
   "outputs": [
    {
     "name": "stdout",
     "output_type": "stream",
     "text": [
      "+--------+--------+---------------+\n",
      "|loglevel|   month|total_occurance|\n",
      "+--------+--------+---------------+\n",
      "|   DEBUG|   April|          41869|\n",
      "|    INFO|   April|          29302|\n",
      "|    WARN|   April|           8277|\n",
      "|   ERROR|   April|           4107|\n",
      "|   FATAL|   April|             83|\n",
      "|   FATAL|  August|             80|\n",
      "|   ERROR|  August|           3987|\n",
      "|   DEBUG|  August|          42147|\n",
      "|    INFO|  August|          28993|\n",
      "|    WARN|  August|           8381|\n",
      "|   DEBUG|December|          41749|\n",
      "|    INFO|December|          28874|\n",
      "|   FATAL|December|             94|\n",
      "|    WARN|December|           8328|\n",
      "|   ERROR|December|           4106|\n",
      "|   FATAL|February|             72|\n",
      "|   ERROR|February|           4013|\n",
      "|    WARN|February|           8266|\n",
      "|    INFO|February|          28983|\n",
      "|   DEBUG|February|          41734|\n",
      "+--------+--------+---------------+\n",
      "only showing top 20 rows\n",
      "\n"
     ]
    }
   ],
   "source": [
    "spark.sql(\"select loglevel,date_format(logtime,'MMMM')as month, count(*) as total_occurance from serverlogs group by loglevel,month order by month\").show()"
   ]
  },
  {
   "cell_type": "code",
   "execution_count": 74,
   "id": "a041a45d",
   "metadata": {},
   "outputs": [
    {
     "name": "stdout",
     "output_type": "stream",
     "text": [
      "+--------+--------+--------+---------------+\n",
      "|loglevel|   month|monthnum|total_occurance|\n",
      "+--------+--------+--------+---------------+\n",
      "|   ERROR| January|       1|           4054|\n",
      "|   DEBUG| January|       1|          41961|\n",
      "|    INFO| January|       1|          29119|\n",
      "|   FATAL| January|       1|             94|\n",
      "|    WARN| January|       1|           8217|\n",
      "|    INFO| October|      10|          29018|\n",
      "|    WARN| October|      10|           8226|\n",
      "|   FATAL| October|      10|             92|\n",
      "|   ERROR| October|      10|           4040|\n",
      "|   DEBUG| October|      10|          41936|\n",
      "|   DEBUG|November|      11|          33366|\n",
      "|   FATAL|November|      11|          16797|\n",
      "|    WARN|November|      11|           6616|\n",
      "|   ERROR|November|      11|           3389|\n",
      "|    INFO|November|      11|          23301|\n",
      "|    INFO|December|      12|          28874|\n",
      "|   ERROR|December|      12|           4106|\n",
      "|   FATAL|December|      12|             94|\n",
      "|   DEBUG|December|      12|          41749|\n",
      "|    WARN|December|      12|           8328|\n",
      "+--------+--------+--------+---------------+\n",
      "only showing top 20 rows\n",
      "\n"
     ]
    }
   ],
   "source": [
    "spark.sql(\"select loglevel,date_format(logtime,'MMMM')as month,date_format(logtime,'M') as monthnum, count(*) as total_occurance from serverlogs group by loglevel,month,monthnum order by monthnum\").show()"
   ]
  },
  {
   "cell_type": "code",
   "execution_count": 75,
   "id": "437bf306",
   "metadata": {},
   "outputs": [
    {
     "name": "stdout",
     "output_type": "stream",
     "text": [
      "+--------+--------+--------+---------------+\n",
      "|loglevel|   month|monthnum|total_occurance|\n",
      "+--------+--------+--------+---------------+\n",
      "|    INFO| January|      01|          29119|\n",
      "|   DEBUG| January|      01|          41961|\n",
      "|   FATAL| January|      01|             94|\n",
      "|   ERROR| January|      01|           4054|\n",
      "|    WARN| January|      01|           8217|\n",
      "|    INFO|February|      02|          28983|\n",
      "|    WARN|February|      02|           8266|\n",
      "|   DEBUG|February|      02|          41734|\n",
      "|   ERROR|February|      02|           4013|\n",
      "|   FATAL|February|      02|             72|\n",
      "|   DEBUG|   March|      03|          41652|\n",
      "|   FATAL|   March|      03|             70|\n",
      "|    WARN|   March|      03|           8165|\n",
      "|   ERROR|   March|      03|           4122|\n",
      "|    INFO|   March|      03|          29095|\n",
      "|    WARN|   April|      04|           8277|\n",
      "|   ERROR|   April|      04|           4107|\n",
      "|   FATAL|   April|      04|             83|\n",
      "|   DEBUG|   April|      04|          41869|\n",
      "|    INFO|   April|      04|          29302|\n",
      "+--------+--------+--------+---------------+\n",
      "only showing top 20 rows\n",
      "\n"
     ]
    }
   ],
   "source": [
    "spark.sql(\"select loglevel,date_format(logtime,'MMMM')as month,date_format(logtime,'MM') as monthnum, count(*) as total_occurance from serverlogs group by loglevel,month,monthnum order by monthnum\").show()"
   ]
  },
  {
   "cell_type": "code",
   "execution_count": 76,
   "id": "0043bbba",
   "metadata": {},
   "outputs": [
    {
     "name": "stdout",
     "output_type": "stream",
     "text": [
      "+--------+---------+--------+---------------+\n",
      "|loglevel|    month|monthnum|total_occurance|\n",
      "+--------+---------+--------+---------------+\n",
      "|   ERROR|  January|       1|           4054|\n",
      "|   FATAL|  January|       1|             94|\n",
      "|    WARN|  January|       1|           8217|\n",
      "|   DEBUG|  January|       1|          41961|\n",
      "|    INFO|  January|       1|          29119|\n",
      "|   ERROR| February|       2|           4013|\n",
      "|    WARN| February|       2|           8266|\n",
      "|    INFO| February|       2|          28983|\n",
      "|   FATAL| February|       2|             72|\n",
      "|   DEBUG| February|       2|          41734|\n",
      "|    INFO|    March|       3|          29095|\n",
      "|   FATAL|    March|       3|             70|\n",
      "|   ERROR|    March|       3|           4122|\n",
      "|   DEBUG|    March|       3|          41652|\n",
      "|    WARN|    March|       3|           8165|\n",
      "|   DEBUG|    April|       4|          41869|\n",
      "|    INFO|    April|       4|          29302|\n",
      "|   FATAL|    April|       4|             83|\n",
      "|    WARN|    April|       4|           8277|\n",
      "|   ERROR|    April|       4|           4107|\n",
      "|   FATAL|      May|       5|             60|\n",
      "|    INFO|      May|       5|          28900|\n",
      "|   DEBUG|      May|       5|          41785|\n",
      "|    WARN|      May|       5|           8403|\n",
      "|   ERROR|      May|       5|           4086|\n",
      "|    INFO|     June|       6|          29143|\n",
      "|   ERROR|     June|       6|           4059|\n",
      "|   DEBUG|     June|       6|          41774|\n",
      "|    WARN|     June|       6|           8191|\n",
      "|   FATAL|     June|       6|             78|\n",
      "|   FATAL|     July|       7|             98|\n",
      "|   ERROR|     July|       7|           3976|\n",
      "|   DEBUG|     July|       7|          42085|\n",
      "|    WARN|     July|       7|           8222|\n",
      "|    INFO|     July|       7|          29300|\n",
      "|   DEBUG|   August|       8|          42147|\n",
      "|    WARN|   August|       8|           8381|\n",
      "|   ERROR|   August|       8|           3987|\n",
      "|    INFO|   August|       8|          28993|\n",
      "|   FATAL|   August|       8|             80|\n",
      "|   FATAL|September|       9|             81|\n",
      "|   ERROR|September|       9|           4161|\n",
      "|   DEBUG|September|       9|          41433|\n",
      "|    WARN|September|       9|           8352|\n",
      "|    INFO|September|       9|          29038|\n",
      "|   ERROR|  October|      10|           4040|\n",
      "|   FATAL|  October|      10|             92|\n",
      "|    WARN|  October|      10|           8226|\n",
      "|   DEBUG|  October|      10|          41936|\n",
      "|    INFO|  October|      10|          29018|\n",
      "|   DEBUG| November|      11|          33366|\n",
      "|   FATAL| November|      11|          16797|\n",
      "|    INFO| November|      11|          23301|\n",
      "|    WARN| November|      11|           6616|\n",
      "|   ERROR| November|      11|           3389|\n",
      "|   ERROR| December|      12|           4106|\n",
      "|    WARN| December|      12|           8328|\n",
      "|   FATAL| December|      12|             94|\n",
      "|   DEBUG| December|      12|          41749|\n",
      "|    INFO| December|      12|          28874|\n",
      "+--------+---------+--------+---------------+\n",
      "\n"
     ]
    }
   ],
   "source": [
    "spark.sql(\"select loglevel,date_format(logtime,'MMMM')as month,int(date_format(logtime,'MM')) as monthnum, count(*) as total_occurance from serverlogs group by loglevel,month,monthnum order by monthnum\").show(60)"
   ]
  },
  {
   "cell_type": "code",
   "execution_count": 77,
   "id": "a1896d8f",
   "metadata": {},
   "outputs": [
    {
     "name": "stdout",
     "output_type": "stream",
     "text": [
      "+--------+---------+--------+---------------+\n",
      "|loglevel|    month|monthnum|total_occurance|\n",
      "+--------+---------+--------+---------------+\n",
      "|   DEBUG|  January|      01|          41961|\n",
      "|   FATAL|  January|      01|             94|\n",
      "|   ERROR|  January|      01|           4054|\n",
      "|    INFO|  January|      01|          29119|\n",
      "|    WARN|  January|      01|           8217|\n",
      "|    INFO| February|      02|          28983|\n",
      "|   FATAL| February|      02|             72|\n",
      "|    WARN| February|      02|           8266|\n",
      "|   DEBUG| February|      02|          41734|\n",
      "|   ERROR| February|      02|           4013|\n",
      "|   FATAL|    March|      03|             70|\n",
      "|   ERROR|    March|      03|           4122|\n",
      "|   DEBUG|    March|      03|          41652|\n",
      "|    WARN|    March|      03|           8165|\n",
      "|    INFO|    March|      03|          29095|\n",
      "|   ERROR|    April|      04|           4107|\n",
      "|    WARN|    April|      04|           8277|\n",
      "|    INFO|    April|      04|          29302|\n",
      "|   FATAL|    April|      04|             83|\n",
      "|   DEBUG|    April|      04|          41869|\n",
      "|    WARN|      May|      05|           8403|\n",
      "|    INFO|      May|      05|          28900|\n",
      "|   DEBUG|      May|      05|          41785|\n",
      "|   FATAL|      May|      05|             60|\n",
      "|   ERROR|      May|      05|           4086|\n",
      "|    WARN|     June|      06|           8191|\n",
      "|   FATAL|     June|      06|             78|\n",
      "|   ERROR|     June|      06|           4059|\n",
      "|   DEBUG|     June|      06|          41774|\n",
      "|    INFO|     June|      06|          29143|\n",
      "|   FATAL|     July|      07|             98|\n",
      "|   ERROR|     July|      07|           3976|\n",
      "|    WARN|     July|      07|           8222|\n",
      "|   DEBUG|     July|      07|          42085|\n",
      "|    INFO|     July|      07|          29300|\n",
      "|    WARN|   August|      08|           8381|\n",
      "|   ERROR|   August|      08|           3987|\n",
      "|   FATAL|   August|      08|             80|\n",
      "|   DEBUG|   August|      08|          42147|\n",
      "|    INFO|   August|      08|          28993|\n",
      "|   FATAL|September|      09|             81|\n",
      "|    INFO|September|      09|          29038|\n",
      "|    WARN|September|      09|           8352|\n",
      "|   ERROR|September|      09|           4161|\n",
      "|   DEBUG|September|      09|          41433|\n",
      "|    WARN|  October|      10|           8226|\n",
      "|   DEBUG|  October|      10|          41936|\n",
      "|   FATAL|  October|      10|             92|\n",
      "|    INFO|  October|      10|          29018|\n",
      "|   ERROR|  October|      10|           4040|\n",
      "|    INFO| November|      11|          23301|\n",
      "|   FATAL| November|      11|          16797|\n",
      "|    WARN| November|      11|           6616|\n",
      "|   ERROR| November|      11|           3389|\n",
      "|   DEBUG| November|      11|          33366|\n",
      "|    WARN| December|      12|           8328|\n",
      "|   DEBUG| December|      12|          41749|\n",
      "|   ERROR| December|      12|           4106|\n",
      "|   FATAL| December|      12|             94|\n",
      "|    INFO| December|      12|          28874|\n",
      "+--------+---------+--------+---------------+\n",
      "\n"
     ]
    }
   ],
   "source": [
    "spark.sql(\"\"\"select loglevel,date_format(logtime,'MMMM')as month,\n",
    "            first(date_format(logtime,'MM')) as monthnum, \n",
    "            count(*) as total_occurance from serverlogs \n",
    "            group by loglevel,month order by monthnum\"\"\").show(60)"
   ]
  },
  {
   "cell_type": "code",
   "execution_count": 78,
   "id": "4e9007c0",
   "metadata": {},
   "outputs": [],
   "source": [
    "result_df = spark.sql(\"\"\"select loglevel,date_format(logtime,'MMMM')as month,\n",
    "            first(date_format(logtime,'MM')) as monthnum, \n",
    "            count(*) as total_occurance from serverlogs \n",
    "            group by loglevel,month order by monthnum\"\"\")"
   ]
  },
  {
   "cell_type": "code",
   "execution_count": 79,
   "id": "6ba0671e",
   "metadata": {},
   "outputs": [
    {
     "name": "stdout",
     "output_type": "stream",
     "text": [
      "+--------+--------+--------+---------------+\n",
      "|loglevel|   month|monthnum|total_occurance|\n",
      "+--------+--------+--------+---------------+\n",
      "|   FATAL| January|      01|             94|\n",
      "|    INFO| January|      01|          29119|\n",
      "|   ERROR| January|      01|           4054|\n",
      "|    WARN| January|      01|           8217|\n",
      "|   DEBUG| January|      01|          41961|\n",
      "|   ERROR|February|      02|           4013|\n",
      "|   DEBUG|February|      02|          41734|\n",
      "|   FATAL|February|      02|             72|\n",
      "|    INFO|February|      02|          28983|\n",
      "|    WARN|February|      02|           8266|\n",
      "|   ERROR|   March|      03|           4122|\n",
      "|    WARN|   March|      03|           8165|\n",
      "|    INFO|   March|      03|          29095|\n",
      "|   DEBUG|   March|      03|          41652|\n",
      "|   FATAL|   March|      03|             70|\n",
      "|   ERROR|   April|      04|           4107|\n",
      "|    WARN|   April|      04|           8277|\n",
      "|    INFO|   April|      04|          29302|\n",
      "|   DEBUG|   April|      04|          41869|\n",
      "|   FATAL|   April|      04|             83|\n",
      "+--------+--------+--------+---------------+\n",
      "only showing top 20 rows\n",
      "\n"
     ]
    }
   ],
   "source": [
    "result_df.show()"
   ]
  },
  {
   "cell_type": "code",
   "execution_count": 81,
   "id": "b19b2331",
   "metadata": {},
   "outputs": [],
   "source": [
    "final_result= result_df.drop(\"monthnum\")"
   ]
  },
  {
   "cell_type": "code",
   "execution_count": 82,
   "id": "d2d547fb",
   "metadata": {},
   "outputs": [
    {
     "name": "stdout",
     "output_type": "stream",
     "text": [
      "+--------+--------+---------------+\n",
      "|loglevel|   month|total_occurance|\n",
      "+--------+--------+---------------+\n",
      "|   DEBUG| January|          41961|\n",
      "|    WARN| January|           8217|\n",
      "|   ERROR| January|           4054|\n",
      "|    INFO| January|          29119|\n",
      "|   FATAL| January|             94|\n",
      "|   FATAL|February|             72|\n",
      "|    INFO|February|          28983|\n",
      "|   DEBUG|February|          41734|\n",
      "|   ERROR|February|           4013|\n",
      "|    WARN|February|           8266|\n",
      "|   DEBUG|   March|          41652|\n",
      "|   ERROR|   March|           4122|\n",
      "|   FATAL|   March|             70|\n",
      "|    INFO|   March|          29095|\n",
      "|    WARN|   March|           8165|\n",
      "|   ERROR|   April|           4107|\n",
      "|    WARN|   April|           8277|\n",
      "|   FATAL|   April|             83|\n",
      "|    INFO|   April|          29302|\n",
      "|   DEBUG|   April|          41869|\n",
      "+--------+--------+---------------+\n",
      "only showing top 20 rows\n",
      "\n"
     ]
    }
   ],
   "source": [
    "final_result.show()"
   ]
  },
  {
   "cell_type": "code",
   "execution_count": 85,
   "id": "971104d7",
   "metadata": {},
   "outputs": [
    {
     "name": "stdout",
     "output_type": "stream",
     "text": [
      "+--------+--------+\n",
      "|loglevel|   month|\n",
      "+--------+--------+\n",
      "|    INFO|  August|\n",
      "|    WARN| January|\n",
      "|    INFO|    June|\n",
      "|    INFO| January|\n",
      "|   DEBUG|    July|\n",
      "|    INFO|February|\n",
      "|    INFO|    July|\n",
      "|    INFO|   April|\n",
      "|   DEBUG|November|\n",
      "|    INFO|  August|\n",
      "|   DEBUG|   April|\n",
      "|    WARN|December|\n",
      "|   DEBUG| January|\n",
      "|   DEBUG|    June|\n",
      "|   ERROR|    June|\n",
      "|   DEBUG|    June|\n",
      "|    INFO|December|\n",
      "|   DEBUG|November|\n",
      "|    INFO|    July|\n",
      "|   DEBUG|December|\n",
      "+--------+--------+\n",
      "only showing top 20 rows\n",
      "\n"
     ]
    }
   ],
   "source": [
    "spark.sql(\"select loglevel,date_format(logtime,'MMMM')as month from serverlogs\").show()"
   ]
  },
  {
   "cell_type": "code",
   "execution_count": 88,
   "id": "84996fc0",
   "metadata": {},
   "outputs": [
    {
     "name": "stdout",
     "output_type": "stream",
     "text": [
      "+--------+-----+------+--------+--------+-------+-----+-----+-----+-----+--------+-------+---------+\n",
      "|loglevel|April|August|December|February|January| July| June|March|  May|November|October|September|\n",
      "+--------+-----+------+--------+--------+-------+-----+-----+-----+-----+--------+-------+---------+\n",
      "|    INFO|29302| 28993|   28874|   28983|  29119|29300|29143|29095|28900|   23301|  29018|    29038|\n",
      "|   ERROR| 4107|  3987|    4106|    4013|   4054| 3976| 4059| 4122| 4086|    3389|   4040|     4161|\n",
      "|    WARN| 8277|  8381|    8328|    8266|   8217| 8222| 8191| 8165| 8403|    6616|   8226|     8352|\n",
      "|   FATAL|   83|    80|      94|      72|     94|   98|   78|   70|   60|   16797|     92|       81|\n",
      "|   DEBUG|41869| 42147|   41749|   41734|  41961|42085|41774|41652|41785|   33366|  41936|    41433|\n",
      "+--------+-----+------+--------+--------+-------+-----+-----+-----+-----+--------+-------+---------+\n",
      "\n"
     ]
    }
   ],
   "source": [
    "spark.sql(\"select loglevel,date_format(logtime,'MMMM')as month from serverlogs\").groupBy('loglevel').pivot('month').count().show()"
   ]
  },
  {
   "cell_type": "code",
   "execution_count": 89,
   "id": "18eb9b9a",
   "metadata": {},
   "outputs": [
    {
     "name": "stdout",
     "output_type": "stream",
     "text": [
      "+--------+-----+-----+-----+-----+-----+-----+-----+-----+-----+-----+-----+-----+\n",
      "|loglevel|   01|   02|   03|   04|   05|   06|   07|   08|   09|   10|   11|   12|\n",
      "+--------+-----+-----+-----+-----+-----+-----+-----+-----+-----+-----+-----+-----+\n",
      "|    INFO|29119|28983|29095|29302|28900|29143|29300|28993|29038|29018|23301|28874|\n",
      "|   ERROR| 4054| 4013| 4122| 4107| 4086| 4059| 3976| 3987| 4161| 4040| 3389| 4106|\n",
      "|    WARN| 8217| 8266| 8165| 8277| 8403| 8191| 8222| 8381| 8352| 8226| 6616| 8328|\n",
      "|   DEBUG|41961|41734|41652|41869|41785|41774|42085|42147|41433|41936|33366|41749|\n",
      "|   FATAL|   94|   72|   70|   83|   60|   78|   98|   80|   81|   92|16797|   94|\n",
      "+--------+-----+-----+-----+-----+-----+-----+-----+-----+-----+-----+-----+-----+\n",
      "\n"
     ]
    }
   ],
   "source": [
    "spark.sql(\"select loglevel,date_format(logtime,'MM')as month from serverlogs\").groupBy('loglevel').pivot('month').count().show()"
   ]
  },
  {
   "cell_type": "code",
   "execution_count": 94,
   "id": "50453e39",
   "metadata": {},
   "outputs": [],
   "source": [
    "month_list = ['January','February','March','April','May','June','July','August','September','October','November','December']"
   ]
  },
  {
   "cell_type": "code",
   "execution_count": 95,
   "id": "decc763d",
   "metadata": {},
   "outputs": [
    {
     "name": "stdout",
     "output_type": "stream",
     "text": [
      "+--------+-------+--------+-----+-----+-----+-----+-----+------+---------+-------+--------+--------+\n",
      "|loglevel|January|February|March|April|  May| June| July|August|September|October|November|December|\n",
      "+--------+-------+--------+-----+-----+-----+-----+-----+------+---------+-------+--------+--------+\n",
      "|    INFO|  29119|   28983|29095|29302|28900|29143|29300| 28993|    29038|  29018|   23301|   28874|\n",
      "|   ERROR|   4054|    4013| 4122| 4107| 4086| 4059| 3976|  3987|     4161|   4040|    3389|    4106|\n",
      "|    WARN|   8217|    8266| 8165| 8277| 8403| 8191| 8222|  8381|     8352|   8226|    6616|    8328|\n",
      "|   FATAL|     94|      72|   70|   83|   60|   78|   98|    80|       81|     92|   16797|      94|\n",
      "|   DEBUG|  41961|   41734|41652|41869|41785|41774|42085| 42147|    41433|  41936|   33366|   41749|\n",
      "+--------+-------+--------+-----+-----+-----+-----+-----+------+---------+-------+--------+--------+\n",
      "\n"
     ]
    }
   ],
   "source": [
    "spark.sql(\"select loglevel,date_format(logtime,'MMMM')as month from serverlogs\").groupBy('loglevel').pivot('month',month_list).count().show()"
   ]
  },
  {
   "cell_type": "code",
   "execution_count": null,
   "id": "d0fda1cb",
   "metadata": {},
   "outputs": [],
   "source": []
  }
 ],
 "metadata": {
  "kernelspec": {
   "display_name": "Pyspark 3",
   "language": "python",
   "name": "pyspark3"
  },
  "language_info": {
   "codemirror_mode": {
    "name": "ipython",
    "version": 3
   },
   "file_extension": ".py",
   "mimetype": "text/x-python",
   "name": "python",
   "nbconvert_exporter": "python",
   "pygments_lexer": "ipython3",
   "version": "3.6.12"
  }
 },
 "nbformat": 4,
 "nbformat_minor": 5
}
