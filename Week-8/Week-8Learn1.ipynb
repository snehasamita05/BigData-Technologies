{
 "cells": [
  {
   "cell_type": "code",
   "execution_count": 18,
   "id": "fc85cdf1",
   "metadata": {},
   "outputs": [],
   "source": [
    "from pyspark.sql import SparkSession\n",
    "import getpass\n",
    "username = getpass.getuser()\n",
    "spark = SparkSession. \\\n",
    "builder. \\\n",
    "appName(\"Sneha Spark Session\").\\\n",
    "config(\"spark.sql.warehouse.dir\", f\"/user/{username}/warehouse\"). \\\n",
    "enableHiveSupport(). \\\n",
    "master('yarn'). \\\n",
    "getOrCreate()"
   ]
  },
  {
   "cell_type": "code",
   "execution_count": 19,
   "id": "9c885dab",
   "metadata": {},
   "outputs": [
    {
     "data": {
      "text/html": [
       "\n",
       "            <div>\n",
       "                <p><b>SparkSession - hive</b></p>\n",
       "                \n",
       "        <div>\n",
       "            <p><b>SparkContext</b></p>\n",
       "\n",
       "            <p><a href=\"http://g01.itversity.com:4041\">Spark UI</a></p>\n",
       "\n",
       "            <dl>\n",
       "              <dt>Version</dt>\n",
       "                <dd><code>v2.4.7</code></dd>\n",
       "              <dt>Master</dt>\n",
       "                <dd><code>yarn</code></dd>\n",
       "              <dt>AppName</dt>\n",
       "                <dd><code>Sneha Spark Session</code></dd>\n",
       "            </dl>\n",
       "        </div>\n",
       "        \n",
       "            </div>\n",
       "        "
      ],
      "text/plain": [
       "<pyspark.sql.session.SparkSession at 0x7fdb7bf65d30>"
      ]
     },
     "execution_count": 19,
     "metadata": {},
     "output_type": "execute_result"
    }
   ],
   "source": [
    "spark"
   ]
  },
  {
   "cell_type": "code",
   "execution_count": 4,
   "id": "9753a7c8",
   "metadata": {},
   "outputs": [],
   "source": [
    "order_schema = 'order_id long, order_date date, customer_id long, order_status string'"
   ]
  },
  {
   "cell_type": "code",
   "execution_count": 5,
   "id": "ea0a1718",
   "metadata": {},
   "outputs": [],
   "source": [
    "order_df = spark.read.\\\n",
    "format(\"csv\").\\\n",
    "schema(order_schema).\\\n",
    "load(\"/public/trendytech/orders/orders_1gb.csv\")"
   ]
  },
  {
   "cell_type": "code",
   "execution_count": 6,
   "id": "68b731d6",
   "metadata": {},
   "outputs": [
    {
     "name": "stdout",
     "output_type": "stream",
     "text": [
      "+--------+----------+-----------+---------------+\n",
      "|order_id|order_date|customer_id|   order_status|\n",
      "+--------+----------+-----------+---------------+\n",
      "|       1|2013-07-25|      11599|         CLOSED|\n",
      "|       2|2013-07-25|        256|PENDING_PAYMENT|\n",
      "|       3|2013-07-25|      12111|       COMPLETE|\n",
      "|       4|2013-07-25|       8827|         CLOSED|\n",
      "|       5|2013-07-25|      11318|       COMPLETE|\n",
      "|       6|2013-07-25|       7130|       COMPLETE|\n",
      "|       7|2013-07-25|       4530|       COMPLETE|\n",
      "|       8|2013-07-25|       2911|     PROCESSING|\n",
      "|       9|2013-07-25|       5657|PENDING_PAYMENT|\n",
      "|      10|2013-07-25|       5648|PENDING_PAYMENT|\n",
      "|      11|2013-07-25|        918| PAYMENT_REVIEW|\n",
      "|      12|2013-07-25|       1837|         CLOSED|\n",
      "|      13|2013-07-25|       9149|PENDING_PAYMENT|\n",
      "|      14|2013-07-25|       9842|     PROCESSING|\n",
      "|      15|2013-07-25|       2568|       COMPLETE|\n",
      "|      16|2013-07-25|       7276|PENDING_PAYMENT|\n",
      "|      17|2013-07-25|       2667|       COMPLETE|\n",
      "|      18|2013-07-25|       1205|         CLOSED|\n",
      "|      19|2013-07-25|       9488|PENDING_PAYMENT|\n",
      "|      20|2013-07-25|       9198|     PROCESSING|\n",
      "+--------+----------+-----------+---------------+\n",
      "only showing top 20 rows\n",
      "\n"
     ]
    }
   ],
   "source": [
    "order_df.show()"
   ]
  },
  {
   "cell_type": "code",
   "execution_count": 7,
   "id": "eb7536a0",
   "metadata": {},
   "outputs": [
    {
     "name": "stdout",
     "output_type": "stream",
     "text": [
      "+--------+----------+-----------+---------------+\n",
      "|order_id|order_date|customer_id|   order_status|\n",
      "+--------+----------+-----------+---------------+\n",
      "|       1|2013-07-25|      11599|         CLOSED|\n",
      "|       2|2013-07-25|        256|PENDING_PAYMENT|\n",
      "|       3|2013-07-25|      12111|       COMPLETE|\n",
      "|       4|2013-07-25|       8827|         CLOSED|\n",
      "|       5|2013-07-25|      11318|       COMPLETE|\n",
      "|       6|2013-07-25|       7130|       COMPLETE|\n",
      "|       7|2013-07-25|       4530|       COMPLETE|\n",
      "|       8|2013-07-25|       2911|     PROCESSING|\n",
      "|       9|2013-07-25|       5657|PENDING_PAYMENT|\n",
      "|      10|2013-07-25|       5648|PENDING_PAYMENT|\n",
      "|      11|2013-07-25|        918| PAYMENT_REVIEW|\n",
      "|      12|2013-07-25|       1837|         CLOSED|\n",
      "|      13|2013-07-25|       9149|PENDING_PAYMENT|\n",
      "|      14|2013-07-25|       9842|     PROCESSING|\n",
      "|      15|2013-07-25|       2568|       COMPLETE|\n",
      "|      16|2013-07-25|       7276|PENDING_PAYMENT|\n",
      "|      17|2013-07-25|       2667|       COMPLETE|\n",
      "|      18|2013-07-25|       1205|         CLOSED|\n",
      "|      19|2013-07-25|       9488|PENDING_PAYMENT|\n",
      "|      20|2013-07-25|       9198|     PROCESSING|\n",
      "+--------+----------+-----------+---------------+\n",
      "only showing top 20 rows\n",
      "\n"
     ]
    }
   ],
   "source": [
    "order_df.select(\"*\").show()"
   ]
  },
  {
   "cell_type": "code",
   "execution_count": 8,
   "id": "0f03617d",
   "metadata": {},
   "outputs": [
    {
     "name": "stdout",
     "output_type": "stream",
     "text": [
      "+--------+----------+\n",
      "|order_id|order_date|\n",
      "+--------+----------+\n",
      "|       1|2013-07-25|\n",
      "|       2|2013-07-25|\n",
      "|       3|2013-07-25|\n",
      "|       4|2013-07-25|\n",
      "|       5|2013-07-25|\n",
      "|       6|2013-07-25|\n",
      "|       7|2013-07-25|\n",
      "|       8|2013-07-25|\n",
      "|       9|2013-07-25|\n",
      "|      10|2013-07-25|\n",
      "|      11|2013-07-25|\n",
      "|      12|2013-07-25|\n",
      "|      13|2013-07-25|\n",
      "|      14|2013-07-25|\n",
      "|      15|2013-07-25|\n",
      "|      16|2013-07-25|\n",
      "|      17|2013-07-25|\n",
      "|      18|2013-07-25|\n",
      "|      19|2013-07-25|\n",
      "|      20|2013-07-25|\n",
      "+--------+----------+\n",
      "only showing top 20 rows\n",
      "\n"
     ]
    }
   ],
   "source": [
    "order_df.select(\"order_id\",\"order_date\").show()"
   ]
  },
  {
   "cell_type": "code",
   "execution_count": 9,
   "id": "2c4d64a2",
   "metadata": {},
   "outputs": [],
   "source": [
    "from pyspark.sql.functions import *"
   ]
  },
  {
   "cell_type": "code",
   "execution_count": 10,
   "id": "4746ccf5",
   "metadata": {},
   "outputs": [
    {
     "name": "stdout",
     "output_type": "stream",
     "text": [
      "+--------+----------+----------+-----------+-----------+-----------------+\n",
      "|order_id|order_date|order_date|customer_id|customer_id|EXP(order_status)|\n",
      "+--------+----------+----------+-----------+-----------+-----------------+\n",
      "|       1|2013-07-25|2013-07-25|      11599|      11599|             null|\n",
      "|       2|2013-07-25|2013-07-25|        256|        256|             null|\n",
      "|       3|2013-07-25|2013-07-25|      12111|      12111|             null|\n",
      "|       4|2013-07-25|2013-07-25|       8827|       8827|             null|\n",
      "|       5|2013-07-25|2013-07-25|      11318|      11318|             null|\n",
      "|       6|2013-07-25|2013-07-25|       7130|       7130|             null|\n",
      "|       7|2013-07-25|2013-07-25|       4530|       4530|             null|\n",
      "|       8|2013-07-25|2013-07-25|       2911|       2911|             null|\n",
      "|       9|2013-07-25|2013-07-25|       5657|       5657|             null|\n",
      "|      10|2013-07-25|2013-07-25|       5648|       5648|             null|\n",
      "|      11|2013-07-25|2013-07-25|        918|        918|             null|\n",
      "|      12|2013-07-25|2013-07-25|       1837|       1837|             null|\n",
      "|      13|2013-07-25|2013-07-25|       9149|       9149|             null|\n",
      "|      14|2013-07-25|2013-07-25|       9842|       9842|             null|\n",
      "|      15|2013-07-25|2013-07-25|       2568|       2568|             null|\n",
      "|      16|2013-07-25|2013-07-25|       7276|       7276|             null|\n",
      "|      17|2013-07-25|2013-07-25|       2667|       2667|             null|\n",
      "|      18|2013-07-25|2013-07-25|       1205|       1205|             null|\n",
      "|      19|2013-07-25|2013-07-25|       9488|       9488|             null|\n",
      "|      20|2013-07-25|2013-07-25|       9198|       9198|             null|\n",
      "+--------+----------+----------+-----------+-----------+-----------------+\n",
      "only showing top 20 rows\n",
      "\n"
     ]
    }
   ],
   "source": [
    "order_df.select(\"order_id\",order_df.order_date,order_df['order_date'],column('customer_id'),col('customer_id'),exp(\"order_status\")).show()"
   ]
  },
  {
   "cell_type": "code",
   "execution_count": 14,
   "id": "42c8f38a",
   "metadata": {},
   "outputs": [
    {
     "name": "stdout",
     "output_type": "stream",
     "text": [
      "+--------+----------+----------+-----------+-----------+-----------------+\n",
      "|order_id|order_date|order_date|customer_id|customer_id|EXP(order_status)|\n",
      "+--------+----------+----------+-----------+-----------+-----------------+\n",
      "|       2|2013-07-25|2013-07-25|        256|        256|             null|\n",
      "|       9|2013-07-25|2013-07-25|       5657|       5657|             null|\n",
      "|      10|2013-07-25|2013-07-25|       5648|       5648|             null|\n",
      "|      13|2013-07-25|2013-07-25|       9149|       9149|             null|\n",
      "|      16|2013-07-25|2013-07-25|       7276|       7276|             null|\n",
      "|      19|2013-07-25|2013-07-25|       9488|       9488|             null|\n",
      "|      21|2013-07-25|2013-07-25|       2711|       2711|             null|\n",
      "|      23|2013-07-25|2013-07-25|       4367|       4367|             null|\n",
      "|      27|2013-07-25|2013-07-25|       3241|       3241|             null|\n",
      "|      30|2013-07-25|2013-07-25|      10039|      10039|             null|\n",
      "|      33|2013-07-25|2013-07-25|       5793|       5793|             null|\n",
      "|      36|2013-07-25|2013-07-25|       5649|       5649|             null|\n",
      "|      39|2013-07-25|2013-07-25|       8214|       8214|             null|\n",
      "|      40|2013-07-25|2013-07-25|      12092|      12092|             null|\n",
      "|      41|2013-07-25|2013-07-25|       8136|       8136|             null|\n",
      "|      42|2013-07-25|2013-07-25|       9776|       9776|             null|\n",
      "|      43|2013-07-25|2013-07-25|       7776|       7776|             null|\n",
      "|      44|2013-07-25|2013-07-25|      10500|      10500|             null|\n",
      "|      47|2013-07-25|2013-07-25|       8487|       8487|             null|\n",
      "|      49|2013-07-25|2013-07-25|       1871|       1871|             null|\n",
      "+--------+----------+----------+-----------+-----------+-----------------+\n",
      "only showing top 20 rows\n",
      "\n"
     ]
    }
   ],
   "source": [
    "order_df.select(\"order_id\",order_df.order_date,order_df['order_date'],column('customer_id'),col('customer_id'),exp(\"order_status\")).where(col('order_status').like('PENDING%')).show()"
   ]
  },
  {
   "cell_type": "code",
   "execution_count": 16,
   "id": "27b37282",
   "metadata": {},
   "outputs": [
    {
     "name": "stdout",
     "output_type": "stream",
     "text": [
      "+--------+----------+----------+-----------+-----------+-----------------+\n",
      "|order_id|order_date|order_date|customer_id|customer_id|EXP(order_status)|\n",
      "+--------+----------+----------+-----------+-----------+-----------------+\n",
      "|       2|2013-07-25|2013-07-25|        256|        256|             null|\n",
      "|       9|2013-07-25|2013-07-25|       5657|       5657|             null|\n",
      "|      10|2013-07-25|2013-07-25|       5648|       5648|             null|\n",
      "|      13|2013-07-25|2013-07-25|       9149|       9149|             null|\n",
      "|      16|2013-07-25|2013-07-25|       7276|       7276|             null|\n",
      "|      19|2013-07-25|2013-07-25|       9488|       9488|             null|\n",
      "|      21|2013-07-25|2013-07-25|       2711|       2711|             null|\n",
      "|      23|2013-07-25|2013-07-25|       4367|       4367|             null|\n",
      "|      27|2013-07-25|2013-07-25|       3241|       3241|             null|\n",
      "|      30|2013-07-25|2013-07-25|      10039|      10039|             null|\n",
      "|      33|2013-07-25|2013-07-25|       5793|       5793|             null|\n",
      "|      36|2013-07-25|2013-07-25|       5649|       5649|             null|\n",
      "|      39|2013-07-25|2013-07-25|       8214|       8214|             null|\n",
      "|      40|2013-07-25|2013-07-25|      12092|      12092|             null|\n",
      "|      41|2013-07-25|2013-07-25|       8136|       8136|             null|\n",
      "|      42|2013-07-25|2013-07-25|       9776|       9776|             null|\n",
      "|      43|2013-07-25|2013-07-25|       7776|       7776|             null|\n",
      "|      44|2013-07-25|2013-07-25|      10500|      10500|             null|\n",
      "|      47|2013-07-25|2013-07-25|       8487|       8487|             null|\n",
      "|      49|2013-07-25|2013-07-25|       1871|       1871|             null|\n",
      "+--------+----------+----------+-----------+-----------+-----------------+\n",
      "only showing top 20 rows\n",
      "\n"
     ]
    }
   ],
   "source": [
    "order_df.select(\"order_id\",order_df.order_date,order_df['order_date'],column('customer_id'),col('customer_id'),exp(\"order_status\")).where(\"order_status like 'PENDING%'\").show()"
   ]
  },
  {
   "cell_type": "code",
   "execution_count": 17,
   "id": "1409647d",
   "metadata": {},
   "outputs": [],
   "source": [
    "spark.stop()"
   ]
  },
  {
   "cell_type": "code",
   "execution_count": null,
   "id": "fdf3bb9c",
   "metadata": {},
   "outputs": [],
   "source": []
  }
 ],
 "metadata": {
  "kernelspec": {
   "display_name": "Pyspark 2",
   "language": "python",
   "name": "pyspark2"
  },
  "language_info": {
   "codemirror_mode": {
    "name": "ipython",
    "version": 3
   },
   "file_extension": ".py",
   "mimetype": "text/x-python",
   "name": "python",
   "nbconvert_exporter": "python",
   "pygments_lexer": "ipython3",
   "version": "3.6.12"
  }
 },
 "nbformat": 4,
 "nbformat_minor": 5
}
