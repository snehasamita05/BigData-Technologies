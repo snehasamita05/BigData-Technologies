{
 "cells": [
  {
   "cell_type": "code",
   "execution_count": 1,
   "id": "afff6691",
   "metadata": {},
   "outputs": [],
   "source": [
    "from pyspark.sql import SparkSession\n",
    "import getpass\n",
    "username = getpass.getuser()\n",
    "spark = SparkSession. \\\n",
    "builder. \\\n",
    "config('spark.ui.port','0'). \\\n",
    "config(\"spark.sql.warehouse.dir\", f\"/user/{username}/warehouse\"). \\\n",
    "enableHiveSupport(). \\\n",
    "master('yarn'). \\\n",
    "getOrCreate()"
   ]
  },
  {
   "cell_type": "code",
   "execution_count": 2,
   "id": "742ffb76",
   "metadata": {},
   "outputs": [
    {
     "data": {
      "text/html": [
       "\n",
       "            <div>\n",
       "                <p><b>SparkSession - hive</b></p>\n",
       "                \n",
       "        <div>\n",
       "            <p><b>SparkContext</b></p>\n",
       "\n",
       "            <p><a href=\"http://g01.itversity.com:40493\">Spark UI</a></p>\n",
       "\n",
       "            <dl>\n",
       "              <dt>Version</dt>\n",
       "                <dd><code>v3.1.2</code></dd>\n",
       "              <dt>Master</dt>\n",
       "                <dd><code>yarn</code></dd>\n",
       "              <dt>AppName</dt>\n",
       "                <dd><code>pyspark-shell</code></dd>\n",
       "            </dl>\n",
       "        </div>\n",
       "        \n",
       "            </div>\n",
       "        "
      ],
      "text/plain": [
       "<pyspark.sql.session.SparkSession at 0x7fc2e54f4668>"
      ]
     },
     "execution_count": 2,
     "metadata": {},
     "output_type": "execute_result"
    }
   ],
   "source": [
    "spark"
   ]
  },
  {
   "cell_type": "code",
   "execution_count": 3,
   "id": "ea470657",
   "metadata": {},
   "outputs": [],
   "source": [
    "boaring_words_base = spark.sparkContext.textFile(\"/user/itv017244/TT/boringwords.txt\")"
   ]
  },
  {
   "cell_type": "code",
   "execution_count": 4,
   "id": "e1a1dbfc",
   "metadata": {},
   "outputs": [],
   "source": [
    "students_review_base = spark.sparkContext.textFile(\"/public/trendytech/reviews/trendytech-student-reviews.csv\")"
   ]
  },
  {
   "cell_type": "code",
   "execution_count": 5,
   "id": "e4af3ee7",
   "metadata": {},
   "outputs": [],
   "source": [
    "rdd1 = students_review_base.flatMap(lambda x:x.split(\" \")).map(lambda x:x.lower())"
   ]
  },
  {
   "cell_type": "code",
   "execution_count": 6,
   "id": "5b045224",
   "metadata": {},
   "outputs": [],
   "source": [
    "rdd2 = rdd1.map(lambda x: (x,1)).reduceByKey(lambda x,y:x+y)"
   ]
  },
  {
   "cell_type": "code",
   "execution_count": 7,
   "id": "ba83ba31",
   "metadata": {},
   "outputs": [
    {
     "data": {
      "text/plain": [
       "[('was', 61),\n",
       " ('learning', 31),\n",
       " ('journey', 6),\n",
       " ('sumit', 109),\n",
       " ('i', 215),\n",
       " ('new', 5),\n",
       " ('technology', 3),\n",
       " ('them', 1),\n",
       " ('career', 28),\n",
       " ('of', 182)]"
      ]
     },
     "execution_count": 7,
     "metadata": {},
     "output_type": "execute_result"
    }
   ],
   "source": [
    "rdd2.take(10)"
   ]
  },
  {
   "cell_type": "code",
   "execution_count": 8,
   "id": "f5f46722",
   "metadata": {},
   "outputs": [],
   "source": [
    "broadcast_bw = spark.sparkContext.broadcast(boaring_words_base.collect())"
   ]
  },
  {
   "cell_type": "code",
   "execution_count": 9,
   "id": "e25c31dc",
   "metadata": {},
   "outputs": [],
   "source": [
    "rdd3 = rdd2.filter(lambda x : x[0] not in broadcast_bw.value)"
   ]
  },
  {
   "cell_type": "code",
   "execution_count": 10,
   "id": "e969c690",
   "metadata": {},
   "outputs": [],
   "source": [
    "rdd4 = rdd3.reduceByKey(lambda x,y : x+y).sortBy(lambda x: x[1], ascending=False)"
   ]
  },
  {
   "cell_type": "code",
   "execution_count": 11,
   "id": "ee29a812",
   "metadata": {},
   "outputs": [
    {
     "data": {
      "text/plain": [
       "[('data', 201),\n",
       " ('sumit', 109),\n",
       " ('trendytech', 67),\n",
       " ('', 64),\n",
       " ('data.', 34),\n",
       " ('course.', 33),\n",
       " (\"sir's\", 23),\n",
       " ('trendy', 14),\n",
       " ('course,', 13),\n",
       " (\"master's\", 13),\n",
       " ('domain.', 12),\n",
       " (\"trendytech's\", 12),\n",
       " ('sir.', 11),\n",
       " ('program.', 9),\n",
       " ('field.', 9),\n",
       " ('concepts.', 9),\n",
       " ('hands-on', 8),\n",
       " ('fresher', 8),\n",
       " ('amazing.', 8),\n",
       " ('career.', 7)]"
      ]
     },
     "execution_count": 11,
     "metadata": {},
     "output_type": "execute_result"
    }
   ],
   "source": [
    "rdd4.take(20)"
   ]
  },
  {
   "cell_type": "code",
   "execution_count": null,
   "id": "a1ff0e51",
   "metadata": {},
   "outputs": [],
   "source": []
  }
 ],
 "metadata": {
  "kernelspec": {
   "display_name": "Pyspark 3",
   "language": "python",
   "name": "pyspark3"
  },
  "language_info": {
   "codemirror_mode": {
    "name": "ipython",
    "version": 3
   },
   "file_extension": ".py",
   "mimetype": "text/x-python",
   "name": "python",
   "nbconvert_exporter": "python",
   "pygments_lexer": "ipython3",
   "version": "3.6.12"
  }
 },
 "nbformat": 4,
 "nbformat_minor": 5
}
