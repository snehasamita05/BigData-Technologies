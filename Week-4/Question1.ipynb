{
 "cells": [
  {
   "cell_type": "code",
   "execution_count": 1,
   "id": "2183afb1",
   "metadata": {},
   "outputs": [],
   "source": [
    "from pyspark.sql import SparkSession\n",
    "import getpass\n",
    "username = getpass.getuser()\n",
    "spark = SparkSession. \\\n",
    "builder. \\\n",
    "config('spark.ui.port','0'). \\\n",
    "config(\"spark.sql.warehouse.dir\", f\"/user/{username}/warehouse\"). \\\n",
    "enableHiveSupport(). \\\n",
    "master('yarn'). \\\n",
    "getOrCreate()"
   ]
  },
  {
   "cell_type": "code",
   "execution_count": 2,
   "id": "0363572f",
   "metadata": {},
   "outputs": [
    {
     "data": {
      "text/html": [
       "\n",
       "            <div>\n",
       "                <p><b>SparkSession - hive</b></p>\n",
       "                \n",
       "        <div>\n",
       "            <p><b>SparkContext</b></p>\n",
       "\n",
       "            <p><a href=\"http://g01.itversity.com:39557\">Spark UI</a></p>\n",
       "\n",
       "            <dl>\n",
       "              <dt>Version</dt>\n",
       "                <dd><code>v3.1.2</code></dd>\n",
       "              <dt>Master</dt>\n",
       "                <dd><code>yarn</code></dd>\n",
       "              <dt>AppName</dt>\n",
       "                <dd><code>pyspark-shell</code></dd>\n",
       "            </dl>\n",
       "        </div>\n",
       "        \n",
       "            </div>\n",
       "        "
      ],
      "text/plain": [
       "<pyspark.sql.session.SparkSession at 0x7fa8bb496668>"
      ]
     },
     "execution_count": 2,
     "metadata": {},
     "output_type": "execute_result"
    }
   ],
   "source": [
    "spark"
   ]
  },
  {
   "cell_type": "code",
   "execution_count": 3,
   "id": "d0f3cea2",
   "metadata": {},
   "outputs": [],
   "source": [
    "orders_base = spark.sparkContext.textFile(\"/public/trendytech/retail_db/orders\")"
   ]
  },
  {
   "cell_type": "code",
   "execution_count": 4,
   "id": "0a83bfb2",
   "metadata": {},
   "outputs": [],
   "source": [
    "customers_base = spark.sparkContext.textFile(\"/public/trendytech/retail_db/customers\")"
   ]
  },
  {
   "cell_type": "code",
   "execution_count": 5,
   "id": "91861f99",
   "metadata": {},
   "outputs": [],
   "source": [
    "orders_details_base = spark.sparkContext.textFile(\"/public/trendytech/retail_db/order_items\")"
   ]
  },
  {
   "cell_type": "code",
   "execution_count": 6,
   "id": "d69c8298",
   "metadata": {},
   "outputs": [],
   "source": [
    "order_items_map = orders_details_base.map(lambda x : ((int(x.split(\",\")[1]),float(x.split(\",\")[4]))))"
   ]
  },
  {
   "cell_type": "code",
   "execution_count": 7,
   "id": "440f69dc",
   "metadata": {},
   "outputs": [],
   "source": [
    "orders_base_map = orders_base.map(lambda x:  (int(x.split(\",\")[0]),(int(x.split(\",\")[2]))))"
   ]
  },
  {
   "cell_type": "code",
   "execution_count": 8,
   "id": "700e7407",
   "metadata": {},
   "outputs": [],
   "source": [
    "join_rdd = order_items_map.join(orders_base_map)"
   ]
  },
  {
   "cell_type": "code",
   "execution_count": 9,
   "id": "9ce066a0",
   "metadata": {},
   "outputs": [],
   "source": [
    "mapped_rdd = join_rdd.map(lambda x : (x[1][1],x[1][0]))"
   ]
  },
  {
   "cell_type": "code",
   "execution_count": 10,
   "id": "27c1fb08",
   "metadata": {},
   "outputs": [],
   "source": [
    "reduced_rdd = mapped_rdd.reduceByKey(lambda x,y : x+y).sortBy(lambda x : x[1],False)"
   ]
  },
  {
   "cell_type": "code",
   "execution_count": 11,
   "id": "cd36b1f5",
   "metadata": {},
   "outputs": [
    {
     "data": {
      "text/plain": [
       "[(791, 10524.169999999996),\n",
       " (9371, 9299.029999999999),\n",
       " (8766, 9296.14),\n",
       " (1657, 9223.710000000001),\n",
       " (2641, 9130.919999999998),\n",
       " (1288, 9019.11),\n",
       " (3710, 9019.099999999999),\n",
       " (4249, 8918.85),\n",
       " (5654, 8904.95),\n",
       " (5624, 8761.98)]"
      ]
     },
     "execution_count": 11,
     "metadata": {},
     "output_type": "execute_result"
    }
   ],
   "source": [
    "reduced_rdd.take(10)"
   ]
  },
  {
   "cell_type": "code",
   "execution_count": 12,
   "id": "80752d8f",
   "metadata": {},
   "outputs": [
    {
     "data": {
      "text/plain": [
       "['1,1,957,1,299.98,299.98',\n",
       " '2,2,1073,1,199.99,199.99',\n",
       " '3,2,502,5,250.0,50.0',\n",
       " '4,2,403,1,129.99,129.99',\n",
       " '5,4,897,2,49.98,24.99']"
      ]
     },
     "execution_count": 12,
     "metadata": {},
     "output_type": "execute_result"
    }
   ],
   "source": [
    "orders_details_base.take(5)"
   ]
  },
  {
   "cell_type": "code",
   "execution_count": 13,
   "id": "1885e8c8",
   "metadata": {},
   "outputs": [],
   "source": [
    "mapped1_orders_details = orders_details_base.map(lambda x : (int(x.split(\",\")[2]), (int(x.split(\",\")[3]))))"
   ]
  },
  {
   "cell_type": "code",
   "execution_count": 14,
   "id": "1083a089",
   "metadata": {},
   "outputs": [
    {
     "data": {
      "text/plain": [
       "[(957, 1), (1073, 1), (502, 5), (403, 1), (897, 2)]"
      ]
     },
     "execution_count": 14,
     "metadata": {},
     "output_type": "execute_result"
    }
   ],
   "source": [
    "mapped1_orders_details.take(5)"
   ]
  },
  {
   "cell_type": "code",
   "execution_count": 15,
   "id": "770cc1be",
   "metadata": {},
   "outputs": [],
   "source": [
    "reduced1_rdd = mapped1_orders_details.reduceByKey(lambda x,y : x+y)"
   ]
  },
  {
   "cell_type": "code",
   "execution_count": 16,
   "id": "e26cbb8d",
   "metadata": {},
   "outputs": [],
   "source": [
    "top_products = reduced1_rdd.sortBy(lambda x : x[1], False)"
   ]
  },
  {
   "cell_type": "code",
   "execution_count": 17,
   "id": "462b812e",
   "metadata": {},
   "outputs": [
    {
     "data": {
      "text/plain": [
       "[(365, 73698),\n",
       " (502, 62956),\n",
       " (1014, 57803),\n",
       " (191, 36680),\n",
       " (627, 31735),\n",
       " (403, 22246),\n",
       " (1004, 17325),\n",
       " (1073, 15500),\n",
       " (957, 13729),\n",
       " (977, 998)]"
      ]
     },
     "execution_count": 17,
     "metadata": {},
     "output_type": "execute_result"
    }
   ],
   "source": [
    "top_products.take(10)"
   ]
  },
  {
   "cell_type": "code",
   "execution_count": 18,
   "id": "9cb524f0",
   "metadata": {},
   "outputs": [
    {
     "data": {
      "text/plain": [
       "['1,Richard,Hernandez,XXXXXXXXX,XXXXXXXXX,6303 Heather Plaza,Brownsville,TX,78521',\n",
       " '2,Mary,Barrett,XXXXXXXXX,XXXXXXXXX,9526 Noble Embers Ridge,Littleton,CO,80126',\n",
       " '3,Ann,Smith,XXXXXXXXX,XXXXXXXXX,3422 Blue Pioneer Bend,Caguas,PR,00725',\n",
       " '4,Mary,Jones,XXXXXXXXX,XXXXXXXXX,8324 Little Common,San Marcos,CA,92069',\n",
       " '5,Robert,Hudson,XXXXXXXXX,XXXXXXXXX,\"10 Crystal River Mall \",Caguas,PR,00725']"
      ]
     },
     "execution_count": 18,
     "metadata": {},
     "output_type": "execute_result"
    }
   ],
   "source": [
    "customers_base.take(5)"
   ]
  },
  {
   "cell_type": "code",
   "execution_count": 19,
   "id": "e47f0fc3",
   "metadata": {},
   "outputs": [],
   "source": [
    "mapped2_customers_base = customers_base.map(lambda x : (x.split(\",\")[6]))"
   ]
  },
  {
   "cell_type": "code",
   "execution_count": 20,
   "id": "901a42ee",
   "metadata": {},
   "outputs": [],
   "source": [
    "filtered2_customers_base = mapped2_customers_base.filter(lambda x : x == 'Caguas')"
   ]
  },
  {
   "cell_type": "code",
   "execution_count": 21,
   "id": "4eb6275f",
   "metadata": {},
   "outputs": [
    {
     "data": {
      "text/plain": [
       "4584"
      ]
     },
     "execution_count": 21,
     "metadata": {},
     "output_type": "execute_result"
    }
   ],
   "source": [
    "filtered2_customers_base.count()"
   ]
  },
  {
   "cell_type": "code",
   "execution_count": 22,
   "id": "b3241a53",
   "metadata": {},
   "outputs": [],
   "source": [
    "mapped3_customers_base = customers_base.map(lambda x : (x.split(\",\")[7],1))"
   ]
  },
  {
   "cell_type": "code",
   "execution_count": 23,
   "id": "f358b366",
   "metadata": {},
   "outputs": [],
   "source": [
    "reduced3_customers_base = mapped3_customers_base.reduceByKey(lambda x,y : x+y).sortBy(lambda x : x[1], False)"
   ]
  },
  {
   "cell_type": "code",
   "execution_count": 24,
   "id": "0f27e98f",
   "metadata": {},
   "outputs": [
    {
     "data": {
      "text/plain": [
       "[('PR', 4771), ('CA', 2012), ('NY', 775)]"
      ]
     },
     "execution_count": 24,
     "metadata": {},
     "output_type": "execute_result"
    }
   ],
   "source": [
    "reduced3_customers_base.take(3)"
   ]
  },
  {
   "cell_type": "code",
   "execution_count": 25,
   "id": "d5ea18cb",
   "metadata": {},
   "outputs": [],
   "source": [
    "order4_items_map = orders_details_base.map(lambda x : ((int(x.split(\",\")[1]),float(x.split(\",\")[4]))))"
   ]
  },
  {
   "cell_type": "code",
   "execution_count": 26,
   "id": "8e6e150b",
   "metadata": {},
   "outputs": [],
   "source": [
    "orders4_base_map = orders_base.map(lambda x:  (int(x.split(\",\")[0]),(int(x.split(\",\")[2]))))"
   ]
  },
  {
   "cell_type": "code",
   "execution_count": 27,
   "id": "94e02015",
   "metadata": {},
   "outputs": [],
   "source": [
    "join4_rdd = order4_items_map.join(orders4_base_map)"
   ]
  },
  {
   "cell_type": "code",
   "execution_count": 28,
   "id": "435817cb",
   "metadata": {},
   "outputs": [],
   "source": [
    "mapped4_rdd = join4_rdd.map(lambda x : (x[1][1],x[1][0]))"
   ]
  },
  {
   "cell_type": "code",
   "execution_count": 29,
   "id": "8c642edd",
   "metadata": {},
   "outputs": [],
   "source": [
    "reduced4_rdd = mapped4_rdd.reduceByKey(lambda x,y : x+y)"
   ]
  },
  {
   "cell_type": "code",
   "execution_count": 30,
   "id": "58336678",
   "metadata": {},
   "outputs": [],
   "source": [
    "final4_rdd = reduced4_rdd.filter(lambda x : x[1]>1000).cache()"
   ]
  },
  {
   "cell_type": "code",
   "execution_count": 31,
   "id": "22c53210",
   "metadata": {},
   "outputs": [
    {
     "data": {
      "text/plain": [
       "11148"
      ]
     },
     "execution_count": 31,
     "metadata": {},
     "output_type": "execute_result"
    }
   ],
   "source": [
    "final4_rdd.count()"
   ]
  },
  {
   "cell_type": "code",
   "execution_count": 37,
   "id": "b61d6bbb",
   "metadata": {},
   "outputs": [],
   "source": [
    "orders5_base_map = orders_base.map(lambda x:  (int(x.split(\",\")[2]),(x.split(\",\")[3]))).filter(lambda x : (x[1]== 'CLOSED'))"
   ]
  },
  {
   "cell_type": "code",
   "execution_count": 38,
   "id": "ceaacb32",
   "metadata": {},
   "outputs": [],
   "source": [
    "customers4_base = customers_base.map(lambda x:  (int(x.split(\",\")[0]),(x.split(\",\")[7])))"
   ]
  },
  {
   "cell_type": "code",
   "execution_count": 39,
   "id": "238108b6",
   "metadata": {},
   "outputs": [],
   "source": [
    "join5_rdd = orders5_base_map.join(customers4_base)"
   ]
  },
  {
   "cell_type": "code",
   "execution_count": 43,
   "id": "8f0cb21b",
   "metadata": {},
   "outputs": [],
   "source": [
    "mapped5_rdd = join5_rdd.map(lambda x : (x[1][1],1))"
   ]
  },
  {
   "cell_type": "code",
   "execution_count": 45,
   "id": "2ed401a2",
   "metadata": {},
   "outputs": [],
   "source": [
    "reduced5_result = mapped5_rdd.reduceByKey(lambda x,y : x+y).sortBy(lambda x : x[1], False)"
   ]
  },
  {
   "cell_type": "code",
   "execution_count": 46,
   "id": "f12c4b88",
   "metadata": {},
   "outputs": [
    {
     "data": {
      "text/plain": [
       "[('PR', 2891),\n",
       " ('CA', 1232),\n",
       " ('NY', 450),\n",
       " ('TX', 403),\n",
       " ('IL', 313),\n",
       " ('FL', 220),\n",
       " ('OH', 172),\n",
       " ('MI', 167),\n",
       " ('PA', 157),\n",
       " ('NJ', 151)]"
      ]
     },
     "execution_count": 46,
     "metadata": {},
     "output_type": "execute_result"
    }
   ],
   "source": [
    "reduced5_result.take(10)"
   ]
  },
  {
   "cell_type": "code",
   "execution_count": 47,
   "id": "7b2c1fbb",
   "metadata": {},
   "outputs": [],
   "source": [
    "orders6_base_map = orders_base.map(lambda x:  (int(x.split(\",\")[2]),1))"
   ]
  },
  {
   "cell_type": "code",
   "execution_count": 50,
   "id": "3c5d229a",
   "metadata": {},
   "outputs": [],
   "source": [
    "reduced6_result = orders6_base_map.reduceByKey(lambda x,y : x+y).filter(lambda x : x[1]>=1)"
   ]
  },
  {
   "cell_type": "code",
   "execution_count": 52,
   "id": "0ebfef0a",
   "metadata": {},
   "outputs": [
    {
     "data": {
      "text/plain": [
       "12405"
      ]
     },
     "execution_count": 52,
     "metadata": {},
     "output_type": "execute_result"
    }
   ],
   "source": [
    "reduced6_result.count()"
   ]
  },
  {
   "cell_type": "code",
   "execution_count": 53,
   "id": "16c23868",
   "metadata": {},
   "outputs": [],
   "source": [
    "orders7_base_map = orders_base.map(lambda x:  (int(x.split(\",\")[0]),(int(x.split(\",\")[2]))))"
   ]
  },
  {
   "cell_type": "code",
   "execution_count": 54,
   "id": "c7b8097d",
   "metadata": {},
   "outputs": [],
   "source": [
    "mapped7_customers_base = customers_base.map(lambda x : ((int(x.split(\",\")[0])),x.split(\",\")[7]))"
   ]
  },
  {
   "cell_type": "code",
   "execution_count": 55,
   "id": "738446ef",
   "metadata": {},
   "outputs": [],
   "source": [
    "order7_items_map = orders_details_base.map(lambda x : ((int(x.split(\",\")[1]),float(x.split(\",\")[4]))))"
   ]
  },
  {
   "cell_type": "code",
   "execution_count": 56,
   "id": "afc880dd",
   "metadata": {},
   "outputs": [],
   "source": [
    "join7_rdd = orders7_base_map.join(mapped7_customers_base)"
   ]
  },
  {
   "cell_type": "code",
   "execution_count": 57,
   "id": "2f7bcf3a",
   "metadata": {},
   "outputs": [
    {
     "data": {
      "text/plain": [
       "[(4, (8827, 'CA')), (8, (2911, 'MA')), (12, (1837, 'TX')), (16, (7276, 'PR'))]"
      ]
     },
     "execution_count": 57,
     "metadata": {},
     "output_type": "execute_result"
    }
   ],
   "source": [
    "join7_rdd.take(4)"
   ]
  },
  {
   "cell_type": "code",
   "execution_count": 59,
   "id": "5896ea22",
   "metadata": {},
   "outputs": [],
   "source": [
    "mapped7_rdd = join7_rdd.map(lambda x : (x[1][0],x[1][1]))"
   ]
  },
  {
   "cell_type": "code",
   "execution_count": 60,
   "id": "b2cedd2d",
   "metadata": {},
   "outputs": [],
   "source": [
    "joinnew7_rdd = mapped7_rdd.join(order7_items_map)"
   ]
  },
  {
   "cell_type": "code",
   "execution_count": 61,
   "id": "61bbeac0",
   "metadata": {},
   "outputs": [
    {
     "data": {
      "text/plain": [
       "[(11586, ('LA', 59.99)),\n",
       " (11586, ('LA', 159.96)),\n",
       " (5760, ('FL', 199.92)),\n",
       " (5760, ('FL', 129.99)),\n",
       " (5760, ('FL', 199.98))]"
      ]
     },
     "execution_count": 61,
     "metadata": {},
     "output_type": "execute_result"
    }
   ],
   "source": [
    "joinnew7_rdd.take(5)"
   ]
  },
  {
   "cell_type": "code",
   "execution_count": 62,
   "id": "ea82a276",
   "metadata": {},
   "outputs": [],
   "source": [
    "reduced7_result = joinnew7_rdd.map(lambda x :  (x[1][0],x[1][1])).reduceByKey(lambda x,y:x+y).sortBy(lambda x : x[1], False)"
   ]
  },
  {
   "cell_type": "code",
   "execution_count": 64,
   "id": "21deb8a6",
   "metadata": {},
   "outputs": [
    {
     "data": {
      "text/plain": [
       "[('PR', 2304015.4199999785),\n",
       " ('CA', 998696.1400000022),\n",
       " ('NY', 398708.0900000002),\n",
       " ('TX', 337705.19000000035),\n",
       " ('IL', 260633.92000000016),\n",
       " ('FL', 163582.82000000007),\n",
       " ('OH', 131707.27999999997),\n",
       " ('PA', 130752.98999999999),\n",
       " ('MI', 124354.62),\n",
       " ('NJ', 109723.95999999993),\n",
       " ('AZ', 101481.85999999996),\n",
       " ('GA', 84056.73999999993),\n",
       " ('MD', 77687.17999999993),\n",
       " ('NC', 74614.50999999995),\n",
       " ('VA', 67826.67999999996),\n",
       " ('OR', 60647.269999999975),\n",
       " ('CO', 59099.15999999997),\n",
       " ('NV', 56741.21999999998),\n",
       " ('MA', 51603.72999999998),\n",
       " ('TN', 51442.92999999998),\n",
       " ('HI', 47428.46999999998),\n",
       " ('MO', 43604.09999999999),\n",
       " ('CT', 35892.119999999995),\n",
       " ('UT', 34088.079999999994),\n",
       " ('WI', 33611.44999999998),\n",
       " ('LA', 32678.14),\n",
       " ('WA', 32558.76999999999),\n",
       " ('NM', 31644.99999999999),\n",
       " ('MN', 20296.649999999998),\n",
       " ('SC', 19700.7),\n",
       " ('DC', 19391.3),\n",
       " ('KY', 16800.96),\n",
       " ('IN', 16133.990000000002),\n",
       " ('DE', 12988.520000000002),\n",
       " ('KS', 11386.759999999998),\n",
       " ('OK', 9883.939999999999),\n",
       " ('AR', 7839.36),\n",
       " ('WV', 7645.25),\n",
       " ('RI', 6555.18),\n",
       " ('ND', 3919.62),\n",
       " ('ID', 3745.5),\n",
       " ('MT', 2515.65),\n",
       " ('AL', 2109.78),\n",
       " ('IA', 2011.7300000000002)]"
      ]
     },
     "execution_count": 64,
     "metadata": {},
     "output_type": "execute_result"
    }
   ],
   "source": [
    "reduced7_result.collect()"
   ]
  },
  {
   "cell_type": "code",
   "execution_count": 65,
   "id": "5cfd6d30",
   "metadata": {},
   "outputs": [],
   "source": [
    "spark.stop()"
   ]
  },
  {
   "cell_type": "code",
   "execution_count": null,
   "id": "78a05799",
   "metadata": {},
   "outputs": [],
   "source": []
  }
 ],
 "metadata": {
  "kernelspec": {
   "display_name": "Pyspark 3",
   "language": "python",
   "name": "pyspark3"
  },
  "language_info": {
   "codemirror_mode": {
    "name": "ipython",
    "version": 3
   },
   "file_extension": ".py",
   "mimetype": "text/x-python",
   "name": "python",
   "nbconvert_exporter": "python",
   "pygments_lexer": "ipython3",
   "version": "3.6.12"
  }
 },
 "nbformat": 4,
 "nbformat_minor": 5
}
