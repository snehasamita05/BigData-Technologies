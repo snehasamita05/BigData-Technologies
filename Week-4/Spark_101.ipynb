{
 "cells": [
  {
   "cell_type": "code",
   "execution_count": 1,
   "id": "759c5dd8",
   "metadata": {},
   "outputs": [],
   "source": [
    "from pyspark.sql import SparkSession\n",
    "import getpass\n",
    "username = getpass.getuser()\n",
    "spark = SparkSession. \\\n",
    "builder. \\\n",
    "config('spark.ui.port','0'). \\\n",
    "config(\"spark.sql.warehouse.dir\", f\"/user/{username}/warehouse\"). \\\n",
    "enableHiveSupport(). \\\n",
    "master('yarn'). \\\n",
    "getOrCreate()"
   ]
  },
  {
   "cell_type": "code",
   "execution_count": 2,
   "id": "e1161fd6",
   "metadata": {},
   "outputs": [],
   "source": [
    "orders_rdd = spark.sparkContext.textFile(\"/public/trendytech/retail_db/orders/*\")"
   ]
  },
  {
   "cell_type": "code",
   "execution_count": 3,
   "id": "87206f3e",
   "metadata": {},
   "outputs": [
    {
     "data": {
      "text/plain": [
       "['1,2013-07-25 00:00:00.0,11599,CLOSED',\n",
       " '2,2013-07-25 00:00:00.0,256,PENDING_PAYMENT',\n",
       " '3,2013-07-25 00:00:00.0,12111,COMPLETE',\n",
       " '4,2013-07-25 00:00:00.0,8827,CLOSED',\n",
       " '5,2013-07-25 00:00:00.0,11318,COMPLETE']"
      ]
     },
     "execution_count": 3,
     "metadata": {},
     "output_type": "execute_result"
    }
   ],
   "source": [
    "orders_rdd.take(5)"
   ]
  },
  {
   "cell_type": "code",
   "execution_count": 4,
   "id": "ea71366e",
   "metadata": {},
   "outputs": [],
   "source": [
    "map_rdd = orders_rdd.map(lambda x : (x.split(\",\")[3],1))"
   ]
  },
  {
   "cell_type": "code",
   "execution_count": 5,
   "id": "80df259d",
   "metadata": {},
   "outputs": [
    {
     "data": {
      "text/plain": [
       "[('CLOSED', 1),\n",
       " ('PENDING_PAYMENT', 1),\n",
       " ('COMPLETE', 1),\n",
       " ('CLOSED', 1),\n",
       " ('COMPLETE', 1),\n",
       " ('COMPLETE', 1),\n",
       " ('COMPLETE', 1),\n",
       " ('PROCESSING', 1),\n",
       " ('PENDING_PAYMENT', 1),\n",
       " ('PENDING_PAYMENT', 1)]"
      ]
     },
     "execution_count": 5,
     "metadata": {},
     "output_type": "execute_result"
    }
   ],
   "source": [
    "map_rdd.take(10)"
   ]
  },
  {
   "cell_type": "code",
   "execution_count": 6,
   "id": "860c2bb4",
   "metadata": {},
   "outputs": [],
   "source": [
    "reduced_rdd = map_rdd.reduceByKey(lambda x,y : x+y)"
   ]
  },
  {
   "cell_type": "code",
   "execution_count": 7,
   "id": "76b88860",
   "metadata": {},
   "outputs": [
    {
     "data": {
      "text/plain": [
       "[('CLOSED', 7556),\n",
       " ('CANCELED', 1428),\n",
       " ('COMPLETE', 22899),\n",
       " ('PENDING_PAYMENT', 15030),\n",
       " ('SUSPECTED_FRAUD', 1558),\n",
       " ('PENDING', 7610),\n",
       " ('ON_HOLD', 3798),\n",
       " ('PROCESSING', 8275),\n",
       " ('PAYMENT_REVIEW', 729)]"
      ]
     },
     "execution_count": 7,
     "metadata": {},
     "output_type": "execute_result"
    }
   ],
   "source": [
    "reduced_rdd.collect()"
   ]
  },
  {
   "cell_type": "code",
   "execution_count": 8,
   "id": "4e8e29ed",
   "metadata": {},
   "outputs": [],
   "source": [
    "reduced_sorted = reduced_rdd.sortBy(lambda x: x[1])"
   ]
  },
  {
   "cell_type": "code",
   "execution_count": 9,
   "id": "f4906d5e",
   "metadata": {},
   "outputs": [
    {
     "data": {
      "text/plain": [
       "[('PAYMENT_REVIEW', 729),\n",
       " ('CANCELED', 1428),\n",
       " ('SUSPECTED_FRAUD', 1558),\n",
       " ('ON_HOLD', 3798),\n",
       " ('CLOSED', 7556),\n",
       " ('PENDING', 7610),\n",
       " ('PROCESSING', 8275),\n",
       " ('PENDING_PAYMENT', 15030),\n",
       " ('COMPLETE', 22899)]"
      ]
     },
     "execution_count": 9,
     "metadata": {},
     "output_type": "execute_result"
    }
   ],
   "source": [
    "reduced_sorted.collect()"
   ]
  },
  {
   "cell_type": "code",
   "execution_count": 10,
   "id": "84652e1b",
   "metadata": {},
   "outputs": [],
   "source": [
    "reduced_sorted = reduced_rdd.sortBy(lambda x: x[1], False)"
   ]
  },
  {
   "cell_type": "code",
   "execution_count": 11,
   "id": "87ab7a8a",
   "metadata": {},
   "outputs": [
    {
     "data": {
      "text/plain": [
       "[('COMPLETE', 22899),\n",
       " ('PENDING_PAYMENT', 15030),\n",
       " ('PROCESSING', 8275),\n",
       " ('PENDING', 7610),\n",
       " ('CLOSED', 7556),\n",
       " ('ON_HOLD', 3798),\n",
       " ('SUSPECTED_FRAUD', 1558),\n",
       " ('CANCELED', 1428),\n",
       " ('PAYMENT_REVIEW', 729)]"
      ]
     },
     "execution_count": 11,
     "metadata": {},
     "output_type": "execute_result"
    }
   ],
   "source": [
    "reduced_sorted.collect()"
   ]
  },
  {
   "cell_type": "raw",
   "id": "a034b1de",
   "metadata": {},
   "source": [
    "customers_mapped = orders_rdd.map(lambda x :(x.split(\",\")[2],1))"
   ]
  },
  {
   "cell_type": "code",
   "execution_count": 12,
   "id": "3ba5ddba",
   "metadata": {},
   "outputs": [],
   "source": [
    "customers_mapped = orders_rdd.map(lambda x :(x.split(\",\")[2],1))"
   ]
  },
  {
   "cell_type": "code",
   "execution_count": 13,
   "id": "704cb41c",
   "metadata": {},
   "outputs": [
    {
     "data": {
      "text/plain": [
       "[('11599', 1),\n",
       " ('256', 1),\n",
       " ('12111', 1),\n",
       " ('8827', 1),\n",
       " ('11318', 1),\n",
       " ('7130', 1),\n",
       " ('4530', 1),\n",
       " ('2911', 1),\n",
       " ('5657', 1),\n",
       " ('5648', 1)]"
      ]
     },
     "execution_count": 13,
     "metadata": {},
     "output_type": "execute_result"
    }
   ],
   "source": [
    "customers_mapped.take(10)"
   ]
  },
  {
   "cell_type": "code",
   "execution_count": 14,
   "id": "ac590477",
   "metadata": {},
   "outputs": [],
   "source": [
    "customers_aggregrated = customers_mapped.reduceByKey(lambda x,y : x+y)"
   ]
  },
  {
   "cell_type": "code",
   "execution_count": 15,
   "id": "375240eb",
   "metadata": {},
   "outputs": [
    {
     "data": {
      "text/plain": [
       "[('256', 10),\n",
       " ('12111', 6),\n",
       " ('11318', 6),\n",
       " ('7130', 7),\n",
       " ('2911', 6),\n",
       " ('5657', 12),\n",
       " ('9149', 4),\n",
       " ('9842', 7),\n",
       " ('7276', 5),\n",
       " ('9488', 7)]"
      ]
     },
     "execution_count": 15,
     "metadata": {},
     "output_type": "execute_result"
    }
   ],
   "source": [
    "customers_aggregrated.take(10)"
   ]
  },
  {
   "cell_type": "code",
   "execution_count": 16,
   "id": "2bc721e5",
   "metadata": {},
   "outputs": [],
   "source": [
    "customers_sorted = customers_aggregrated.sortBy(lambda x : x[1],False)"
   ]
  },
  {
   "cell_type": "code",
   "execution_count": 17,
   "id": "1fa08381",
   "metadata": {},
   "outputs": [
    {
     "data": {
      "text/plain": [
       "[('6316', 16),\n",
       " ('12431', 16),\n",
       " ('569', 16),\n",
       " ('5897', 16),\n",
       " ('5283', 15),\n",
       " ('12284', 15),\n",
       " ('5654', 15),\n",
       " ('221', 15),\n",
       " ('4320', 15),\n",
       " ('5624', 15)]"
      ]
     },
     "execution_count": 17,
     "metadata": {},
     "output_type": "execute_result"
    }
   ],
   "source": [
    "customers_sorted.take(10)"
   ]
  },
  {
   "cell_type": "code",
   "execution_count": 18,
   "id": "f4289841",
   "metadata": {},
   "outputs": [],
   "source": [
    "distinct_customers = orders_rdd.map(lambda x : x.split(\",\")[2]).distinct()"
   ]
  },
  {
   "cell_type": "code",
   "execution_count": 19,
   "id": "1a1136fa",
   "metadata": {},
   "outputs": [
    {
     "data": {
      "text/plain": [
       "12405"
      ]
     },
     "execution_count": 19,
     "metadata": {},
     "output_type": "execute_result"
    }
   ],
   "source": [
    "distinct_customers.count()"
   ]
  },
  {
   "cell_type": "code",
   "execution_count": 20,
   "id": "edb053ba",
   "metadata": {},
   "outputs": [
    {
     "data": {
      "text/plain": [
       "68883"
      ]
     },
     "execution_count": 20,
     "metadata": {},
     "output_type": "execute_result"
    }
   ],
   "source": [
    "orders_rdd.count()"
   ]
  },
  {
   "cell_type": "code",
   "execution_count": 21,
   "id": "8e1780f1",
   "metadata": {},
   "outputs": [],
   "source": [
    "filtered_customers = orders_rdd.filter(lambda x : x.split(\",\")[3]== 'CLOSED')"
   ]
  },
  {
   "cell_type": "code",
   "execution_count": 22,
   "id": "1ed8e173",
   "metadata": {},
   "outputs": [
    {
     "data": {
      "text/plain": [
       "['1,2013-07-25 00:00:00.0,11599,CLOSED',\n",
       " '4,2013-07-25 00:00:00.0,8827,CLOSED',\n",
       " '12,2013-07-25 00:00:00.0,1837,CLOSED',\n",
       " '18,2013-07-25 00:00:00.0,1205,CLOSED',\n",
       " '24,2013-07-25 00:00:00.0,11441,CLOSED',\n",
       " '25,2013-07-25 00:00:00.0,9503,CLOSED',\n",
       " '37,2013-07-25 00:00:00.0,5863,CLOSED',\n",
       " '51,2013-07-25 00:00:00.0,12271,CLOSED',\n",
       " '57,2013-07-25 00:00:00.0,7073,CLOSED',\n",
       " '61,2013-07-25 00:00:00.0,4791,CLOSED']"
      ]
     },
     "execution_count": 22,
     "metadata": {},
     "output_type": "execute_result"
    }
   ],
   "source": [
    "filtered_customers.take(10)"
   ]
  },
  {
   "cell_type": "code",
   "execution_count": 23,
   "id": "285d1ebd",
   "metadata": {},
   "outputs": [],
   "source": [
    "mapped_customers = filtered_customers.map(lambda x : (x.split(\",\")[2],1))"
   ]
  },
  {
   "cell_type": "code",
   "execution_count": 26,
   "id": "a54239c9",
   "metadata": {},
   "outputs": [
    {
     "data": {
      "text/plain": [
       "[('11599', 1),\n",
       " ('8827', 1),\n",
       " ('1837', 1),\n",
       " ('1205', 1),\n",
       " ('11441', 1),\n",
       " ('9503', 1),\n",
       " ('5863', 1),\n",
       " ('12271', 1),\n",
       " ('7073', 1),\n",
       " ('4791', 1)]"
      ]
     },
     "execution_count": 26,
     "metadata": {},
     "output_type": "execute_result"
    }
   ],
   "source": [
    "mapped_customers.take(10)"
   ]
  },
  {
   "cell_type": "code",
   "execution_count": 27,
   "id": "3370182c",
   "metadata": {},
   "outputs": [],
   "source": [
    "reduced_customers = mapped_customers.reduceByKey(lambda x,y : x+y)"
   ]
  },
  {
   "cell_type": "code",
   "execution_count": 28,
   "id": "e62ebfde",
   "metadata": {},
   "outputs": [
    {
     "data": {
      "text/plain": [
       "[('5863', 1),\n",
       " ('12271', 2),\n",
       " ('7073', 1),\n",
       " ('3065', 2),\n",
       " ('5116', 2),\n",
       " ('8763', 1),\n",
       " ('10604', 2),\n",
       " ('16', 1),\n",
       " ('9055', 3),\n",
       " ('10372', 3)]"
      ]
     },
     "execution_count": 28,
     "metadata": {},
     "output_type": "execute_result"
    }
   ],
   "source": [
    "reduced_customers.take(10)"
   ]
  },
  {
   "cell_type": "code",
   "execution_count": null,
   "id": "2afe8e4d",
   "metadata": {},
   "outputs": [],
   "source": [
    "sorted_customers = reduced_customers.sortBy(lambda x : x[1], False)"
   ]
  }
 ],
 "metadata": {
  "kernelspec": {
   "display_name": "Pyspark 3",
   "language": "python",
   "name": "pyspark3"
  },
  "language_info": {
   "codemirror_mode": {
    "name": "ipython",
    "version": 3
   },
   "file_extension": ".py",
   "mimetype": "text/x-python",
   "name": "python",
   "nbconvert_exporter": "python",
   "pygments_lexer": "ipython3",
   "version": "3.6.12"
  }
 },
 "nbformat": 4,
 "nbformat_minor": 5
}
