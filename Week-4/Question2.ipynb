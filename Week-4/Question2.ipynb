{
 "cells": [
  {
   "cell_type": "code",
   "execution_count": 1,
   "id": "5effd6a2",
   "metadata": {},
   "outputs": [],
   "source": [
    "from pyspark.sql import SparkSession\n",
    "import getpass\n",
    "username = getpass.getuser()\n",
    "spark = SparkSession. \\\n",
    "builder. \\\n",
    "config('spark.ui.port','0'). \\\n",
    "config(\"spark.sql.warehouse.dir\", f\"/user/{username}/warehouse\"). \\\n",
    "enableHiveSupport(). \\\n",
    "master('yarn'). \\\n",
    "getOrCreate()"
   ]
  },
  {
   "cell_type": "code",
   "execution_count": 2,
   "id": "6fb3d5ef",
   "metadata": {},
   "outputs": [
    {
     "data": {
      "text/html": [
       "\n",
       "            <div>\n",
       "                <p><b>SparkSession - hive</b></p>\n",
       "                \n",
       "        <div>\n",
       "            <p><b>SparkContext</b></p>\n",
       "\n",
       "            <p><a href=\"http://g01.itversity.com:37789\">Spark UI</a></p>\n",
       "\n",
       "            <dl>\n",
       "              <dt>Version</dt>\n",
       "                <dd><code>v3.1.2</code></dd>\n",
       "              <dt>Master</dt>\n",
       "                <dd><code>yarn</code></dd>\n",
       "              <dt>AppName</dt>\n",
       "                <dd><code>pyspark-shell</code></dd>\n",
       "            </dl>\n",
       "        </div>\n",
       "        \n",
       "            </div>\n",
       "        "
      ],
      "text/plain": [
       "<pyspark.sql.session.SparkSession at 0x7efda3518668>"
      ]
     },
     "execution_count": 2,
     "metadata": {},
     "output_type": "execute_result"
    }
   ],
   "source": [
    "spark"
   ]
  },
  {
   "cell_type": "code",
   "execution_count": 3,
   "id": "7d18ada0",
   "metadata": {},
   "outputs": [],
   "source": [
    "cases_base = spark.sparkContext.textFile(\"/public/trendytech/covid19/cases\")"
   ]
  },
  {
   "cell_type": "code",
   "execution_count": 4,
   "id": "c642e506",
   "metadata": {},
   "outputs": [],
   "source": [
    "states_base = spark.sparkContext.textFile(\"/public/trendytech/covid19/states\")"
   ]
  },
  {
   "cell_type": "code",
   "execution_count": 7,
   "id": "ac688c08",
   "metadata": {},
   "outputs": [],
   "source": [
    "mapped1_rdd = cases_base.map(lambda x : (x.split(\",\")[1],(int(x.split(\",\")[2]))))"
   ]
  },
  {
   "cell_type": "code",
   "execution_count": 8,
   "id": "e3dc5d94",
   "metadata": {},
   "outputs": [
    {
     "data": {
      "text/plain": [
       "[('AP', 2), ('AP', 2), ('HP', 2), ('HP', 2), ('AS', 2)]"
      ]
     },
     "execution_count": 8,
     "metadata": {},
     "output_type": "execute_result"
    }
   ],
   "source": [
    "mapped1_rdd.take(5)"
   ]
  },
  {
   "cell_type": "code",
   "execution_count": 12,
   "id": "e15526b8",
   "metadata": {},
   "outputs": [],
   "source": [
    "reduced1_rdd = mapped1_rdd.reduceByKey(lambda x,y : x+y).sortBy(lambda x : x[1], False)"
   ]
  },
  {
   "cell_type": "code",
   "execution_count": 13,
   "id": "99d6af25",
   "metadata": {},
   "outputs": [
    {
     "data": {
      "text/plain": [
       "[('WA', 1701),\n",
       " ('GA', 1017),\n",
       " ('MH', 730),\n",
       " ('MI', 61),\n",
       " ('CA', 53),\n",
       " ('GJ', 35),\n",
       " ('BR', 23),\n",
       " ('JH', 13),\n",
       " ('CG', 8),\n",
       " ('RI', 6)]"
      ]
     },
     "execution_count": 13,
     "metadata": {},
     "output_type": "execute_result"
    }
   ],
   "source": [
    "reduced1_rdd.take(10)"
   ]
  },
  {
   "cell_type": "code",
   "execution_count": 18,
   "id": "a13d20ac",
   "metadata": {},
   "outputs": [],
   "source": [
    "icu_count = cases_base.map(lambda x : (int(x.split(\",\")[7]))).sum()"
   ]
  },
  {
   "cell_type": "code",
   "execution_count": 19,
   "id": "f67c1816",
   "metadata": {},
   "outputs": [
    {
     "name": "stdout",
     "output_type": "stream",
     "text": [
      "1344\n"
     ]
    }
   ],
   "source": [
    "print(icu_count)"
   ]
  },
  {
   "cell_type": "code",
   "execution_count": 20,
   "id": "3885b428",
   "metadata": {},
   "outputs": [],
   "source": [
    "mapped3_rdd = cases_base.map(lambda x : (x.split(\",\")[1],(int(x.split(\",\")[11]))))"
   ]
  },
  {
   "cell_type": "code",
   "execution_count": 21,
   "id": "a58e79f4",
   "metadata": {},
   "outputs": [],
   "source": [
    "reduced3_result = mapped3_rdd.reduceByKey(lambda x, y: x+y).sortBy(lambda x : x[1], False)"
   ]
  },
  {
   "cell_type": "code",
   "execution_count": 22,
   "id": "b9bff34d",
   "metadata": {},
   "outputs": [
    {
     "data": {
      "text/plain": [
       "[('WA', 451),\n",
       " ('MH', 165),\n",
       " ('MI', 101),\n",
       " ('GA', 87),\n",
       " ('AP', 84),\n",
       " ('RI', 72),\n",
       " ('BR', 68),\n",
       " ('JH', 50),\n",
       " ('KA', 43),\n",
       " ('AZ', 38),\n",
       " ('AS', 30),\n",
       " ('GJ', 27),\n",
       " ('CA', 23),\n",
       " ('HR', 20),\n",
       " ('HP', 19)]"
      ]
     },
     "execution_count": 22,
     "metadata": {},
     "output_type": "execute_result"
    }
   ],
   "source": [
    "reduced3_result.take(15)"
   ]
  },
  {
   "cell_type": "code",
   "execution_count": 23,
   "id": "ead72cc6",
   "metadata": {},
   "outputs": [],
   "source": [
    "mapped4_rdd = cases_base.map(lambda x : (x.split(\",\")[1],(int(x.split(\",\")[23]))))"
   ]
  },
  {
   "cell_type": "code",
   "execution_count": 25,
   "id": "3bd439f9",
   "metadata": {},
   "outputs": [],
   "source": [
    "reduced4_result = mapped4_rdd.reduceByKey(lambda x, y: x+y).sortBy(lambda x : x[1])"
   ]
  },
  {
   "cell_type": "code",
   "execution_count": 26,
   "id": "e4811650",
   "metadata": {},
   "outputs": [
    {
     "data": {
      "text/plain": [
       "[('AS', 9), ('JH', 10), ('CG', 31), ('HR', 32), ('HP', 37)]"
      ]
     },
     "execution_count": 26,
     "metadata": {},
     "output_type": "execute_result"
    }
   ],
   "source": [
    "reduced4_result.take(5)"
   ]
  },
  {
   "cell_type": "code",
   "execution_count": 28,
   "id": "60e7cd75",
   "metadata": {},
   "outputs": [],
   "source": [
    "mapped5_rdd = cases_base.map(lambda x : (int(x.split(\",\")[5]))).sum()"
   ]
  },
  {
   "cell_type": "code",
   "execution_count": 29,
   "id": "9c6118ae",
   "metadata": {},
   "outputs": [
    {
     "name": "stdout",
     "output_type": "stream",
     "text": [
      "1319\n"
     ]
    }
   ],
   "source": [
    "print(mapped5_rdd)"
   ]
  },
  {
   "cell_type": "code",
   "execution_count": 41,
   "id": "815df0e8",
   "metadata": {},
   "outputs": [],
   "source": [
    "mapped6_rdd = states_base.map(lambda x : (x.split(\",\")[0],(x.split(\",\")[5],int(x.split(\",\")[8]))))"
   ]
  },
  {
   "cell_type": "code",
   "execution_count": 42,
   "id": "afcae788",
   "metadata": {},
   "outputs": [],
   "source": [
    "mapped6_case_rdd = cases_base.map(lambda x : (x.split(\",\")[1],(int(x.split(\",\")[28]))))"
   ]
  },
  {
   "cell_type": "code",
   "execution_count": 43,
   "id": "fe9e6916",
   "metadata": {},
   "outputs": [],
   "source": [
    "total6_case = mapped6_case_rdd.reduceByKey(lambda x,y : x+y)"
   ]
  },
  {
   "cell_type": "code",
   "execution_count": 44,
   "id": "21d76157",
   "metadata": {},
   "outputs": [
    {
     "data": {
      "text/plain": [
       "[('AP', 4), ('HP', 4), ('AS', 2), ('CG', 8), ('BR', 23)]"
      ]
     },
     "execution_count": 44,
     "metadata": {},
     "output_type": "execute_result"
    }
   ],
   "source": [
    "total6_case.take(5)"
   ]
  },
  {
   "cell_type": "code",
   "execution_count": 45,
   "id": "5b571aa6",
   "metadata": {},
   "outputs": [
    {
     "data": {
      "text/plain": [
       "[('HP', ('@HPCovid', 53)),\n",
       " ('AS', ('@ASCovid', 6)),\n",
       " ('HR', ('@HRCovid', 9)),\n",
       " ('KA', ('@KACovid', 53))]"
      ]
     },
     "execution_count": 45,
     "metadata": {},
     "output_type": "execute_result"
    }
   ],
   "source": [
    "mapped6_rdd.take(4)"
   ]
  },
  {
   "cell_type": "code",
   "execution_count": 46,
   "id": "48efa69f",
   "metadata": {},
   "outputs": [],
   "source": [
    "joined6_rdd = total6_case.join(mapped6_rdd)"
   ]
  },
  {
   "cell_type": "code",
   "execution_count": 47,
   "id": "1ac9dca6",
   "metadata": {},
   "outputs": [
    {
     "data": {
      "text/plain": [
       "[('MH', (730, ('@MHCovid', 26))),\n",
       " ('AS', (2, ('@ASCovid', 6))),\n",
       " ('GJ', (35, ('@GJCovid', 44))),\n",
       " ('HR', (2, ('@HRCovid', 9))),\n",
       " ('KA', (5, ('@KACovid', 53)))]"
      ]
     },
     "execution_count": 47,
     "metadata": {},
     "output_type": "execute_result"
    }
   ],
   "source": [
    "joined6_rdd.take(5)"
   ]
  },
  {
   "cell_type": "code",
   "execution_count": 48,
   "id": "fa50f488",
   "metadata": {},
   "outputs": [],
   "source": [
    "final6_rdd = joined6_rdd.sortBy(lambda x: x[1][0],False)"
   ]
  },
  {
   "cell_type": "code",
   "execution_count": 49,
   "id": "e808eb0f",
   "metadata": {},
   "outputs": [
    {
     "data": {
      "text/plain": [
       "[('WA', (2100, ('@WACovid', 44))),\n",
       " ('GA', (1034, ('@GACovid', 44))),\n",
       " ('MH', (730, ('@MHCovid', 26))),\n",
       " ('CA', (515, ('@CACovid', 4))),\n",
       " ('MI', (61, ('@MICovid', 53))),\n",
       " ('GJ', (35, ('@GJCovid', 44))),\n",
       " ('AZ', (34, ('@AZCovid', 53))),\n",
       " ('BR', (23, ('@BRCovid', 53))),\n",
       " ('RI', (16, ('@RICovid', 26))),\n",
       " ('JH', (13, ('@JHCovid', 53)))]"
      ]
     },
     "execution_count": 49,
     "metadata": {},
     "output_type": "execute_result"
    }
   ],
   "source": [
    "final6_rdd.take(10)"
   ]
  },
  {
   "cell_type": "code",
   "execution_count": 50,
   "id": "f48e4ef8",
   "metadata": {},
   "outputs": [],
   "source": [
    "spark.stop()"
   ]
  },
  {
   "cell_type": "code",
   "execution_count": null,
   "id": "6c9b3ab9",
   "metadata": {},
   "outputs": [],
   "source": []
  }
 ],
 "metadata": {
  "kernelspec": {
   "display_name": "Pyspark 3",
   "language": "python",
   "name": "pyspark3"
  },
  "language_info": {
   "codemirror_mode": {
    "name": "ipython",
    "version": 3
   },
   "file_extension": ".py",
   "mimetype": "text/x-python",
   "name": "python",
   "nbconvert_exporter": "python",
   "pygments_lexer": "ipython3",
   "version": "3.6.12"
  }
 },
 "nbformat": 4,
 "nbformat_minor": 5
}
