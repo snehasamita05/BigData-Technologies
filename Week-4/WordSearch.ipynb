{
 "cells": [
  {
   "cell_type": "code",
   "execution_count": 3,
   "id": "0f4f566a",
   "metadata": {},
   "outputs": [],
   "source": [
    "from pyspark.sql import SparkSession\n",
    "import getpass\n",
    "username = getpass.getuser()\n",
    "spark = SparkSession. \\\n",
    "builder. \\\n",
    "config('spark.ui.port','0'). \\\n",
    "config(\"spark.sql.warehouse.dir\", f\"/user/{username}/warehouse\"). \\\n",
    "enableHiveSupport(). \\\n",
    "master('yarn'). \\\n",
    "getOrCreate()\n"
   ]
  },
  {
   "cell_type": "code",
   "execution_count": 2,
   "id": "a43e1d88",
   "metadata": {},
   "outputs": [
    {
     "data": {
      "text/html": [
       "\n",
       "            <div>\n",
       "                <p><b>SparkSession - hive</b></p>\n",
       "                \n",
       "        <div>\n",
       "            <p><b>SparkContext</b></p>\n",
       "\n",
       "            <p><a href=\"http://g01.itversity.com:40335\">Spark UI</a></p>\n",
       "\n",
       "            <dl>\n",
       "              <dt>Version</dt>\n",
       "                <dd><code>v3.1.2</code></dd>\n",
       "              <dt>Master</dt>\n",
       "                <dd><code>yarn</code></dd>\n",
       "              <dt>AppName</dt>\n",
       "                <dd><code>pyspark-shell</code></dd>\n",
       "            </dl>\n",
       "        </div>\n",
       "        \n",
       "            </div>\n",
       "        "
      ],
      "text/plain": [
       "<pyspark.sql.session.SparkSession at 0x7f287f5195f8>"
      ]
     },
     "execution_count": 2,
     "metadata": {},
     "output_type": "execute_result"
    }
   ],
   "source": [
    "spark\n"
   ]
  },
  {
   "cell_type": "code",
   "execution_count": 5,
   "id": "27fa116e",
   "metadata": {},
   "outputs": [],
   "source": [
    "rdd1 = spark.sparkContext.textFile(\"/user/itv017244/data/input/inputfile.txt\")"
   ]
  },
  {
   "cell_type": "code",
   "execution_count": 6,
   "id": "b4f22fab",
   "metadata": {},
   "outputs": [
    {
     "data": {
      "text/plain": [
       "['I am Sneha Samita',\n",
       " 'I like to learn new technologies',\n",
       " 'Currently i am learning BigData.',\n",
       " 'BigData is very interesting.',\n",
       " 'Learning new technologies is fun.']"
      ]
     },
     "execution_count": 6,
     "metadata": {},
     "output_type": "execute_result"
    }
   ],
   "source": [
    "rdd1.collect()"
   ]
  },
  {
   "cell_type": "code",
   "execution_count": 7,
   "id": "446ada5d",
   "metadata": {},
   "outputs": [],
   "source": [
    "rdd2 = rdd1.flatMap(lambda line : line.split(\" \"))"
   ]
  },
  {
   "cell_type": "code",
   "execution_count": 8,
   "id": "5e3316ef",
   "metadata": {},
   "outputs": [
    {
     "data": {
      "text/plain": [
       "['I',\n",
       " 'am',\n",
       " 'Sneha',\n",
       " 'Samita',\n",
       " 'I',\n",
       " 'like',\n",
       " 'to',\n",
       " 'learn',\n",
       " 'new',\n",
       " 'technologies',\n",
       " 'Currently',\n",
       " 'i',\n",
       " 'am',\n",
       " 'learning',\n",
       " 'BigData.',\n",
       " 'BigData',\n",
       " 'is',\n",
       " 'very',\n",
       " 'interesting.',\n",
       " 'Learning',\n",
       " 'new',\n",
       " 'technologies',\n",
       " 'is',\n",
       " 'fun.']"
      ]
     },
     "execution_count": 8,
     "metadata": {},
     "output_type": "execute_result"
    }
   ],
   "source": [
    "rdd2.collect()"
   ]
  },
  {
   "cell_type": "code",
   "execution_count": 9,
   "id": "017669a9",
   "metadata": {},
   "outputs": [],
   "source": [
    "rdd3 = rdd2.map(lambda word : (word,1))"
   ]
  },
  {
   "cell_type": "code",
   "execution_count": 10,
   "id": "2f99b0a8",
   "metadata": {},
   "outputs": [
    {
     "data": {
      "text/plain": [
       "[('I', 1),\n",
       " ('am', 1),\n",
       " ('Sneha', 1),\n",
       " ('Samita', 1),\n",
       " ('I', 1),\n",
       " ('like', 1),\n",
       " ('to', 1),\n",
       " ('learn', 1),\n",
       " ('new', 1),\n",
       " ('technologies', 1),\n",
       " ('Currently', 1),\n",
       " ('i', 1),\n",
       " ('am', 1),\n",
       " ('learning', 1),\n",
       " ('BigData.', 1),\n",
       " ('BigData', 1),\n",
       " ('is', 1),\n",
       " ('very', 1),\n",
       " ('interesting.', 1),\n",
       " ('Learning', 1),\n",
       " ('new', 1),\n",
       " ('technologies', 1),\n",
       " ('is', 1),\n",
       " ('fun.', 1)]"
      ]
     },
     "execution_count": 10,
     "metadata": {},
     "output_type": "execute_result"
    }
   ],
   "source": [
    "rdd3.collect()"
   ]
  },
  {
   "cell_type": "code",
   "execution_count": 13,
   "id": "1458a126",
   "metadata": {},
   "outputs": [],
   "source": [
    "rdd4 = rdd3.reduceByKey(lambda x,y : x+y)"
   ]
  },
  {
   "cell_type": "code",
   "execution_count": 14,
   "id": "69ec8b2f",
   "metadata": {},
   "outputs": [
    {
     "data": {
      "text/plain": [
       "[('is', 2),\n",
       " ('very', 1),\n",
       " ('new', 2),\n",
       " ('am', 2),\n",
       " ('Sneha', 1),\n",
       " ('Samita', 1),\n",
       " ('like', 1),\n",
       " ('Currently', 1),\n",
       " ('i', 1),\n",
       " ('learning', 1),\n",
       " ('BigData.', 1),\n",
       " ('I', 2),\n",
       " ('to', 1),\n",
       " ('learn', 1),\n",
       " ('technologies', 2),\n",
       " ('BigData', 1),\n",
       " ('interesting.', 1),\n",
       " ('Learning', 1),\n",
       " ('fun.', 1)]"
      ]
     },
     "execution_count": 14,
     "metadata": {},
     "output_type": "execute_result"
    }
   ],
   "source": [
    "rdd4.collect()"
   ]
  },
  {
   "cell_type": "code",
   "execution_count": 15,
   "id": "cdfc14df",
   "metadata": {},
   "outputs": [],
   "source": [
    "rdd4.saveAsTextFile(\"/user/itv017244/data/newputput\")"
   ]
  },
  {
   "cell_type": "code",
   "execution_count": null,
   "id": "f038cc77",
   "metadata": {},
   "outputs": [],
   "source": []
  }
 ],
 "metadata": {
  "kernelspec": {
   "display_name": "Pyspark 3",
   "language": "python",
   "name": "pyspark3"
  },
  "language_info": {
   "codemirror_mode": {
    "name": "ipython",
    "version": 3
   },
   "file_extension": ".py",
   "mimetype": "text/x-python",
   "name": "python",
   "nbconvert_exporter": "python",
   "pygments_lexer": "ipython3",
   "version": "3.6.12"
  }
 },
 "nbformat": 4,
 "nbformat_minor": 5
}
