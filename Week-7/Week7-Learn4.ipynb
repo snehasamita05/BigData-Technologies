{
 "cells": [
  {
   "cell_type": "code",
   "execution_count": 49,
   "id": "393a5866",
   "metadata": {},
   "outputs": [],
   "source": [
    "from pyspark.sql import SparkSession\n",
    "import getpass\n",
    "username = getpass.getuser()\n",
    "spark = SparkSession. \\\n",
    "builder. \\\n",
    "appName(\"Sneha Spark Session\").\\\n",
    "config(\"spark.sql.warehouse.dir\", f\"/user/{username}/warehouse\"). \\\n",
    "enableHiveSupport(). \\\n",
    "master('yarn'). \\\n",
    "getOrCreate()"
   ]
  },
  {
   "cell_type": "code",
   "execution_count": 50,
   "id": "bcbd9efb",
   "metadata": {},
   "outputs": [
    {
     "data": {
      "text/html": [
       "\n",
       "            <div>\n",
       "                <p><b>SparkSession - hive</b></p>\n",
       "                \n",
       "        <div>\n",
       "            <p><b>SparkContext</b></p>\n",
       "\n",
       "            <p><a href=\"http://g01.itversity.com:4040\">Spark UI</a></p>\n",
       "\n",
       "            <dl>\n",
       "              <dt>Version</dt>\n",
       "                <dd><code>v3.1.2</code></dd>\n",
       "              <dt>Master</dt>\n",
       "                <dd><code>yarn</code></dd>\n",
       "              <dt>AppName</dt>\n",
       "                <dd><code>Sneha Spark Session</code></dd>\n",
       "            </dl>\n",
       "        </div>\n",
       "        \n",
       "            </div>\n",
       "        "
      ],
      "text/plain": [
       "<pyspark.sql.session.SparkSession at 0x7fa66cf251d0>"
      ]
     },
     "execution_count": 50,
     "metadata": {},
     "output_type": "execute_result"
    }
   ],
   "source": [
    "spark"
   ]
  },
  {
   "cell_type": "code",
   "execution_count": 3,
   "id": "0b095bfe",
   "metadata": {},
   "outputs": [],
   "source": [
    "order_schema = 'order_id long, order_date date, customer_id long, order_status string'"
   ]
  },
  {
   "cell_type": "code",
   "execution_count": 4,
   "id": "12083156",
   "metadata": {},
   "outputs": [],
   "source": [
    "order_df = spark.read.\\\n",
    "format(\"csv\").\\\n",
    "schema(order_schema).\\\n",
    "load(\"/public/trendytech/orders/orders_1gb.csv\")"
   ]
  },
  {
   "cell_type": "code",
   "execution_count": 5,
   "id": "91ee63cf",
   "metadata": {},
   "outputs": [
    {
     "name": "stdout",
     "output_type": "stream",
     "text": [
      "+--------+----------+-----------+---------------+\n",
      "|order_id|order_date|customer_id|   order_status|\n",
      "+--------+----------+-----------+---------------+\n",
      "|       1|2013-07-25|      11599|         CLOSED|\n",
      "|       2|2013-07-25|        256|PENDING_PAYMENT|\n",
      "|       3|2013-07-25|      12111|       COMPLETE|\n",
      "|       4|2013-07-25|       8827|         CLOSED|\n",
      "|       5|2013-07-25|      11318|       COMPLETE|\n",
      "|       6|2013-07-25|       7130|       COMPLETE|\n",
      "|       7|2013-07-25|       4530|       COMPLETE|\n",
      "|       8|2013-07-25|       2911|     PROCESSING|\n",
      "|       9|2013-07-25|       5657|PENDING_PAYMENT|\n",
      "|      10|2013-07-25|       5648|PENDING_PAYMENT|\n",
      "|      11|2013-07-25|        918| PAYMENT_REVIEW|\n",
      "|      12|2013-07-25|       1837|         CLOSED|\n",
      "|      13|2013-07-25|       9149|PENDING_PAYMENT|\n",
      "|      14|2013-07-25|       9842|     PROCESSING|\n",
      "|      15|2013-07-25|       2568|       COMPLETE|\n",
      "|      16|2013-07-25|       7276|PENDING_PAYMENT|\n",
      "|      17|2013-07-25|       2667|       COMPLETE|\n",
      "|      18|2013-07-25|       1205|         CLOSED|\n",
      "|      19|2013-07-25|       9488|PENDING_PAYMENT|\n",
      "|      20|2013-07-25|       9198|     PROCESSING|\n",
      "+--------+----------+-----------+---------------+\n",
      "only showing top 20 rows\n",
      "\n"
     ]
    }
   ],
   "source": [
    "order_df.show()"
   ]
  },
  {
   "cell_type": "raw",
   "id": "a9d31f69",
   "metadata": {},
   "source": [
    "spark.sql(\"create database itv017244_cachingdemo_db \")"
   ]
  },
  {
   "cell_type": "code",
   "execution_count": 6,
   "id": "811c37aa",
   "metadata": {},
   "outputs": [
    {
     "ename": "AnalysisException",
     "evalue": "Table `itv017244_cachingdemo_db`.`itv017244_order1` already exists.",
     "output_type": "error",
     "traceback": [
      "\u001b[0;31m---------------------------------------------------------------------------\u001b[0m",
      "\u001b[0;31mAnalysisException\u001b[0m                         Traceback (most recent call last)",
      "\u001b[0;32m<ipython-input-6-6fcdb8f4eaf8>\u001b[0m in \u001b[0;36m<module>\u001b[0;34m\u001b[0m\n\u001b[0;32m----> 1\u001b[0;31m \u001b[0morder_df\u001b[0m\u001b[0;34m.\u001b[0m\u001b[0mwrite\u001b[0m\u001b[0;34m.\u001b[0m\u001b[0mformat\u001b[0m\u001b[0;34m(\u001b[0m\u001b[0;34m\"csv\"\u001b[0m\u001b[0;34m)\u001b[0m\u001b[0;34m.\u001b[0m\u001b[0msaveAsTable\u001b[0m\u001b[0;34m(\u001b[0m\u001b[0;34m\"itv017244_cachingdemo_db.itv017244_order1\"\u001b[0m\u001b[0;34m)\u001b[0m\u001b[0;34m\u001b[0m\u001b[0;34m\u001b[0m\u001b[0m\n\u001b[0m",
      "\u001b[0;32m/opt/spark-3.1.2-bin-hadoop3.2/python/pyspark/sql/readwriter.py\u001b[0m in \u001b[0;36msaveAsTable\u001b[0;34m(self, name, format, mode, partitionBy, **options)\u001b[0m\n\u001b[1;32m   1156\u001b[0m         \u001b[0;32mif\u001b[0m \u001b[0mformat\u001b[0m \u001b[0;32mis\u001b[0m \u001b[0;32mnot\u001b[0m \u001b[0;32mNone\u001b[0m\u001b[0;34m:\u001b[0m\u001b[0;34m\u001b[0m\u001b[0;34m\u001b[0m\u001b[0m\n\u001b[1;32m   1157\u001b[0m             \u001b[0mself\u001b[0m\u001b[0;34m.\u001b[0m\u001b[0mformat\u001b[0m\u001b[0;34m(\u001b[0m\u001b[0mformat\u001b[0m\u001b[0;34m)\u001b[0m\u001b[0;34m\u001b[0m\u001b[0;34m\u001b[0m\u001b[0m\n\u001b[0;32m-> 1158\u001b[0;31m         \u001b[0mself\u001b[0m\u001b[0;34m.\u001b[0m\u001b[0m_jwrite\u001b[0m\u001b[0;34m.\u001b[0m\u001b[0msaveAsTable\u001b[0m\u001b[0;34m(\u001b[0m\u001b[0mname\u001b[0m\u001b[0;34m)\u001b[0m\u001b[0;34m\u001b[0m\u001b[0;34m\u001b[0m\u001b[0m\n\u001b[0m\u001b[1;32m   1159\u001b[0m \u001b[0;34m\u001b[0m\u001b[0m\n\u001b[1;32m   1160\u001b[0m     def json(self, path, mode=None, compression=None, dateFormat=None, timestampFormat=None,\n",
      "\u001b[0;32m/opt/spark-3.1.2-bin-hadoop3.2/python/lib/py4j-0.10.9-src.zip/py4j/java_gateway.py\u001b[0m in \u001b[0;36m__call__\u001b[0;34m(self, *args)\u001b[0m\n\u001b[1;32m   1303\u001b[0m         \u001b[0manswer\u001b[0m \u001b[0;34m=\u001b[0m \u001b[0mself\u001b[0m\u001b[0;34m.\u001b[0m\u001b[0mgateway_client\u001b[0m\u001b[0;34m.\u001b[0m\u001b[0msend_command\u001b[0m\u001b[0;34m(\u001b[0m\u001b[0mcommand\u001b[0m\u001b[0;34m)\u001b[0m\u001b[0;34m\u001b[0m\u001b[0;34m\u001b[0m\u001b[0m\n\u001b[1;32m   1304\u001b[0m         return_value = get_return_value(\n\u001b[0;32m-> 1305\u001b[0;31m             answer, self.gateway_client, self.target_id, self.name)\n\u001b[0m\u001b[1;32m   1306\u001b[0m \u001b[0;34m\u001b[0m\u001b[0m\n\u001b[1;32m   1307\u001b[0m         \u001b[0;32mfor\u001b[0m \u001b[0mtemp_arg\u001b[0m \u001b[0;32min\u001b[0m \u001b[0mtemp_args\u001b[0m\u001b[0;34m:\u001b[0m\u001b[0;34m\u001b[0m\u001b[0;34m\u001b[0m\u001b[0m\n",
      "\u001b[0;32m/opt/spark-3.1.2-bin-hadoop3.2/python/pyspark/sql/utils.py\u001b[0m in \u001b[0;36mdeco\u001b[0;34m(*a, **kw)\u001b[0m\n\u001b[1;32m    115\u001b[0m                 \u001b[0;31m# Hide where the exception came from that shows a non-Pythonic\u001b[0m\u001b[0;34m\u001b[0m\u001b[0;34m\u001b[0m\u001b[0;34m\u001b[0m\u001b[0m\n\u001b[1;32m    116\u001b[0m                 \u001b[0;31m# JVM exception message.\u001b[0m\u001b[0;34m\u001b[0m\u001b[0;34m\u001b[0m\u001b[0;34m\u001b[0m\u001b[0m\n\u001b[0;32m--> 117\u001b[0;31m                 \u001b[0;32mraise\u001b[0m \u001b[0mconverted\u001b[0m \u001b[0;32mfrom\u001b[0m \u001b[0;32mNone\u001b[0m\u001b[0;34m\u001b[0m\u001b[0;34m\u001b[0m\u001b[0m\n\u001b[0m\u001b[1;32m    118\u001b[0m             \u001b[0;32melse\u001b[0m\u001b[0;34m:\u001b[0m\u001b[0;34m\u001b[0m\u001b[0;34m\u001b[0m\u001b[0m\n\u001b[1;32m    119\u001b[0m                 \u001b[0;32mraise\u001b[0m\u001b[0;34m\u001b[0m\u001b[0;34m\u001b[0m\u001b[0m\n",
      "\u001b[0;31mAnalysisException\u001b[0m: Table `itv017244_cachingdemo_db`.`itv017244_order1` already exists."
     ]
    }
   ],
   "source": [
    "order_df.write.format(\"csv\").saveAsTable(\"itv017244_cachingdemo_db.itv017244_order1\")"
   ]
  },
  {
   "cell_type": "code",
   "execution_count": 7,
   "id": "337d1fe8",
   "metadata": {},
   "outputs": [
    {
     "name": "stdout",
     "output_type": "stream",
     "text": [
      "+--------------------+--------------------+-------+\n",
      "|            col_name|           data_type|comment|\n",
      "+--------------------+--------------------+-------+\n",
      "|            order_id|              bigint|   null|\n",
      "|          order_date|                date|   null|\n",
      "|         customer_id|              bigint|   null|\n",
      "|        order_status|              string|   null|\n",
      "|                    |                    |       |\n",
      "|# Detailed Table ...|                    |       |\n",
      "|            Database|itv017244_caching...|       |\n",
      "|               Table|    itv017244_order1|       |\n",
      "|               Owner|           itv017244|       |\n",
      "|        Created Time|Mon Feb 24 13:41:...|       |\n",
      "|         Last Access|             UNKNOWN|       |\n",
      "|          Created By|         Spark 3.1.2|       |\n",
      "|                Type|             MANAGED|       |\n",
      "|            Provider|                 csv|       |\n",
      "|          Statistics|     840836656 bytes|       |\n",
      "|            Location|hdfs://m01.itvers...|       |\n",
      "|       Serde Library|org.apache.hadoop...|       |\n",
      "|         InputFormat|org.apache.hadoop...|       |\n",
      "|        OutputFormat|org.apache.hadoop...|       |\n",
      "+--------------------+--------------------+-------+\n",
      "\n"
     ]
    }
   ],
   "source": [
    "spark.sql(\"Describe extended itv017244_cachingdemo_db.itv017244_order1\").show()"
   ]
  },
  {
   "cell_type": "code",
   "execution_count": 8,
   "id": "05d3a5a7",
   "metadata": {},
   "outputs": [
    {
     "name": "stdout",
     "output_type": "stream",
     "text": [
      "+--------+\n",
      "|count(1)|\n",
      "+--------+\n",
      "|25831126|\n",
      "+--------+\n",
      "\n"
     ]
    }
   ],
   "source": [
    "spark.sql(\"select count(*) from  itv017244_cachingdemo_db.itv017244_order1\").show()"
   ]
  },
  {
   "cell_type": "code",
   "execution_count": 9,
   "id": "65e22099",
   "metadata": {},
   "outputs": [
    {
     "data": {
      "text/html": [
       "<table border='1'>\n",
       "<tr><th></th></tr>\n",
       "</table>\n"
      ],
      "text/plain": [
       "++\n",
       "||\n",
       "++\n",
       "++"
      ]
     },
     "execution_count": 9,
     "metadata": {},
     "output_type": "execute_result"
    }
   ],
   "source": [
    "spark.sql(\"cache table itv017244_cachingdemo_db.itv017244_order1\")"
   ]
  },
  {
   "cell_type": "code",
   "execution_count": 10,
   "id": "55d419ec",
   "metadata": {},
   "outputs": [
    {
     "name": "stdout",
     "output_type": "stream",
     "text": [
      "+--------+\n",
      "|count(1)|\n",
      "+--------+\n",
      "|25831126|\n",
      "+--------+\n",
      "\n"
     ]
    }
   ],
   "source": [
    "spark.sql(\"select count(*) from  itv017244_cachingdemo_db.itv017244_order1\").show()"
   ]
  },
  {
   "cell_type": "code",
   "execution_count": 11,
   "id": "f5337aec",
   "metadata": {},
   "outputs": [
    {
     "name": "stdout",
     "output_type": "stream",
     "text": [
      "+---------------+\n",
      "|   order_status|\n",
      "+---------------+\n",
      "|PENDING_PAYMENT|\n",
      "|       COMPLETE|\n",
      "|        ON_HOLD|\n",
      "| PAYMENT_REVIEW|\n",
      "|         BOOKED|\n",
      "|     PROCESSING|\n",
      "|         CLOSED|\n",
      "|SUSPECTED_FRAUD|\n",
      "|        PENDING|\n",
      "|       CANCELED|\n",
      "+---------------+\n",
      "\n"
     ]
    }
   ],
   "source": [
    "spark.sql(\"select distinct(order_status) from itv017244_cachingdemo_db.itv017244_order1\").show()"
   ]
  },
  {
   "cell_type": "code",
   "execution_count": 12,
   "id": "596f9d6d",
   "metadata": {},
   "outputs": [
    {
     "data": {
      "text/plain": [
       "10"
      ]
     },
     "execution_count": 12,
     "metadata": {},
     "output_type": "execute_result"
    }
   ],
   "source": [
    "spark.sql(\"select distinct(order_status) from itv017244_cachingdemo_db.itv017244_order1\").count()"
   ]
  },
  {
   "cell_type": "code",
   "execution_count": 13,
   "id": "618fbcff",
   "metadata": {},
   "outputs": [
    {
     "data": {
      "text/html": [
       "<table border='1'>\n",
       "<tr><th></th></tr>\n",
       "</table>\n"
      ],
      "text/plain": [
       "++\n",
       "||\n",
       "++\n",
       "++"
      ]
     },
     "execution_count": 13,
     "metadata": {},
     "output_type": "execute_result"
    }
   ],
   "source": [
    "spark.sql(\"uncache table itv017244_cachingdemo_db.itv017244_order1\")"
   ]
  },
  {
   "cell_type": "code",
   "execution_count": 14,
   "id": "5e6488c6",
   "metadata": {},
   "outputs": [
    {
     "data": {
      "text/html": [
       "<table border='1'>\n",
       "<tr><th></th></tr>\n",
       "</table>\n"
      ],
      "text/plain": [
       "++\n",
       "||\n",
       "++\n",
       "++"
      ]
     },
     "execution_count": 14,
     "metadata": {},
     "output_type": "execute_result"
    }
   ],
   "source": [
    "spark.sql(\"cache lazy table itv017244_cachingdemo_db.itv017244_order1\")"
   ]
  },
  {
   "cell_type": "code",
   "execution_count": 15,
   "id": "053f083c",
   "metadata": {},
   "outputs": [
    {
     "data": {
      "text/html": [
       "<table border='1'>\n",
       "<tr><th>count(DISTINCT order_status)</th></tr>\n",
       "<tr><td>10</td></tr>\n",
       "</table>\n"
      ],
      "text/plain": [
       "+----------------------------+\n",
       "|count(DISTINCT order_status)|\n",
       "+----------------------------+\n",
       "|                          10|\n",
       "+----------------------------+"
      ]
     },
     "execution_count": 15,
     "metadata": {},
     "output_type": "execute_result"
    }
   ],
   "source": [
    "spark.sql(\"select count(distinct(order_status)) from itv017244_cachingdemo_db.itv017244_order1\")"
   ]
  },
  {
   "cell_type": "code",
   "execution_count": 16,
   "id": "4aaad44a",
   "metadata": {},
   "outputs": [
    {
     "name": "stdout",
     "output_type": "stream",
     "text": [
      "+---------------+-------+\n",
      "|   order_status|   from|\n",
      "+---------------+-------+\n",
      "|PENDING_PAYMENT|5636250|\n",
      "|       COMPLETE|8587125|\n",
      "|        ON_HOLD|1424250|\n",
      "| PAYMENT_REVIEW| 273375|\n",
      "|         BOOKED|      1|\n",
      "|     PROCESSING|3103125|\n",
      "|         CLOSED|2833500|\n",
      "|SUSPECTED_FRAUD| 584250|\n",
      "|        PENDING|2853750|\n",
      "|       CANCELED| 535500|\n",
      "+---------------+-------+\n",
      "\n"
     ]
    }
   ],
   "source": [
    "spark.sql(\"select order_status, count(*) from from itv017244_cachingdemo_db.itv017244_order1 group by order_status\").show()"
   ]
  },
  {
   "cell_type": "code",
   "execution_count": 17,
   "id": "0433b8e6",
   "metadata": {},
   "outputs": [
    {
     "data": {
      "text/html": [
       "<table border='1'>\n",
       "<tr><th></th></tr>\n",
       "</table>\n"
      ],
      "text/plain": [
       "++\n",
       "||\n",
       "++\n",
       "++"
      ]
     },
     "execution_count": 17,
     "metadata": {},
     "output_type": "execute_result"
    }
   ],
   "source": [
    "spark.sql(\"insert into itv017244_cachingdemo_db.itv017244_order1 values(11111, CAST('2023-05-29' AS DATE), 222222, 'BOOKED')\")"
   ]
  },
  {
   "cell_type": "code",
   "execution_count": 18,
   "id": "2a09b7a9",
   "metadata": {},
   "outputs": [
    {
     "data": {
      "text/html": [
       "<table border='1'>\n",
       "<tr><th>count(DISTINCT order_status)</th></tr>\n",
       "<tr><td>10</td></tr>\n",
       "</table>\n"
      ],
      "text/plain": [
       "+----------------------------+\n",
       "|count(DISTINCT order_status)|\n",
       "+----------------------------+\n",
       "|                          10|\n",
       "+----------------------------+"
      ]
     },
     "execution_count": 18,
     "metadata": {},
     "output_type": "execute_result"
    }
   ],
   "source": [
    "spark.sql(\"select count(distinct(order_status)) from itv017244_cachingdemo_db.itv017244_order1\")"
   ]
  },
  {
   "cell_type": "code",
   "execution_count": 19,
   "id": "7fea6f5f",
   "metadata": {},
   "outputs": [
    {
     "data": {
      "text/html": [
       "<table border='1'>\n",
       "<tr><th></th></tr>\n",
       "</table>\n"
      ],
      "text/plain": [
       "++\n",
       "||\n",
       "++\n",
       "++"
      ]
     },
     "execution_count": 19,
     "metadata": {},
     "output_type": "execute_result"
    }
   ],
   "source": [
    "spark.sql(\"clear cache\")"
   ]
  },
  {
   "cell_type": "code",
   "execution_count": 20,
   "id": "f2a41d49",
   "metadata": {},
   "outputs": [
    {
     "data": {
      "text/html": [
       "<table border='1'>\n",
       "<tr><th></th></tr>\n",
       "</table>\n"
      ],
      "text/plain": [
       "++\n",
       "||\n",
       "++\n",
       "++"
      ]
     },
     "execution_count": 20,
     "metadata": {},
     "output_type": "execute_result"
    }
   ],
   "source": [
    "spark.sql(\"cache table itv017244_cachingdemo_db.itv017244_order1\")"
   ]
  },
  {
   "cell_type": "code",
   "execution_count": 21,
   "id": "0968d370",
   "metadata": {},
   "outputs": [
    {
     "data": {
      "text/plain": [
       "'default'"
      ]
     },
     "execution_count": 21,
     "metadata": {},
     "output_type": "execute_result"
    }
   ],
   "source": [
    "spark.catalog.currentDatabase()"
   ]
  },
  {
   "cell_type": "code",
   "execution_count": 22,
   "id": "462b6614",
   "metadata": {},
   "outputs": [
    {
     "data": {
      "text/html": [
       "<table border='1'>\n",
       "<tr><th></th></tr>\n",
       "</table>\n"
      ],
      "text/plain": [
       "++\n",
       "||\n",
       "++\n",
       "++"
      ]
     },
     "execution_count": 22,
     "metadata": {},
     "output_type": "execute_result"
    }
   ],
   "source": [
    "spark.sql(\"use itv017244_cachingdemo_db\")"
   ]
  },
  {
   "cell_type": "code",
   "execution_count": 24,
   "id": "f6833645",
   "metadata": {},
   "outputs": [
    {
     "data": {
      "text/plain": [
       "True"
      ]
     },
     "execution_count": 24,
     "metadata": {},
     "output_type": "execute_result"
    }
   ],
   "source": [
    "spark.catalog.isCached(\"itv017244_cachingdemo_db.itv017244_order1\")"
   ]
  },
  {
   "cell_type": "code",
   "execution_count": 27,
   "id": "616a8fdc",
   "metadata": {},
   "outputs": [],
   "source": [
    "spark.catalog.uncacheTable(\"itv017244_cachingdemo_db.itv017244_order1\")"
   ]
  },
  {
   "cell_type": "code",
   "execution_count": 28,
   "id": "9f5f59a5",
   "metadata": {},
   "outputs": [
    {
     "data": {
      "text/plain": [
       "False"
      ]
     },
     "execution_count": 28,
     "metadata": {},
     "output_type": "execute_result"
    }
   ],
   "source": [
    "spark.catalog.isCached(\"itv017244_cachingdemo_db.itv017244_order1\")"
   ]
  },
  {
   "cell_type": "code",
   "execution_count": 30,
   "id": "751ceeb6",
   "metadata": {},
   "outputs": [],
   "source": [
    "spark.catalog.clearCache()"
   ]
  },
  {
   "cell_type": "code",
   "execution_count": 31,
   "id": "368b4103",
   "metadata": {},
   "outputs": [
    {
     "data": {
      "text/plain": [
       "False"
      ]
     },
     "execution_count": 31,
     "metadata": {},
     "output_type": "execute_result"
    }
   ],
   "source": [
    "spark.catalog.isCached(\"itv017244_cachingdemo_db.itv017244_order1\")"
   ]
  },
  {
   "cell_type": "code",
   "execution_count": 33,
   "id": "fde2a933",
   "metadata": {},
   "outputs": [
    {
     "data": {
      "text/html": [
       "<table border='1'>\n",
       "<tr><th></th></tr>\n",
       "</table>\n"
      ],
      "text/plain": [
       "++\n",
       "||\n",
       "++\n",
       "++"
      ]
     },
     "execution_count": 33,
     "metadata": {},
     "output_type": "execute_result"
    }
   ],
   "source": [
    "spark.sql(\"create database itv017244_cachingdemo_ext\")"
   ]
  },
  {
   "cell_type": "code",
   "execution_count": 77,
   "id": "4b74c92a",
   "metadata": {},
   "outputs": [
    {
     "data": {
      "text/html": [
       "<table border='1'>\n",
       "<tr><th></th></tr>\n",
       "</table>\n"
      ],
      "text/plain": [
       "++\n",
       "||\n",
       "++\n",
       "++"
      ]
     },
     "execution_count": 77,
     "metadata": {},
     "output_type": "execute_result"
    }
   ],
   "source": [
    "spark.sql(\"drop table itv017244_cachingdemo_ext.itv017244_order_ext\")"
   ]
  },
  {
   "cell_type": "code",
   "execution_count": 78,
   "id": "673bf550",
   "metadata": {},
   "outputs": [
    {
     "data": {
      "text/html": [
       "<table border='1'>\n",
       "<tr><th></th></tr>\n",
       "</table>\n"
      ],
      "text/plain": [
       "++\n",
       "||\n",
       "++\n",
       "++"
      ]
     },
     "execution_count": 78,
     "metadata": {},
     "output_type": "execute_result"
    }
   ],
   "source": [
    "spark.sql(\"create table itv017244_cachingdemo_ext.itv017244_order_ext(order_id long, order_date string, customer_id long, order_status string)\\\n",
    "using csv location '/user/itv017244/order/'\")"
   ]
  },
  {
   "cell_type": "code",
   "execution_count": 79,
   "id": "8579b989",
   "metadata": {},
   "outputs": [
    {
     "data": {
      "text/html": [
       "<table border='1'>\n",
       "<tr><th>order_id</th><th>order_date</th><th>customer_id</th><th>order_status</th></tr>\n",
       "<tr><td>1</td><td>2013-07-25 00:00:...</td><td>11599</td><td>CLOSED</td></tr>\n",
       "<tr><td>2</td><td>2013-07-25 00:00:...</td><td>256</td><td>PENDING_PAYMENT</td></tr>\n",
       "<tr><td>3</td><td>2013-07-25 00:00:...</td><td>12111</td><td>COMPLETE</td></tr>\n",
       "<tr><td>4</td><td>2013-07-25 00:00:...</td><td>8827</td><td>CLOSED</td></tr>\n",
       "<tr><td>5</td><td>2013-07-25 00:00:...</td><td>11318</td><td>COMPLETE</td></tr>\n",
       "<tr><td>6</td><td>2013-07-25 00:00:...</td><td>7130</td><td>COMPLETE</td></tr>\n",
       "<tr><td>7</td><td>2013-07-25 00:00:...</td><td>4530</td><td>COMPLETE</td></tr>\n",
       "<tr><td>8</td><td>2013-07-25 00:00:...</td><td>2911</td><td>PROCESSING</td></tr>\n",
       "<tr><td>9</td><td>2013-07-25 00:00:...</td><td>5657</td><td>PENDING_PAYMENT</td></tr>\n",
       "<tr><td>10</td><td>2013-07-25 00:00:...</td><td>5648</td><td>PENDING_PAYMENT</td></tr>\n",
       "</table>\n"
      ],
      "text/plain": [
       "+--------+--------------------+-----------+---------------+\n",
       "|order_id|          order_date|customer_id|   order_status|\n",
       "+--------+--------------------+-----------+---------------+\n",
       "|       1|2013-07-25 00:00:...|      11599|         CLOSED|\n",
       "|       2|2013-07-25 00:00:...|        256|PENDING_PAYMENT|\n",
       "|       3|2013-07-25 00:00:...|      12111|       COMPLETE|\n",
       "|       4|2013-07-25 00:00:...|       8827|         CLOSED|\n",
       "|       5|2013-07-25 00:00:...|      11318|       COMPLETE|\n",
       "|       6|2013-07-25 00:00:...|       7130|       COMPLETE|\n",
       "|       7|2013-07-25 00:00:...|       4530|       COMPLETE|\n",
       "|       8|2013-07-25 00:00:...|       2911|     PROCESSING|\n",
       "|       9|2013-07-25 00:00:...|       5657|PENDING_PAYMENT|\n",
       "|      10|2013-07-25 00:00:...|       5648|PENDING_PAYMENT|\n",
       "+--------+--------------------+-----------+---------------+"
      ]
     },
     "execution_count": 79,
     "metadata": {},
     "output_type": "execute_result"
    }
   ],
   "source": [
    "spark.sql(\"select * from  itv017244_cachingdemo_ext.itv017244_order_ext limit 10\")"
   ]
  },
  {
   "cell_type": "code",
   "execution_count": 80,
   "id": "ff4f6bdf",
   "metadata": {},
   "outputs": [
    {
     "data": {
      "text/html": [
       "<table border='1'>\n",
       "<tr><th>count(1)</th></tr>\n",
       "<tr><td>68883</td></tr>\n",
       "</table>\n"
      ],
      "text/plain": [
       "+--------+\n",
       "|count(1)|\n",
       "+--------+\n",
       "|   68883|\n",
       "+--------+"
      ]
     },
     "execution_count": 80,
     "metadata": {},
     "output_type": "execute_result"
    }
   ],
   "source": [
    "spark.sql(\"select count(*) from  itv017244_cachingdemo_ext.itv017244_order_ext\")"
   ]
  },
  {
   "cell_type": "code",
   "execution_count": 81,
   "id": "3bb09aa9",
   "metadata": {},
   "outputs": [
    {
     "name": "stdout",
     "output_type": "stream",
     "text": [
      "+----------------------------+---------------------------------------------------------+-------+\n",
      "|col_name                    |data_type                                                |comment|\n",
      "+----------------------------+---------------------------------------------------------+-------+\n",
      "|order_id                    |bigint                                                   |null   |\n",
      "|order_date                  |string                                                   |null   |\n",
      "|customer_id                 |bigint                                                   |null   |\n",
      "|order_status                |string                                                   |null   |\n",
      "|                            |                                                         |       |\n",
      "|# Detailed Table Information|                                                         |       |\n",
      "|Database                    |itv017244_cachingdemo_ext                                |       |\n",
      "|Table                       |itv017244_order_ext                                      |       |\n",
      "|Owner                       |itv017244                                                |       |\n",
      "|Created Time                |Tue Feb 25 05:23:33 EST 2025                             |       |\n",
      "|Last Access                 |UNKNOWN                                                  |       |\n",
      "|Created By                  |Spark 3.1.2                                              |       |\n",
      "|Type                        |EXTERNAL                                                 |       |\n",
      "|Provider                    |csv                                                      |       |\n",
      "|Location                    |hdfs://m01.itversity.com:9000/user/itv017244/order       |       |\n",
      "|Serde Library               |org.apache.hadoop.hive.serde2.lazy.LazySimpleSerDe       |       |\n",
      "|InputFormat                 |org.apache.hadoop.mapred.SequenceFileInputFormat         |       |\n",
      "|OutputFormat                |org.apache.hadoop.hive.ql.io.HiveSequenceFileOutputFormat|       |\n",
      "+----------------------------+---------------------------------------------------------+-------+\n",
      "\n"
     ]
    }
   ],
   "source": [
    "spark.sql(\"describe extended itv017244_cachingdemo_ext.itv017244_order_ext\").show(30,False)"
   ]
  },
  {
   "cell_type": "code",
   "execution_count": 82,
   "id": "09f97427",
   "metadata": {},
   "outputs": [
    {
     "data": {
      "text/html": [
       "<table border='1'>\n",
       "<tr><th></th></tr>\n",
       "</table>\n"
      ],
      "text/plain": [
       "++\n",
       "||\n",
       "++\n",
       "++"
      ]
     },
     "execution_count": 82,
     "metadata": {},
     "output_type": "execute_result"
    }
   ],
   "source": [
    "spark.sql(\"cache table itv017244_cachingdemo_ext.itv017244_order_ext\")"
   ]
  },
  {
   "cell_type": "code",
   "execution_count": null,
   "id": "66e41fca",
   "metadata": {},
   "outputs": [],
   "source": []
  },
  {
   "cell_type": "code",
   "execution_count": 83,
   "id": "cc53b2a6",
   "metadata": {},
   "outputs": [
    {
     "data": {
      "text/html": [
       "<table border='1'>\n",
       "<tr><th></th></tr>\n",
       "</table>\n"
      ],
      "text/plain": [
       "++\n",
       "||\n",
       "++\n",
       "++"
      ]
     },
     "execution_count": 83,
     "metadata": {},
     "output_type": "execute_result"
    }
   ],
   "source": [
    "spark.sql(\"insert into itv017244_cachingdemo_ext.itv017244_order_ext values(11111, CAST('2023-05-29' AS DATE), 222222, 'BOOKED')\")"
   ]
  },
  {
   "cell_type": "code",
   "execution_count": 84,
   "id": "95fe30f3",
   "metadata": {},
   "outputs": [
    {
     "data": {
      "text/html": [
       "<table border='1'>\n",
       "<tr><th>count(1)</th></tr>\n",
       "<tr><td>68884</td></tr>\n",
       "</table>\n"
      ],
      "text/plain": [
       "+--------+\n",
       "|count(1)|\n",
       "+--------+\n",
       "|   68884|\n",
       "+--------+"
      ]
     },
     "execution_count": 84,
     "metadata": {},
     "output_type": "execute_result"
    }
   ],
   "source": [
    "spark.sql(\"select count(*) from itv017244_cachingdemo_ext.itv017244_order_ext\")"
   ]
  },
  {
   "cell_type": "code",
   "execution_count": null,
   "id": "55c8a897",
   "metadata": {},
   "outputs": [],
   "source": []
  }
 ],
 "metadata": {
  "kernelspec": {
   "display_name": "Pyspark 3",
   "language": "python",
   "name": "pyspark3"
  },
  "language_info": {
   "codemirror_mode": {
    "name": "ipython",
    "version": 3
   },
   "file_extension": ".py",
   "mimetype": "text/x-python",
   "name": "python",
   "nbconvert_exporter": "python",
   "pygments_lexer": "ipython3",
   "version": "3.6.12"
  }
 },
 "nbformat": 4,
 "nbformat_minor": 5
}
