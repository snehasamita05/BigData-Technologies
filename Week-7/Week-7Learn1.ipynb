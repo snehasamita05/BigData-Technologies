{
 "cells": [
  {
   "cell_type": "code",
   "execution_count": null,
   "id": "5f09c86c",
   "metadata": {},
   "outputs": [],
   "source": [
    "from pyspark.sql import SparkSession\n",
    "import getpass\n",
    "username = getpass.getuser()\n",
    "spark = SparkSession. \\\n",
    "builder. \\\n",
    "appName(\"Sneha Spark Session\").\\\n",
    "config(\"spark.sql.warehouse.dir\", f\"/user/{username}/warehouse\"). \\\n",
    "enableHiveSupport(). \\\n",
    "master('yarn'). \\\n",
    "getOrCreate()"
   ]
  },
  {
   "cell_type": "code",
   "execution_count": null,
   "id": "71945645",
   "metadata": {},
   "outputs": [],
   "source": [
    "spark"
   ]
  },
  {
   "cell_type": "code",
   "execution_count": null,
   "id": "859ca7d9",
   "metadata": {},
   "outputs": [],
   "source": [
    "! hadoop fs -head /public/trendytech/orders/orders_1gb.csv"
   ]
  },
  {
   "cell_type": "code",
   "execution_count": null,
   "id": "dc7eae0b",
   "metadata": {},
   "outputs": [],
   "source": [
    "order_schema = 'order_id long, order_date date, customer_id long, order_status string'"
   ]
  },
  {
   "cell_type": "code",
   "execution_count": null,
   "id": "f61d40a2",
   "metadata": {},
   "outputs": [],
   "source": [
    "order_df = spark.read.\\\n",
    "format(\"csv\").\\\n",
    "schema(order_schema).\\\n",
    "load(\"/public/trendytech/orders/orders_1gb.csv\")"
   ]
  },
  {
   "cell_type": "code",
   "execution_count": null,
   "id": "ec900430",
   "metadata": {},
   "outputs": [],
   "source": [
    "order_df.show()"
   ]
  },
  {
   "cell_type": "code",
   "execution_count": null,
   "id": "159a59d1",
   "metadata": {},
   "outputs": [],
   "source": [
    "order_df.printSchema()"
   ]
  },
  {
   "cell_type": "code",
   "execution_count": null,
   "id": "09b3401d",
   "metadata": {},
   "outputs": [],
   "source": [
    "order_df.count()"
   ]
  },
  {
   "cell_type": "code",
   "execution_count": null,
   "id": "793c747a",
   "metadata": {},
   "outputs": [],
   "source": [
    "order_df_cached = order_df.cache()"
   ]
  },
  {
   "cell_type": "code",
   "execution_count": null,
   "id": "cb521ca9",
   "metadata": {},
   "outputs": [],
   "source": [
    "order_df_cached.show()"
   ]
  },
  {
   "cell_type": "code",
   "execution_count": null,
   "id": "7faab814",
   "metadata": {},
   "outputs": [],
   "source": [
    "order_df_cached.head()"
   ]
  },
  {
   "cell_type": "code",
   "execution_count": null,
   "id": "6ab968c5",
   "metadata": {},
   "outputs": [],
   "source": [
    "order_df_cached.tail(10)"
   ]
  },
  {
   "cell_type": "code",
   "execution_count": null,
   "id": "96fc32d9",
   "metadata": {},
   "outputs": [],
   "source": [
    "order_df_cached.count()"
   ]
  },
  {
   "cell_type": "code",
   "execution_count": null,
   "id": "81ad5fe9",
   "metadata": {},
   "outputs": [],
   "source": [
    "order_df_cached.unpersist()"
   ]
  },
  {
   "cell_type": "code",
   "execution_count": null,
   "id": "b87411b7",
   "metadata": {},
   "outputs": [],
   "source": []
  }
 ],
 "metadata": {
  "kernelspec": {
   "display_name": "Pyspark 3",
   "language": "python",
   "name": "pyspark3"
  },
  "language_info": {
   "codemirror_mode": {
    "name": "ipython",
    "version": 3
   },
   "file_extension": ".py",
   "mimetype": "text/x-python",
   "name": "python",
   "nbconvert_exporter": "python",
   "pygments_lexer": "ipython3",
   "version": "3.6.12"
  }
 },
 "nbformat": 4,
 "nbformat_minor": 5
}
