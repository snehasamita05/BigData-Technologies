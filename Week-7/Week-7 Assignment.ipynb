{
 "cells": [
  {
   "cell_type": "code",
   "execution_count": 77,
   "id": "6ade7272",
   "metadata": {},
   "outputs": [],
   "source": [
    "from pyspark.sql import SparkSession\n",
    "import getpass\n",
    "username = getpass.getuser()\n",
    "spark = SparkSession. \\\n",
    "builder. \\\n",
    "appName(\"Sneha Spark Session\").\\\n",
    "config(\"spark.sql.warehouse.dir\", f\"/user/{username}/warehouse\"). \\\n",
    "enableHiveSupport(). \\\n",
    "master('yarn'). \\\n",
    "getOrCreate()"
   ]
  },
  {
   "cell_type": "code",
   "execution_count": 78,
   "id": "93bec7a7",
   "metadata": {},
   "outputs": [
    {
     "data": {
      "text/html": [
       "\n",
       "            <div>\n",
       "                <p><b>SparkSession - hive</b></p>\n",
       "                \n",
       "        <div>\n",
       "            <p><b>SparkContext</b></p>\n",
       "\n",
       "            <p><a href=\"http://g01.itversity.com:4040\">Spark UI</a></p>\n",
       "\n",
       "            <dl>\n",
       "              <dt>Version</dt>\n",
       "                <dd><code>v3.1.2</code></dd>\n",
       "              <dt>Master</dt>\n",
       "                <dd><code>yarn</code></dd>\n",
       "              <dt>AppName</dt>\n",
       "                <dd><code>Sneha Spark Session</code></dd>\n",
       "            </dl>\n",
       "        </div>\n",
       "        \n",
       "            </div>\n",
       "        "
      ],
      "text/plain": [
       "<pyspark.sql.session.SparkSession at 0x7ff2ec6edef0>"
      ]
     },
     "execution_count": 78,
     "metadata": {},
     "output_type": "execute_result"
    }
   ],
   "source": [
    "spark"
   ]
  },
  {
   "cell_type": "code",
   "execution_count": 79,
   "id": "10de23ba",
   "metadata": {},
   "outputs": [
    {
     "name": "stdout",
     "output_type": "stream",
     "text": [
      "1001,2023-05-15,1001,49.99\n",
      "1002,2023-05-16,1002,29.99\n",
      "1003,2023-05-17,1003,39.99\n",
      "1004,2023-05-18,1004,19.99\n",
      "1005,2023-05-19,1005,24.99\n",
      "1001,2023-05-20,1002,29.99\n",
      "1002,2023-05-21,1003,39.99\n",
      "1003,2023-05-22,1004,19.99\n",
      "1004,2023-05-23,1005,24.99\n",
      "1005,2023-05-24,1001,49.99\n",
      "cat: Unable to write to output stream.\n"
     ]
    }
   ],
   "source": [
    "! hadoop fs -cat /public/trendytech/datasets/cust_transf.csv |head"
   ]
  },
  {
   "cell_type": "code",
   "execution_count": 80,
   "id": "52fafab1",
   "metadata": {},
   "outputs": [],
   "source": [
    "trans_schema = 'customer_id long,purchase_date date,product_id integer,amount double'"
   ]
  },
  {
   "cell_type": "code",
   "execution_count": 81,
   "id": "87766b5f",
   "metadata": {},
   "outputs": [],
   "source": [
    "trans_df = spark.read.format(\"csv\").schema(trans_schema).load('/public/trendytech/datasets/cust_transf.csv')"
   ]
  },
  {
   "cell_type": "code",
   "execution_count": 82,
   "id": "3d7ace21",
   "metadata": {},
   "outputs": [
    {
     "name": "stdout",
     "output_type": "stream",
     "text": [
      "+-----------+-------------+----------+------+\n",
      "|customer_id|purchase_date|product_id|amount|\n",
      "+-----------+-------------+----------+------+\n",
      "|       1001|   2023-05-15|      1001| 49.99|\n",
      "|       1002|   2023-05-16|      1002| 29.99|\n",
      "|       1003|   2023-05-17|      1003| 39.99|\n",
      "|       1004|   2023-05-18|      1004| 19.99|\n",
      "|       1005|   2023-05-19|      1005| 24.99|\n",
      "|       1001|   2023-05-20|      1002| 29.99|\n",
      "|       1002|   2023-05-21|      1003| 39.99|\n",
      "|       1003|   2023-05-22|      1004| 19.99|\n",
      "|       1004|   2023-05-23|      1005| 24.99|\n",
      "|       1005|   2023-05-24|      1001| 49.99|\n",
      "|       1001|   2023-05-25|      1003| 39.99|\n",
      "|       1002|   2023-05-26|      1004| 19.99|\n",
      "|       1003|   2023-05-27|      1005| 24.99|\n",
      "|       1004|   2023-05-28|      1001| 49.99|\n",
      "|       1005|   2023-05-29|      1002| 29.99|\n",
      "|       1001|   2023-05-30|      1003| 39.99|\n",
      "|       1002|   2023-05-31|      1004| 19.99|\n",
      "|       1003|   2023-06-01|      1005| 24.99|\n",
      "|       1004|   2023-06-02|      1001| 49.99|\n",
      "|       1005|   2023-06-03|      1002| 29.99|\n",
      "+-----------+-------------+----------+------+\n",
      "only showing top 20 rows\n",
      "\n"
     ]
    }
   ],
   "source": [
    "trans_df.show()"
   ]
  },
  {
   "cell_type": "code",
   "execution_count": 83,
   "id": "ca333b31",
   "metadata": {},
   "outputs": [],
   "source": [
    "start_date = \"2023-05-01\""
   ]
  },
  {
   "cell_type": "code",
   "execution_count": 84,
   "id": "e4d52028",
   "metadata": {},
   "outputs": [],
   "source": [
    "end_date = \"2023-06-30\""
   ]
  },
  {
   "cell_type": "code",
   "execution_count": 85,
   "id": "db158abe",
   "metadata": {},
   "outputs": [],
   "source": [
    "filtered_df = trans_df.filter((trans_df.purchase_date>=start_date) & (trans_df.purchase_date<=end_date))"
   ]
  },
  {
   "cell_type": "code",
   "execution_count": 86,
   "id": "bc7977af",
   "metadata": {},
   "outputs": [],
   "source": [
    "revenue_df =filtered_df.groupBy(\"product_id\").sum(\"amount\").withColumnRenamed(\"sum(amount)\", \"revenue\")"
   ]
  },
  {
   "cell_type": "code",
   "execution_count": 87,
   "id": "8df2cd6d",
   "metadata": {},
   "outputs": [],
   "source": [
    "cust_df = filtered_df.groupBy(\"customer_id\").sum(\"amount\").withColumnRenamed(\"sum(amount)\", \"tran_amount\")"
   ]
  },
  {
   "cell_type": "code",
   "execution_count": 88,
   "id": "d990dab1",
   "metadata": {},
   "outputs": [
    {
     "name": "stdout",
     "output_type": "stream",
     "text": [
      "+----------+-------------------+\n",
      "|product_id|            revenue|\n",
      "+----------+-------------------+\n",
      "|      1001|8.747870076028482E8|\n",
      "|      1003|6.997946075949881E8|\n",
      "|      1002|5.248022075897805E8|\n",
      "|      1005|4.373060075933379E8|\n",
      "|      1004|3.498098075985674E8|\n",
      "|      1015| 12537.909999999963|\n",
      "|      1014| 11492.909999999963|\n",
      "|      1013| 10447.909999999963|\n",
      "|      1012|  9402.909999999965|\n",
      "|      1011|  8357.909999999967|\n",
      "+----------+-------------------+\n",
      "\n"
     ]
    }
   ],
   "source": [
    "top_products =revenue_df.sort(\"revenue\",ascending = False).limit(10).show()"
   ]
  },
  {
   "cell_type": "code",
   "execution_count": 89,
   "id": "a815a4bc",
   "metadata": {},
   "outputs": [
    {
     "name": "stdout",
     "output_type": "stream",
     "text": [
      "+-----------+--------------------+\n",
      "|customer_id|         tran_amount|\n",
      "+-----------+--------------------+\n",
      "|       1001| 3.180884580005335E8|\n",
      "|       1004|3.1013425800086874E8|\n",
      "|       1005|2.6240905800151232E8|\n",
      "|       1003|2.1468385800145328E8|\n",
      "|       1002|2.0672965800144076E8|\n",
      "|       1011|1.9086143271084765E8|\n",
      "|       1006|1.9085620771084762E8|\n",
      "|       1015|1.6700301271081635E8|\n",
      "|       1010|1.6699778771081638E8|\n",
      "|       1014|1.5109356771079004E8|\n",
      "+-----------+--------------------+\n",
      "\n"
     ]
    }
   ],
   "source": [
    "top_cust = cust_df.sort(\"tran_amount\", ascending = False).limit(10).show()"
   ]
  },
  {
   "cell_type": "code",
   "execution_count": 90,
   "id": "6c41e907",
   "metadata": {},
   "outputs": [],
   "source": [
    "cached_filtered_df = trans_df.filter((trans_df.purchase_date>=start_date) & (trans_df.purchase_date<=end_date)).cache()"
   ]
  },
  {
   "cell_type": "code",
   "execution_count": 91,
   "id": "d67d7211",
   "metadata": {},
   "outputs": [],
   "source": [
    "cache_revenue_df =cached_filtered_df.groupBy(\"product_id\").sum(\"amount\").withColumnRenamed(\"sum(amount)\", \"revenue\")"
   ]
  },
  {
   "cell_type": "code",
   "execution_count": 16,
   "id": "d054e952",
   "metadata": {},
   "outputs": [
    {
     "name": "stdout",
     "output_type": "stream",
     "text": [
      "+----------+-------------------+\n",
      "|product_id|            revenue|\n",
      "+----------+-------------------+\n",
      "|      1001|8.747870076028482E8|\n",
      "|      1003| 6.99794607594988E8|\n",
      "|      1002|5.248022075897805E8|\n",
      "|      1005|4.373060075933379E8|\n",
      "|      1004|3.498098075985674E8|\n",
      "|      1015| 12537.909999999963|\n",
      "|      1014| 11492.909999999963|\n",
      "|      1013| 10447.909999999963|\n",
      "|      1012|  9402.909999999965|\n",
      "|      1011|  8357.909999999967|\n",
      "+----------+-------------------+\n",
      "\n"
     ]
    }
   ],
   "source": [
    "cached_top_products =cache_revenue_df.sort(\"revenue\",ascending = False).limit(10).show()"
   ]
  },
  {
   "cell_type": "code",
   "execution_count": 19,
   "id": "623e6165",
   "metadata": {},
   "outputs": [
    {
     "data": {
      "text/html": [
       "<table border='1'>\n",
       "<tr><th></th></tr>\n",
       "</table>\n"
      ],
      "text/plain": [
       "++\n",
       "||\n",
       "++\n",
       "++"
      ]
     },
     "execution_count": 19,
     "metadata": {},
     "output_type": "execute_result"
    }
   ],
   "source": [
    "spark.sql(\"drop database itv017244_week7assignment_cust_transaction\")"
   ]
  },
  {
   "cell_type": "code",
   "execution_count": 20,
   "id": "2e770997",
   "metadata": {},
   "outputs": [
    {
     "data": {
      "text/html": [
       "<table border='1'>\n",
       "<tr><th></th></tr>\n",
       "</table>\n"
      ],
      "text/plain": [
       "++\n",
       "||\n",
       "++\n",
       "++"
      ]
     },
     "execution_count": 20,
     "metadata": {},
     "output_type": "execute_result"
    }
   ],
   "source": [
    "spark.sql(\"create database itv017244_week7assignment_cust_transaction\")"
   ]
  },
  {
   "cell_type": "code",
   "execution_count": 18,
   "id": "4255a7ca",
   "metadata": {},
   "outputs": [
    {
     "data": {
      "text/html": [
       "<table border='1'>\n",
       "<tr><th></th></tr>\n",
       "</table>\n"
      ],
      "text/plain": [
       "++\n",
       "||\n",
       "++\n",
       "++"
      ]
     },
     "execution_count": 18,
     "metadata": {},
     "output_type": "execute_result"
    }
   ],
   "source": [
    "spark.sql(\"drop table itv017244_week7assignment_cust_transaction.transaction_ext\")"
   ]
  },
  {
   "cell_type": "code",
   "execution_count": 21,
   "id": "c5f92933",
   "metadata": {},
   "outputs": [
    {
     "data": {
      "text/html": [
       "<table border='1'>\n",
       "<tr><th></th></tr>\n",
       "</table>\n"
      ],
      "text/plain": [
       "++\n",
       "||\n",
       "++\n",
       "++"
      ]
     },
     "execution_count": 21,
     "metadata": {},
     "output_type": "execute_result"
    }
   ],
   "source": [
    "spark.sql(\"create table itv017244_week7assignment_cust_transaction.transaction_ext(customer_id long,purchase_date date,product_id integer,transaction_amount double) USING csv location '/user/itv017244/warehouse/assignments_week7/cust_transf.csv'\")\n"
   ]
  },
  {
   "cell_type": "code",
   "execution_count": 92,
   "id": "7fa23535",
   "metadata": {},
   "outputs": [
    {
     "name": "stdout",
     "output_type": "stream",
     "text": [
      "+-----------+-------------+----------+------------------+\n",
      "|customer_id|purchase_date|product_id|transaction_amount|\n",
      "+-----------+-------------+----------+------------------+\n",
      "|       1004|   2023-05-28|      1001|             49.99|\n",
      "|       1005|   2023-05-29|      1002|             29.99|\n",
      "|       1001|   2023-05-30|      1003|             39.99|\n",
      "|       1002|   2023-05-31|      1004|             19.99|\n",
      "|       1003|   2023-06-01|      1005|             24.99|\n",
      "|       1004|   2023-06-02|      1001|             49.99|\n",
      "|       1005|   2023-06-03|      1002|             29.99|\n",
      "|       1001|   2023-06-04|      1003|             39.99|\n",
      "|       1002|   2023-06-05|      1004|             19.99|\n",
      "|       1003|   2023-06-06|      1005|             24.99|\n",
      "+-----------+-------------+----------+------------------+\n",
      "\n"
     ]
    }
   ],
   "source": [
    "spark.sql(\"select * from itv017244_week7assignment_cust_transaction.transaction_ext limit(10)\").show()"
   ]
  },
  {
   "cell_type": "code",
   "execution_count": 93,
   "id": "a716950c",
   "metadata": {},
   "outputs": [
    {
     "name": "stdout",
     "output_type": "stream",
     "text": [
      "+----------+-------------------+\n",
      "|product_id|            revenue|\n",
      "+----------+-------------------+\n",
      "|      1001|8.747870076028482E8|\n",
      "|      1003| 6.99794607594988E8|\n",
      "|      1002|5.248022075897805E8|\n",
      "|      1005|4.373060075933379E8|\n",
      "|      1004|3.498098075985673E8|\n",
      "|      1015| 12537.909999999963|\n",
      "|      1014| 11492.909999999963|\n",
      "|      1013| 10447.909999999963|\n",
      "|      1012|  9402.909999999965|\n",
      "|      1011|  8357.909999999967|\n",
      "+----------+-------------------+\n",
      "\n"
     ]
    }
   ],
   "source": [
    "spark.sql(\"select product_id, sum(transaction_amount) as revenue from itv017244_week7assignment_cust_transaction.transaction_ext where purchase_date>= '2023-05-01' and purchase_date<= '2023-06-30' group by product_id order by revenue desc limit(10)\").show()"
   ]
  },
  {
   "cell_type": "code",
   "execution_count": 94,
   "id": "fb662cef",
   "metadata": {},
   "outputs": [
    {
     "name": "stdout",
     "output_type": "stream",
     "text": [
      "+-----------+--------------------+\n",
      "|customer_id|             revenue|\n",
      "+-----------+--------------------+\n",
      "|       1001| 3.180884580005336E8|\n",
      "|       1004| 3.101342580008687E8|\n",
      "|       1005| 2.624090580015123E8|\n",
      "|       1003|2.1468385800145325E8|\n",
      "|       1002| 2.067296580014408E8|\n",
      "|       1011|1.9086143271084768E8|\n",
      "|       1006|1.9085620771084768E8|\n",
      "|       1015|1.6700301271081635E8|\n",
      "|       1010|1.6699778771081635E8|\n",
      "|       1014|   1.5109356771079E8|\n",
      "+-----------+--------------------+\n",
      "\n"
     ]
    }
   ],
   "source": [
    "spark.sql(\"select customer_id, sum(transaction_amount) as revenue from itv017244_week7assignment_cust_transaction.transaction_ext where purchase_date>= '2023-05-01' and purchase_date<= '2023-06-30' group by customer_id order by revenue desc limit(10)\").show()"
   ]
  },
  {
   "cell_type": "code",
   "execution_count": 95,
   "id": "5856a52e",
   "metadata": {},
   "outputs": [
    {
     "data": {
      "text/html": [
       "<table border='1'>\n",
       "<tr><th></th></tr>\n",
       "</table>\n"
      ],
      "text/plain": [
       "++\n",
       "||\n",
       "++\n",
       "++"
      ]
     },
     "execution_count": 95,
     "metadata": {},
     "output_type": "execute_result"
    }
   ],
   "source": [
    "spark.sql(\"cache table itv017244_week7assignment_cust_transaction.transaction_ext\")"
   ]
  },
  {
   "cell_type": "code",
   "execution_count": 96,
   "id": "b72c0fe8",
   "metadata": {},
   "outputs": [
    {
     "name": "stdout",
     "output_type": "stream",
     "text": [
      "+----------+--------------------+\n",
      "|product_id|             revenue|\n",
      "+----------+--------------------+\n",
      "|      1001| 8.747870076028483E8|\n",
      "|      1003| 6.997946075949881E8|\n",
      "|      1002| 5.248022075897805E8|\n",
      "|      1005|4.3730600759333783E8|\n",
      "|      1004| 3.498098075985674E8|\n",
      "|      1015|  12537.909999999963|\n",
      "|      1014|  11492.909999999963|\n",
      "|      1013|  10447.909999999963|\n",
      "|      1012|   9402.909999999965|\n",
      "|      1011|   8357.909999999967|\n",
      "+----------+--------------------+\n",
      "\n"
     ]
    }
   ],
   "source": [
    "spark.sql(\"select product_id, sum(transaction_amount) as revenue from itv017244_week7assignment_cust_transaction.transaction_ext where purchase_date>= '2023-05-01' and purchase_date<= '2023-06-30' group by product_id order by revenue desc limit(10)\").show()"
   ]
  },
  {
   "cell_type": "code",
   "execution_count": 97,
   "id": "a7162d6d",
   "metadata": {},
   "outputs": [
    {
     "name": "stdout",
     "output_type": "stream",
     "text": [
      "+-----------+--------------------+\n",
      "|customer_id|             revenue|\n",
      "+-----------+--------------------+\n",
      "|       1001| 3.180884580005336E8|\n",
      "|       1004|3.1013425800086874E8|\n",
      "|       1005|2.6240905800151226E8|\n",
      "|       1003|2.1468385800145328E8|\n",
      "|       1002|2.0672965800144076E8|\n",
      "|       1011|1.9086143271084768E8|\n",
      "|       1006|1.9085620771084768E8|\n",
      "|       1015|1.6700301271081635E8|\n",
      "|       1010|1.6699778771081635E8|\n",
      "|       1014|1.5109356771079004E8|\n",
      "+-----------+--------------------+\n",
      "\n"
     ]
    }
   ],
   "source": [
    "spark.sql(\"select customer_id, sum(transaction_amount) as revenue from itv017244_week7assignment_cust_transaction.transaction_ext where purchase_date>= '2023-05-01' and purchase_date<= '2023-06-30' group by customer_id order by revenue desc limit(10)\").show()"
   ]
  },
  {
   "cell_type": "code",
   "execution_count": 98,
   "id": "a2f12a01",
   "metadata": {},
   "outputs": [],
   "source": [
    "from pyspark.sql.functions import year, month"
   ]
  },
  {
   "cell_type": "code",
   "execution_count": 99,
   "id": "230a3470",
   "metadata": {},
   "outputs": [],
   "source": [
    "new_df = trans_df.withColumn(\"purchase_year\",year(\"purchase_date\")).withColumn(\"purchase_month\",month(\"purchase_date\"))\n"
   ]
  },
  {
   "cell_type": "code",
   "execution_count": 100,
   "id": "9836d742",
   "metadata": {},
   "outputs": [],
   "source": [
    "from pyspark.sql.functions import countDistinct"
   ]
  },
  {
   "cell_type": "code",
   "execution_count": 101,
   "id": "e4ba4c13",
   "metadata": {},
   "outputs": [],
   "source": [
    "customer_month_counts = new_df.groupBy(\"customer_id\", \"purchase_year\",\"purchase_month\").agg(countDistinct(\"purchase_month\").alias(\"distinct_months\"))"
   ]
  },
  {
   "cell_type": "code",
   "execution_count": 102,
   "id": "7c2b411d",
   "metadata": {},
   "outputs": [
    {
     "name": "stdout",
     "output_type": "stream",
     "text": [
      "+-----------+-------------+--------------+---------------+\n",
      "|customer_id|purchase_year|purchase_month|distinct_months|\n",
      "+-----------+-------------+--------------+---------------+\n",
      "|       1011|         2023|             5|              1|\n",
      "|       1002|         2023|             5|              1|\n",
      "|       1004|         2023|             6|              1|\n",
      "|       1014|         2023|             5|              1|\n",
      "|       1004|         2023|             5|              1|\n",
      "|       1009|         2023|             6|              1|\n",
      "|       1013|         2023|             6|              1|\n",
      "|       1002|         2023|             6|              1|\n",
      "|       1013|         2023|             5|              1|\n",
      "|       1001|         2023|             6|              1|\n",
      "|       1007|         2023|             6|              1|\n",
      "|       1007|         2023|             5|              1|\n",
      "|       1015|         2023|             6|              1|\n",
      "|       1006|         2023|             5|              1|\n",
      "|       1005|         2023|             6|              1|\n",
      "|       1006|         2023|             6|              1|\n",
      "|       1014|         2023|             6|              1|\n",
      "|       1003|         2023|             5|              1|\n",
      "|       1010|         2023|             5|              1|\n",
      "|       1012|         2023|             5|              1|\n",
      "+-----------+-------------+--------------+---------------+\n",
      "only showing top 20 rows\n",
      "\n"
     ]
    }
   ],
   "source": [
    "customer_month_counts.show()"
   ]
  },
  {
   "cell_type": "code",
   "execution_count": 103,
   "id": "4e41ab57",
   "metadata": {},
   "outputs": [
    {
     "name": "stdout",
     "output_type": "stream",
     "text": [
      "+-----------+-----+\n",
      "|customer_id|count|\n",
      "+-----------+-----+\n",
      "|       1014|    2|\n",
      "|       1009|    2|\n",
      "|       1015|    2|\n",
      "|       1012|    2|\n",
      "|       1006|    2|\n",
      "|       1007|    2|\n",
      "|       1011|    2|\n",
      "|       1002|    2|\n",
      "|       1003|    2|\n",
      "|       1001|    2|\n",
      "+-----------+-----+\n",
      "\n"
     ]
    }
   ],
   "source": [
    "regular_customers = customer_month_counts.filter(\"distinct_months = 1\").groupBy(\"customer_id\").count().orderBy(\"count\", ascending=False).limit(10).show()"
   ]
  },
  {
   "cell_type": "code",
   "execution_count": 104,
   "id": "f8558eca",
   "metadata": {},
   "outputs": [],
   "source": [
    "customer_month_counts = new_df.groupBy(\"customer_id\", \"purchase_year\",\"purchase_month\").agg(countDistinct(\"purchase_month\").alias(\"distinct_months\")).cache()"
   ]
  },
  {
   "cell_type": "code",
   "execution_count": 105,
   "id": "f345a932",
   "metadata": {},
   "outputs": [
    {
     "name": "stdout",
     "output_type": "stream",
     "text": [
      "+-----------+-----+\n",
      "|customer_id|count|\n",
      "+-----------+-----+\n",
      "|       1005|    2|\n",
      "|       1010|    2|\n",
      "|       1009|    2|\n",
      "|       1004|    2|\n",
      "|       1011|    2|\n",
      "|       1007|    2|\n",
      "|       1001|    2|\n",
      "|       1002|    2|\n",
      "|       1003|    2|\n",
      "|       1013|    2|\n",
      "+-----------+-----+\n",
      "\n"
     ]
    }
   ],
   "source": [
    "regular_customers = customer_month_counts.filter(\"distinct_months = 1\").groupBy(\"customer_id\").count().orderBy(\"count\", ascending=False).limit(10).show()"
   ]
  },
  {
   "cell_type": "code",
   "execution_count": 106,
   "id": "ba8ebc45",
   "metadata": {},
   "outputs": [],
   "source": [
    "from pyspark.sql.functions import month"
   ]
  },
  {
   "cell_type": "code",
   "execution_count": 107,
   "id": "b87963c2",
   "metadata": {},
   "outputs": [],
   "source": [
    "from pyspark.sql.functions import year"
   ]
  },
  {
   "cell_type": "code",
   "execution_count": 108,
   "id": "91a114f1",
   "metadata": {},
   "outputs": [],
   "source": [
    "from pyspark.storagelevel import StorageLevel\n"
   ]
  },
  {
   "cell_type": "code",
   "execution_count": 109,
   "id": "fe8e3075",
   "metadata": {},
   "outputs": [],
   "source": [
    "new_df = trans_df.withColumn(\"purchase_year\",year(\"purchase_date\")).withColumn(\"purchase_month\",month(\"purchase_date\"))\n"
   ]
  },
  {
   "cell_type": "code",
   "execution_count": 110,
   "id": "3927e013",
   "metadata": {},
   "outputs": [],
   "source": [
    "customer_month_counts = new_df.groupBy(\"customer_id\", \"purchase_year\",\"purchase_month\").agg(countDistinct(\"purchase_month\").alias(\"distinct_months\")).persist(StorageLevel.MEMORY_AND_DISK)"
   ]
  },
  {
   "cell_type": "code",
   "execution_count": 111,
   "id": "1538de5c",
   "metadata": {},
   "outputs": [
    {
     "name": "stdout",
     "output_type": "stream",
     "text": [
      "+-----------+-----+\n",
      "|customer_id|count|\n",
      "+-----------+-----+\n",
      "|       1010|    2|\n",
      "|       1011|    2|\n",
      "|       1007|    2|\n",
      "|       1003|    2|\n",
      "|       1014|    2|\n",
      "|       1008|    2|\n",
      "|       1002|    2|\n",
      "|       1013|    2|\n",
      "|       1005|    2|\n",
      "|       1009|    2|\n",
      "+-----------+-----+\n",
      "\n"
     ]
    }
   ],
   "source": [
    "regular_customers = customer_month_counts.filter(\"distinct_months = 1\").groupBy(\"customer_id\").count().orderBy(\"count\", ascending=False).limit(10).show()"
   ]
  },
  {
   "cell_type": "code",
   "execution_count": 112,
   "id": "0a9417f7",
   "metadata": {},
   "outputs": [],
   "source": [
    "customer_month_counts = new_df.groupBy(\"customer_id\", \"purchase_year\",\"purchase_month\").agg(countDistinct(\"purchase_month\").alias(\"distinct_months\")).persist(StorageLevel.MEMORY_ONLY)"
   ]
  },
  {
   "cell_type": "code",
   "execution_count": 113,
   "id": "1c18b1a9",
   "metadata": {},
   "outputs": [
    {
     "name": "stdout",
     "output_type": "stream",
     "text": [
      "+-----------+-----+\n",
      "|customer_id|count|\n",
      "+-----------+-----+\n",
      "|       1005|    2|\n",
      "|       1001|    2|\n",
      "|       1010|    2|\n",
      "|       1008|    2|\n",
      "|       1002|    2|\n",
      "|       1004|    2|\n",
      "|       1012|    2|\n",
      "|       1003|    2|\n",
      "|       1014|    2|\n",
      "|       1015|    2|\n",
      "+-----------+-----+\n",
      "\n"
     ]
    }
   ],
   "source": [
    "regular_customers = customer_month_counts.filter(\"distinct_months = 1\").groupBy(\"customer_id\").count().orderBy(\"count\", ascending=False).limit(10).show()"
   ]
  },
  {
   "cell_type": "code",
   "execution_count": 114,
   "id": "cf2e6e06",
   "metadata": {},
   "outputs": [],
   "source": [
    "customer_month_counts = new_df.groupBy(\"customer_id\", \"purchase_year\",\"purchase_month\").agg(countDistinct(\"purchase_month\").alias(\"distinct_months\")).persist(StorageLevel.DISK_ONLY)"
   ]
  },
  {
   "cell_type": "code",
   "execution_count": 115,
   "id": "050655d6",
   "metadata": {},
   "outputs": [
    {
     "name": "stdout",
     "output_type": "stream",
     "text": [
      "+-----------+-----+\n",
      "|customer_id|count|\n",
      "+-----------+-----+\n",
      "|       1015|    2|\n",
      "|       1013|    2|\n",
      "|       1007|    2|\n",
      "|       1011|    2|\n",
      "|       1009|    2|\n",
      "|       1004|    2|\n",
      "|       1012|    2|\n",
      "|       1006|    2|\n",
      "|       1001|    2|\n",
      "|       1005|    2|\n",
      "+-----------+-----+\n",
      "\n"
     ]
    }
   ],
   "source": [
    "regular_customers = customer_month_counts.filter(\"distinct_months = 1\").groupBy(\"customer_id\").count().orderBy(\"count\", ascending=False).limit(10).show()"
   ]
  },
  {
   "cell_type": "code",
   "execution_count": 116,
   "id": "b7d0665f",
   "metadata": {},
   "outputs": [],
   "source": [
    "def get_customer_history(customer_id):\n",
    "    customer_history_df = trans_df.filter(trans_df.customer_id ==customer_id).cache()\n",
    "    return customer_history_df"
   ]
  },
  {
   "cell_type": "code",
   "execution_count": 117,
   "id": "98b30491",
   "metadata": {},
   "outputs": [
    {
     "name": "stdout",
     "output_type": "stream",
     "text": [
      "+-----------+-------------+----------+------+\n",
      "|customer_id|purchase_date|product_id|amount|\n",
      "+-----------+-------------+----------+------+\n",
      "|       1012|   2023-06-02|      1002| 29.99|\n",
      "|       1012|   2023-06-07|      1003| 39.99|\n",
      "|       1012|   2023-06-12|      1004| 19.99|\n",
      "|       1012|   2023-06-02|      1002| 29.99|\n",
      "|       1012|   2023-06-07|      1003| 39.99|\n",
      "|       1012|   2023-06-12|      1004| 19.99|\n",
      "|       1012|   2023-06-02|      1002| 29.99|\n",
      "|       1012|   2023-06-07|      1003| 39.99|\n",
      "|       1012|   2023-06-12|      1004| 19.99|\n",
      "|       1012|   2023-06-02|      1002| 29.99|\n",
      "|       1012|   2023-06-07|      1003| 39.99|\n",
      "|       1012|   2023-06-12|      1004| 19.99|\n",
      "|       1012|   2023-06-02|      1002| 29.99|\n",
      "|       1012|   2023-06-07|      1003| 39.99|\n",
      "|       1012|   2023-06-12|      1004| 19.99|\n",
      "|       1012|   2023-06-02|      1002| 29.99|\n",
      "|       1012|   2023-06-07|      1003| 39.99|\n",
      "|       1012|   2023-06-12|      1004| 19.99|\n",
      "|       1012|   2023-06-02|      1002| 29.99|\n",
      "|       1012|   2023-06-07|      1003| 39.99|\n",
      "+-----------+-------------+----------+------+\n",
      "only showing top 20 rows\n",
      "\n"
     ]
    }
   ],
   "source": [
    "customer_history_df = get_customer_history(1012)\n",
    "customer_history_df.show()"
   ]
  },
  {
   "cell_type": "code",
   "execution_count": 118,
   "id": "4d6300d5",
   "metadata": {},
   "outputs": [
    {
     "data": {
      "text/html": [
       "<table border='1'>\n",
       "<tr><th>customer_id</th><th>purchase_date</th><th>product_id</th><th>amount</th></tr>\n",
       "<tr><td>1001</td><td>2023-05-15</td><td>1001</td><td>49.99</td></tr>\n",
       "<tr><td>1002</td><td>2023-05-16</td><td>1002</td><td>29.99</td></tr>\n",
       "<tr><td>1003</td><td>2023-05-17</td><td>1003</td><td>39.99</td></tr>\n",
       "<tr><td>1004</td><td>2023-05-18</td><td>1004</td><td>19.99</td></tr>\n",
       "<tr><td>1005</td><td>2023-05-19</td><td>1005</td><td>24.99</td></tr>\n",
       "<tr><td>1001</td><td>2023-05-20</td><td>1002</td><td>29.99</td></tr>\n",
       "<tr><td>1002</td><td>2023-05-21</td><td>1003</td><td>39.99</td></tr>\n",
       "<tr><td>1003</td><td>2023-05-22</td><td>1004</td><td>19.99</td></tr>\n",
       "<tr><td>1004</td><td>2023-05-23</td><td>1005</td><td>24.99</td></tr>\n",
       "<tr><td>1005</td><td>2023-05-24</td><td>1001</td><td>49.99</td></tr>\n",
       "<tr><td>1001</td><td>2023-05-25</td><td>1003</td><td>39.99</td></tr>\n",
       "<tr><td>1002</td><td>2023-05-26</td><td>1004</td><td>19.99</td></tr>\n",
       "<tr><td>1003</td><td>2023-05-27</td><td>1005</td><td>24.99</td></tr>\n",
       "<tr><td>1004</td><td>2023-05-28</td><td>1001</td><td>49.99</td></tr>\n",
       "<tr><td>1005</td><td>2023-05-29</td><td>1002</td><td>29.99</td></tr>\n",
       "<tr><td>1001</td><td>2023-05-30</td><td>1003</td><td>39.99</td></tr>\n",
       "<tr><td>1002</td><td>2023-05-31</td><td>1004</td><td>19.99</td></tr>\n",
       "<tr><td>1003</td><td>2023-06-01</td><td>1005</td><td>24.99</td></tr>\n",
       "<tr><td>1004</td><td>2023-06-02</td><td>1001</td><td>49.99</td></tr>\n",
       "<tr><td>1005</td><td>2023-06-03</td><td>1002</td><td>29.99</td></tr>\n",
       "</table>\n",
       "only showing top 20 rows\n"
      ],
      "text/plain": [
       "+-----------+-------------+----------+------+\n",
       "|customer_id|purchase_date|product_id|amount|\n",
       "+-----------+-------------+----------+------+\n",
       "|       1001|   2023-05-15|      1001| 49.99|\n",
       "|       1002|   2023-05-16|      1002| 29.99|\n",
       "|       1003|   2023-05-17|      1003| 39.99|\n",
       "|       1004|   2023-05-18|      1004| 19.99|\n",
       "|       1005|   2023-05-19|      1005| 24.99|\n",
       "|       1001|   2023-05-20|      1002| 29.99|\n",
       "|       1002|   2023-05-21|      1003| 39.99|\n",
       "|       1003|   2023-05-22|      1004| 19.99|\n",
       "|       1004|   2023-05-23|      1005| 24.99|\n",
       "|       1005|   2023-05-24|      1001| 49.99|\n",
       "|       1001|   2023-05-25|      1003| 39.99|\n",
       "|       1002|   2023-05-26|      1004| 19.99|\n",
       "|       1003|   2023-05-27|      1005| 24.99|\n",
       "|       1004|   2023-05-28|      1001| 49.99|\n",
       "|       1005|   2023-05-29|      1002| 29.99|\n",
       "|       1001|   2023-05-30|      1003| 39.99|\n",
       "|       1002|   2023-05-31|      1004| 19.99|\n",
       "|       1003|   2023-06-01|      1005| 24.99|\n",
       "|       1004|   2023-06-02|      1001| 49.99|\n",
       "|       1005|   2023-06-03|      1002| 29.99|\n",
       "+-----------+-------------+----------+------+\n",
       "only showing top 20 rows"
      ]
     },
     "execution_count": 118,
     "metadata": {},
     "output_type": "execute_result"
    }
   ],
   "source": [
    "cached_filtered_df.unpersist()"
   ]
  },
  {
   "cell_type": "code",
   "execution_count": 119,
   "id": "16be44f7",
   "metadata": {},
   "outputs": [
    {
     "data": {
      "text/html": [
       "<table border='1'>\n",
       "<tr><th></th></tr>\n",
       "</table>\n"
      ],
      "text/plain": [
       "++\n",
       "||\n",
       "++\n",
       "++"
      ]
     },
     "execution_count": 119,
     "metadata": {},
     "output_type": "execute_result"
    }
   ],
   "source": [
    "spark.sql(\"uncache table itv017244_week7assignment_cust_transaction.transaction_ext\")"
   ]
  },
  {
   "cell_type": "code",
   "execution_count": 56,
   "id": "12fdb416",
   "metadata": {},
   "outputs": [
    {
     "data": {
      "text/html": [
       "<table border='1'>\n",
       "<tr><th></th></tr>\n",
       "</table>\n"
      ],
      "text/plain": [
       "++\n",
       "||\n",
       "++\n",
       "++"
      ]
     },
     "execution_count": 56,
     "metadata": {},
     "output_type": "execute_result"
    }
   ],
   "source": [
    "spark.sql(\"create database itv017244_week7assignment_hotel\")"
   ]
  },
  {
   "cell_type": "code",
   "execution_count": 120,
   "id": "3de36e9a",
   "metadata": {},
   "outputs": [
    {
     "data": {
      "text/html": [
       "<table border='1'>\n",
       "<tr><th></th></tr>\n",
       "</table>\n"
      ],
      "text/plain": [
       "++\n",
       "||\n",
       "++\n",
       "++"
      ]
     },
     "execution_count": 120,
     "metadata": {},
     "output_type": "execute_result"
    }
   ],
   "source": [
    "spark.sql(\"drop table itv017244_week7assignment_hotel.itb017244_hotel_transaction_ext\")"
   ]
  },
  {
   "cell_type": "code",
   "execution_count": 121,
   "id": "c8bec6e9",
   "metadata": {},
   "outputs": [
    {
     "data": {
      "text/html": [
       "<table border='1'>\n",
       "<tr><th></th></tr>\n",
       "</table>\n"
      ],
      "text/plain": [
       "++\n",
       "||\n",
       "++\n",
       "++"
      ]
     },
     "execution_count": 121,
     "metadata": {},
     "output_type": "execute_result"
    }
   ],
   "source": [
    "spark.sql(\"create table itv017244_week7assignment_hotel.itb017244_hotel_transaction_ext(booking_id INT,guest_name STRING, checkin_date DATE, checkout_date DATE, room_type STRING, total_price DOUBLE) USING csv location '/user/itv017244/warehouse/assignments_week7/hotel/hotel_data.csv'\")"
   ]
  },
  {
   "cell_type": "code",
   "execution_count": 122,
   "id": "905ade49",
   "metadata": {},
   "outputs": [
    {
     "name": "stdout",
     "output_type": "stream",
     "text": [
      "+----------+------------+------------+-------------+---------+-----------+\n",
      "|booking_id|  guest_name|checkin_date|checkout_date|room_type|total_price|\n",
      "+----------+------------+------------+-------------+---------+-----------+\n",
      "|         1|    John Doe|  2023-05-01|   2023-05-05| Standard|      400.0|\n",
      "|         2|  Jane Smith|  2023-05-02|   2023-05-06|   Deluxe|      600.0|\n",
      "|         3|Mark Johnson|  2023-05-03|   2023-05-08| Standard|      450.0|\n",
      "|         4|Sarah Wilson|  2023-05-04|   2023-05-07|Executive|      750.0|\n",
      "|         5| Emily Brown|  2023-05-06|   2023-05-09|   Deluxe|      550.0|\n",
      "+----------+------------+------------+-------------+---------+-----------+\n",
      "\n"
     ]
    }
   ],
   "source": [
    "spark.sql(\"select * from itv017244_week7assignment_hotel.itb017244_hotel_transaction_ext limit 5\").show()"
   ]
  },
  {
   "cell_type": "code",
   "execution_count": 124,
   "id": "18f4ec38",
   "metadata": {},
   "outputs": [
    {
     "name": "stdout",
     "output_type": "stream",
     "text": [
      "+---------+----------------+\n",
      "|room_type| avg_total_price|\n",
      "+---------+----------------+\n",
      "|Executive|           750.0|\n",
      "| Standard|424.390243902439|\n",
      "|   Deluxe|           575.0|\n",
      "+---------+----------------+\n",
      "\n"
     ]
    }
   ],
   "source": [
    "spark.sql(\"select room_type,avg(total_price)as avg_total_price from itv017244_week7assignment_hotel.itb017244_hotel_transaction_ext where booking_id<=100 group by room_type limit 5\").show()"
   ]
  },
  {
   "cell_type": "code",
   "execution_count": 125,
   "id": "c1c374ca",
   "metadata": {},
   "outputs": [
    {
     "data": {
      "text/html": [
       "<table border='1'>\n",
       "<tr><th></th></tr>\n",
       "</table>\n"
      ],
      "text/plain": [
       "++\n",
       "||\n",
       "++\n",
       "++"
      ]
     },
     "execution_count": 125,
     "metadata": {},
     "output_type": "execute_result"
    }
   ],
   "source": [
    "spark.sql(\"cache table itv017244_week7assignment_hotel.itb017244_hotel_transaction_ext\")"
   ]
  },
  {
   "cell_type": "code",
   "execution_count": 126,
   "id": "ea8d17d8",
   "metadata": {},
   "outputs": [
    {
     "name": "stdout",
     "output_type": "stream",
     "text": [
      "+---------+----------------+\n",
      "|room_type| avg_total_price|\n",
      "+---------+----------------+\n",
      "|   Deluxe|           575.0|\n",
      "| Standard|424.390243902439|\n",
      "|Executive|           750.0|\n",
      "+---------+----------------+\n",
      "\n"
     ]
    }
   ],
   "source": [
    "spark.sql(\"select room_type,avg(total_price)as avg_total_price from itv017244_week7assignment_hotel.itb017244_hotel_transaction_ext where booking_id<=100 group by room_type limit 5\").show()"
   ]
  },
  {
   "cell_type": "code",
   "execution_count": 127,
   "id": "404f75bc",
   "metadata": {},
   "outputs": [
    {
     "data": {
      "text/html": [
       "<table border='1'>\n",
       "<tr><th></th></tr>\n",
       "</table>\n"
      ],
      "text/plain": [
       "++\n",
       "||\n",
       "++\n",
       "++"
      ]
     },
     "execution_count": 127,
     "metadata": {},
     "output_type": "execute_result"
    }
   ],
   "source": [
    "spark.sql(\"uncache table itv017244_week7assignment_hotel.itb017244_hotel_transaction_ext \")"
   ]
  },
  {
   "cell_type": "code",
   "execution_count": null,
   "id": "e21c686b",
   "metadata": {},
   "outputs": [],
   "source": []
  }
 ],
 "metadata": {
  "kernelspec": {
   "display_name": "Pyspark 3",
   "language": "python",
   "name": "pyspark3"
  },
  "language_info": {
   "codemirror_mode": {
    "name": "ipython",
    "version": 3
   },
   "file_extension": ".py",
   "mimetype": "text/x-python",
   "name": "python",
   "nbconvert_exporter": "python",
   "pygments_lexer": "ipython3",
   "version": "3.6.12"
  }
 },
 "nbformat": 4,
 "nbformat_minor": 5
}
