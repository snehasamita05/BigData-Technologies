{
 "cells": [
  {
   "cell_type": "code",
   "execution_count": 1,
   "id": "4c5e97b3",
   "metadata": {},
   "outputs": [],
   "source": [
    "from pyspark.sql import SparkSession\n",
    "import getpass\n",
    "username = getpass.getuser()\n",
    "spark = SparkSession. \\\n",
    "builder. \\\n",
    "appName(\"Sneha Spark Session\").\\\n",
    "config(\"spark.shuffle.useOldFetchProtocol\", 'true'). \\\n",
    "config(\"spark.sql.warehouse.dir\", f\"/user/{username}/warehouse\"). \\\n",
    "enableHiveSupport(). \\\n",
    "master('yarn'). \\\n",
    "getOrCreate()"
   ]
  },
  {
   "cell_type": "code",
   "execution_count": 2,
   "id": "ea09dd19",
   "metadata": {},
   "outputs": [
    {
     "data": {
      "text/html": [
       "\n",
       "            <div>\n",
       "                <p><b>SparkSession - hive</b></p>\n",
       "                \n",
       "        <div>\n",
       "            <p><b>SparkContext</b></p>\n",
       "\n",
       "            <p><a href=\"http://g01.itversity.com:4045\">Spark UI</a></p>\n",
       "\n",
       "            <dl>\n",
       "              <dt>Version</dt>\n",
       "                <dd><code>v3.1.2</code></dd>\n",
       "              <dt>Master</dt>\n",
       "                <dd><code>yarn</code></dd>\n",
       "              <dt>AppName</dt>\n",
       "                <dd><code>Sneha Spark Session</code></dd>\n",
       "            </dl>\n",
       "        </div>\n",
       "        \n",
       "            </div>\n",
       "        "
      ],
      "text/plain": [
       "<pyspark.sql.session.SparkSession at 0x7fd02c7b37b8>"
      ]
     },
     "execution_count": 2,
     "metadata": {},
     "output_type": "execute_result"
    }
   ],
   "source": [
    "spark"
   ]
  },
  {
   "cell_type": "code",
   "execution_count": 3,
   "id": "49c1979d",
   "metadata": {},
   "outputs": [],
   "source": [
    "order_schema = 'order_id long, order_date date, customer_id long, order_status string'"
   ]
  },
  {
   "cell_type": "code",
   "execution_count": 7,
   "id": "92c1f85e",
   "metadata": {},
   "outputs": [],
   "source": [
    "order_df = spark.read.\\\n",
    "format(\"csv\").\\\n",
    "schema(order_schema).\\\n",
    "load(\"/public/trendytech/datasets/orders_sample.csv\")"
   ]
  },
  {
   "cell_type": "code",
   "execution_count": 8,
   "id": "1b7660e2",
   "metadata": {},
   "outputs": [],
   "source": [
    "customer_schema = \"customer_id long,customer_fname string, customer_lname string,username string, password string,address string, city string, state string, pincode long\""
   ]
  },
  {
   "cell_type": "code",
   "execution_count": 9,
   "id": "090b072f",
   "metadata": {},
   "outputs": [],
   "source": [
    "customer_df = spark.read.format(\"csv\").schema(customer_schema).load(\"/public/trendytech/datasets/customers_sample.csv\")"
   ]
  },
  {
   "cell_type": "code",
   "execution_count": 10,
   "id": "6036ffdb",
   "metadata": {},
   "outputs": [
    {
     "name": "stdout",
     "output_type": "stream",
     "text": [
      "+--------+----------+-----------+---------------+\n",
      "|order_id|order_date|customer_id|   order_status|\n",
      "+--------+----------+-----------+---------------+\n",
      "|       1|2013-07-25|      11599|         CLOSED|\n",
      "|       2|2013-07-25|        256|PENDING_PAYMENT|\n",
      "|       3|2013-07-25|      12111|       COMPLETE|\n",
      "|       4|2013-07-25|       8827|         CLOSED|\n",
      "|       5|2013-07-25|      11318|       COMPLETE|\n",
      "|       6|2013-07-25|       7130|       COMPLETE|\n",
      "|       7|2013-07-25|       4530|       COMPLETE|\n",
      "|       8|2013-07-25|       2911|     PROCESSING|\n",
      "|       9|2013-07-25|       5657|PENDING_PAYMENT|\n",
      "|      10|2013-07-25|       5648|PENDING_PAYMENT|\n",
      "|      11|2013-07-25|        918| PAYMENT_REVIEW|\n",
      "|      12|2013-07-25|       1837|         CLOSED|\n",
      "|      13|2013-07-25|       9149|PENDING_PAYMENT|\n",
      "|      14|2013-07-25|       9842|     PROCESSING|\n",
      "|      15|2013-07-25|       2568|       COMPLETE|\n",
      "|      16|2013-07-25|       7276|PENDING_PAYMENT|\n",
      "|      17|2013-07-25|       2667|       COMPLETE|\n",
      "|      18|2013-07-25|       1205|         CLOSED|\n",
      "|      19|2013-07-25|       2667|PENDING_PAYMENT|\n",
      "|      20|2013-07-25|       1205|     PROCESSING|\n",
      "+--------+----------+-----------+---------------+\n",
      "\n"
     ]
    }
   ],
   "source": [
    "order_df.show()"
   ]
  },
  {
   "cell_type": "code",
   "execution_count": 11,
   "id": "3679721c",
   "metadata": {},
   "outputs": [
    {
     "name": "stdout",
     "output_type": "stream",
     "text": [
      "+-----------+--------------+--------------+---------+---------+--------------------+-------------+-----+-------+\n",
      "|customer_id|customer_fname|customer_lname| username| password|             address|         city|state|pincode|\n",
      "+-----------+--------------+--------------+---------+---------+--------------------+-------------+-----+-------+\n",
      "|      11599|       Richard|     Hernandez|XXXXXXXXX|XXXXXXXXX|  6303 Heather Plaza|  Brownsville|   TX|  78521|\n",
      "|        256|          Mary|       Barrett|XXXXXXXXX|XXXXXXXXX|9526 Noble Embers...|    Littleton|   CO|  80126|\n",
      "|      12111|           Ann|         Smith|XXXXXXXXX|XXXXXXXXX|3422 Blue Pioneer...|       Caguas|   PR|    725|\n",
      "|       8827|          Mary|         Jones|XXXXXXXXX|XXXXXXXXX|  8324 Little Common|   San Marcos|   CA|  92069|\n",
      "|      11318|        Robert|        Hudson|XXXXXXXXX|XXXXXXXXX|10 Crystal River ...|       Caguas|   PR|    725|\n",
      "|       7130|          Mary|         Smith|XXXXXXXXX|XXXXXXXXX|3151 Sleepy Quail...|      Passaic|   NJ|   7055|\n",
      "|       4530|       Melissa|        Wilcox|XXXXXXXXX|XXXXXXXXX|9453 High Concession|       Caguas|   PR|    725|\n",
      "|       2911|         Megan|         Smith|XXXXXXXXX|XXXXXXXXX|3047 Foggy Forest...|     Lawrence|   MA|   1841|\n",
      "|       5657|          Mary|         Perez|XXXXXXXXX|XXXXXXXXX| 3616 Quaking Street|       Caguas|   PR|    725|\n",
      "|       5648|       Melissa|         Smith|XXXXXXXXX|XXXXXXXXX|8598 Harvest Beac...|     Stafford|   VA|  22554|\n",
      "|         11|          Mary|       Huffman|XXXXXXXXX|XXXXXXXXX|    3169 Stony Woods|       Caguas|   PR|    725|\n",
      "|         12|   Christopher|         Smith|XXXXXXXXX|XXXXXXXXX|5594 Jagged Ember...|  San Antonio|   TX|  78227|\n",
      "|         13|          Mary|       Baldwin|XXXXXXXXX|XXXXXXXXX|7922 Iron Oak Gar...|       Caguas|   PR|    725|\n",
      "|         14|     Katherine|         Smith|XXXXXXXXX|XXXXXXXXX|5666 Hazy Pony Sq...|  Pico Rivera|   CA|  90660|\n",
      "|         15|          Jane|          Luna|XXXXXXXXX|XXXXXXXXX|    673 Burning Glen|      Fontana|   CA|  92336|\n",
      "|         16|       Tiffany|         Smith|XXXXXXXXX|XXXXXXXXX|      6651 Iron Port|       Caguas|   PR|    725|\n",
      "|         17|          Mary|      Robinson|XXXXXXXXX|XXXXXXXXX|     1325 Noble Pike|       Taylor|   MI|  48180|\n",
      "|         18|        Robert|         Smith|XXXXXXXXX|XXXXXXXXX|2734 Hazy Butterf...|     Martinez|   CA|  94553|\n",
      "|         19|     Stephanie|      Mitchell|XXXXXXXXX|XXXXXXXXX|3543 Red Treasure...|       Caguas|   PR|    725|\n",
      "|         20|          Mary|         Ellis|XXXXXXXXX|XXXXXXXXX|      4703 Old Route|West New York|   NJ|   7093|\n",
      "+-----------+--------------+--------------+---------+---------+--------------------+-------------+-----+-------+\n",
      "\n"
     ]
    }
   ],
   "source": [
    "customer_df.show()"
   ]
  },
  {
   "cell_type": "code",
   "execution_count": 12,
   "id": "84130e08",
   "metadata": {},
   "outputs": [
    {
     "name": "stdout",
     "output_type": "stream",
     "text": [
      "+--------+----------+-----------+---------------+-----------+--------------+--------------+---------+---------+--------------------+-----------+-----+-------+\n",
      "|order_id|order_date|customer_id|   order_status|customer_id|customer_fname|customer_lname| username| password|             address|       city|state|pincode|\n",
      "+--------+----------+-----------+---------------+-----------+--------------+--------------+---------+---------+--------------------+-----------+-----+-------+\n",
      "|       1|2013-07-25|      11599|         CLOSED|      11599|       Richard|     Hernandez|XXXXXXXXX|XXXXXXXXX|  6303 Heather Plaza|Brownsville|   TX|  78521|\n",
      "|       2|2013-07-25|        256|PENDING_PAYMENT|        256|          Mary|       Barrett|XXXXXXXXX|XXXXXXXXX|9526 Noble Embers...|  Littleton|   CO|  80126|\n",
      "|       3|2013-07-25|      12111|       COMPLETE|      12111|           Ann|         Smith|XXXXXXXXX|XXXXXXXXX|3422 Blue Pioneer...|     Caguas|   PR|    725|\n",
      "|       4|2013-07-25|       8827|         CLOSED|       8827|          Mary|         Jones|XXXXXXXXX|XXXXXXXXX|  8324 Little Common| San Marcos|   CA|  92069|\n",
      "|       5|2013-07-25|      11318|       COMPLETE|      11318|        Robert|        Hudson|XXXXXXXXX|XXXXXXXXX|10 Crystal River ...|     Caguas|   PR|    725|\n",
      "|       6|2013-07-25|       7130|       COMPLETE|       7130|          Mary|         Smith|XXXXXXXXX|XXXXXXXXX|3151 Sleepy Quail...|    Passaic|   NJ|   7055|\n",
      "|       7|2013-07-25|       4530|       COMPLETE|       4530|       Melissa|        Wilcox|XXXXXXXXX|XXXXXXXXX|9453 High Concession|     Caguas|   PR|    725|\n",
      "|       8|2013-07-25|       2911|     PROCESSING|       2911|         Megan|         Smith|XXXXXXXXX|XXXXXXXXX|3047 Foggy Forest...|   Lawrence|   MA|   1841|\n",
      "|       9|2013-07-25|       5657|PENDING_PAYMENT|       5657|          Mary|         Perez|XXXXXXXXX|XXXXXXXXX| 3616 Quaking Street|     Caguas|   PR|    725|\n",
      "|      10|2013-07-25|       5648|PENDING_PAYMENT|       5648|       Melissa|         Smith|XXXXXXXXX|XXXXXXXXX|8598 Harvest Beac...|   Stafford|   VA|  22554|\n",
      "+--------+----------+-----------+---------------+-----------+--------------+--------------+---------+---------+--------------------+-----------+-----+-------+\n",
      "\n"
     ]
    }
   ],
   "source": [
    "order_df.join(customer_df,order_df.customer_id ==customer_df.customer_id,\"inner\").show(50)"
   ]
  },
  {
   "cell_type": "code",
   "execution_count": 13,
   "id": "166ba7c1",
   "metadata": {},
   "outputs": [
    {
     "name": "stdout",
     "output_type": "stream",
     "text": [
      "+--------+----------+-----------+---------------+-----------+--------------+--------------+---------+---------+--------------------+-----------+-----+-------+\n",
      "|order_id|order_date|customer_id|   order_status|customer_id|customer_fname|customer_lname| username| password|             address|       city|state|pincode|\n",
      "+--------+----------+-----------+---------------+-----------+--------------+--------------+---------+---------+--------------------+-----------+-----+-------+\n",
      "|       1|2013-07-25|      11599|         CLOSED|      11599|       Richard|     Hernandez|XXXXXXXXX|XXXXXXXXX|  6303 Heather Plaza|Brownsville|   TX|  78521|\n",
      "|       2|2013-07-25|        256|PENDING_PAYMENT|        256|          Mary|       Barrett|XXXXXXXXX|XXXXXXXXX|9526 Noble Embers...|  Littleton|   CO|  80126|\n",
      "|       3|2013-07-25|      12111|       COMPLETE|      12111|           Ann|         Smith|XXXXXXXXX|XXXXXXXXX|3422 Blue Pioneer...|     Caguas|   PR|    725|\n",
      "|       4|2013-07-25|       8827|         CLOSED|       8827|          Mary|         Jones|XXXXXXXXX|XXXXXXXXX|  8324 Little Common| San Marcos|   CA|  92069|\n",
      "|       5|2013-07-25|      11318|       COMPLETE|      11318|        Robert|        Hudson|XXXXXXXXX|XXXXXXXXX|10 Crystal River ...|     Caguas|   PR|    725|\n",
      "|       6|2013-07-25|       7130|       COMPLETE|       7130|          Mary|         Smith|XXXXXXXXX|XXXXXXXXX|3151 Sleepy Quail...|    Passaic|   NJ|   7055|\n",
      "|       7|2013-07-25|       4530|       COMPLETE|       4530|       Melissa|        Wilcox|XXXXXXXXX|XXXXXXXXX|9453 High Concession|     Caguas|   PR|    725|\n",
      "|       8|2013-07-25|       2911|     PROCESSING|       2911|         Megan|         Smith|XXXXXXXXX|XXXXXXXXX|3047 Foggy Forest...|   Lawrence|   MA|   1841|\n",
      "|       9|2013-07-25|       5657|PENDING_PAYMENT|       5657|          Mary|         Perez|XXXXXXXXX|XXXXXXXXX| 3616 Quaking Street|     Caguas|   PR|    725|\n",
      "|      10|2013-07-25|       5648|PENDING_PAYMENT|       5648|       Melissa|         Smith|XXXXXXXXX|XXXXXXXXX|8598 Harvest Beac...|   Stafford|   VA|  22554|\n",
      "|      11|2013-07-25|        918| PAYMENT_REVIEW|       null|          null|          null|     null|     null|                null|       null| null|   null|\n",
      "|      12|2013-07-25|       1837|         CLOSED|       null|          null|          null|     null|     null|                null|       null| null|   null|\n",
      "|      13|2013-07-25|       9149|PENDING_PAYMENT|       null|          null|          null|     null|     null|                null|       null| null|   null|\n",
      "|      14|2013-07-25|       9842|     PROCESSING|       null|          null|          null|     null|     null|                null|       null| null|   null|\n",
      "|      15|2013-07-25|       2568|       COMPLETE|       null|          null|          null|     null|     null|                null|       null| null|   null|\n",
      "|      16|2013-07-25|       7276|PENDING_PAYMENT|       null|          null|          null|     null|     null|                null|       null| null|   null|\n",
      "|      17|2013-07-25|       2667|       COMPLETE|       null|          null|          null|     null|     null|                null|       null| null|   null|\n",
      "|      18|2013-07-25|       1205|         CLOSED|       null|          null|          null|     null|     null|                null|       null| null|   null|\n",
      "|      19|2013-07-25|       2667|PENDING_PAYMENT|       null|          null|          null|     null|     null|                null|       null| null|   null|\n",
      "|      20|2013-07-25|       1205|     PROCESSING|       null|          null|          null|     null|     null|                null|       null| null|   null|\n",
      "+--------+----------+-----------+---------------+-----------+--------------+--------------+---------+---------+--------------------+-----------+-----+-------+\n",
      "\n"
     ]
    }
   ],
   "source": [
    "order_df.join(customer_df,order_df.customer_id ==customer_df.customer_id,\"left\").show(50)"
   ]
  },
  {
   "cell_type": "code",
   "execution_count": 14,
   "id": "5a69d023",
   "metadata": {},
   "outputs": [
    {
     "name": "stdout",
     "output_type": "stream",
     "text": [
      "+--------+----------+-----------+---------------+-----------+--------------+--------------+---------+---------+--------------------+-------------+-----+-------+\n",
      "|order_id|order_date|customer_id|   order_status|customer_id|customer_fname|customer_lname| username| password|             address|         city|state|pincode|\n",
      "+--------+----------+-----------+---------------+-----------+--------------+--------------+---------+---------+--------------------+-------------+-----+-------+\n",
      "|       1|2013-07-25|      11599|         CLOSED|      11599|       Richard|     Hernandez|XXXXXXXXX|XXXXXXXXX|  6303 Heather Plaza|  Brownsville|   TX|  78521|\n",
      "|       2|2013-07-25|        256|PENDING_PAYMENT|        256|          Mary|       Barrett|XXXXXXXXX|XXXXXXXXX|9526 Noble Embers...|    Littleton|   CO|  80126|\n",
      "|       3|2013-07-25|      12111|       COMPLETE|      12111|           Ann|         Smith|XXXXXXXXX|XXXXXXXXX|3422 Blue Pioneer...|       Caguas|   PR|    725|\n",
      "|       4|2013-07-25|       8827|         CLOSED|       8827|          Mary|         Jones|XXXXXXXXX|XXXXXXXXX|  8324 Little Common|   San Marcos|   CA|  92069|\n",
      "|       5|2013-07-25|      11318|       COMPLETE|      11318|        Robert|        Hudson|XXXXXXXXX|XXXXXXXXX|10 Crystal River ...|       Caguas|   PR|    725|\n",
      "|       6|2013-07-25|       7130|       COMPLETE|       7130|          Mary|         Smith|XXXXXXXXX|XXXXXXXXX|3151 Sleepy Quail...|      Passaic|   NJ|   7055|\n",
      "|       7|2013-07-25|       4530|       COMPLETE|       4530|       Melissa|        Wilcox|XXXXXXXXX|XXXXXXXXX|9453 High Concession|       Caguas|   PR|    725|\n",
      "|       8|2013-07-25|       2911|     PROCESSING|       2911|         Megan|         Smith|XXXXXXXXX|XXXXXXXXX|3047 Foggy Forest...|     Lawrence|   MA|   1841|\n",
      "|       9|2013-07-25|       5657|PENDING_PAYMENT|       5657|          Mary|         Perez|XXXXXXXXX|XXXXXXXXX| 3616 Quaking Street|       Caguas|   PR|    725|\n",
      "|      10|2013-07-25|       5648|PENDING_PAYMENT|       5648|       Melissa|         Smith|XXXXXXXXX|XXXXXXXXX|8598 Harvest Beac...|     Stafford|   VA|  22554|\n",
      "|    null|      null|       null|           null|         11|          Mary|       Huffman|XXXXXXXXX|XXXXXXXXX|    3169 Stony Woods|       Caguas|   PR|    725|\n",
      "|    null|      null|       null|           null|         12|   Christopher|         Smith|XXXXXXXXX|XXXXXXXXX|5594 Jagged Ember...|  San Antonio|   TX|  78227|\n",
      "|    null|      null|       null|           null|         13|          Mary|       Baldwin|XXXXXXXXX|XXXXXXXXX|7922 Iron Oak Gar...|       Caguas|   PR|    725|\n",
      "|    null|      null|       null|           null|         14|     Katherine|         Smith|XXXXXXXXX|XXXXXXXXX|5666 Hazy Pony Sq...|  Pico Rivera|   CA|  90660|\n",
      "|    null|      null|       null|           null|         15|          Jane|          Luna|XXXXXXXXX|XXXXXXXXX|    673 Burning Glen|      Fontana|   CA|  92336|\n",
      "|    null|      null|       null|           null|         16|       Tiffany|         Smith|XXXXXXXXX|XXXXXXXXX|      6651 Iron Port|       Caguas|   PR|    725|\n",
      "|    null|      null|       null|           null|         17|          Mary|      Robinson|XXXXXXXXX|XXXXXXXXX|     1325 Noble Pike|       Taylor|   MI|  48180|\n",
      "|    null|      null|       null|           null|         18|        Robert|         Smith|XXXXXXXXX|XXXXXXXXX|2734 Hazy Butterf...|     Martinez|   CA|  94553|\n",
      "|    null|      null|       null|           null|         19|     Stephanie|      Mitchell|XXXXXXXXX|XXXXXXXXX|3543 Red Treasure...|       Caguas|   PR|    725|\n",
      "|    null|      null|       null|           null|         20|          Mary|         Ellis|XXXXXXXXX|XXXXXXXXX|      4703 Old Route|West New York|   NJ|   7093|\n",
      "+--------+----------+-----------+---------------+-----------+--------------+--------------+---------+---------+--------------------+-------------+-----+-------+\n",
      "\n"
     ]
    }
   ],
   "source": [
    "order_df.join(customer_df,order_df.customer_id ==customer_df.customer_id,\"right\").show(50)"
   ]
  },
  {
   "cell_type": "code",
   "execution_count": 15,
   "id": "8c3cdecb",
   "metadata": {},
   "outputs": [
    {
     "name": "stdout",
     "output_type": "stream",
     "text": [
      "+--------+----------+-----------+---------------+-----------+--------------+--------------+---------+---------+--------------------+-------------+-----+-------+\n",
      "|order_id|order_date|customer_id|   order_status|customer_id|customer_fname|customer_lname| username| password|             address|         city|state|pincode|\n",
      "+--------+----------+-----------+---------------+-----------+--------------+--------------+---------+---------+--------------------+-------------+-----+-------+\n",
      "|       6|2013-07-25|       7130|       COMPLETE|       7130|          Mary|         Smith|XXXXXXXXX|XXXXXXXXX|3151 Sleepy Quail...|      Passaic|   NJ|   7055|\n",
      "|    null|      null|       null|           null|         19|     Stephanie|      Mitchell|XXXXXXXXX|XXXXXXXXX|3543 Red Treasure...|       Caguas|   PR|    725|\n",
      "|      15|2013-07-25|       2568|       COMPLETE|       null|          null|          null|     null|     null|                null|         null| null|   null|\n",
      "|       3|2013-07-25|      12111|       COMPLETE|      12111|           Ann|         Smith|XXXXXXXXX|XXXXXXXXX|3422 Blue Pioneer...|       Caguas|   PR|    725|\n",
      "|      17|2013-07-25|       2667|       COMPLETE|       null|          null|          null|     null|     null|                null|         null| null|   null|\n",
      "|      19|2013-07-25|       2667|PENDING_PAYMENT|       null|          null|          null|     null|     null|                null|         null| null|   null|\n",
      "|       5|2013-07-25|      11318|       COMPLETE|      11318|        Robert|        Hudson|XXXXXXXXX|XXXXXXXXX|10 Crystal River ...|       Caguas|   PR|    725|\n",
      "|    null|      null|       null|           null|         17|          Mary|      Robinson|XXXXXXXXX|XXXXXXXXX|     1325 Noble Pike|       Taylor|   MI|  48180|\n",
      "|       7|2013-07-25|       4530|       COMPLETE|       4530|       Melissa|        Wilcox|XXXXXXXXX|XXXXXXXXX|9453 High Concession|       Caguas|   PR|    725|\n",
      "|    null|      null|       null|           null|         12|   Christopher|         Smith|XXXXXXXXX|XXXXXXXXX|5594 Jagged Ember...|  San Antonio|   TX|  78227|\n",
      "|       8|2013-07-25|       2911|     PROCESSING|       2911|         Megan|         Smith|XXXXXXXXX|XXXXXXXXX|3047 Foggy Forest...|     Lawrence|   MA|   1841|\n",
      "|    null|      null|       null|           null|         11|          Mary|       Huffman|XXXXXXXXX|XXXXXXXXX|    3169 Stony Woods|       Caguas|   PR|    725|\n",
      "|       1|2013-07-25|      11599|         CLOSED|      11599|       Richard|     Hernandez|XXXXXXXXX|XXXXXXXXX|  6303 Heather Plaza|  Brownsville|   TX|  78521|\n",
      "|      14|2013-07-25|       9842|     PROCESSING|       null|          null|          null|     null|     null|                null|         null| null|   null|\n",
      "|      12|2013-07-25|       1837|         CLOSED|       null|          null|          null|     null|     null|                null|         null| null|   null|\n",
      "|    null|      null|       null|           null|         13|          Mary|       Baldwin|XXXXXXXXX|XXXXXXXXX|7922 Iron Oak Gar...|       Caguas|   PR|    725|\n",
      "|       9|2013-07-25|       5657|PENDING_PAYMENT|       5657|          Mary|         Perez|XXXXXXXXX|XXXXXXXXX| 3616 Quaking Street|       Caguas|   PR|    725|\n",
      "|      13|2013-07-25|       9149|PENDING_PAYMENT|       null|          null|          null|     null|     null|                null|         null| null|   null|\n",
      "|    null|      null|       null|           null|         18|        Robert|         Smith|XXXXXXXXX|XXXXXXXXX|2734 Hazy Butterf...|     Martinez|   CA|  94553|\n",
      "|    null|      null|       null|           null|         14|     Katherine|         Smith|XXXXXXXXX|XXXXXXXXX|5666 Hazy Pony Sq...|  Pico Rivera|   CA|  90660|\n",
      "|    null|      null|       null|           null|         15|          Jane|          Luna|XXXXXXXXX|XXXXXXXXX|    673 Burning Glen|      Fontana|   CA|  92336|\n",
      "|       2|2013-07-25|        256|PENDING_PAYMENT|        256|          Mary|       Barrett|XXXXXXXXX|XXXXXXXXX|9526 Noble Embers...|    Littleton|   CO|  80126|\n",
      "|    null|      null|       null|           null|         20|          Mary|         Ellis|XXXXXXXXX|XXXXXXXXX|      4703 Old Route|West New York|   NJ|   7093|\n",
      "|       4|2013-07-25|       8827|         CLOSED|       8827|          Mary|         Jones|XXXXXXXXX|XXXXXXXXX|  8324 Little Common|   San Marcos|   CA|  92069|\n",
      "|      11|2013-07-25|        918| PAYMENT_REVIEW|       null|          null|          null|     null|     null|                null|         null| null|   null|\n",
      "|      16|2013-07-25|       7276|PENDING_PAYMENT|       null|          null|          null|     null|     null|                null|         null| null|   null|\n",
      "|    null|      null|       null|           null|         16|       Tiffany|         Smith|XXXXXXXXX|XXXXXXXXX|      6651 Iron Port|       Caguas|   PR|    725|\n",
      "|      18|2013-07-25|       1205|         CLOSED|       null|          null|          null|     null|     null|                null|         null| null|   null|\n",
      "|      20|2013-07-25|       1205|     PROCESSING|       null|          null|          null|     null|     null|                null|         null| null|   null|\n",
      "|      10|2013-07-25|       5648|PENDING_PAYMENT|       5648|       Melissa|         Smith|XXXXXXXXX|XXXXXXXXX|8598 Harvest Beac...|     Stafford|   VA|  22554|\n",
      "+--------+----------+-----------+---------------+-----------+--------------+--------------+---------+---------+--------------------+-------------+-----+-------+\n",
      "\n"
     ]
    }
   ],
   "source": [
    "order_df.join(customer_df,order_df.customer_id ==customer_df.customer_id,\"full\").show(50)"
   ]
  },
  {
   "cell_type": "code",
   "execution_count": 16,
   "id": "cedded34",
   "metadata": {},
   "outputs": [
    {
     "name": "stdout",
     "output_type": "stream",
     "text": [
      "+-----------+--------------+--------------+---------+---------+--------------------+-----------+-----+-------+\n",
      "|customer_id|customer_fname|customer_lname| username| password|             address|       city|state|pincode|\n",
      "+-----------+--------------+--------------+---------+---------+--------------------+-----------+-----+-------+\n",
      "|      11599|       Richard|     Hernandez|XXXXXXXXX|XXXXXXXXX|  6303 Heather Plaza|Brownsville|   TX|  78521|\n",
      "|        256|          Mary|       Barrett|XXXXXXXXX|XXXXXXXXX|9526 Noble Embers...|  Littleton|   CO|  80126|\n",
      "|      12111|           Ann|         Smith|XXXXXXXXX|XXXXXXXXX|3422 Blue Pioneer...|     Caguas|   PR|    725|\n",
      "|       8827|          Mary|         Jones|XXXXXXXXX|XXXXXXXXX|  8324 Little Common| San Marcos|   CA|  92069|\n",
      "|      11318|        Robert|        Hudson|XXXXXXXXX|XXXXXXXXX|10 Crystal River ...|     Caguas|   PR|    725|\n",
      "|       7130|          Mary|         Smith|XXXXXXXXX|XXXXXXXXX|3151 Sleepy Quail...|    Passaic|   NJ|   7055|\n",
      "|       4530|       Melissa|        Wilcox|XXXXXXXXX|XXXXXXXXX|9453 High Concession|     Caguas|   PR|    725|\n",
      "|       2911|         Megan|         Smith|XXXXXXXXX|XXXXXXXXX|3047 Foggy Forest...|   Lawrence|   MA|   1841|\n",
      "|       5657|          Mary|         Perez|XXXXXXXXX|XXXXXXXXX| 3616 Quaking Street|     Caguas|   PR|    725|\n",
      "|       5648|       Melissa|         Smith|XXXXXXXXX|XXXXXXXXX|8598 Harvest Beac...|   Stafford|   VA|  22554|\n",
      "+-----------+--------------+--------------+---------+---------+--------------------+-----------+-----+-------+\n",
      "\n"
     ]
    }
   ],
   "source": [
    "customer_df.join(order_df,order_df.customer_id ==customer_df.customer_id,\"semi\").show(50)"
   ]
  },
  {
   "cell_type": "code",
   "execution_count": 17,
   "id": "0beac9c3",
   "metadata": {},
   "outputs": [
    {
     "name": "stdout",
     "output_type": "stream",
     "text": [
      "+-----------+--------------+--------------+---------+---------+--------------------+-------------+-----+-------+\n",
      "|customer_id|customer_fname|customer_lname| username| password|             address|         city|state|pincode|\n",
      "+-----------+--------------+--------------+---------+---------+--------------------+-------------+-----+-------+\n",
      "|         11|          Mary|       Huffman|XXXXXXXXX|XXXXXXXXX|    3169 Stony Woods|       Caguas|   PR|    725|\n",
      "|         12|   Christopher|         Smith|XXXXXXXXX|XXXXXXXXX|5594 Jagged Ember...|  San Antonio|   TX|  78227|\n",
      "|         13|          Mary|       Baldwin|XXXXXXXXX|XXXXXXXXX|7922 Iron Oak Gar...|       Caguas|   PR|    725|\n",
      "|         14|     Katherine|         Smith|XXXXXXXXX|XXXXXXXXX|5666 Hazy Pony Sq...|  Pico Rivera|   CA|  90660|\n",
      "|         15|          Jane|          Luna|XXXXXXXXX|XXXXXXXXX|    673 Burning Glen|      Fontana|   CA|  92336|\n",
      "|         16|       Tiffany|         Smith|XXXXXXXXX|XXXXXXXXX|      6651 Iron Port|       Caguas|   PR|    725|\n",
      "|         17|          Mary|      Robinson|XXXXXXXXX|XXXXXXXXX|     1325 Noble Pike|       Taylor|   MI|  48180|\n",
      "|         18|        Robert|         Smith|XXXXXXXXX|XXXXXXXXX|2734 Hazy Butterf...|     Martinez|   CA|  94553|\n",
      "|         19|     Stephanie|      Mitchell|XXXXXXXXX|XXXXXXXXX|3543 Red Treasure...|       Caguas|   PR|    725|\n",
      "|         20|          Mary|         Ellis|XXXXXXXXX|XXXXXXXXX|      4703 Old Route|West New York|   NJ|   7093|\n",
      "+-----------+--------------+--------------+---------+---------+--------------------+-------------+-----+-------+\n",
      "\n"
     ]
    }
   ],
   "source": [
    "customer_df.join(order_df,order_df.customer_id ==customer_df.customer_id,\"anti\").show(50)"
   ]
  },
  {
   "cell_type": "code",
   "execution_count": null,
   "id": "4ea87f69",
   "metadata": {},
   "outputs": [],
   "source": []
  }
 ],
 "metadata": {
  "kernelspec": {
   "display_name": "Pyspark 3",
   "language": "python",
   "name": "pyspark3"
  },
  "language_info": {
   "codemirror_mode": {
    "name": "ipython",
    "version": 3
   },
   "file_extension": ".py",
   "mimetype": "text/x-python",
   "name": "python",
   "nbconvert_exporter": "python",
   "pygments_lexer": "ipython3",
   "version": "3.6.12"
  }
 },
 "nbformat": 4,
 "nbformat_minor": 5
}
