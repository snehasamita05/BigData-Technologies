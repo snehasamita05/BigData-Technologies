{
 "cells": [
  {
   "cell_type": "code",
   "execution_count": 1,
   "id": "9dc7cb39",
   "metadata": {},
   "outputs": [],
   "source": [
    "from pyspark.sql import SparkSession\n",
    "import getpass\n",
    "username = getpass.getuser()\n",
    "spark = SparkSession. \\\n",
    "builder. \\\n",
    "appName(\"Sneha Spark Session\").\\\n",
    "config(\"spark.shuffle.useOldFetchProtocol\", 'true'). \\\n",
    "config(\"spark.sql.warehouse.dir\", f\"/user/{username}/warehouse\"). \\\n",
    "enableHiveSupport(). \\\n",
    "master('yarn'). \\\n",
    "getOrCreate()"
   ]
  },
  {
   "cell_type": "code",
   "execution_count": 2,
   "id": "0a492fc0",
   "metadata": {},
   "outputs": [
    {
     "data": {
      "text/html": [
       "\n",
       "            <div>\n",
       "                <p><b>SparkSession - hive</b></p>\n",
       "                \n",
       "        <div>\n",
       "            <p><b>SparkContext</b></p>\n",
       "\n",
       "            <p><a href=\"http://g01.itversity.com:4041\">Spark UI</a></p>\n",
       "\n",
       "            <dl>\n",
       "              <dt>Version</dt>\n",
       "                <dd><code>v3.1.2</code></dd>\n",
       "              <dt>Master</dt>\n",
       "                <dd><code>yarn</code></dd>\n",
       "              <dt>AppName</dt>\n",
       "                <dd><code>Sneha Spark Session</code></dd>\n",
       "            </dl>\n",
       "        </div>\n",
       "        \n",
       "            </div>\n",
       "        "
      ],
      "text/plain": [
       "<pyspark.sql.session.SparkSession at 0x7fce911b37f0>"
      ]
     },
     "execution_count": 2,
     "metadata": {},
     "output_type": "execute_result"
    }
   ],
   "source": [
    "spark"
   ]
  },
  {
   "cell_type": "code",
   "execution_count": 3,
   "id": "26f5b7d3",
   "metadata": {},
   "outputs": [],
   "source": [
    "order_schema = 'order_id long, order_date date, customer_id long, order_status string'"
   ]
  },
  {
   "cell_type": "code",
   "execution_count": 4,
   "id": "13e7c010",
   "metadata": {},
   "outputs": [],
   "source": [
    "order_df = spark.read.\\\n",
    "format(\"csv\").\\\n",
    "schema(order_schema).\\\n",
    "load(\"/public/trendytech/orders/orders_1gb.csv\")"
   ]
  },
  {
   "cell_type": "code",
   "execution_count": 5,
   "id": "c0e758fb",
   "metadata": {},
   "outputs": [],
   "source": [
    "customer_schema = \"customer_id long,customer_fname string, customer_lname string,username string, password string,address string, city string, state string, pincode long\""
   ]
  },
  {
   "cell_type": "code",
   "execution_count": 6,
   "id": "d7f9ece3",
   "metadata": {},
   "outputs": [],
   "source": [
    "customer_df = spark.read.format(\"csv\").schema(customer_schema).load(\"/public/trendytech/retail_db/customers\")"
   ]
  },
  {
   "cell_type": "code",
   "execution_count": 7,
   "id": "2d8a8207",
   "metadata": {},
   "outputs": [
    {
     "data": {
      "text/plain": [
       "'10485760b'"
      ]
     },
     "execution_count": 7,
     "metadata": {},
     "output_type": "execute_result"
    }
   ],
   "source": [
    "spark.conf.get('spark.sql.autoBroadcastJoinThreshold')"
   ]
  },
  {
   "cell_type": "code",
   "execution_count": 8,
   "id": "480fa962",
   "metadata": {},
   "outputs": [],
   "source": [
    "order_df.join(customer_df,order_df.customer_id == customer_df.customer_id,\"inner\").write.format(\"noop\").mode(\"overwrite\").save()"
   ]
  },
  {
   "cell_type": "code",
   "execution_count": 9,
   "id": "88a5b971",
   "metadata": {},
   "outputs": [],
   "source": [
    "spark.conf.set('spark.sql.autoBroadcastJoinThreshold','-1')"
   ]
  },
  {
   "cell_type": "code",
   "execution_count": 10,
   "id": "10dc0a4c",
   "metadata": {},
   "outputs": [
    {
     "name": "stdout",
     "output_type": "stream",
     "text": [
      "== Physical Plan ==\n",
      "*(5) SortMergeJoin [customer_id#2L], [customer_id#8L], Inner\n",
      ":- *(2) Sort [customer_id#2L ASC NULLS FIRST], false, 0\n",
      ":  +- Exchange hashpartitioning(customer_id#2L, 200), ENSURE_REQUIREMENTS, [id=#67]\n",
      ":     +- *(1) Filter isnotnull(customer_id#2L)\n",
      ":        +- FileScan csv [order_id#0L,order_date#1,customer_id#2L,order_status#3] Batched: false, DataFilters: [isnotnull(customer_id#2L)], Format: CSV, Location: InMemoryFileIndex[hdfs://m01.itversity.com:9000/public/trendytech/orders/orders_1gb.csv], PartitionFilters: [], PushedFilters: [IsNotNull(customer_id)], ReadSchema: struct<order_id:bigint,order_date:date,customer_id:bigint,order_status:string>\n",
      "+- *(4) Sort [customer_id#8L ASC NULLS FIRST], false, 0\n",
      "   +- Exchange hashpartitioning(customer_id#8L, 200), ENSURE_REQUIREMENTS, [id=#75]\n",
      "      +- *(3) Filter isnotnull(customer_id#8L)\n",
      "         +- FileScan csv [customer_id#8L,customer_fname#9,customer_lname#10,username#11,password#12,address#13,city#14,state#15,pincode#16L] Batched: false, DataFilters: [isnotnull(customer_id#8L)], Format: CSV, Location: InMemoryFileIndex[hdfs://m01.itversity.com:9000/public/trendytech/retail_db/customers], PartitionFilters: [], PushedFilters: [IsNotNull(customer_id)], ReadSchema: struct<customer_id:bigint,customer_fname:string,customer_lname:string,username:string,password:st...\n",
      "\n",
      "\n"
     ]
    }
   ],
   "source": [
    "order_df.join(customer_df,order_df.customer_id == customer_df.customer_id,\"inner\").explain()"
   ]
  },
  {
   "cell_type": "code",
   "execution_count": 11,
   "id": "76318b7a",
   "metadata": {},
   "outputs": [],
   "source": [
    "order_df.join(customer_df,order_df.customer_id == customer_df.customer_id,\"inner\").write.format(\"noop\").mode(\"overwrite\").save()"
   ]
  },
  {
   "cell_type": "code",
   "execution_count": 12,
   "id": "49795ffb",
   "metadata": {},
   "outputs": [],
   "source": [
    "spark.conf.set('spark.sql.autoBroadcastJoinThreshold','10485760b')"
   ]
  },
  {
   "cell_type": "code",
   "execution_count": 13,
   "id": "5625f324",
   "metadata": {},
   "outputs": [
    {
     "name": "stdout",
     "output_type": "stream",
     "text": [
      "== Physical Plan ==\n",
      "*(2) BroadcastHashJoin [customer_id#2L], [customer_id#8L], Inner, BuildRight, false\n",
      ":- *(2) Filter isnotnull(customer_id#2L)\n",
      ":  +- FileScan csv [order_id#0L,order_date#1,customer_id#2L,order_status#3] Batched: false, DataFilters: [isnotnull(customer_id#2L)], Format: CSV, Location: InMemoryFileIndex[hdfs://m01.itversity.com:9000/public/trendytech/orders/orders_1gb.csv], PartitionFilters: [], PushedFilters: [IsNotNull(customer_id)], ReadSchema: struct<order_id:bigint,order_date:date,customer_id:bigint,order_status:string>\n",
      "+- BroadcastExchange HashedRelationBroadcastMode(List(input[0, bigint, false]),false), [id=#160]\n",
      "   +- *(1) Filter isnotnull(customer_id#8L)\n",
      "      +- FileScan csv [customer_id#8L,customer_fname#9,customer_lname#10,username#11,password#12,address#13,city#14,state#15,pincode#16L] Batched: false, DataFilters: [isnotnull(customer_id#8L)], Format: CSV, Location: InMemoryFileIndex[hdfs://m01.itversity.com:9000/public/trendytech/retail_db/customers], PartitionFilters: [], PushedFilters: [IsNotNull(customer_id)], ReadSchema: struct<customer_id:bigint,customer_fname:string,customer_lname:string,username:string,password:st...\n",
      "\n",
      "\n"
     ]
    }
   ],
   "source": [
    "order_df.join(customer_df,order_df.customer_id == customer_df.customer_id,\"inner\").explain()"
   ]
  },
  {
   "cell_type": "code",
   "execution_count": 16,
   "id": "e7657a94",
   "metadata": {},
   "outputs": [],
   "source": [
    "order_df.join(customer_df.hint(\"shuffle_hash\"),order_df.customer_id == customer_df.customer_id,\"inner\").write.format(\"noop\").mode(\"overwrite\").save()"
   ]
  },
  {
   "cell_type": "code",
   "execution_count": 15,
   "id": "e933119a",
   "metadata": {},
   "outputs": [],
   "source": [
    "order_df.join(customer_df.hint(\"shuffle_merge\"),order_df.customer_id == customer_df.customer_id,\"inner\").write.format(\"noop\").mode(\"overwrite\").save()"
   ]
  },
  {
   "cell_type": "code",
   "execution_count": null,
   "id": "4c89ad7c",
   "metadata": {},
   "outputs": [],
   "source": []
  }
 ],
 "metadata": {
  "kernelspec": {
   "display_name": "Pyspark 3",
   "language": "python",
   "name": "pyspark3"
  },
  "language_info": {
   "codemirror_mode": {
    "name": "ipython",
    "version": 3
   },
   "file_extension": ".py",
   "mimetype": "text/x-python",
   "name": "python",
   "nbconvert_exporter": "python",
   "pygments_lexer": "ipython3",
   "version": "3.6.12"
  }
 },
 "nbformat": 4,
 "nbformat_minor": 5
}
