{
 "cells": [
  {
   "cell_type": "code",
   "execution_count": 1,
   "id": "99e4de73",
   "metadata": {},
   "outputs": [],
   "source": [
    "from pyspark.sql import SparkSession\n",
    "import getpass\n",
    "username = getpass.getuser()\n",
    "spark = SparkSession. \\\n",
    "    builder. \\\n",
    "    config('spark.ui.port','0'). \\\n",
    "    config(\"spark.sql.warehouse.dir\", f\"/user/{username}/warehouse\"). \\\n",
    "    config('spark.shuffle.useOldFetchProtocol','true'). \\\n",
    "    enableHiveSupport(). \\\n",
    "    master('yarn'). \\\n",
    "    getOrCreate()\n"
   ]
  },
  {
   "cell_type": "code",
   "execution_count": 2,
   "id": "a80b7bf2",
   "metadata": {},
   "outputs": [
    {
     "data": {
      "text/html": [
       "\n",
       "            <div>\n",
       "                <p><b>SparkSession - hive</b></p>\n",
       "                \n",
       "        <div>\n",
       "            <p><b>SparkContext</b></p>\n",
       "\n",
       "            <p><a href=\"http://g01.itversity.com:46649\">Spark UI</a></p>\n",
       "\n",
       "            <dl>\n",
       "              <dt>Version</dt>\n",
       "                <dd><code>v2.4.7</code></dd>\n",
       "              <dt>Master</dt>\n",
       "                <dd><code>yarn</code></dd>\n",
       "              <dt>AppName</dt>\n",
       "                <dd><code>pyspark-shell</code></dd>\n",
       "            </dl>\n",
       "        </div>\n",
       "        \n",
       "            </div>\n",
       "        "
      ],
      "text/plain": [
       "<pyspark.sql.session.SparkSession at 0x7f1f512f5a90>"
      ]
     },
     "execution_count": 2,
     "metadata": {},
     "output_type": "execute_result"
    }
   ],
   "source": [
    "spark"
   ]
  },
  {
   "cell_type": "code",
   "execution_count": 3,
   "id": "1306d458",
   "metadata": {},
   "outputs": [],
   "source": [
    "loans_schema = ('loan_id string, member_id string, loan_amount float, funded_amount float, loan_term_month string, interest_rate float, monthly_installment float,issue_date string, loan_status string, loan_purpose string, loan_title string')"
   ]
  },
  {
   "cell_type": "code",
   "execution_count": 4,
   "id": "177fb2ad",
   "metadata": {},
   "outputs": [],
   "source": [
    "loans_raw_df = spark.read.format(\"csv\").option(\"header\",True).schema(loans_schema).load(\"/user/itv017244/lendingclubproject/raw/loans_data_csv\")"
   ]
  },
  {
   "cell_type": "code",
   "execution_count": 5,
   "id": "8c2c90be",
   "metadata": {},
   "outputs": [
    {
     "name": "stdout",
     "output_type": "stream",
     "text": [
      "root\n",
      " |-- loan_id: string (nullable = true)\n",
      " |-- member_id: string (nullable = true)\n",
      " |-- loan_amount: float (nullable = true)\n",
      " |-- funded_amount: float (nullable = true)\n",
      " |-- loan_term_month: string (nullable = true)\n",
      " |-- interest_rate: float (nullable = true)\n",
      " |-- monthly_installment: float (nullable = true)\n",
      " |-- issue_date: string (nullable = true)\n",
      " |-- loan_status: string (nullable = true)\n",
      " |-- loan_purpose: string (nullable = true)\n",
      " |-- loan_title: string (nullable = true)\n",
      "\n"
     ]
    }
   ],
   "source": [
    "loans_raw_df.printSchema()"
   ]
  },
  {
   "cell_type": "code",
   "execution_count": 6,
   "id": "a5032c0f",
   "metadata": {},
   "outputs": [],
   "source": [
    "from pyspark.sql.functions import current_timestamp"
   ]
  },
  {
   "cell_type": "code",
   "execution_count": 7,
   "id": "1dab8256",
   "metadata": {},
   "outputs": [],
   "source": [
    "loans_df_ingestd=loans_raw_df.withColumn(\"ingest_date\", current_timestamp())"
   ]
  },
  {
   "cell_type": "code",
   "execution_count": 8,
   "id": "35c63a61",
   "metadata": {},
   "outputs": [
    {
     "data": {
      "text/html": [
       "<table border='1'>\n",
       "<tr><th>loan_id</th><th>member_id</th><th>loan_amount</th><th>funded_amount</th><th>loan_term_month</th><th>interest_rate</th><th>monthly_installment</th><th>issue_date</th><th>loan_status</th><th>loan_purpose</th><th>loan_title</th><th>ingest_date</th></tr>\n",
       "<tr><td>14408468</td><td>5d7676571dee53d06...</td><td>5000.0</td><td>5000.0</td><td>36 months</td><td>14.16</td><td>171.28</td><td>Apr-2014</td><td>debt_consolidation</td><td>Debt consolidation</td><td>null</td><td>2025-03-18 12:07:...</td></tr>\n",
       "<tr><td>14520567</td><td>31fd1ef036c5caf26...</td><td>11000.0</td><td>11000.0</td><td>36 months</td><td>9.67</td><td>353.24</td><td>Apr-2014</td><td>other</td><td>Other</td><td>null</td><td>2025-03-18 12:07:...</td></tr>\n",
       "<tr><td>14708730</td><td>9b48253ca5848fa78...</td><td>25000.0</td><td>25000.0</td><td>36 months</td><td>11.99</td><td>830.24</td><td>May-2014</td><td>credit_card</td><td>Credit card refin...</td><td>null</td><td>2025-03-18 12:07:...</td></tr>\n",
       "<tr><td>14491003</td><td>d6b8f2e32be148721...</td><td>1500.0</td><td>1500.0</td><td>36 months</td><td>23.43</td><td>58.41</td><td>Apr-2014</td><td>renewable_energy</td><td>Green loan</td><td>null</td><td>2025-03-18 12:07:...</td></tr>\n",
       "<tr><td>14510981</td><td>0a81ad556e20bcdb9...</td><td>10000.0</td><td>10000.0</td><td>36 months</td><td>12.99</td><td>336.9</td><td>Apr-2014</td><td>debt_consolidation</td><td>Debt consolidation</td><td>null</td><td>2025-03-18 12:07:...</td></tr>\n",
       "<tr><td>14177845</td><td>843b995d39160ddab...</td><td>13200.0</td><td>13200.0</td><td>60 months</td><td>12.99</td><td>300.28</td><td>Apr-2014</td><td>debt_consolidation</td><td>Debt consolidation</td><td>null</td><td>2025-03-18 12:07:...</td></tr>\n",
       "<tr><td>13947687</td><td>04a8bd7c4e1407ba8...</td><td>10000.0</td><td>10000.0</td><td>60 months</td><td>17.57</td><td>251.61</td><td>Apr-2014</td><td>other</td><td>Other</td><td>null</td><td>2025-03-18 12:07:...</td></tr>\n",
       "<tr><td>12905731</td><td>3e9a89fa96988af68...</td><td>18000.0</td><td>18000.0</td><td>36 months</td><td>18.25</td><td>653.01</td><td>May-2014</td><td>home_improvement</td><td>Home improvement</td><td>null</td><td>2025-03-18 12:07:...</td></tr>\n",
       "<tr><td>14137736</td><td>394a8db0bd3bcf7de...</td><td>12000.0</td><td>12000.0</td><td>36 months</td><td>9.67</td><td>385.35</td><td>Apr-2014</td><td>debt_consolidation</td><td>Debt consolidation</td><td>null</td><td>2025-03-18 12:07:...</td></tr>\n",
       "<tr><td>13207083</td><td>09cea8d2b6f1272f7...</td><td>3200.0</td><td>3200.0</td><td>36 months</td><td>20.49</td><td>119.73</td><td>Apr-2014</td><td>credit_card</td><td>Credit card refin...</td><td>null</td><td>2025-03-18 12:07:...</td></tr>\n",
       "<tr><td>9005163</td><td>bc13b4bf12b2fb93f...</td><td>19800.0</td><td>19800.0</td><td>60 months</td><td>15.61</td><td>477.41</td><td>Apr-2014</td><td>debt_consolidation</td><td>Debt consolidation</td><td>null</td><td>2025-03-18 12:07:...</td></tr>\n",
       "<tr><td>14008700</td><td>dcc3cce84164a1a4f...</td><td>14150.0</td><td>14150.0</td><td>60 months</td><td>16.59</td><td>348.56</td><td>Apr-2014</td><td>credit_card</td><td>Credit card refin...</td><td>null</td><td>2025-03-18 12:07:...</td></tr>\n",
       "<tr><td>13107355</td><td>a8c2898592c8c34ea...</td><td>11850.0</td><td>11850.0</td><td>36 months</td><td>20.49</td><td>443.36</td><td>Apr-2014</td><td>debt_consolidation</td><td>Debt consolidation</td><td>null</td><td>2025-03-18 12:07:...</td></tr>\n",
       "<tr><td>14288329</td><td>2ab161847c8ce1f3e...</td><td>25000.0</td><td>25000.0</td><td>60 months</td><td>21.99</td><td>690.34</td><td>Apr-2014</td><td>debt_consolidation</td><td>Debt consolidation</td><td>null</td><td>2025-03-18 12:07:...</td></tr>\n",
       "<tr><td>14308144</td><td>9886b3db401c1d460...</td><td>15000.0</td><td>15000.0</td><td>60 months</td><td>15.61</td><td>361.67</td><td>Apr-2014</td><td>major_purchase</td><td>Major purchase</td><td>null</td><td>2025-03-18 12:07:...</td></tr>\n",
       "<tr><td>14009407</td><td>7b62e3c918a7f9eb8...</td><td>9625.0</td><td>9625.0</td><td>36 months</td><td>13.65</td><td>327.33</td><td>Apr-2014</td><td>credit_card</td><td>Credit card refin...</td><td>null</td><td>2025-03-18 12:07:...</td></tr>\n",
       "<tr><td>6583213</td><td>698b533486c4900d4...</td><td>17500.0</td><td>17500.0</td><td>36 months</td><td>9.67</td><td>561.97</td><td>Apr-2014</td><td>debt_consolidation</td><td>Debt consolidation</td><td>null</td><td>2025-03-18 12:07:...</td></tr>\n",
       "<tr><td>12597061</td><td>0b07196bd0485e4c2...</td><td>7700.0</td><td>7700.0</td><td>36 months</td><td>12.99</td><td>259.41</td><td>Apr-2014</td><td>debt_consolidation</td><td>Debt consolidation</td><td>null</td><td>2025-03-18 12:07:...</td></tr>\n",
       "<tr><td>12468587</td><td>92e61f312d73c874d...</td><td>3600.0</td><td>3600.0</td><td>36 months</td><td>22.45</td><td>138.33</td><td>Apr-2014</td><td>debt_consolidation</td><td>Debt consolidation</td><td>null</td><td>2025-03-18 12:07:...</td></tr>\n",
       "<tr><td>12486035</td><td>a2eb7934b6490e443...</td><td>14250.0</td><td>14250.0</td><td>60 months</td><td>21.99</td><td>393.49</td><td>Apr-2014</td><td>home_improvement</td><td>Home improvement</td><td>null</td><td>2025-03-18 12:07:...</td></tr>\n",
       "</table>\n",
       "only showing top 20 rows\n"
      ],
      "text/plain": [
       "+--------+--------------------+-----------+-------------+---------------+-------------+-------------------+----------+------------------+--------------------+----------+--------------------+\n",
       "| loan_id|           member_id|loan_amount|funded_amount|loan_term_month|interest_rate|monthly_installment|issue_date|       loan_status|        loan_purpose|loan_title|         ingest_date|\n",
       "+--------+--------------------+-----------+-------------+---------------+-------------+-------------------+----------+------------------+--------------------+----------+--------------------+\n",
       "|14408468|5d7676571dee53d06...|     5000.0|       5000.0|      36 months|        14.16|             171.28|  Apr-2014|debt_consolidation|  Debt consolidation|      null|2025-03-18 12:07:...|\n",
       "|14520567|31fd1ef036c5caf26...|    11000.0|      11000.0|      36 months|         9.67|             353.24|  Apr-2014|             other|               Other|      null|2025-03-18 12:07:...|\n",
       "|14708730|9b48253ca5848fa78...|    25000.0|      25000.0|      36 months|        11.99|             830.24|  May-2014|       credit_card|Credit card refin...|      null|2025-03-18 12:07:...|\n",
       "|14491003|d6b8f2e32be148721...|     1500.0|       1500.0|      36 months|        23.43|              58.41|  Apr-2014|  renewable_energy|          Green loan|      null|2025-03-18 12:07:...|\n",
       "|14510981|0a81ad556e20bcdb9...|    10000.0|      10000.0|      36 months|        12.99|              336.9|  Apr-2014|debt_consolidation|  Debt consolidation|      null|2025-03-18 12:07:...|\n",
       "|14177845|843b995d39160ddab...|    13200.0|      13200.0|      60 months|        12.99|             300.28|  Apr-2014|debt_consolidation|  Debt consolidation|      null|2025-03-18 12:07:...|\n",
       "|13947687|04a8bd7c4e1407ba8...|    10000.0|      10000.0|      60 months|        17.57|             251.61|  Apr-2014|             other|               Other|      null|2025-03-18 12:07:...|\n",
       "|12905731|3e9a89fa96988af68...|    18000.0|      18000.0|      36 months|        18.25|             653.01|  May-2014|  home_improvement|    Home improvement|      null|2025-03-18 12:07:...|\n",
       "|14137736|394a8db0bd3bcf7de...|    12000.0|      12000.0|      36 months|         9.67|             385.35|  Apr-2014|debt_consolidation|  Debt consolidation|      null|2025-03-18 12:07:...|\n",
       "|13207083|09cea8d2b6f1272f7...|     3200.0|       3200.0|      36 months|        20.49|             119.73|  Apr-2014|       credit_card|Credit card refin...|      null|2025-03-18 12:07:...|\n",
       "| 9005163|bc13b4bf12b2fb93f...|    19800.0|      19800.0|      60 months|        15.61|             477.41|  Apr-2014|debt_consolidation|  Debt consolidation|      null|2025-03-18 12:07:...|\n",
       "|14008700|dcc3cce84164a1a4f...|    14150.0|      14150.0|      60 months|        16.59|             348.56|  Apr-2014|       credit_card|Credit card refin...|      null|2025-03-18 12:07:...|\n",
       "|13107355|a8c2898592c8c34ea...|    11850.0|      11850.0|      36 months|        20.49|             443.36|  Apr-2014|debt_consolidation|  Debt consolidation|      null|2025-03-18 12:07:...|\n",
       "|14288329|2ab161847c8ce1f3e...|    25000.0|      25000.0|      60 months|        21.99|             690.34|  Apr-2014|debt_consolidation|  Debt consolidation|      null|2025-03-18 12:07:...|\n",
       "|14308144|9886b3db401c1d460...|    15000.0|      15000.0|      60 months|        15.61|             361.67|  Apr-2014|    major_purchase|      Major purchase|      null|2025-03-18 12:07:...|\n",
       "|14009407|7b62e3c918a7f9eb8...|     9625.0|       9625.0|      36 months|        13.65|             327.33|  Apr-2014|       credit_card|Credit card refin...|      null|2025-03-18 12:07:...|\n",
       "| 6583213|698b533486c4900d4...|    17500.0|      17500.0|      36 months|         9.67|             561.97|  Apr-2014|debt_consolidation|  Debt consolidation|      null|2025-03-18 12:07:...|\n",
       "|12597061|0b07196bd0485e4c2...|     7700.0|       7700.0|      36 months|        12.99|             259.41|  Apr-2014|debt_consolidation|  Debt consolidation|      null|2025-03-18 12:07:...|\n",
       "|12468587|92e61f312d73c874d...|     3600.0|       3600.0|      36 months|        22.45|             138.33|  Apr-2014|debt_consolidation|  Debt consolidation|      null|2025-03-18 12:07:...|\n",
       "|12486035|a2eb7934b6490e443...|    14250.0|      14250.0|      60 months|        21.99|             393.49|  Apr-2014|  home_improvement|    Home improvement|      null|2025-03-18 12:07:...|\n",
       "+--------+--------------------+-----------+-------------+---------------+-------------+-------------------+----------+------------------+--------------------+----------+--------------------+\n",
       "only showing top 20 rows"
      ]
     },
     "execution_count": 8,
     "metadata": {},
     "output_type": "execute_result"
    }
   ],
   "source": [
    "loans_df_ingestd"
   ]
  },
  {
   "cell_type": "code",
   "execution_count": 9,
   "id": "872ab83a",
   "metadata": {},
   "outputs": [],
   "source": [
    "loans_df_ingestd.createOrReplaceTempView(\"loans\")"
   ]
  },
  {
   "cell_type": "code",
   "execution_count": 10,
   "id": "8c720f99",
   "metadata": {},
   "outputs": [
    {
     "data": {
      "text/html": [
       "<table border='1'>\n",
       "<tr><th>count(1)</th></tr>\n",
       "<tr><td>2260701</td></tr>\n",
       "</table>\n"
      ],
      "text/plain": [
       "+--------+\n",
       "|count(1)|\n",
       "+--------+\n",
       "| 2260701|\n",
       "+--------+"
      ]
     },
     "execution_count": 10,
     "metadata": {},
     "output_type": "execute_result"
    }
   ],
   "source": [
    "spark.sql(\"select count(*) from loans\")"
   ]
  },
  {
   "cell_type": "code",
   "execution_count": 11,
   "id": "83c356dc",
   "metadata": {},
   "outputs": [
    {
     "data": {
      "text/html": [
       "<table border='1'>\n",
       "<tr><th>count(1)</th></tr>\n",
       "<tr><td>33</td></tr>\n",
       "</table>\n"
      ],
      "text/plain": [
       "+--------+\n",
       "|count(1)|\n",
       "+--------+\n",
       "|      33|\n",
       "+--------+"
      ]
     },
     "execution_count": 11,
     "metadata": {},
     "output_type": "execute_result"
    }
   ],
   "source": [
    "spark.sql(\"select count(*) from loans where loan_amount is null\")"
   ]
  },
  {
   "cell_type": "code",
   "execution_count": 12,
   "id": "1de429ff",
   "metadata": {},
   "outputs": [],
   "source": [
    "columns_to_check = [\"loan_amount\",\"funded_amount\",\"loan_term_month\",\"interest_rate\",\"monthly_installment\",\"issue_date\",\"loan_status\",\"loan_purpose\"]"
   ]
  },
  {
   "cell_type": "code",
   "execution_count": 13,
   "id": "b1dbc43f",
   "metadata": {},
   "outputs": [],
   "source": [
    "loans_filtered_df = loans_df_ingestd.na.drop(subset=columns_to_check)"
   ]
  },
  {
   "cell_type": "code",
   "execution_count": 14,
   "id": "83b2fb1c",
   "metadata": {},
   "outputs": [
    {
     "data": {
      "text/plain": [
       "2237341"
      ]
     },
     "execution_count": 14,
     "metadata": {},
     "output_type": "execute_result"
    }
   ],
   "source": [
    "loans_filtered_df.count()"
   ]
  },
  {
   "cell_type": "code",
   "execution_count": 15,
   "id": "afcc6f27",
   "metadata": {},
   "outputs": [
    {
     "data": {
      "text/html": [
       "<table border='1'>\n",
       "<tr><th>loan_id</th><th>member_id</th><th>loan_amount</th><th>funded_amount</th><th>loan_term_month</th><th>interest_rate</th><th>monthly_installment</th><th>issue_date</th><th>loan_status</th><th>loan_purpose</th><th>loan_title</th><th>ingest_date</th></tr>\n",
       "<tr><td>14408468</td><td>5d7676571dee53d06...</td><td>5000.0</td><td>5000.0</td><td>36 months</td><td>14.16</td><td>171.28</td><td>Apr-2014</td><td>debt_consolidation</td><td>Debt consolidation</td><td>null</td><td>2025-03-18 12:08:...</td></tr>\n",
       "<tr><td>14520567</td><td>31fd1ef036c5caf26...</td><td>11000.0</td><td>11000.0</td><td>36 months</td><td>9.67</td><td>353.24</td><td>Apr-2014</td><td>other</td><td>Other</td><td>null</td><td>2025-03-18 12:08:...</td></tr>\n",
       "<tr><td>14708730</td><td>9b48253ca5848fa78...</td><td>25000.0</td><td>25000.0</td><td>36 months</td><td>11.99</td><td>830.24</td><td>May-2014</td><td>credit_card</td><td>Credit card refin...</td><td>null</td><td>2025-03-18 12:08:...</td></tr>\n",
       "<tr><td>14491003</td><td>d6b8f2e32be148721...</td><td>1500.0</td><td>1500.0</td><td>36 months</td><td>23.43</td><td>58.41</td><td>Apr-2014</td><td>renewable_energy</td><td>Green loan</td><td>null</td><td>2025-03-18 12:08:...</td></tr>\n",
       "<tr><td>14510981</td><td>0a81ad556e20bcdb9...</td><td>10000.0</td><td>10000.0</td><td>36 months</td><td>12.99</td><td>336.9</td><td>Apr-2014</td><td>debt_consolidation</td><td>Debt consolidation</td><td>null</td><td>2025-03-18 12:08:...</td></tr>\n",
       "<tr><td>14177845</td><td>843b995d39160ddab...</td><td>13200.0</td><td>13200.0</td><td>60 months</td><td>12.99</td><td>300.28</td><td>Apr-2014</td><td>debt_consolidation</td><td>Debt consolidation</td><td>null</td><td>2025-03-18 12:08:...</td></tr>\n",
       "<tr><td>13947687</td><td>04a8bd7c4e1407ba8...</td><td>10000.0</td><td>10000.0</td><td>60 months</td><td>17.57</td><td>251.61</td><td>Apr-2014</td><td>other</td><td>Other</td><td>null</td><td>2025-03-18 12:08:...</td></tr>\n",
       "<tr><td>12905731</td><td>3e9a89fa96988af68...</td><td>18000.0</td><td>18000.0</td><td>36 months</td><td>18.25</td><td>653.01</td><td>May-2014</td><td>home_improvement</td><td>Home improvement</td><td>null</td><td>2025-03-18 12:08:...</td></tr>\n",
       "<tr><td>14137736</td><td>394a8db0bd3bcf7de...</td><td>12000.0</td><td>12000.0</td><td>36 months</td><td>9.67</td><td>385.35</td><td>Apr-2014</td><td>debt_consolidation</td><td>Debt consolidation</td><td>null</td><td>2025-03-18 12:08:...</td></tr>\n",
       "<tr><td>13207083</td><td>09cea8d2b6f1272f7...</td><td>3200.0</td><td>3200.0</td><td>36 months</td><td>20.49</td><td>119.73</td><td>Apr-2014</td><td>credit_card</td><td>Credit card refin...</td><td>null</td><td>2025-03-18 12:08:...</td></tr>\n",
       "<tr><td>9005163</td><td>bc13b4bf12b2fb93f...</td><td>19800.0</td><td>19800.0</td><td>60 months</td><td>15.61</td><td>477.41</td><td>Apr-2014</td><td>debt_consolidation</td><td>Debt consolidation</td><td>null</td><td>2025-03-18 12:08:...</td></tr>\n",
       "<tr><td>14008700</td><td>dcc3cce84164a1a4f...</td><td>14150.0</td><td>14150.0</td><td>60 months</td><td>16.59</td><td>348.56</td><td>Apr-2014</td><td>credit_card</td><td>Credit card refin...</td><td>null</td><td>2025-03-18 12:08:...</td></tr>\n",
       "<tr><td>13107355</td><td>a8c2898592c8c34ea...</td><td>11850.0</td><td>11850.0</td><td>36 months</td><td>20.49</td><td>443.36</td><td>Apr-2014</td><td>debt_consolidation</td><td>Debt consolidation</td><td>null</td><td>2025-03-18 12:08:...</td></tr>\n",
       "<tr><td>14288329</td><td>2ab161847c8ce1f3e...</td><td>25000.0</td><td>25000.0</td><td>60 months</td><td>21.99</td><td>690.34</td><td>Apr-2014</td><td>debt_consolidation</td><td>Debt consolidation</td><td>null</td><td>2025-03-18 12:08:...</td></tr>\n",
       "<tr><td>14308144</td><td>9886b3db401c1d460...</td><td>15000.0</td><td>15000.0</td><td>60 months</td><td>15.61</td><td>361.67</td><td>Apr-2014</td><td>major_purchase</td><td>Major purchase</td><td>null</td><td>2025-03-18 12:08:...</td></tr>\n",
       "<tr><td>14009407</td><td>7b62e3c918a7f9eb8...</td><td>9625.0</td><td>9625.0</td><td>36 months</td><td>13.65</td><td>327.33</td><td>Apr-2014</td><td>credit_card</td><td>Credit card refin...</td><td>null</td><td>2025-03-18 12:08:...</td></tr>\n",
       "<tr><td>6583213</td><td>698b533486c4900d4...</td><td>17500.0</td><td>17500.0</td><td>36 months</td><td>9.67</td><td>561.97</td><td>Apr-2014</td><td>debt_consolidation</td><td>Debt consolidation</td><td>null</td><td>2025-03-18 12:08:...</td></tr>\n",
       "<tr><td>12597061</td><td>0b07196bd0485e4c2...</td><td>7700.0</td><td>7700.0</td><td>36 months</td><td>12.99</td><td>259.41</td><td>Apr-2014</td><td>debt_consolidation</td><td>Debt consolidation</td><td>null</td><td>2025-03-18 12:08:...</td></tr>\n",
       "<tr><td>12468587</td><td>92e61f312d73c874d...</td><td>3600.0</td><td>3600.0</td><td>36 months</td><td>22.45</td><td>138.33</td><td>Apr-2014</td><td>debt_consolidation</td><td>Debt consolidation</td><td>null</td><td>2025-03-18 12:08:...</td></tr>\n",
       "<tr><td>12486035</td><td>a2eb7934b6490e443...</td><td>14250.0</td><td>14250.0</td><td>60 months</td><td>21.99</td><td>393.49</td><td>Apr-2014</td><td>home_improvement</td><td>Home improvement</td><td>null</td><td>2025-03-18 12:08:...</td></tr>\n",
       "</table>\n",
       "only showing top 20 rows\n"
      ],
      "text/plain": [
       "+--------+--------------------+-----------+-------------+---------------+-------------+-------------------+----------+------------------+--------------------+----------+--------------------+\n",
       "| loan_id|           member_id|loan_amount|funded_amount|loan_term_month|interest_rate|monthly_installment|issue_date|       loan_status|        loan_purpose|loan_title|         ingest_date|\n",
       "+--------+--------------------+-----------+-------------+---------------+-------------+-------------------+----------+------------------+--------------------+----------+--------------------+\n",
       "|14408468|5d7676571dee53d06...|     5000.0|       5000.0|      36 months|        14.16|             171.28|  Apr-2014|debt_consolidation|  Debt consolidation|      null|2025-03-18 12:08:...|\n",
       "|14520567|31fd1ef036c5caf26...|    11000.0|      11000.0|      36 months|         9.67|             353.24|  Apr-2014|             other|               Other|      null|2025-03-18 12:08:...|\n",
       "|14708730|9b48253ca5848fa78...|    25000.0|      25000.0|      36 months|        11.99|             830.24|  May-2014|       credit_card|Credit card refin...|      null|2025-03-18 12:08:...|\n",
       "|14491003|d6b8f2e32be148721...|     1500.0|       1500.0|      36 months|        23.43|              58.41|  Apr-2014|  renewable_energy|          Green loan|      null|2025-03-18 12:08:...|\n",
       "|14510981|0a81ad556e20bcdb9...|    10000.0|      10000.0|      36 months|        12.99|              336.9|  Apr-2014|debt_consolidation|  Debt consolidation|      null|2025-03-18 12:08:...|\n",
       "|14177845|843b995d39160ddab...|    13200.0|      13200.0|      60 months|        12.99|             300.28|  Apr-2014|debt_consolidation|  Debt consolidation|      null|2025-03-18 12:08:...|\n",
       "|13947687|04a8bd7c4e1407ba8...|    10000.0|      10000.0|      60 months|        17.57|             251.61|  Apr-2014|             other|               Other|      null|2025-03-18 12:08:...|\n",
       "|12905731|3e9a89fa96988af68...|    18000.0|      18000.0|      36 months|        18.25|             653.01|  May-2014|  home_improvement|    Home improvement|      null|2025-03-18 12:08:...|\n",
       "|14137736|394a8db0bd3bcf7de...|    12000.0|      12000.0|      36 months|         9.67|             385.35|  Apr-2014|debt_consolidation|  Debt consolidation|      null|2025-03-18 12:08:...|\n",
       "|13207083|09cea8d2b6f1272f7...|     3200.0|       3200.0|      36 months|        20.49|             119.73|  Apr-2014|       credit_card|Credit card refin...|      null|2025-03-18 12:08:...|\n",
       "| 9005163|bc13b4bf12b2fb93f...|    19800.0|      19800.0|      60 months|        15.61|             477.41|  Apr-2014|debt_consolidation|  Debt consolidation|      null|2025-03-18 12:08:...|\n",
       "|14008700|dcc3cce84164a1a4f...|    14150.0|      14150.0|      60 months|        16.59|             348.56|  Apr-2014|       credit_card|Credit card refin...|      null|2025-03-18 12:08:...|\n",
       "|13107355|a8c2898592c8c34ea...|    11850.0|      11850.0|      36 months|        20.49|             443.36|  Apr-2014|debt_consolidation|  Debt consolidation|      null|2025-03-18 12:08:...|\n",
       "|14288329|2ab161847c8ce1f3e...|    25000.0|      25000.0|      60 months|        21.99|             690.34|  Apr-2014|debt_consolidation|  Debt consolidation|      null|2025-03-18 12:08:...|\n",
       "|14308144|9886b3db401c1d460...|    15000.0|      15000.0|      60 months|        15.61|             361.67|  Apr-2014|    major_purchase|      Major purchase|      null|2025-03-18 12:08:...|\n",
       "|14009407|7b62e3c918a7f9eb8...|     9625.0|       9625.0|      36 months|        13.65|             327.33|  Apr-2014|       credit_card|Credit card refin...|      null|2025-03-18 12:08:...|\n",
       "| 6583213|698b533486c4900d4...|    17500.0|      17500.0|      36 months|         9.67|             561.97|  Apr-2014|debt_consolidation|  Debt consolidation|      null|2025-03-18 12:08:...|\n",
       "|12597061|0b07196bd0485e4c2...|     7700.0|       7700.0|      36 months|        12.99|             259.41|  Apr-2014|debt_consolidation|  Debt consolidation|      null|2025-03-18 12:08:...|\n",
       "|12468587|92e61f312d73c874d...|     3600.0|       3600.0|      36 months|        22.45|             138.33|  Apr-2014|debt_consolidation|  Debt consolidation|      null|2025-03-18 12:08:...|\n",
       "|12486035|a2eb7934b6490e443...|    14250.0|      14250.0|      60 months|        21.99|             393.49|  Apr-2014|  home_improvement|    Home improvement|      null|2025-03-18 12:08:...|\n",
       "+--------+--------------------+-----------+-------------+---------------+-------------+-------------------+----------+------------------+--------------------+----------+--------------------+\n",
       "only showing top 20 rows"
      ]
     },
     "execution_count": 15,
     "metadata": {},
     "output_type": "execute_result"
    }
   ],
   "source": [
    "loans_filtered_df"
   ]
  },
  {
   "cell_type": "code",
   "execution_count": 16,
   "id": "9bb34112",
   "metadata": {},
   "outputs": [],
   "source": [
    "loans_filtered_df.createOrReplaceTempView(\"loans\")"
   ]
  },
  {
   "cell_type": "code",
   "execution_count": 17,
   "id": "e5643896",
   "metadata": {},
   "outputs": [],
   "source": [
    "from pyspark.sql.functions import regexp_replace, col"
   ]
  },
  {
   "cell_type": "code",
   "execution_count": 18,
   "id": "4d1c2ddb",
   "metadata": {},
   "outputs": [],
   "source": [
    "loans_term_modified_df = loans_filtered_df \\\n",
    ".withColumn(\"loan_term_month\",(regexp_replace(col(\"loan_term_month\"),\" months\", \"\") \\\n",
    ".cast(\"int\")/12) \\\n",
    ".cast(\"int\")) \\\n",
    ".withColumnRenamed(\"loan_term_month\",\"loan_term_year\")"
   ]
  },
  {
   "cell_type": "code",
   "execution_count": 19,
   "id": "ebcab185",
   "metadata": {},
   "outputs": [
    {
     "data": {
      "text/html": [
       "<table border='1'>\n",
       "<tr><th>loan_id</th><th>member_id</th><th>loan_amount</th><th>funded_amount</th><th>loan_term_year</th><th>interest_rate</th><th>monthly_installment</th><th>issue_date</th><th>loan_status</th><th>loan_purpose</th><th>loan_title</th><th>ingest_date</th></tr>\n",
       "<tr><td>14408468</td><td>5d7676571dee53d06...</td><td>5000.0</td><td>5000.0</td><td>3</td><td>14.16</td><td>171.28</td><td>Apr-2014</td><td>debt_consolidation</td><td>Debt consolidation</td><td>null</td><td>2025-03-18 12:08:...</td></tr>\n",
       "<tr><td>14520567</td><td>31fd1ef036c5caf26...</td><td>11000.0</td><td>11000.0</td><td>3</td><td>9.67</td><td>353.24</td><td>Apr-2014</td><td>other</td><td>Other</td><td>null</td><td>2025-03-18 12:08:...</td></tr>\n",
       "<tr><td>14708730</td><td>9b48253ca5848fa78...</td><td>25000.0</td><td>25000.0</td><td>3</td><td>11.99</td><td>830.24</td><td>May-2014</td><td>credit_card</td><td>Credit card refin...</td><td>null</td><td>2025-03-18 12:08:...</td></tr>\n",
       "<tr><td>14491003</td><td>d6b8f2e32be148721...</td><td>1500.0</td><td>1500.0</td><td>3</td><td>23.43</td><td>58.41</td><td>Apr-2014</td><td>renewable_energy</td><td>Green loan</td><td>null</td><td>2025-03-18 12:08:...</td></tr>\n",
       "<tr><td>14510981</td><td>0a81ad556e20bcdb9...</td><td>10000.0</td><td>10000.0</td><td>3</td><td>12.99</td><td>336.9</td><td>Apr-2014</td><td>debt_consolidation</td><td>Debt consolidation</td><td>null</td><td>2025-03-18 12:08:...</td></tr>\n",
       "<tr><td>14177845</td><td>843b995d39160ddab...</td><td>13200.0</td><td>13200.0</td><td>5</td><td>12.99</td><td>300.28</td><td>Apr-2014</td><td>debt_consolidation</td><td>Debt consolidation</td><td>null</td><td>2025-03-18 12:08:...</td></tr>\n",
       "<tr><td>13947687</td><td>04a8bd7c4e1407ba8...</td><td>10000.0</td><td>10000.0</td><td>5</td><td>17.57</td><td>251.61</td><td>Apr-2014</td><td>other</td><td>Other</td><td>null</td><td>2025-03-18 12:08:...</td></tr>\n",
       "<tr><td>12905731</td><td>3e9a89fa96988af68...</td><td>18000.0</td><td>18000.0</td><td>3</td><td>18.25</td><td>653.01</td><td>May-2014</td><td>home_improvement</td><td>Home improvement</td><td>null</td><td>2025-03-18 12:08:...</td></tr>\n",
       "<tr><td>14137736</td><td>394a8db0bd3bcf7de...</td><td>12000.0</td><td>12000.0</td><td>3</td><td>9.67</td><td>385.35</td><td>Apr-2014</td><td>debt_consolidation</td><td>Debt consolidation</td><td>null</td><td>2025-03-18 12:08:...</td></tr>\n",
       "<tr><td>13207083</td><td>09cea8d2b6f1272f7...</td><td>3200.0</td><td>3200.0</td><td>3</td><td>20.49</td><td>119.73</td><td>Apr-2014</td><td>credit_card</td><td>Credit card refin...</td><td>null</td><td>2025-03-18 12:08:...</td></tr>\n",
       "<tr><td>9005163</td><td>bc13b4bf12b2fb93f...</td><td>19800.0</td><td>19800.0</td><td>5</td><td>15.61</td><td>477.41</td><td>Apr-2014</td><td>debt_consolidation</td><td>Debt consolidation</td><td>null</td><td>2025-03-18 12:08:...</td></tr>\n",
       "<tr><td>14008700</td><td>dcc3cce84164a1a4f...</td><td>14150.0</td><td>14150.0</td><td>5</td><td>16.59</td><td>348.56</td><td>Apr-2014</td><td>credit_card</td><td>Credit card refin...</td><td>null</td><td>2025-03-18 12:08:...</td></tr>\n",
       "<tr><td>13107355</td><td>a8c2898592c8c34ea...</td><td>11850.0</td><td>11850.0</td><td>3</td><td>20.49</td><td>443.36</td><td>Apr-2014</td><td>debt_consolidation</td><td>Debt consolidation</td><td>null</td><td>2025-03-18 12:08:...</td></tr>\n",
       "<tr><td>14288329</td><td>2ab161847c8ce1f3e...</td><td>25000.0</td><td>25000.0</td><td>5</td><td>21.99</td><td>690.34</td><td>Apr-2014</td><td>debt_consolidation</td><td>Debt consolidation</td><td>null</td><td>2025-03-18 12:08:...</td></tr>\n",
       "<tr><td>14308144</td><td>9886b3db401c1d460...</td><td>15000.0</td><td>15000.0</td><td>5</td><td>15.61</td><td>361.67</td><td>Apr-2014</td><td>major_purchase</td><td>Major purchase</td><td>null</td><td>2025-03-18 12:08:...</td></tr>\n",
       "<tr><td>14009407</td><td>7b62e3c918a7f9eb8...</td><td>9625.0</td><td>9625.0</td><td>3</td><td>13.65</td><td>327.33</td><td>Apr-2014</td><td>credit_card</td><td>Credit card refin...</td><td>null</td><td>2025-03-18 12:08:...</td></tr>\n",
       "<tr><td>6583213</td><td>698b533486c4900d4...</td><td>17500.0</td><td>17500.0</td><td>3</td><td>9.67</td><td>561.97</td><td>Apr-2014</td><td>debt_consolidation</td><td>Debt consolidation</td><td>null</td><td>2025-03-18 12:08:...</td></tr>\n",
       "<tr><td>12597061</td><td>0b07196bd0485e4c2...</td><td>7700.0</td><td>7700.0</td><td>3</td><td>12.99</td><td>259.41</td><td>Apr-2014</td><td>debt_consolidation</td><td>Debt consolidation</td><td>null</td><td>2025-03-18 12:08:...</td></tr>\n",
       "<tr><td>12468587</td><td>92e61f312d73c874d...</td><td>3600.0</td><td>3600.0</td><td>3</td><td>22.45</td><td>138.33</td><td>Apr-2014</td><td>debt_consolidation</td><td>Debt consolidation</td><td>null</td><td>2025-03-18 12:08:...</td></tr>\n",
       "<tr><td>12486035</td><td>a2eb7934b6490e443...</td><td>14250.0</td><td>14250.0</td><td>5</td><td>21.99</td><td>393.49</td><td>Apr-2014</td><td>home_improvement</td><td>Home improvement</td><td>null</td><td>2025-03-18 12:08:...</td></tr>\n",
       "</table>\n",
       "only showing top 20 rows\n"
      ],
      "text/plain": [
       "+--------+--------------------+-----------+-------------+--------------+-------------+-------------------+----------+------------------+--------------------+----------+--------------------+\n",
       "| loan_id|           member_id|loan_amount|funded_amount|loan_term_year|interest_rate|monthly_installment|issue_date|       loan_status|        loan_purpose|loan_title|         ingest_date|\n",
       "+--------+--------------------+-----------+-------------+--------------+-------------+-------------------+----------+------------------+--------------------+----------+--------------------+\n",
       "|14408468|5d7676571dee53d06...|     5000.0|       5000.0|             3|        14.16|             171.28|  Apr-2014|debt_consolidation|  Debt consolidation|      null|2025-03-18 12:08:...|\n",
       "|14520567|31fd1ef036c5caf26...|    11000.0|      11000.0|             3|         9.67|             353.24|  Apr-2014|             other|               Other|      null|2025-03-18 12:08:...|\n",
       "|14708730|9b48253ca5848fa78...|    25000.0|      25000.0|             3|        11.99|             830.24|  May-2014|       credit_card|Credit card refin...|      null|2025-03-18 12:08:...|\n",
       "|14491003|d6b8f2e32be148721...|     1500.0|       1500.0|             3|        23.43|              58.41|  Apr-2014|  renewable_energy|          Green loan|      null|2025-03-18 12:08:...|\n",
       "|14510981|0a81ad556e20bcdb9...|    10000.0|      10000.0|             3|        12.99|              336.9|  Apr-2014|debt_consolidation|  Debt consolidation|      null|2025-03-18 12:08:...|\n",
       "|14177845|843b995d39160ddab...|    13200.0|      13200.0|             5|        12.99|             300.28|  Apr-2014|debt_consolidation|  Debt consolidation|      null|2025-03-18 12:08:...|\n",
       "|13947687|04a8bd7c4e1407ba8...|    10000.0|      10000.0|             5|        17.57|             251.61|  Apr-2014|             other|               Other|      null|2025-03-18 12:08:...|\n",
       "|12905731|3e9a89fa96988af68...|    18000.0|      18000.0|             3|        18.25|             653.01|  May-2014|  home_improvement|    Home improvement|      null|2025-03-18 12:08:...|\n",
       "|14137736|394a8db0bd3bcf7de...|    12000.0|      12000.0|             3|         9.67|             385.35|  Apr-2014|debt_consolidation|  Debt consolidation|      null|2025-03-18 12:08:...|\n",
       "|13207083|09cea8d2b6f1272f7...|     3200.0|       3200.0|             3|        20.49|             119.73|  Apr-2014|       credit_card|Credit card refin...|      null|2025-03-18 12:08:...|\n",
       "| 9005163|bc13b4bf12b2fb93f...|    19800.0|      19800.0|             5|        15.61|             477.41|  Apr-2014|debt_consolidation|  Debt consolidation|      null|2025-03-18 12:08:...|\n",
       "|14008700|dcc3cce84164a1a4f...|    14150.0|      14150.0|             5|        16.59|             348.56|  Apr-2014|       credit_card|Credit card refin...|      null|2025-03-18 12:08:...|\n",
       "|13107355|a8c2898592c8c34ea...|    11850.0|      11850.0|             3|        20.49|             443.36|  Apr-2014|debt_consolidation|  Debt consolidation|      null|2025-03-18 12:08:...|\n",
       "|14288329|2ab161847c8ce1f3e...|    25000.0|      25000.0|             5|        21.99|             690.34|  Apr-2014|debt_consolidation|  Debt consolidation|      null|2025-03-18 12:08:...|\n",
       "|14308144|9886b3db401c1d460...|    15000.0|      15000.0|             5|        15.61|             361.67|  Apr-2014|    major_purchase|      Major purchase|      null|2025-03-18 12:08:...|\n",
       "|14009407|7b62e3c918a7f9eb8...|     9625.0|       9625.0|             3|        13.65|             327.33|  Apr-2014|       credit_card|Credit card refin...|      null|2025-03-18 12:08:...|\n",
       "| 6583213|698b533486c4900d4...|    17500.0|      17500.0|             3|         9.67|             561.97|  Apr-2014|debt_consolidation|  Debt consolidation|      null|2025-03-18 12:08:...|\n",
       "|12597061|0b07196bd0485e4c2...|     7700.0|       7700.0|             3|        12.99|             259.41|  Apr-2014|debt_consolidation|  Debt consolidation|      null|2025-03-18 12:08:...|\n",
       "|12468587|92e61f312d73c874d...|     3600.0|       3600.0|             3|        22.45|             138.33|  Apr-2014|debt_consolidation|  Debt consolidation|      null|2025-03-18 12:08:...|\n",
       "|12486035|a2eb7934b6490e443...|    14250.0|      14250.0|             5|        21.99|             393.49|  Apr-2014|  home_improvement|    Home improvement|      null|2025-03-18 12:08:...|\n",
       "+--------+--------------------+-----------+-------------+--------------+-------------+-------------------+----------+------------------+--------------------+----------+--------------------+\n",
       "only showing top 20 rows"
      ]
     },
     "execution_count": 19,
     "metadata": {},
     "output_type": "execute_result"
    }
   ],
   "source": [
    "loans_term_modified_df"
   ]
  },
  {
   "cell_type": "code",
   "execution_count": 20,
   "id": "fcde4b47",
   "metadata": {},
   "outputs": [
    {
     "name": "stdout",
     "output_type": "stream",
     "text": [
      "root\n",
      " |-- loan_id: string (nullable = true)\n",
      " |-- member_id: string (nullable = true)\n",
      " |-- loan_amount: float (nullable = true)\n",
      " |-- funded_amount: float (nullable = true)\n",
      " |-- loan_term_year: integer (nullable = true)\n",
      " |-- interest_rate: float (nullable = true)\n",
      " |-- monthly_installment: float (nullable = true)\n",
      " |-- issue_date: string (nullable = true)\n",
      " |-- loan_status: string (nullable = true)\n",
      " |-- loan_purpose: string (nullable = true)\n",
      " |-- loan_title: string (nullable = true)\n",
      " |-- ingest_date: timestamp (nullable = false)\n",
      "\n"
     ]
    }
   ],
   "source": [
    "loans_term_modified_df.printSchema()"
   ]
  },
  {
   "cell_type": "code",
   "execution_count": 21,
   "id": "17a73e3b",
   "metadata": {},
   "outputs": [],
   "source": [
    "loans_term_modified_df.createOrReplaceTempView(\"loans\")"
   ]
  },
  {
   "cell_type": "code",
   "execution_count": 22,
   "id": "22018572",
   "metadata": {},
   "outputs": [
    {
     "data": {
      "text/html": [
       "<table border='1'>\n",
       "<tr><th>loan_id</th><th>member_id</th><th>loan_amount</th><th>funded_amount</th><th>loan_term_year</th><th>interest_rate</th><th>monthly_installment</th><th>issue_date</th><th>loan_status</th><th>loan_purpose</th><th>loan_title</th><th>ingest_date</th></tr>\n",
       "<tr><td>14408468</td><td>5d7676571dee53d06...</td><td>5000.0</td><td>5000.0</td><td>3</td><td>14.16</td><td>171.28</td><td>Apr-2014</td><td>debt_consolidation</td><td>Debt consolidation</td><td>null</td><td>2025-03-18 12:08:...</td></tr>\n",
       "<tr><td>14520567</td><td>31fd1ef036c5caf26...</td><td>11000.0</td><td>11000.0</td><td>3</td><td>9.67</td><td>353.24</td><td>Apr-2014</td><td>other</td><td>Other</td><td>null</td><td>2025-03-18 12:08:...</td></tr>\n",
       "<tr><td>14708730</td><td>9b48253ca5848fa78...</td><td>25000.0</td><td>25000.0</td><td>3</td><td>11.99</td><td>830.24</td><td>May-2014</td><td>credit_card</td><td>Credit card refin...</td><td>null</td><td>2025-03-18 12:08:...</td></tr>\n",
       "<tr><td>14491003</td><td>d6b8f2e32be148721...</td><td>1500.0</td><td>1500.0</td><td>3</td><td>23.43</td><td>58.41</td><td>Apr-2014</td><td>renewable_energy</td><td>Green loan</td><td>null</td><td>2025-03-18 12:08:...</td></tr>\n",
       "<tr><td>14510981</td><td>0a81ad556e20bcdb9...</td><td>10000.0</td><td>10000.0</td><td>3</td><td>12.99</td><td>336.9</td><td>Apr-2014</td><td>debt_consolidation</td><td>Debt consolidation</td><td>null</td><td>2025-03-18 12:08:...</td></tr>\n",
       "<tr><td>14177845</td><td>843b995d39160ddab...</td><td>13200.0</td><td>13200.0</td><td>5</td><td>12.99</td><td>300.28</td><td>Apr-2014</td><td>debt_consolidation</td><td>Debt consolidation</td><td>null</td><td>2025-03-18 12:08:...</td></tr>\n",
       "<tr><td>13947687</td><td>04a8bd7c4e1407ba8...</td><td>10000.0</td><td>10000.0</td><td>5</td><td>17.57</td><td>251.61</td><td>Apr-2014</td><td>other</td><td>Other</td><td>null</td><td>2025-03-18 12:08:...</td></tr>\n",
       "<tr><td>12905731</td><td>3e9a89fa96988af68...</td><td>18000.0</td><td>18000.0</td><td>3</td><td>18.25</td><td>653.01</td><td>May-2014</td><td>home_improvement</td><td>Home improvement</td><td>null</td><td>2025-03-18 12:08:...</td></tr>\n",
       "<tr><td>14137736</td><td>394a8db0bd3bcf7de...</td><td>12000.0</td><td>12000.0</td><td>3</td><td>9.67</td><td>385.35</td><td>Apr-2014</td><td>debt_consolidation</td><td>Debt consolidation</td><td>null</td><td>2025-03-18 12:08:...</td></tr>\n",
       "<tr><td>13207083</td><td>09cea8d2b6f1272f7...</td><td>3200.0</td><td>3200.0</td><td>3</td><td>20.49</td><td>119.73</td><td>Apr-2014</td><td>credit_card</td><td>Credit card refin...</td><td>null</td><td>2025-03-18 12:08:...</td></tr>\n",
       "<tr><td>9005163</td><td>bc13b4bf12b2fb93f...</td><td>19800.0</td><td>19800.0</td><td>5</td><td>15.61</td><td>477.41</td><td>Apr-2014</td><td>debt_consolidation</td><td>Debt consolidation</td><td>null</td><td>2025-03-18 12:08:...</td></tr>\n",
       "<tr><td>14008700</td><td>dcc3cce84164a1a4f...</td><td>14150.0</td><td>14150.0</td><td>5</td><td>16.59</td><td>348.56</td><td>Apr-2014</td><td>credit_card</td><td>Credit card refin...</td><td>null</td><td>2025-03-18 12:08:...</td></tr>\n",
       "<tr><td>13107355</td><td>a8c2898592c8c34ea...</td><td>11850.0</td><td>11850.0</td><td>3</td><td>20.49</td><td>443.36</td><td>Apr-2014</td><td>debt_consolidation</td><td>Debt consolidation</td><td>null</td><td>2025-03-18 12:08:...</td></tr>\n",
       "<tr><td>14288329</td><td>2ab161847c8ce1f3e...</td><td>25000.0</td><td>25000.0</td><td>5</td><td>21.99</td><td>690.34</td><td>Apr-2014</td><td>debt_consolidation</td><td>Debt consolidation</td><td>null</td><td>2025-03-18 12:08:...</td></tr>\n",
       "<tr><td>14308144</td><td>9886b3db401c1d460...</td><td>15000.0</td><td>15000.0</td><td>5</td><td>15.61</td><td>361.67</td><td>Apr-2014</td><td>major_purchase</td><td>Major purchase</td><td>null</td><td>2025-03-18 12:08:...</td></tr>\n",
       "<tr><td>14009407</td><td>7b62e3c918a7f9eb8...</td><td>9625.0</td><td>9625.0</td><td>3</td><td>13.65</td><td>327.33</td><td>Apr-2014</td><td>credit_card</td><td>Credit card refin...</td><td>null</td><td>2025-03-18 12:08:...</td></tr>\n",
       "<tr><td>6583213</td><td>698b533486c4900d4...</td><td>17500.0</td><td>17500.0</td><td>3</td><td>9.67</td><td>561.97</td><td>Apr-2014</td><td>debt_consolidation</td><td>Debt consolidation</td><td>null</td><td>2025-03-18 12:08:...</td></tr>\n",
       "<tr><td>12597061</td><td>0b07196bd0485e4c2...</td><td>7700.0</td><td>7700.0</td><td>3</td><td>12.99</td><td>259.41</td><td>Apr-2014</td><td>debt_consolidation</td><td>Debt consolidation</td><td>null</td><td>2025-03-18 12:08:...</td></tr>\n",
       "<tr><td>12468587</td><td>92e61f312d73c874d...</td><td>3600.0</td><td>3600.0</td><td>3</td><td>22.45</td><td>138.33</td><td>Apr-2014</td><td>debt_consolidation</td><td>Debt consolidation</td><td>null</td><td>2025-03-18 12:08:...</td></tr>\n",
       "<tr><td>12486035</td><td>a2eb7934b6490e443...</td><td>14250.0</td><td>14250.0</td><td>5</td><td>21.99</td><td>393.49</td><td>Apr-2014</td><td>home_improvement</td><td>Home improvement</td><td>null</td><td>2025-03-18 12:08:...</td></tr>\n",
       "</table>\n",
       "only showing top 20 rows\n"
      ],
      "text/plain": [
       "+--------+--------------------+-----------+-------------+--------------+-------------+-------------------+----------+------------------+--------------------+----------+--------------------+\n",
       "| loan_id|           member_id|loan_amount|funded_amount|loan_term_year|interest_rate|monthly_installment|issue_date|       loan_status|        loan_purpose|loan_title|         ingest_date|\n",
       "+--------+--------------------+-----------+-------------+--------------+-------------+-------------------+----------+------------------+--------------------+----------+--------------------+\n",
       "|14408468|5d7676571dee53d06...|     5000.0|       5000.0|             3|        14.16|             171.28|  Apr-2014|debt_consolidation|  Debt consolidation|      null|2025-03-18 12:08:...|\n",
       "|14520567|31fd1ef036c5caf26...|    11000.0|      11000.0|             3|         9.67|             353.24|  Apr-2014|             other|               Other|      null|2025-03-18 12:08:...|\n",
       "|14708730|9b48253ca5848fa78...|    25000.0|      25000.0|             3|        11.99|             830.24|  May-2014|       credit_card|Credit card refin...|      null|2025-03-18 12:08:...|\n",
       "|14491003|d6b8f2e32be148721...|     1500.0|       1500.0|             3|        23.43|              58.41|  Apr-2014|  renewable_energy|          Green loan|      null|2025-03-18 12:08:...|\n",
       "|14510981|0a81ad556e20bcdb9...|    10000.0|      10000.0|             3|        12.99|              336.9|  Apr-2014|debt_consolidation|  Debt consolidation|      null|2025-03-18 12:08:...|\n",
       "|14177845|843b995d39160ddab...|    13200.0|      13200.0|             5|        12.99|             300.28|  Apr-2014|debt_consolidation|  Debt consolidation|      null|2025-03-18 12:08:...|\n",
       "|13947687|04a8bd7c4e1407ba8...|    10000.0|      10000.0|             5|        17.57|             251.61|  Apr-2014|             other|               Other|      null|2025-03-18 12:08:...|\n",
       "|12905731|3e9a89fa96988af68...|    18000.0|      18000.0|             3|        18.25|             653.01|  May-2014|  home_improvement|    Home improvement|      null|2025-03-18 12:08:...|\n",
       "|14137736|394a8db0bd3bcf7de...|    12000.0|      12000.0|             3|         9.67|             385.35|  Apr-2014|debt_consolidation|  Debt consolidation|      null|2025-03-18 12:08:...|\n",
       "|13207083|09cea8d2b6f1272f7...|     3200.0|       3200.0|             3|        20.49|             119.73|  Apr-2014|       credit_card|Credit card refin...|      null|2025-03-18 12:08:...|\n",
       "| 9005163|bc13b4bf12b2fb93f...|    19800.0|      19800.0|             5|        15.61|             477.41|  Apr-2014|debt_consolidation|  Debt consolidation|      null|2025-03-18 12:08:...|\n",
       "|14008700|dcc3cce84164a1a4f...|    14150.0|      14150.0|             5|        16.59|             348.56|  Apr-2014|       credit_card|Credit card refin...|      null|2025-03-18 12:08:...|\n",
       "|13107355|a8c2898592c8c34ea...|    11850.0|      11850.0|             3|        20.49|             443.36|  Apr-2014|debt_consolidation|  Debt consolidation|      null|2025-03-18 12:08:...|\n",
       "|14288329|2ab161847c8ce1f3e...|    25000.0|      25000.0|             5|        21.99|             690.34|  Apr-2014|debt_consolidation|  Debt consolidation|      null|2025-03-18 12:08:...|\n",
       "|14308144|9886b3db401c1d460...|    15000.0|      15000.0|             5|        15.61|             361.67|  Apr-2014|    major_purchase|      Major purchase|      null|2025-03-18 12:08:...|\n",
       "|14009407|7b62e3c918a7f9eb8...|     9625.0|       9625.0|             3|        13.65|             327.33|  Apr-2014|       credit_card|Credit card refin...|      null|2025-03-18 12:08:...|\n",
       "| 6583213|698b533486c4900d4...|    17500.0|      17500.0|             3|         9.67|             561.97|  Apr-2014|debt_consolidation|  Debt consolidation|      null|2025-03-18 12:08:...|\n",
       "|12597061|0b07196bd0485e4c2...|     7700.0|       7700.0|             3|        12.99|             259.41|  Apr-2014|debt_consolidation|  Debt consolidation|      null|2025-03-18 12:08:...|\n",
       "|12468587|92e61f312d73c874d...|     3600.0|       3600.0|             3|        22.45|             138.33|  Apr-2014|debt_consolidation|  Debt consolidation|      null|2025-03-18 12:08:...|\n",
       "|12486035|a2eb7934b6490e443...|    14250.0|      14250.0|             5|        21.99|             393.49|  Apr-2014|  home_improvement|    Home improvement|      null|2025-03-18 12:08:...|\n",
       "+--------+--------------------+-----------+-------------+--------------+-------------+-------------------+----------+------------------+--------------------+----------+--------------------+\n",
       "only showing top 20 rows"
      ]
     },
     "execution_count": 22,
     "metadata": {},
     "output_type": "execute_result"
    }
   ],
   "source": [
    "spark.sql(\"select * from loans\")"
   ]
  },
  {
   "cell_type": "code",
   "execution_count": 23,
   "id": "aa3846ac",
   "metadata": {},
   "outputs": [
    {
     "data": {
      "text/html": [
       "<table border='1'>\n",
       "<tr><th>loan_purpose</th></tr>\n",
       "<tr><td>Debit Free</td></tr>\n",
       "<tr><td>MY LOAN</td></tr>\n",
       "<tr><td>My consolidation ...</td></tr>\n",
       "<tr><td>payoff current lo...</td></tr>\n",
       "<tr><td>KickDebt</td></tr>\n",
       "<tr><td>Financial Needs</td></tr>\n",
       "<tr><td>Business vehicle ...</td></tr>\n",
       "<tr><td>Future Saver</td></tr>\n",
       "<tr><td>travel</td></tr>\n",
       "<tr><td>Debt consolidatio...</td></tr>\n",
       "<tr><td>Credit Card Reduc...</td></tr>\n",
       "<tr><td>Debt Removal</td></tr>\n",
       "<tr><td>Refinance my cred...</td></tr>\n",
       "<tr><td>credit card and c...</td></tr>\n",
       "<tr><td>Wells Fargo Pay Off</td></tr>\n",
       "<tr><td>deptcon</td></tr>\n",
       "<tr><td>Car Payoff</td></tr>\n",
       "<tr><td>Home Renos</td></tr>\n",
       "<tr><td>Aggressively pay ...</td></tr>\n",
       "<tr><td>loan request</td></tr>\n",
       "</table>\n",
       "only showing top 20 rows\n"
      ],
      "text/plain": [
       "+--------------------+\n",
       "|        loan_purpose|\n",
       "+--------------------+\n",
       "|        Future Saver|\n",
       "|              travel|\n",
       "|Debt consolidatio...|\n",
       "|Credit Card Reduc...|\n",
       "|        Debt Removal|\n",
       "|Refinance my cred...|\n",
       "|credit card and c...|\n",
       "| Wells Fargo Pay Off|\n",
       "|             deptcon|\n",
       "|          Car Payoff|\n",
       "|          Home Renos|\n",
       "|          Debit Free|\n",
       "|Aggressively pay ...|\n",
       "|        loan request|\n",
       "|          refinanace|\n",
       "|    Daughters future|\n",
       "|Much Appreciated ...|\n",
       "|             MY LOAN|\n",
       "|Debt Relief/Home ...|\n",
       "|Land Purchase for...|\n",
       "+--------------------+\n",
       "only showing top 20 rows"
      ]
     },
     "execution_count": 23,
     "metadata": {},
     "output_type": "execute_result"
    }
   ],
   "source": [
    "spark.sql(\"select distinct loan_purpose from loans\")"
   ]
  },
  {
   "cell_type": "code",
   "execution_count": 24,
   "id": "d2831c2c",
   "metadata": {},
   "outputs": [
    {
     "name": "stdout",
     "output_type": "stream",
     "text": [
      "+--------------------+----------+\n",
      "|        loan_purpose|total_desc|\n",
      "+--------------------+----------+\n",
      "|  debt consolidation|   1175801|\n",
      "|credit card refin...|    470107|\n",
      "|    home improvement|    140185|\n",
      "|               other|    127812|\n",
      "|      major purchase|     45153|\n",
      "|    medical expenses|     25502|\n",
      "|            business|     20922|\n",
      "|       car financing|     20553|\n",
      "|            vacation|     14652|\n",
      "|moving and reloca...|     13809|\n",
      "|         home buying|     12733|\n",
      "|       consolidation|      8142|\n",
      "|debt consolidatio...|      4823|\n",
      "|credit card conso...|      3660|\n",
      "|       personal loan|      3414|\n",
      "|  consolidation loan|      2689|\n",
      "|  credit card payoff|      2573|\n",
      "|credit card refin...|      2539|\n",
      "|         consolidate|      2190|\n",
      "|            personal|      2151|\n",
      "+--------------------+----------+\n",
      "only showing top 20 rows\n",
      "\n"
     ]
    }
   ],
   "source": [
    "spark.sql(\"select loan_purpose, count(*) as total_desc from (select lower(upper(loan_purpose)) as loan_purpose from loans) group by loan_purpose order by total_desc desc \").show()"
   ]
  },
  {
   "cell_type": "code",
   "execution_count": 25,
   "id": "3fadf1ca",
   "metadata": {},
   "outputs": [],
   "source": [
    "loan_purpose_lookup = [\"debt consolidation\",\"credit card\",\"home improvement\",\n",
    "                       \"other\",\"major purchase\",\"medical\",\"small_business\",\"car\",\n",
    "                       \"vacation\",\"moving\",\"house\",\"wedding\",\"renewable_energy\",\"educational\"]"
   ]
  },
  {
   "cell_type": "code",
   "execution_count": 26,
   "id": "6b4d53b4",
   "metadata": {},
   "outputs": [],
   "source": [
    "from pyspark.sql.functions import when"
   ]
  },
  {
   "cell_type": "code",
   "execution_count": 27,
   "id": "2b6c90f9",
   "metadata": {},
   "outputs": [],
   "source": [
    "loans_purpose_modified = loans_term_modified_df.withColumn(\"loan_purpose\",when(col(\"loan_purpose\").isin(loan_purpose_lookup),col(\"loan_purpose\")).otherwise(\"other\"))"
   ]
  },
  {
   "cell_type": "code",
   "execution_count": 28,
   "id": "edccc764",
   "metadata": {},
   "outputs": [
    {
     "data": {
      "text/html": [
       "<table border='1'>\n",
       "<tr><th>loan_id</th><th>member_id</th><th>loan_amount</th><th>funded_amount</th><th>loan_term_year</th><th>interest_rate</th><th>monthly_installment</th><th>issue_date</th><th>loan_status</th><th>loan_purpose</th><th>loan_title</th><th>ingest_date</th></tr>\n",
       "<tr><td>14408468</td><td>5d7676571dee53d06...</td><td>5000.0</td><td>5000.0</td><td>3</td><td>14.16</td><td>171.28</td><td>Apr-2014</td><td>debt_consolidation</td><td>other</td><td>null</td><td>2025-03-18 12:08:...</td></tr>\n",
       "<tr><td>14520567</td><td>31fd1ef036c5caf26...</td><td>11000.0</td><td>11000.0</td><td>3</td><td>9.67</td><td>353.24</td><td>Apr-2014</td><td>other</td><td>other</td><td>null</td><td>2025-03-18 12:08:...</td></tr>\n",
       "<tr><td>14708730</td><td>9b48253ca5848fa78...</td><td>25000.0</td><td>25000.0</td><td>3</td><td>11.99</td><td>830.24</td><td>May-2014</td><td>credit_card</td><td>other</td><td>null</td><td>2025-03-18 12:08:...</td></tr>\n",
       "<tr><td>14491003</td><td>d6b8f2e32be148721...</td><td>1500.0</td><td>1500.0</td><td>3</td><td>23.43</td><td>58.41</td><td>Apr-2014</td><td>renewable_energy</td><td>other</td><td>null</td><td>2025-03-18 12:08:...</td></tr>\n",
       "<tr><td>14510981</td><td>0a81ad556e20bcdb9...</td><td>10000.0</td><td>10000.0</td><td>3</td><td>12.99</td><td>336.9</td><td>Apr-2014</td><td>debt_consolidation</td><td>other</td><td>null</td><td>2025-03-18 12:08:...</td></tr>\n",
       "<tr><td>14177845</td><td>843b995d39160ddab...</td><td>13200.0</td><td>13200.0</td><td>5</td><td>12.99</td><td>300.28</td><td>Apr-2014</td><td>debt_consolidation</td><td>other</td><td>null</td><td>2025-03-18 12:08:...</td></tr>\n",
       "<tr><td>13947687</td><td>04a8bd7c4e1407ba8...</td><td>10000.0</td><td>10000.0</td><td>5</td><td>17.57</td><td>251.61</td><td>Apr-2014</td><td>other</td><td>other</td><td>null</td><td>2025-03-18 12:08:...</td></tr>\n",
       "<tr><td>12905731</td><td>3e9a89fa96988af68...</td><td>18000.0</td><td>18000.0</td><td>3</td><td>18.25</td><td>653.01</td><td>May-2014</td><td>home_improvement</td><td>other</td><td>null</td><td>2025-03-18 12:08:...</td></tr>\n",
       "<tr><td>14137736</td><td>394a8db0bd3bcf7de...</td><td>12000.0</td><td>12000.0</td><td>3</td><td>9.67</td><td>385.35</td><td>Apr-2014</td><td>debt_consolidation</td><td>other</td><td>null</td><td>2025-03-18 12:08:...</td></tr>\n",
       "<tr><td>13207083</td><td>09cea8d2b6f1272f7...</td><td>3200.0</td><td>3200.0</td><td>3</td><td>20.49</td><td>119.73</td><td>Apr-2014</td><td>credit_card</td><td>other</td><td>null</td><td>2025-03-18 12:08:...</td></tr>\n",
       "<tr><td>9005163</td><td>bc13b4bf12b2fb93f...</td><td>19800.0</td><td>19800.0</td><td>5</td><td>15.61</td><td>477.41</td><td>Apr-2014</td><td>debt_consolidation</td><td>other</td><td>null</td><td>2025-03-18 12:08:...</td></tr>\n",
       "<tr><td>14008700</td><td>dcc3cce84164a1a4f...</td><td>14150.0</td><td>14150.0</td><td>5</td><td>16.59</td><td>348.56</td><td>Apr-2014</td><td>credit_card</td><td>other</td><td>null</td><td>2025-03-18 12:08:...</td></tr>\n",
       "<tr><td>13107355</td><td>a8c2898592c8c34ea...</td><td>11850.0</td><td>11850.0</td><td>3</td><td>20.49</td><td>443.36</td><td>Apr-2014</td><td>debt_consolidation</td><td>other</td><td>null</td><td>2025-03-18 12:08:...</td></tr>\n",
       "<tr><td>14288329</td><td>2ab161847c8ce1f3e...</td><td>25000.0</td><td>25000.0</td><td>5</td><td>21.99</td><td>690.34</td><td>Apr-2014</td><td>debt_consolidation</td><td>other</td><td>null</td><td>2025-03-18 12:08:...</td></tr>\n",
       "<tr><td>14308144</td><td>9886b3db401c1d460...</td><td>15000.0</td><td>15000.0</td><td>5</td><td>15.61</td><td>361.67</td><td>Apr-2014</td><td>major_purchase</td><td>other</td><td>null</td><td>2025-03-18 12:08:...</td></tr>\n",
       "<tr><td>14009407</td><td>7b62e3c918a7f9eb8...</td><td>9625.0</td><td>9625.0</td><td>3</td><td>13.65</td><td>327.33</td><td>Apr-2014</td><td>credit_card</td><td>other</td><td>null</td><td>2025-03-18 12:08:...</td></tr>\n",
       "<tr><td>6583213</td><td>698b533486c4900d4...</td><td>17500.0</td><td>17500.0</td><td>3</td><td>9.67</td><td>561.97</td><td>Apr-2014</td><td>debt_consolidation</td><td>other</td><td>null</td><td>2025-03-18 12:08:...</td></tr>\n",
       "<tr><td>12597061</td><td>0b07196bd0485e4c2...</td><td>7700.0</td><td>7700.0</td><td>3</td><td>12.99</td><td>259.41</td><td>Apr-2014</td><td>debt_consolidation</td><td>other</td><td>null</td><td>2025-03-18 12:08:...</td></tr>\n",
       "<tr><td>12468587</td><td>92e61f312d73c874d...</td><td>3600.0</td><td>3600.0</td><td>3</td><td>22.45</td><td>138.33</td><td>Apr-2014</td><td>debt_consolidation</td><td>other</td><td>null</td><td>2025-03-18 12:08:...</td></tr>\n",
       "<tr><td>12486035</td><td>a2eb7934b6490e443...</td><td>14250.0</td><td>14250.0</td><td>5</td><td>21.99</td><td>393.49</td><td>Apr-2014</td><td>home_improvement</td><td>other</td><td>null</td><td>2025-03-18 12:08:...</td></tr>\n",
       "</table>\n",
       "only showing top 20 rows\n"
      ],
      "text/plain": [
       "+--------+--------------------+-----------+-------------+--------------+-------------+-------------------+----------+------------------+------------+----------+--------------------+\n",
       "| loan_id|           member_id|loan_amount|funded_amount|loan_term_year|interest_rate|monthly_installment|issue_date|       loan_status|loan_purpose|loan_title|         ingest_date|\n",
       "+--------+--------------------+-----------+-------------+--------------+-------------+-------------------+----------+------------------+------------+----------+--------------------+\n",
       "|14408468|5d7676571dee53d06...|     5000.0|       5000.0|             3|        14.16|             171.28|  Apr-2014|debt_consolidation|       other|      null|2025-03-18 12:08:...|\n",
       "|14520567|31fd1ef036c5caf26...|    11000.0|      11000.0|             3|         9.67|             353.24|  Apr-2014|             other|       other|      null|2025-03-18 12:08:...|\n",
       "|14708730|9b48253ca5848fa78...|    25000.0|      25000.0|             3|        11.99|             830.24|  May-2014|       credit_card|       other|      null|2025-03-18 12:08:...|\n",
       "|14491003|d6b8f2e32be148721...|     1500.0|       1500.0|             3|        23.43|              58.41|  Apr-2014|  renewable_energy|       other|      null|2025-03-18 12:08:...|\n",
       "|14510981|0a81ad556e20bcdb9...|    10000.0|      10000.0|             3|        12.99|              336.9|  Apr-2014|debt_consolidation|       other|      null|2025-03-18 12:08:...|\n",
       "|14177845|843b995d39160ddab...|    13200.0|      13200.0|             5|        12.99|             300.28|  Apr-2014|debt_consolidation|       other|      null|2025-03-18 12:08:...|\n",
       "|13947687|04a8bd7c4e1407ba8...|    10000.0|      10000.0|             5|        17.57|             251.61|  Apr-2014|             other|       other|      null|2025-03-18 12:08:...|\n",
       "|12905731|3e9a89fa96988af68...|    18000.0|      18000.0|             3|        18.25|             653.01|  May-2014|  home_improvement|       other|      null|2025-03-18 12:08:...|\n",
       "|14137736|394a8db0bd3bcf7de...|    12000.0|      12000.0|             3|         9.67|             385.35|  Apr-2014|debt_consolidation|       other|      null|2025-03-18 12:08:...|\n",
       "|13207083|09cea8d2b6f1272f7...|     3200.0|       3200.0|             3|        20.49|             119.73|  Apr-2014|       credit_card|       other|      null|2025-03-18 12:08:...|\n",
       "| 9005163|bc13b4bf12b2fb93f...|    19800.0|      19800.0|             5|        15.61|             477.41|  Apr-2014|debt_consolidation|       other|      null|2025-03-18 12:08:...|\n",
       "|14008700|dcc3cce84164a1a4f...|    14150.0|      14150.0|             5|        16.59|             348.56|  Apr-2014|       credit_card|       other|      null|2025-03-18 12:08:...|\n",
       "|13107355|a8c2898592c8c34ea...|    11850.0|      11850.0|             3|        20.49|             443.36|  Apr-2014|debt_consolidation|       other|      null|2025-03-18 12:08:...|\n",
       "|14288329|2ab161847c8ce1f3e...|    25000.0|      25000.0|             5|        21.99|             690.34|  Apr-2014|debt_consolidation|       other|      null|2025-03-18 12:08:...|\n",
       "|14308144|9886b3db401c1d460...|    15000.0|      15000.0|             5|        15.61|             361.67|  Apr-2014|    major_purchase|       other|      null|2025-03-18 12:08:...|\n",
       "|14009407|7b62e3c918a7f9eb8...|     9625.0|       9625.0|             3|        13.65|             327.33|  Apr-2014|       credit_card|       other|      null|2025-03-18 12:08:...|\n",
       "| 6583213|698b533486c4900d4...|    17500.0|      17500.0|             3|         9.67|             561.97|  Apr-2014|debt_consolidation|       other|      null|2025-03-18 12:08:...|\n",
       "|12597061|0b07196bd0485e4c2...|     7700.0|       7700.0|             3|        12.99|             259.41|  Apr-2014|debt_consolidation|       other|      null|2025-03-18 12:08:...|\n",
       "|12468587|92e61f312d73c874d...|     3600.0|       3600.0|             3|        22.45|             138.33|  Apr-2014|debt_consolidation|       other|      null|2025-03-18 12:08:...|\n",
       "|12486035|a2eb7934b6490e443...|    14250.0|      14250.0|             5|        21.99|             393.49|  Apr-2014|  home_improvement|       other|      null|2025-03-18 12:08:...|\n",
       "+--------+--------------------+-----------+-------------+--------------+-------------+-------------------+----------+------------------+------------+----------+--------------------+\n",
       "only showing top 20 rows"
      ]
     },
     "execution_count": 28,
     "metadata": {},
     "output_type": "execute_result"
    }
   ],
   "source": [
    "loans_purpose_modified"
   ]
  },
  {
   "cell_type": "code",
   "execution_count": 29,
   "id": "01aaccf4",
   "metadata": {},
   "outputs": [],
   "source": [
    "loans_purpose_modified.createOrReplaceTempView(\"loans\")"
   ]
  },
  {
   "cell_type": "code",
   "execution_count": 30,
   "id": "0ad77398",
   "metadata": {},
   "outputs": [
    {
     "name": "stdout",
     "output_type": "stream",
     "text": [
      "+------------------+----------+\n",
      "|      loan_purpose|total_desc|\n",
      "+------------------+----------+\n",
      "|             other|   2230382|\n",
      "|debt consolidation|      5085|\n",
      "|  home improvement|       717|\n",
      "|       credit card|       401|\n",
      "|          vacation|       177|\n",
      "|           wedding|       161|\n",
      "|           medical|        98|\n",
      "|    major purchase|        90|\n",
      "|               car|        80|\n",
      "|            moving|        58|\n",
      "|             house|        52|\n",
      "|    small_business|        37|\n",
      "|       educational|         2|\n",
      "|  renewable_energy|         1|\n",
      "+------------------+----------+\n",
      "\n"
     ]
    }
   ],
   "source": [
    "spark.sql(\"select loan_purpose, count(*) as total_desc from (select lower(upper(loan_purpose)) as loan_purpose from loans) group by loan_purpose order by total_desc desc \").show()"
   ]
  },
  {
   "cell_type": "code",
   "execution_count": 33,
   "id": "05ad11dc",
   "metadata": {},
   "outputs": [],
   "source": [
    "from pyspark.sql.functions import count"
   ]
  },
  {
   "cell_type": "code",
   "execution_count": 35,
   "id": "74bfe686",
   "metadata": {},
   "outputs": [
    {
     "data": {
      "text/html": [
       "<table border='1'>\n",
       "<tr><th>loan_purpose</th><th>total</th></tr>\n",
       "<tr><td>other</td><td>2230382</td></tr>\n",
       "<tr><td>debt consolidation</td><td>5085</td></tr>\n",
       "<tr><td>home improvement</td><td>717</td></tr>\n",
       "<tr><td>credit card</td><td>401</td></tr>\n",
       "<tr><td>vacation</td><td>177</td></tr>\n",
       "<tr><td>wedding</td><td>161</td></tr>\n",
       "<tr><td>medical</td><td>98</td></tr>\n",
       "<tr><td>major purchase</td><td>90</td></tr>\n",
       "<tr><td>car</td><td>80</td></tr>\n",
       "<tr><td>moving</td><td>58</td></tr>\n",
       "<tr><td>house</td><td>52</td></tr>\n",
       "<tr><td>small_business</td><td>37</td></tr>\n",
       "<tr><td>educational</td><td>2</td></tr>\n",
       "<tr><td>renewable_energy</td><td>1</td></tr>\n",
       "</table>\n"
      ],
      "text/plain": [
       "+------------------+-------+\n",
       "|      loan_purpose|  total|\n",
       "+------------------+-------+\n",
       "|             other|2230382|\n",
       "|debt consolidation|   5085|\n",
       "|  home improvement|    717|\n",
       "|       credit card|    401|\n",
       "|          vacation|    177|\n",
       "|           wedding|    161|\n",
       "|           medical|     98|\n",
       "|    major purchase|     90|\n",
       "|               car|     80|\n",
       "|            moving|     58|\n",
       "|             house|     52|\n",
       "|    small_business|     37|\n",
       "|       educational|      2|\n",
       "|  renewable_energy|      1|\n",
       "+------------------+-------+"
      ]
     },
     "execution_count": 35,
     "metadata": {},
     "output_type": "execute_result"
    }
   ],
   "source": [
    "loans_purpose_modified \\\n",
    ".groupBy(\"loan_purpose\") \\\n",
    ".agg(count(\"*\") \\\n",
    ".alias(\"total\")) \\\n",
    ".orderBy(col(\"total\").desc())"
   ]
  },
  {
   "cell_type": "code",
   "execution_count": 36,
   "id": "b5b0cbb0",
   "metadata": {},
   "outputs": [
    {
     "data": {
      "text/html": [
       "<table border='1'>\n",
       "<tr><th>loan_id</th><th>member_id</th><th>loan_amount</th><th>funded_amount</th><th>loan_term_year</th><th>interest_rate</th><th>monthly_installment</th><th>issue_date</th><th>loan_status</th><th>loan_purpose</th><th>loan_title</th><th>ingest_date</th></tr>\n",
       "<tr><td>14408468</td><td>5d7676571dee53d06...</td><td>5000.0</td><td>5000.0</td><td>3</td><td>14.16</td><td>171.28</td><td>Apr-2014</td><td>debt_consolidation</td><td>other</td><td>null</td><td>2025-03-18 12:17:...</td></tr>\n",
       "<tr><td>14520567</td><td>31fd1ef036c5caf26...</td><td>11000.0</td><td>11000.0</td><td>3</td><td>9.67</td><td>353.24</td><td>Apr-2014</td><td>other</td><td>other</td><td>null</td><td>2025-03-18 12:17:...</td></tr>\n",
       "<tr><td>14708730</td><td>9b48253ca5848fa78...</td><td>25000.0</td><td>25000.0</td><td>3</td><td>11.99</td><td>830.24</td><td>May-2014</td><td>credit_card</td><td>other</td><td>null</td><td>2025-03-18 12:17:...</td></tr>\n",
       "<tr><td>14491003</td><td>d6b8f2e32be148721...</td><td>1500.0</td><td>1500.0</td><td>3</td><td>23.43</td><td>58.41</td><td>Apr-2014</td><td>renewable_energy</td><td>other</td><td>null</td><td>2025-03-18 12:17:...</td></tr>\n",
       "<tr><td>14510981</td><td>0a81ad556e20bcdb9...</td><td>10000.0</td><td>10000.0</td><td>3</td><td>12.99</td><td>336.9</td><td>Apr-2014</td><td>debt_consolidation</td><td>other</td><td>null</td><td>2025-03-18 12:17:...</td></tr>\n",
       "<tr><td>14177845</td><td>843b995d39160ddab...</td><td>13200.0</td><td>13200.0</td><td>5</td><td>12.99</td><td>300.28</td><td>Apr-2014</td><td>debt_consolidation</td><td>other</td><td>null</td><td>2025-03-18 12:17:...</td></tr>\n",
       "<tr><td>13947687</td><td>04a8bd7c4e1407ba8...</td><td>10000.0</td><td>10000.0</td><td>5</td><td>17.57</td><td>251.61</td><td>Apr-2014</td><td>other</td><td>other</td><td>null</td><td>2025-03-18 12:17:...</td></tr>\n",
       "<tr><td>12905731</td><td>3e9a89fa96988af68...</td><td>18000.0</td><td>18000.0</td><td>3</td><td>18.25</td><td>653.01</td><td>May-2014</td><td>home_improvement</td><td>other</td><td>null</td><td>2025-03-18 12:17:...</td></tr>\n",
       "<tr><td>14137736</td><td>394a8db0bd3bcf7de...</td><td>12000.0</td><td>12000.0</td><td>3</td><td>9.67</td><td>385.35</td><td>Apr-2014</td><td>debt_consolidation</td><td>other</td><td>null</td><td>2025-03-18 12:17:...</td></tr>\n",
       "<tr><td>13207083</td><td>09cea8d2b6f1272f7...</td><td>3200.0</td><td>3200.0</td><td>3</td><td>20.49</td><td>119.73</td><td>Apr-2014</td><td>credit_card</td><td>other</td><td>null</td><td>2025-03-18 12:17:...</td></tr>\n",
       "<tr><td>9005163</td><td>bc13b4bf12b2fb93f...</td><td>19800.0</td><td>19800.0</td><td>5</td><td>15.61</td><td>477.41</td><td>Apr-2014</td><td>debt_consolidation</td><td>other</td><td>null</td><td>2025-03-18 12:17:...</td></tr>\n",
       "<tr><td>14008700</td><td>dcc3cce84164a1a4f...</td><td>14150.0</td><td>14150.0</td><td>5</td><td>16.59</td><td>348.56</td><td>Apr-2014</td><td>credit_card</td><td>other</td><td>null</td><td>2025-03-18 12:17:...</td></tr>\n",
       "<tr><td>13107355</td><td>a8c2898592c8c34ea...</td><td>11850.0</td><td>11850.0</td><td>3</td><td>20.49</td><td>443.36</td><td>Apr-2014</td><td>debt_consolidation</td><td>other</td><td>null</td><td>2025-03-18 12:17:...</td></tr>\n",
       "<tr><td>14288329</td><td>2ab161847c8ce1f3e...</td><td>25000.0</td><td>25000.0</td><td>5</td><td>21.99</td><td>690.34</td><td>Apr-2014</td><td>debt_consolidation</td><td>other</td><td>null</td><td>2025-03-18 12:17:...</td></tr>\n",
       "<tr><td>14308144</td><td>9886b3db401c1d460...</td><td>15000.0</td><td>15000.0</td><td>5</td><td>15.61</td><td>361.67</td><td>Apr-2014</td><td>major_purchase</td><td>other</td><td>null</td><td>2025-03-18 12:17:...</td></tr>\n",
       "<tr><td>14009407</td><td>7b62e3c918a7f9eb8...</td><td>9625.0</td><td>9625.0</td><td>3</td><td>13.65</td><td>327.33</td><td>Apr-2014</td><td>credit_card</td><td>other</td><td>null</td><td>2025-03-18 12:17:...</td></tr>\n",
       "<tr><td>6583213</td><td>698b533486c4900d4...</td><td>17500.0</td><td>17500.0</td><td>3</td><td>9.67</td><td>561.97</td><td>Apr-2014</td><td>debt_consolidation</td><td>other</td><td>null</td><td>2025-03-18 12:17:...</td></tr>\n",
       "<tr><td>12597061</td><td>0b07196bd0485e4c2...</td><td>7700.0</td><td>7700.0</td><td>3</td><td>12.99</td><td>259.41</td><td>Apr-2014</td><td>debt_consolidation</td><td>other</td><td>null</td><td>2025-03-18 12:17:...</td></tr>\n",
       "<tr><td>12468587</td><td>92e61f312d73c874d...</td><td>3600.0</td><td>3600.0</td><td>3</td><td>22.45</td><td>138.33</td><td>Apr-2014</td><td>debt_consolidation</td><td>other</td><td>null</td><td>2025-03-18 12:17:...</td></tr>\n",
       "<tr><td>12486035</td><td>a2eb7934b6490e443...</td><td>14250.0</td><td>14250.0</td><td>5</td><td>21.99</td><td>393.49</td><td>Apr-2014</td><td>home_improvement</td><td>other</td><td>null</td><td>2025-03-18 12:17:...</td></tr>\n",
       "</table>\n",
       "only showing top 20 rows\n"
      ],
      "text/plain": [
       "DataFrame[loan_id: string, member_id: string, loan_amount: float, funded_amount: float, loan_term_year: int, interest_rate: float, monthly_installment: float, issue_date: string, loan_status: string, loan_purpose: string, loan_title: string, ingest_date: timestamp]"
      ]
     },
     "execution_count": 36,
     "metadata": {},
     "output_type": "execute_result"
    }
   ],
   "source": [
    "loans_purpose_modified"
   ]
  },
  {
   "cell_type": "code",
   "execution_count": 38,
   "id": "6040cb76",
   "metadata": {},
   "outputs": [],
   "source": [
    "loans_purpose_modified.write \\\n",
    ".option(\"header\",True) \\\n",
    ".format(\"csv\") \\\n",
    ".mode(\"overwrite\") \\\n",
    ".option(\"path\",\"/user/itv017244/lendingclubproject/cleaned/loans_csv\").save()"
   ]
  },
  {
   "cell_type": "code",
   "execution_count": 39,
   "id": "a76ea075",
   "metadata": {},
   "outputs": [],
   "source": [
    "loans_purpose_modified.write \\\n",
    ".option(\"header\",True) \\\n",
    ".format(\"parquet\") \\\n",
    ".mode(\"overwrite\") \\\n",
    ".option(\"path\",\"/user/itv017244/lendingclubproject/cleaned/loans_parquet\").save()"
   ]
  },
  {
   "cell_type": "code",
   "execution_count": null,
   "id": "6042a8dc",
   "metadata": {},
   "outputs": [],
   "source": [
    "spark.stop()"
   ]
  }
 ],
 "metadata": {
  "kernelspec": {
   "display_name": "Pyspark 2",
   "language": "python",
   "name": "pyspark2"
  },
  "language_info": {
   "codemirror_mode": {
    "name": "ipython",
    "version": 3
   },
   "file_extension": ".py",
   "mimetype": "text/x-python",
   "name": "python",
   "nbconvert_exporter": "python",
   "pygments_lexer": "ipython3",
   "version": "3.6.12"
  }
 },
 "nbformat": 4,
 "nbformat_minor": 5
}
