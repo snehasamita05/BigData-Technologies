{
 "cells": [
  {
   "cell_type": "code",
   "execution_count": 47,
   "id": "a8929016",
   "metadata": {},
   "outputs": [],
   "source": [
    "from pyspark.sql import SparkSession\n",
    "import getpass\n",
    "username = getpass.getuser()\n",
    "spark = SparkSession. \\\n",
    "    builder. \\\n",
    "    config('spark.ui.port','0'). \\\n",
    "    config(\"spark.sql.warehouse.dir\", f\"/user/{username}/warehouse\"). \\\n",
    "    config('spark.shuffle.useOldFetchProtocol','true'). \\\n",
    "    enableHiveSupport(). \\\n",
    "    master('yarn'). \\\n",
    "    getOrCreate()\n"
   ]
  },
  {
   "cell_type": "code",
   "execution_count": 48,
   "id": "9d1c97bf",
   "metadata": {},
   "outputs": [
    {
     "data": {
      "text/html": [
       "\n",
       "            <div>\n",
       "                <p><b>SparkSession - hive</b></p>\n",
       "                \n",
       "        <div>\n",
       "            <p><b>SparkContext</b></p>\n",
       "\n",
       "            <p><a href=\"http://g01.itversity.com:36629\">Spark UI</a></p>\n",
       "\n",
       "            <dl>\n",
       "              <dt>Version</dt>\n",
       "                <dd><code>v3.1.2</code></dd>\n",
       "              <dt>Master</dt>\n",
       "                <dd><code>yarn</code></dd>\n",
       "              <dt>AppName</dt>\n",
       "                <dd><code>pyspark-shell</code></dd>\n",
       "            </dl>\n",
       "        </div>\n",
       "        \n",
       "            </div>\n",
       "        "
      ],
      "text/plain": [
       "<pyspark.sql.session.SparkSession at 0x7f7670add978>"
      ]
     },
     "execution_count": 48,
     "metadata": {},
     "output_type": "execute_result"
    }
   ],
   "source": [
    "spark"
   ]
  },
  {
   "cell_type": "code",
   "execution_count": 49,
   "id": "21a9a13e",
   "metadata": {},
   "outputs": [],
   "source": [
    "loans_repay_raw_df = spark.read.format(\"csv\").option(\"header\",True).option(\"inferSchema\",True).load(\"/user/itv017244/lendingclubproject/raw/loans_repayments_csv\")"
   ]
  },
  {
   "cell_type": "code",
   "execution_count": 50,
   "id": "47238aed",
   "metadata": {},
   "outputs": [
    {
     "data": {
      "text/html": [
       "<table border='1'>\n",
       "<tr><th>loan_id</th><th>total_rec_prncp</th><th>total_rec_int</th><th>total_rec_late_fee</th><th>total_pymnt</th><th>last_pymnt_amnt</th><th>last_pymnt_d</th><th>next_pymnt_d</th></tr>\n",
       "<tr><td>56633077</td><td>3000.0</td><td>376.21</td><td>0.0</td><td>3376.205975527</td><td>93.74</td><td>Aug-2018</td><td>null</td></tr>\n",
       "<tr><td>55927518</td><td>15600.0</td><td>1956.32</td><td>0.0</td><td>17556.320693408998</td><td>487.9</td><td>Aug-2018</td><td>null</td></tr>\n",
       "<tr><td>56473345</td><td>20000.0</td><td>2408.94</td><td>0.0</td><td>22408.9398096902</td><td>9677.72</td><td>May-2017</td><td>null</td></tr>\n",
       "<tr><td>56463188</td><td>11200.0</td><td>5231.01</td><td>0.0</td><td>16431.0146429476</td><td>7475.86</td><td>Feb-2018</td><td>null</td></tr>\n",
       "<tr><td>56473316</td><td>5215.47</td><td>6513.51</td><td>0.0</td><td>13237.07</td><td>432.77</td><td>Nov-2017</td><td>null</td></tr>\n",
       "<tr><td>56663266</td><td>6477.26</td><td>4221.77</td><td>0.0</td><td>12544.05</td><td>458.45</td><td>Jun-2017</td><td>null</td></tr>\n",
       "<tr><td>56483027</td><td>10000.0</td><td>2062.03</td><td>0.0</td><td>12062.026276051001</td><td>335.38</td><td>Aug-2018</td><td>null</td></tr>\n",
       "<tr><td>56613385</td><td>13932.74</td><td>11678.23</td><td>0.0</td><td>25610.97</td><td>609.46</td><td>Feb-2019</td><td>Apr-2019</td></tr>\n",
       "<tr><td>56643620</td><td>16000.0</td><td>1031.67</td><td>0.0</td><td>17031.673055266598</td><td>8363.28</td><td>Mar-2017</td><td>null</td></tr>\n",
       "<tr><td>56533114</td><td>3478.66</td><td>3815.07</td><td>0.0</td><td>12460.86</td><td>1111.52</td><td>Mar-2016</td><td>null</td></tr>\n",
       "<tr><td>56984127</td><td>24000.0</td><td>2939.61</td><td>0.0</td><td>26939.610789134702</td><td>5175.19</td><td>Feb-2018</td><td>null</td></tr>\n",
       "<tr><td>56131038</td><td>7612.86</td><td>4827.33</td><td>0.0</td><td>12440.19</td><td>289.34</td><td>Mar-2019</td><td>Apr-2019</td></tr>\n",
       "<tr><td>56452581</td><td>25000.0</td><td>5435.67</td><td>0.0</td><td>30435.670232535602</td><td>2525.29</td><td>Jun-2018</td><td>null</td></tr>\n",
       "<tr><td>56685321</td><td>3839.84</td><td>5116.89</td><td>0.0</td><td>11211.31</td><td>899.28</td><td>Jun-2016</td><td>null</td></tr>\n",
       "<tr><td>56563360</td><td>14994.95</td><td>14659.13</td><td>0.0</td><td>29654.08</td><td>690.34</td><td>Mar-2019</td><td>Apr-2019</td></tr>\n",
       "<tr><td>56533113</td><td>20000.0</td><td>1319.02</td><td>0.0</td><td>21319.02</td><td>17901.73</td><td>Feb-2016</td><td>null</td></tr>\n",
       "<tr><td>56904118</td><td>5676.65</td><td>1655.48</td><td>0.0</td><td>7859.88</td><td>317.69</td><td>Jul-2017</td><td>null</td></tr>\n",
       "<tr><td>56473361</td><td>4200.0</td><td>1082.96</td><td>0.0</td><td>5282.961548069</td><td>146.5</td><td>Aug-2018</td><td>null</td></tr>\n",
       "<tr><td>56021410</td><td>8625.0</td><td>1813.75</td><td>0.0</td><td>10438.752955389</td><td>4946.24</td><td>Mar-2017</td><td>null</td></tr>\n",
       "<tr><td>56473332</td><td>12225.62</td><td>8790.03</td><td>0.0</td><td>21015.65</td><td>478.05</td><td>Mar-2019</td><td>Apr-2019</td></tr>\n",
       "</table>\n",
       "only showing top 20 rows\n"
      ],
      "text/plain": [
       "+--------+---------------+-------------+------------------+------------------+---------------+------------+------------+\n",
       "| loan_id|total_rec_prncp|total_rec_int|total_rec_late_fee|       total_pymnt|last_pymnt_amnt|last_pymnt_d|next_pymnt_d|\n",
       "+--------+---------------+-------------+------------------+------------------+---------------+------------+------------+\n",
       "|56633077|         3000.0|       376.21|               0.0|    3376.205975527|          93.74|    Aug-2018|        null|\n",
       "|55927518|        15600.0|      1956.32|               0.0|17556.320693408998|          487.9|    Aug-2018|        null|\n",
       "|56473345|        20000.0|      2408.94|               0.0|  22408.9398096902|        9677.72|    May-2017|        null|\n",
       "|56463188|        11200.0|      5231.01|               0.0|  16431.0146429476|        7475.86|    Feb-2018|        null|\n",
       "|56473316|        5215.47|      6513.51|               0.0|          13237.07|         432.77|    Nov-2017|        null|\n",
       "|56663266|        6477.26|      4221.77|               0.0|          12544.05|         458.45|    Jun-2017|        null|\n",
       "|56483027|        10000.0|      2062.03|               0.0|12062.026276051001|         335.38|    Aug-2018|        null|\n",
       "|56613385|       13932.74|     11678.23|               0.0|          25610.97|         609.46|    Feb-2019|    Apr-2019|\n",
       "|56643620|        16000.0|      1031.67|               0.0|17031.673055266598|        8363.28|    Mar-2017|        null|\n",
       "|56533114|        3478.66|      3815.07|               0.0|          12460.86|        1111.52|    Mar-2016|        null|\n",
       "|56984127|        24000.0|      2939.61|               0.0|26939.610789134702|        5175.19|    Feb-2018|        null|\n",
       "|56131038|        7612.86|      4827.33|               0.0|          12440.19|         289.34|    Mar-2019|    Apr-2019|\n",
       "|56452581|        25000.0|      5435.67|               0.0|30435.670232535602|        2525.29|    Jun-2018|        null|\n",
       "|56685321|        3839.84|      5116.89|               0.0|          11211.31|         899.28|    Jun-2016|        null|\n",
       "|56563360|       14994.95|     14659.13|               0.0|          29654.08|         690.34|    Mar-2019|    Apr-2019|\n",
       "|56533113|        20000.0|      1319.02|               0.0|          21319.02|       17901.73|    Feb-2016|        null|\n",
       "|56904118|        5676.65|      1655.48|               0.0|           7859.88|         317.69|    Jul-2017|        null|\n",
       "|56473361|         4200.0|      1082.96|               0.0|    5282.961548069|          146.5|    Aug-2018|        null|\n",
       "|56021410|         8625.0|      1813.75|               0.0|   10438.752955389|        4946.24|    Mar-2017|        null|\n",
       "|56473332|       12225.62|      8790.03|               0.0|          21015.65|         478.05|    Mar-2019|    Apr-2019|\n",
       "+--------+---------------+-------------+------------------+------------------+---------------+------------+------------+\n",
       "only showing top 20 rows"
      ]
     },
     "execution_count": 50,
     "metadata": {},
     "output_type": "execute_result"
    }
   ],
   "source": [
    "loans_repay_raw_df"
   ]
  },
  {
   "cell_type": "code",
   "execution_count": 51,
   "id": "56a12455",
   "metadata": {},
   "outputs": [
    {
     "name": "stdout",
     "output_type": "stream",
     "text": [
      "root\n",
      " |-- loan_id: string (nullable = true)\n",
      " |-- total_rec_prncp: string (nullable = true)\n",
      " |-- total_rec_int: string (nullable = true)\n",
      " |-- total_rec_late_fee: string (nullable = true)\n",
      " |-- total_pymnt: string (nullable = true)\n",
      " |-- last_pymnt_amnt: string (nullable = true)\n",
      " |-- last_pymnt_d: string (nullable = true)\n",
      " |-- next_pymnt_d: string (nullable = true)\n",
      "\n"
     ]
    }
   ],
   "source": [
    "loans_repay_raw_df.printSchema()"
   ]
  },
  {
   "cell_type": "code",
   "execution_count": 52,
   "id": "f225786f",
   "metadata": {},
   "outputs": [],
   "source": [
    "loans_repay_schema = 'loan_id string,total_principal_received float,total_interest_received float,total_late_fee_received float,total_payment_received float,last_payment_amount float,last_payment_date string,next_payment_date string'"
   ]
  },
  {
   "cell_type": "code",
   "execution_count": 53,
   "id": "cdf0a8c8",
   "metadata": {},
   "outputs": [],
   "source": [
    "loans_repay_raw_df = spark.read.format(\"csv\").option(\"header\",True).schema(loans_repay_schema).load(\"/user/itv017244/lendingclubproject/raw/loans_repayments_csv\")"
   ]
  },
  {
   "cell_type": "code",
   "execution_count": 54,
   "id": "cabd1b9b",
   "metadata": {},
   "outputs": [
    {
     "name": "stdout",
     "output_type": "stream",
     "text": [
      "root\n",
      " |-- loan_id: string (nullable = true)\n",
      " |-- total_principal_received: float (nullable = true)\n",
      " |-- total_interest_received: float (nullable = true)\n",
      " |-- total_late_fee_received: float (nullable = true)\n",
      " |-- total_payment_received: float (nullable = true)\n",
      " |-- last_payment_amount: float (nullable = true)\n",
      " |-- last_payment_date: string (nullable = true)\n",
      " |-- next_payment_date: string (nullable = true)\n",
      "\n"
     ]
    }
   ],
   "source": [
    "loans_repay_raw_df.printSchema()"
   ]
  },
  {
   "cell_type": "code",
   "execution_count": 55,
   "id": "07d75067",
   "metadata": {},
   "outputs": [],
   "source": [
    "from pyspark.sql.functions import current_timestamp"
   ]
  },
  {
   "cell_type": "code",
   "execution_count": 56,
   "id": "5fc17eb8",
   "metadata": {},
   "outputs": [],
   "source": [
    "loan_repay_df_ingestd = loans_repay_raw_df.withColumn(\"ingest_date\",current_timestamp())"
   ]
  },
  {
   "cell_type": "code",
   "execution_count": 57,
   "id": "07a50544",
   "metadata": {},
   "outputs": [
    {
     "data": {
      "text/html": [
       "<table border='1'>\n",
       "<tr><th>loan_id</th><th>total_principal_received</th><th>total_interest_received</th><th>total_late_fee_received</th><th>total_payment_received</th><th>last_payment_amount</th><th>last_payment_date</th><th>next_payment_date</th><th>ingest_date</th></tr>\n",
       "<tr><td>56633077</td><td>3000.0</td><td>376.21</td><td>0.0</td><td>3376.206</td><td>93.74</td><td>Aug-2018</td><td>null</td><td>2025-03-18 14:54:...</td></tr>\n",
       "<tr><td>55927518</td><td>15600.0</td><td>1956.32</td><td>0.0</td><td>17556.32</td><td>487.9</td><td>Aug-2018</td><td>null</td><td>2025-03-18 14:54:...</td></tr>\n",
       "<tr><td>56473345</td><td>20000.0</td><td>2408.94</td><td>0.0</td><td>22408.94</td><td>9677.72</td><td>May-2017</td><td>null</td><td>2025-03-18 14:54:...</td></tr>\n",
       "<tr><td>56463188</td><td>11200.0</td><td>5231.01</td><td>0.0</td><td>16431.014</td><td>7475.86</td><td>Feb-2018</td><td>null</td><td>2025-03-18 14:54:...</td></tr>\n",
       "<tr><td>56473316</td><td>5215.47</td><td>6513.51</td><td>0.0</td><td>13237.07</td><td>432.77</td><td>Nov-2017</td><td>null</td><td>2025-03-18 14:54:...</td></tr>\n",
       "<tr><td>56663266</td><td>6477.26</td><td>4221.77</td><td>0.0</td><td>12544.05</td><td>458.45</td><td>Jun-2017</td><td>null</td><td>2025-03-18 14:54:...</td></tr>\n",
       "<tr><td>56483027</td><td>10000.0</td><td>2062.03</td><td>0.0</td><td>12062.026</td><td>335.38</td><td>Aug-2018</td><td>null</td><td>2025-03-18 14:54:...</td></tr>\n",
       "<tr><td>56613385</td><td>13932.74</td><td>11678.23</td><td>0.0</td><td>25610.97</td><td>609.46</td><td>Feb-2019</td><td>Apr-2019</td><td>2025-03-18 14:54:...</td></tr>\n",
       "<tr><td>56643620</td><td>16000.0</td><td>1031.67</td><td>0.0</td><td>17031.674</td><td>8363.28</td><td>Mar-2017</td><td>null</td><td>2025-03-18 14:54:...</td></tr>\n",
       "<tr><td>56533114</td><td>3478.66</td><td>3815.07</td><td>0.0</td><td>12460.86</td><td>1111.52</td><td>Mar-2016</td><td>null</td><td>2025-03-18 14:54:...</td></tr>\n",
       "<tr><td>56984127</td><td>24000.0</td><td>2939.61</td><td>0.0</td><td>26939.611</td><td>5175.19</td><td>Feb-2018</td><td>null</td><td>2025-03-18 14:54:...</td></tr>\n",
       "<tr><td>56131038</td><td>7612.86</td><td>4827.33</td><td>0.0</td><td>12440.19</td><td>289.34</td><td>Mar-2019</td><td>Apr-2019</td><td>2025-03-18 14:54:...</td></tr>\n",
       "<tr><td>56452581</td><td>25000.0</td><td>5435.67</td><td>0.0</td><td>30435.67</td><td>2525.29</td><td>Jun-2018</td><td>null</td><td>2025-03-18 14:54:...</td></tr>\n",
       "<tr><td>56685321</td><td>3839.84</td><td>5116.89</td><td>0.0</td><td>11211.31</td><td>899.28</td><td>Jun-2016</td><td>null</td><td>2025-03-18 14:54:...</td></tr>\n",
       "<tr><td>56563360</td><td>14994.95</td><td>14659.13</td><td>0.0</td><td>29654.08</td><td>690.34</td><td>Mar-2019</td><td>Apr-2019</td><td>2025-03-18 14:54:...</td></tr>\n",
       "<tr><td>56533113</td><td>20000.0</td><td>1319.02</td><td>0.0</td><td>21319.02</td><td>17901.73</td><td>Feb-2016</td><td>null</td><td>2025-03-18 14:54:...</td></tr>\n",
       "<tr><td>56904118</td><td>5676.65</td><td>1655.48</td><td>0.0</td><td>7859.88</td><td>317.69</td><td>Jul-2017</td><td>null</td><td>2025-03-18 14:54:...</td></tr>\n",
       "<tr><td>56473361</td><td>4200.0</td><td>1082.96</td><td>0.0</td><td>5282.9614</td><td>146.5</td><td>Aug-2018</td><td>null</td><td>2025-03-18 14:54:...</td></tr>\n",
       "<tr><td>56021410</td><td>8625.0</td><td>1813.75</td><td>0.0</td><td>10438.753</td><td>4946.24</td><td>Mar-2017</td><td>null</td><td>2025-03-18 14:54:...</td></tr>\n",
       "<tr><td>56473332</td><td>12225.62</td><td>8790.03</td><td>0.0</td><td>21015.65</td><td>478.05</td><td>Mar-2019</td><td>Apr-2019</td><td>2025-03-18 14:54:...</td></tr>\n",
       "</table>\n",
       "only showing top 20 rows\n"
      ],
      "text/plain": [
       "+--------+------------------------+-----------------------+-----------------------+----------------------+-------------------+-----------------+-----------------+--------------------+\n",
       "| loan_id|total_principal_received|total_interest_received|total_late_fee_received|total_payment_received|last_payment_amount|last_payment_date|next_payment_date|         ingest_date|\n",
       "+--------+------------------------+-----------------------+-----------------------+----------------------+-------------------+-----------------+-----------------+--------------------+\n",
       "|56633077|                  3000.0|                 376.21|                    0.0|              3376.206|              93.74|         Aug-2018|             null|2025-03-18 14:54:...|\n",
       "|55927518|                 15600.0|                1956.32|                    0.0|              17556.32|              487.9|         Aug-2018|             null|2025-03-18 14:54:...|\n",
       "|56473345|                 20000.0|                2408.94|                    0.0|              22408.94|            9677.72|         May-2017|             null|2025-03-18 14:54:...|\n",
       "|56463188|                 11200.0|                5231.01|                    0.0|             16431.014|            7475.86|         Feb-2018|             null|2025-03-18 14:54:...|\n",
       "|56473316|                 5215.47|                6513.51|                    0.0|              13237.07|             432.77|         Nov-2017|             null|2025-03-18 14:54:...|\n",
       "|56663266|                 6477.26|                4221.77|                    0.0|              12544.05|             458.45|         Jun-2017|             null|2025-03-18 14:54:...|\n",
       "|56483027|                 10000.0|                2062.03|                    0.0|             12062.026|             335.38|         Aug-2018|             null|2025-03-18 14:54:...|\n",
       "|56613385|                13932.74|               11678.23|                    0.0|              25610.97|             609.46|         Feb-2019|         Apr-2019|2025-03-18 14:54:...|\n",
       "|56643620|                 16000.0|                1031.67|                    0.0|             17031.674|            8363.28|         Mar-2017|             null|2025-03-18 14:54:...|\n",
       "|56533114|                 3478.66|                3815.07|                    0.0|              12460.86|            1111.52|         Mar-2016|             null|2025-03-18 14:54:...|\n",
       "|56984127|                 24000.0|                2939.61|                    0.0|             26939.611|            5175.19|         Feb-2018|             null|2025-03-18 14:54:...|\n",
       "|56131038|                 7612.86|                4827.33|                    0.0|              12440.19|             289.34|         Mar-2019|         Apr-2019|2025-03-18 14:54:...|\n",
       "|56452581|                 25000.0|                5435.67|                    0.0|              30435.67|            2525.29|         Jun-2018|             null|2025-03-18 14:54:...|\n",
       "|56685321|                 3839.84|                5116.89|                    0.0|              11211.31|             899.28|         Jun-2016|             null|2025-03-18 14:54:...|\n",
       "|56563360|                14994.95|               14659.13|                    0.0|              29654.08|             690.34|         Mar-2019|         Apr-2019|2025-03-18 14:54:...|\n",
       "|56533113|                 20000.0|                1319.02|                    0.0|              21319.02|           17901.73|         Feb-2016|             null|2025-03-18 14:54:...|\n",
       "|56904118|                 5676.65|                1655.48|                    0.0|               7859.88|             317.69|         Jul-2017|             null|2025-03-18 14:54:...|\n",
       "|56473361|                  4200.0|                1082.96|                    0.0|             5282.9614|              146.5|         Aug-2018|             null|2025-03-18 14:54:...|\n",
       "|56021410|                  8625.0|                1813.75|                    0.0|             10438.753|            4946.24|         Mar-2017|             null|2025-03-18 14:54:...|\n",
       "|56473332|                12225.62|                8790.03|                    0.0|              21015.65|             478.05|         Mar-2019|         Apr-2019|2025-03-18 14:54:...|\n",
       "+--------+------------------------+-----------------------+-----------------------+----------------------+-------------------+-----------------+-----------------+--------------------+\n",
       "only showing top 20 rows"
      ]
     },
     "execution_count": 57,
     "metadata": {},
     "output_type": "execute_result"
    }
   ],
   "source": [
    "loan_repay_df_ingestd"
   ]
  },
  {
   "cell_type": "code",
   "execution_count": 58,
   "id": "96eb1a85",
   "metadata": {},
   "outputs": [],
   "source": [
    "loan_repay_df_ingestd.createOrReplaceTempView(\"loan_repayment\")"
   ]
  },
  {
   "cell_type": "code",
   "execution_count": 59,
   "id": "7370a828",
   "metadata": {},
   "outputs": [
    {
     "data": {
      "text/html": [
       "<table border='1'>\n",
       "<tr><th>count(1)</th></tr>\n",
       "<tr><td>94</td></tr>\n",
       "</table>\n"
      ],
      "text/plain": [
       "+--------+\n",
       "|count(1)|\n",
       "+--------+\n",
       "|      94|\n",
       "+--------+"
      ]
     },
     "execution_count": 59,
     "metadata": {},
     "output_type": "execute_result"
    }
   ],
   "source": [
    "spark.sql(\"select count(*) from loan_repayment where total_payment_received is null\")"
   ]
  },
  {
   "cell_type": "code",
   "execution_count": 60,
   "id": "154677c0",
   "metadata": {},
   "outputs": [
    {
     "data": {
      "text/plain": [
       "2260701"
      ]
     },
     "execution_count": 60,
     "metadata": {},
     "output_type": "execute_result"
    }
   ],
   "source": [
    "loan_repay_df_ingestd.count()"
   ]
  },
  {
   "cell_type": "code",
   "execution_count": 61,
   "id": "00c57f89",
   "metadata": {},
   "outputs": [],
   "source": [
    "columns_to_check = [\"total_principal_received\",\"total_interest_received\",\"total_late_fee_received\",\"total_payment_received\",\"last_payment_amount\"]"
   ]
  },
  {
   "cell_type": "code",
   "execution_count": 62,
   "id": "3b82d212",
   "metadata": {},
   "outputs": [],
   "source": [
    "loans_repay_filtered_df = loan_repay_df_ingestd.na.drop(subset=columns_to_check)"
   ]
  },
  {
   "cell_type": "code",
   "execution_count": 63,
   "id": "59e944c9",
   "metadata": {},
   "outputs": [
    {
     "data": {
      "text/plain": [
       "2260498"
      ]
     },
     "execution_count": 63,
     "metadata": {},
     "output_type": "execute_result"
    }
   ],
   "source": [
    "loans_repay_filtered_df.count()"
   ]
  },
  {
   "cell_type": "code",
   "execution_count": 64,
   "id": "697a01e4",
   "metadata": {},
   "outputs": [],
   "source": [
    "loans_repay_filtered_df.createOrReplaceTempView(\"loan_repayment\")"
   ]
  },
  {
   "cell_type": "code",
   "execution_count": 65,
   "id": "e5f12a80",
   "metadata": {},
   "outputs": [
    {
     "data": {
      "text/html": [
       "<table border='1'>\n",
       "<tr><th>loan_id</th><th>total_principal_received</th><th>total_interest_received</th><th>total_late_fee_received</th><th>total_payment_received</th><th>last_payment_amount</th><th>last_payment_date</th><th>next_payment_date</th><th>ingest_date</th></tr>\n",
       "<tr><td>1064185</td><td>11600.98</td><td>11600.98</td><td>10000.0</td><td>0.0</td><td>0.0</td><td>0.0</td><td>Dec-2014</td><td>2025-03-18 14:54:...</td></tr>\n",
       "<tr><td>516382</td><td>21890.229</td><td>21856.03</td><td>16000.0</td><td>0.0</td><td>0.0</td><td>0.0</td><td>Mar-2014</td><td>2025-03-18 14:54:...</td></tr>\n",
       "<tr><td>528899</td><td>3045.0364</td><td>3019.64</td><td>2500.0</td><td>0.0</td><td>0.0</td><td>0.0</td><td>Jan-2013</td><td>2025-03-18 14:54:...</td></tr>\n",
       "<tr><td>527598</td><td>2398.9092</td><td>2220.51</td><td>2200.0</td><td>0.0</td><td>0.0</td><td>0.0</td><td>Jul-2011</td><td>2025-03-18 14:54:...</td></tr>\n",
       "<tr><td>525697</td><td>21797.86</td><td>19894.9</td><td>15750.0</td><td>0.0</td><td>0.0</td><td>0.0</td><td>Jun-2015</td><td>2025-03-18 14:54:...</td></tr>\n",
       "<tr><td>522641</td><td>3146.8193</td><td>3146.82</td><td>3000.0</td><td>0.0</td><td>0.0</td><td>0.0</td><td>Sep-2011</td><td>2025-03-18 14:54:...</td></tr>\n",
       "<tr><td>515655</td><td>29938.576</td><td>29905.75</td><td>22800.0</td><td>0.0</td><td>0.0</td><td>0.0</td><td>May-2013</td><td>2025-03-18 14:54:...</td></tr>\n",
       "<tr><td>501234</td><td>15219.313</td><td>15155.9</td><td>12000.0</td><td>0.0</td><td>0.0</td><td>0.0</td><td>May-2013</td><td>2025-03-18 14:54:...</td></tr>\n",
       "<tr><td>498194</td><td>11642.714</td><td>11031.47</td><td>10000.0</td><td>0.0</td><td>0.0</td><td>0.0</td><td>Jan-2013</td><td>2025-03-18 14:54:...</td></tr>\n",
       "<tr><td>495171</td><td>11138.843</td><td>10024.96</td><td>10000.0</td><td>0.0</td><td>0.0</td><td>0.0</td><td>Apr-2013</td><td>2025-03-18 14:54:...</td></tr>\n",
       "<tr><td>493508</td><td>28732.803</td><td>28495.83</td><td>24250.0</td><td>0.0</td><td>0.0</td><td>0.0</td><td>Apr-2013</td><td>2025-03-18 14:54:...</td></tr>\n",
       "<tr><td>485818</td><td>14640.096</td><td>13388.84</td><td>13000.0</td><td>0.0</td><td>0.0</td><td>0.0</td><td>Mar-2013</td><td>2025-03-18 14:54:...</td></tr>\n",
       "<tr><td>485471</td><td>29620.818</td><td>29134.64</td><td>25000.0</td><td>0.0</td><td>0.0</td><td>0.0</td><td>Mar-2013</td><td>2025-03-18 14:54:...</td></tr>\n",
       "<tr><td>482256</td><td>8735.611</td><td>7479.87</td><td>8000.0</td><td>0.0</td><td>0.0</td><td>0.0</td><td>Feb-2011</td><td>2025-03-18 14:54:...</td></tr>\n",
       "<tr><td>478160</td><td>410.0</td><td>407.36</td><td>0.0</td><td>0.0</td><td>143.1</td><td>410.0</td><td>null</td><td>2025-03-18 14:54:...</td></tr>\n",
       "<tr><td>476557</td><td>28865.18</td><td>24164.67</td><td>5692.31</td><td>0.0</td><td>6972.59</td><td>19916.78</td><td>Dec-2010</td><td>2025-03-18 14:54:...</td></tr>\n",
       "<tr><td>472516</td><td>25951.482</td><td>24731.76</td><td>25000.0</td><td>0.0</td><td>0.0</td><td>0.0</td><td>May-2010</td><td>2025-03-18 14:54:...</td></tr>\n",
       "<tr><td>472197</td><td>12048.13</td><td>12018.01</td><td>10000.0</td><td>0.0</td><td>0.0</td><td>0.0</td><td>Jan-2013</td><td>2025-03-18 14:54:...</td></tr>\n",
       "<tr><td>467364</td><td>29216.791</td><td>29066.19</td><td>24250.0</td><td>0.0</td><td>0.0</td><td>0.0</td><td>Dec-2012</td><td>2025-03-18 14:54:...</td></tr>\n",
       "<tr><td>399499</td><td>26557.729</td><td>26336.41</td><td>24000.0</td><td>0.0</td><td>0.0</td><td>0.0</td><td>Dec-2010</td><td>2025-03-18 14:54:...</td></tr>\n",
       "</table>\n",
       "only showing top 20 rows\n"
      ],
      "text/plain": [
       "+-------+------------------------+-----------------------+-----------------------+----------------------+-------------------+-----------------+-----------------+--------------------+\n",
       "|loan_id|total_principal_received|total_interest_received|total_late_fee_received|total_payment_received|last_payment_amount|last_payment_date|next_payment_date|         ingest_date|\n",
       "+-------+------------------------+-----------------------+-----------------------+----------------------+-------------------+-----------------+-----------------+--------------------+\n",
       "|1064185|                11600.98|               11600.98|                10000.0|                   0.0|                0.0|              0.0|         Dec-2014|2025-03-18 14:54:...|\n",
       "| 516382|               21890.229|               21856.03|                16000.0|                   0.0|                0.0|              0.0|         Mar-2014|2025-03-18 14:54:...|\n",
       "| 528899|               3045.0364|                3019.64|                 2500.0|                   0.0|                0.0|              0.0|         Jan-2013|2025-03-18 14:54:...|\n",
       "| 527598|               2398.9092|                2220.51|                 2200.0|                   0.0|                0.0|              0.0|         Jul-2011|2025-03-18 14:54:...|\n",
       "| 525697|                21797.86|                19894.9|                15750.0|                   0.0|                0.0|              0.0|         Jun-2015|2025-03-18 14:54:...|\n",
       "| 522641|               3146.8193|                3146.82|                 3000.0|                   0.0|                0.0|              0.0|         Sep-2011|2025-03-18 14:54:...|\n",
       "| 515655|               29938.576|               29905.75|                22800.0|                   0.0|                0.0|              0.0|         May-2013|2025-03-18 14:54:...|\n",
       "| 501234|               15219.313|                15155.9|                12000.0|                   0.0|                0.0|              0.0|         May-2013|2025-03-18 14:54:...|\n",
       "| 498194|               11642.714|               11031.47|                10000.0|                   0.0|                0.0|              0.0|         Jan-2013|2025-03-18 14:54:...|\n",
       "| 495171|               11138.843|               10024.96|                10000.0|                   0.0|                0.0|              0.0|         Apr-2013|2025-03-18 14:54:...|\n",
       "| 493508|               28732.803|               28495.83|                24250.0|                   0.0|                0.0|              0.0|         Apr-2013|2025-03-18 14:54:...|\n",
       "| 485818|               14640.096|               13388.84|                13000.0|                   0.0|                0.0|              0.0|         Mar-2013|2025-03-18 14:54:...|\n",
       "| 485471|               29620.818|               29134.64|                25000.0|                   0.0|                0.0|              0.0|         Mar-2013|2025-03-18 14:54:...|\n",
       "| 482256|                8735.611|                7479.87|                 8000.0|                   0.0|                0.0|              0.0|         Feb-2011|2025-03-18 14:54:...|\n",
       "| 478160|                   410.0|                 407.36|                    0.0|                   0.0|              143.1|            410.0|             null|2025-03-18 14:54:...|\n",
       "| 476557|                28865.18|               24164.67|                5692.31|                   0.0|            6972.59|         19916.78|         Dec-2010|2025-03-18 14:54:...|\n",
       "| 472516|               25951.482|               24731.76|                25000.0|                   0.0|                0.0|              0.0|         May-2010|2025-03-18 14:54:...|\n",
       "| 472197|                12048.13|               12018.01|                10000.0|                   0.0|                0.0|              0.0|         Jan-2013|2025-03-18 14:54:...|\n",
       "| 467364|               29216.791|               29066.19|                24250.0|                   0.0|                0.0|              0.0|         Dec-2012|2025-03-18 14:54:...|\n",
       "| 399499|               26557.729|               26336.41|                24000.0|                   0.0|                0.0|              0.0|         Dec-2010|2025-03-18 14:54:...|\n",
       "+-------+------------------------+-----------------------+-----------------------+----------------------+-------------------+-----------------+-----------------+--------------------+\n",
       "only showing top 20 rows"
      ]
     },
     "execution_count": 65,
     "metadata": {},
     "output_type": "execute_result"
    }
   ],
   "source": [
    "spark.sql(\"select * from loan_repayment where total_payment_received= 0.0  and total_principal_received != 0.0\")"
   ]
  },
  {
   "cell_type": "code",
   "execution_count": 67,
   "id": "d31c2dfb",
   "metadata": {},
   "outputs": [],
   "source": [
    "from pyspark.sql.functions import when, col"
   ]
  },
  {
   "cell_type": "code",
   "execution_count": 70,
   "id": "dc548353",
   "metadata": {},
   "outputs": [],
   "source": [
    "loans_payment_fixed_df = loans_repay_filtered_df.withColumn(\n",
    "    \"total_payment_received\",\n",
    "    when(\n",
    "        (col(\"total_principal_received\")!= 0.0) & \n",
    "        (col(\"total_payment_received\") == 0.0)\n",
    "      , col(\"total_principal_received\")+col(\"total_interest_received\")+ col(\"total_late_fee_received\")\n",
    "    ).otherwise(col(\"total_payment_received\")))"
   ]
  },
  {
   "cell_type": "code",
   "execution_count": 79,
   "id": "aa0fce91",
   "metadata": {},
   "outputs": [
    {
     "data": {
      "text/plain": [
       "949"
      ]
     },
     "execution_count": 79,
     "metadata": {},
     "output_type": "execute_result"
    }
   ],
   "source": [
    "loans_payment_fixed_df.filter(\"total_payment_received == 0.0\").count()"
   ]
  },
  {
   "cell_type": "code",
   "execution_count": 80,
   "id": "278a13af",
   "metadata": {},
   "outputs": [],
   "source": [
    "loans_payment_fixed_df2 = loans_payment_fixed_df.filter(\"total_payment_received != 0.0\")"
   ]
  },
  {
   "cell_type": "code",
   "execution_count": 81,
   "id": "071bab47",
   "metadata": {},
   "outputs": [
    {
     "data": {
      "text/plain": [
       "0"
      ]
     },
     "execution_count": 81,
     "metadata": {},
     "output_type": "execute_result"
    }
   ],
   "source": [
    "loans_payment_fixed_df2.filter(\"total_payment_received == 0.0\").count()"
   ]
  },
  {
   "cell_type": "code",
   "execution_count": 83,
   "id": "d2107350",
   "metadata": {},
   "outputs": [
    {
     "data": {
      "text/plain": [
       "48"
      ]
     },
     "execution_count": 83,
     "metadata": {},
     "output_type": "execute_result"
    }
   ],
   "source": [
    "loans_payment_fixed_df2.filter(\"last_payment_date == 0.0\").count()"
   ]
  },
  {
   "cell_type": "code",
   "execution_count": 84,
   "id": "c19dca48",
   "metadata": {},
   "outputs": [
    {
     "data": {
      "text/plain": [
       "24"
      ]
     },
     "execution_count": 84,
     "metadata": {},
     "output_type": "execute_result"
    }
   ],
   "source": [
    "loans_payment_fixed_df2.filter(\"next_payment_date == 0.0\").count()"
   ]
  },
  {
   "cell_type": "code",
   "execution_count": 85,
   "id": "5e1bf9c5",
   "metadata": {},
   "outputs": [
    {
     "data": {
      "text/plain": [
       "1477"
      ]
     },
     "execution_count": 85,
     "metadata": {},
     "output_type": "execute_result"
    }
   ],
   "source": [
    "loans_payment_fixed_df2.filter(\"last_payment_date is null\").count()"
   ]
  },
  {
   "cell_type": "code",
   "execution_count": 86,
   "id": "057ea089",
   "metadata": {},
   "outputs": [
    {
     "data": {
      "text/plain": [
       "1344240"
      ]
     },
     "execution_count": 86,
     "metadata": {},
     "output_type": "execute_result"
    }
   ],
   "source": [
    "loans_payment_fixed_df2.filter(\"next_payment_date is null\").count()"
   ]
  },
  {
   "cell_type": "code",
   "execution_count": 89,
   "id": "11105f20",
   "metadata": {},
   "outputs": [],
   "source": [
    "loans_payment_ldate_fixed_df = loans_payment_fixed_df2.withColumn(\n",
    "    \"last_payment_date\", \n",
    "            when(\n",
    "                (col(\"last_payment_date\")== 0.0)\n",
    "                ,None)\n",
    "            .otherwise(col(\"last_payment_date\")))"
   ]
  },
  {
   "cell_type": "code",
   "execution_count": 90,
   "id": "d66c3d35",
   "metadata": {},
   "outputs": [],
   "source": [
    "loans_payment_ndate_fixed_df = loans_payment_ldate_fixed_df.withColumn(\n",
    "    \"next_payment_date\", \n",
    "            when(\n",
    "                (col(\"next_payment_date\")== 0.0)\n",
    "                ,None)\n",
    "            .otherwise(col(\"next_payment_date\")))"
   ]
  },
  {
   "cell_type": "code",
   "execution_count": 93,
   "id": "3b4d37bf",
   "metadata": {},
   "outputs": [
    {
     "data": {
      "text/html": [
       "<table border='1'>\n",
       "<tr><th>loan_id</th><th>total_principal_received</th><th>total_interest_received</th><th>total_late_fee_received</th><th>total_payment_received</th><th>last_payment_amount</th><th>last_payment_date</th><th>next_payment_date</th><th>ingest_date</th></tr>\n",
       "</table>\n"
      ],
      "text/plain": [
       "+-------+------------------------+-----------------------+-----------------------+----------------------+-------------------+-----------------+-----------------+-----------+\n",
       "|loan_id|total_principal_received|total_interest_received|total_late_fee_received|total_payment_received|last_payment_amount|last_payment_date|next_payment_date|ingest_date|\n",
       "+-------+------------------------+-----------------------+-----------------------+----------------------+-------------------+-----------------+-----------------+-----------+\n",
       "+-------+------------------------+-----------------------+-----------------------+----------------------+-------------------+-----------------+-----------------+-----------+"
      ]
     },
     "execution_count": 93,
     "metadata": {},
     "output_type": "execute_result"
    }
   ],
   "source": [
    "loans_payment_ndate_fixed_df.filter(\"last_payment_date == 0.0\").count()"
   ]
  },
  {
   "cell_type": "code",
   "execution_count": 94,
   "id": "396552b9",
   "metadata": {},
   "outputs": [
    {
     "data": {
      "text/plain": [
       "0"
      ]
     },
     "execution_count": 94,
     "metadata": {},
     "output_type": "execute_result"
    }
   ],
   "source": [
    "loans_payment_ndate_fixed_df.filter(\"next_payment_date == 0.0\").count()"
   ]
  },
  {
   "cell_type": "code",
   "execution_count": 95,
   "id": "2ed842e1",
   "metadata": {},
   "outputs": [],
   "source": [
    "loans_payment_ndate_fixed_df.write.option(\"header\", True).format(\"csv\").mode(\"overwrite\").option(\"path\",\"/user/itv017244/lendingclubproject/cleaned/loan_repayment_csv\").save()"
   ]
  },
  {
   "cell_type": "code",
   "execution_count": 96,
   "id": "b89e8c4f",
   "metadata": {},
   "outputs": [],
   "source": [
    "loans_payment_ndate_fixed_df.write.format(\"parquet\").mode(\"overwrite\").option(\"path\",\"/user/itv017244/lendingclubproject/cleaned/loan_repayment_parquet\").save()"
   ]
  },
  {
   "cell_type": "code",
   "execution_count": null,
   "id": "35daaa66",
   "metadata": {},
   "outputs": [],
   "source": [
    "spark.stop()"
   ]
  }
 ],
 "metadata": {
  "kernelspec": {
   "display_name": "Pyspark 3",
   "language": "python",
   "name": "pyspark3"
  },
  "language_info": {
   "codemirror_mode": {
    "name": "ipython",
    "version": 3
   },
   "file_extension": ".py",
   "mimetype": "text/x-python",
   "name": "python",
   "nbconvert_exporter": "python",
   "pygments_lexer": "ipython3",
   "version": "3.6.12"
  }
 },
 "nbformat": 4,
 "nbformat_minor": 5
}
