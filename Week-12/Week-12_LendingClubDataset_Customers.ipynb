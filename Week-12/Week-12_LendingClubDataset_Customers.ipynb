{
 "cells": [
  {
   "cell_type": "code",
   "execution_count": 1,
   "id": "bac1a222",
   "metadata": {},
   "outputs": [],
   "source": [
    "from pyspark.sql import SparkSession\n",
    "import getpass\n",
    "username = getpass.getuser()\n",
    "spark = SparkSession. \\\n",
    "    builder. \\\n",
    "    config('spark.ui.port','0'). \\\n",
    "    config(\"spark.sql.warehouse.dir\", f\"/user/{username}/warehouse\"). \\\n",
    "    config('spark.shuffle.useOldFetchProtocol','true'). \\\n",
    "    enableHiveSupport(). \\\n",
    "    master('yarn'). \\\n",
    "    getOrCreate()\n"
   ]
  },
  {
   "cell_type": "code",
   "execution_count": 2,
   "id": "2594b1da",
   "metadata": {},
   "outputs": [
    {
     "data": {
      "text/html": [
       "\n",
       "            <div>\n",
       "                <p><b>SparkSession - hive</b></p>\n",
       "                \n",
       "        <div>\n",
       "            <p><b>SparkContext</b></p>\n",
       "\n",
       "            <p><a href=\"http://g01.itversity.com:35663\">Spark UI</a></p>\n",
       "\n",
       "            <dl>\n",
       "              <dt>Version</dt>\n",
       "                <dd><code>v3.1.2</code></dd>\n",
       "              <dt>Master</dt>\n",
       "                <dd><code>yarn</code></dd>\n",
       "              <dt>AppName</dt>\n",
       "                <dd><code>pyspark-shell</code></dd>\n",
       "            </dl>\n",
       "        </div>\n",
       "        \n",
       "            </div>\n",
       "        "
      ],
      "text/plain": [
       "<pyspark.sql.session.SparkSession at 0x7f5300eb9710>"
      ]
     },
     "execution_count": 2,
     "metadata": {},
     "output_type": "execute_result"
    }
   ],
   "source": [
    "spark"
   ]
  },
  {
   "cell_type": "code",
   "execution_count": 3,
   "id": "4e9dd16a",
   "metadata": {},
   "outputs": [],
   "source": [
    "customers_schema = ('member_id string, emp_title string, emp_length string, home_ownership string, annual_inc float, addr_state string, zip_code string,country string, grade string, sub_grade string, verification_status string, tot_hi_cred_lim float, application_type string, annual_inc_joint float, verification_status_joint string')"
   ]
  },
  {
   "cell_type": "code",
   "execution_count": 4,
   "id": "9b683844",
   "metadata": {},
   "outputs": [],
   "source": [
    "customers_raw_df = spark.read.format(\"csv\").option(\"header\",True).schema(customers_schema).load(\"/user/itv017244/lendingclubproject/raw/customer_data_csv\")"
   ]
  },
  {
   "cell_type": "code",
   "execution_count": 5,
   "id": "c5f98230",
   "metadata": {},
   "outputs": [
    {
     "data": {
      "text/html": [
       "<table border='1'>\n",
       "<tr><th>member_id</th><th>emp_title</th><th>emp_length</th><th>home_ownership</th><th>annual_inc</th><th>addr_state</th><th>zip_code</th><th>country</th><th>grade</th><th>sub_grade</th><th>verification_status</th><th>tot_hi_cred_lim</th><th>application_type</th><th>annual_inc_joint</th><th>verification_status_joint</th></tr>\n",
       "<tr><td>d86a1c7244ace602c...</td><td>Admin</td><td>3 years</td><td>RENT</td><td>31000.0</td><td>OR</td><td>970xx</td><td>USA</td><td>B</td><td>B3</td><td>Source Verified</td><td>49481.0</td><td>Individual</td><td>null</td><td>null</td></tr>\n",
       "<tr><td>25b8cd9ff47e50eea...</td><td>Teacher</td><td>10+ years</td><td>MORTGAGE</td><td>55983.0</td><td>TX</td><td>780xx</td><td>USA</td><td>C</td><td>C2</td><td>Source Verified</td><td>210551.0</td><td>Individual</td><td>null</td><td>null</td></tr>\n",
       "<tr><td>f9773942305b2dc9c...</td><td>Behavioral Asst</td><td>10+ years</td><td>MORTGAGE</td><td>40000.0</td><td>VA</td><td>201xx</td><td>USA</td><td>F</td><td>F1</td><td>Source Verified</td><td>272608.0</td><td>Individual</td><td>null</td><td>null</td></tr>\n",
       "<tr><td>b22f99c198f3738a7...</td><td>owner</td><td>&lt; 1 year</td><td>RENT</td><td>20000.0</td><td>NC</td><td>274xx</td><td>USA</td><td>C</td><td>C3</td><td>Source Verified</td><td>58521.0</td><td>Individual</td><td>null</td><td>null</td></tr>\n",
       "<tr><td>4b3b7068c15b0e046...</td><td>Supervisor</td><td>&lt; 1 year</td><td>RENT</td><td>45000.0</td><td>NY</td><td>117xx</td><td>USA</td><td>C</td><td>C5</td><td>Source Verified</td><td>25500.0</td><td>Individual</td><td>null</td><td>null</td></tr>\n",
       "<tr><td>0c7a9f8a6d5b209d2...</td><td>case manager</td><td>1 year</td><td>RENT</td><td>35000.0</td><td>NV</td><td>891xx</td><td>USA</td><td>B</td><td>B1</td><td>Verified</td><td>37588.0</td><td>Individual</td><td>null</td><td>null</td></tr>\n",
       "<tr><td>f1cc7e6ae9c735148...</td><td>null</td><td>null</td><td>MORTGAGE</td><td>90000.0</td><td>AZ</td><td>851xx</td><td>USA</td><td>B</td><td>B5</td><td>Verified</td><td>303921.0</td><td>Individual</td><td>null</td><td>null</td></tr>\n",
       "<tr><td>8f8faa7eeb2a1ee41...</td><td>Merchandiser</td><td>6 years</td><td>RENT</td><td>22000.0</td><td>NY</td><td>145xx</td><td>USA</td><td>D</td><td>D1</td><td>Source Verified</td><td>17650.0</td><td>Individual</td><td>null</td><td>null</td></tr>\n",
       "<tr><td>dad3f5ea8788186cb...</td><td>executive assistant</td><td>1 year</td><td>RENT</td><td>41000.0</td><td>WA</td><td>981xx</td><td>USA</td><td>C</td><td>C5</td><td>Verified</td><td>29975.0</td><td>Individual</td><td>null</td><td>null</td></tr>\n",
       "<tr><td>a20867c0985126202...</td><td>Industrial Tech</td><td>10+ years</td><td>MORTGAGE</td><td>75000.0</td><td>KS</td><td>676xx</td><td>USA</td><td>B</td><td>B4</td><td>Not Verified</td><td>68593.0</td><td>Individual</td><td>null</td><td>null</td></tr>\n",
       "<tr><td>b62a92faa291b619c...</td><td>Mortgage banker</td><td>3 years</td><td>MORTGAGE</td><td>141000.0</td><td>TX</td><td>773xx</td><td>USA</td><td>C</td><td>C4</td><td>Verified</td><td>286555.0</td><td>Individual</td><td>null</td><td>null</td></tr>\n",
       "<tr><td>9468bb9f4c7e39e72...</td><td>Process Engineer</td><td>10+ years</td><td>MORTGAGE</td><td>90000.0</td><td>IN</td><td>461xx</td><td>USA</td><td>B</td><td>B1</td><td>Not Verified</td><td>272537.0</td><td>Individual</td><td>null</td><td>null</td></tr>\n",
       "<tr><td>56a52156bd14bef8b...</td><td>null</td><td>null</td><td>OWN</td><td>39000.0</td><td>FL</td><td>334xx</td><td>USA</td><td>B</td><td>B4</td><td>Verified</td><td>71821.0</td><td>Individual</td><td>null</td><td>null</td></tr>\n",
       "<tr><td>9b2294c29096348d5...</td><td>Deputy</td><td>10+ years</td><td>MORTGAGE</td><td>78428.0</td><td>IL</td><td>605xx</td><td>USA</td><td>B</td><td>B3</td><td>Source Verified</td><td>261468.0</td><td>Individual</td><td>null</td><td>null</td></tr>\n",
       "<tr><td>b9c65cbaf8241cbe8...</td><td>null</td><td>null</td><td>OWN</td><td>55600.0</td><td>IN</td><td>462xx</td><td>USA</td><td>B</td><td>B4</td><td>Verified</td><td>74000.0</td><td>Individual</td><td>null</td><td>null</td></tr>\n",
       "<tr><td>a14a75a803373848c...</td><td>Material Handler</td><td>10+ years</td><td>MORTGAGE</td><td>35000.0</td><td>FL</td><td>328xx</td><td>USA</td><td>B</td><td>B4</td><td>Verified</td><td>111689.0</td><td>Individual</td><td>null</td><td>null</td></tr>\n",
       "<tr><td>c1573ce869bafcbe9...</td><td>lead floor tech</td><td>&lt; 1 year</td><td>MORTGAGE</td><td>37800.0</td><td>NC</td><td>282xx</td><td>USA</td><td>B</td><td>B4</td><td>Source Verified</td><td>152312.0</td><td>Individual</td><td>null</td><td>null</td></tr>\n",
       "<tr><td>7a748acb9cb11d073...</td><td>Pharmacy Tech</td><td>4 years</td><td>RENT</td><td>50000.0</td><td>OH</td><td>452xx</td><td>USA</td><td>B</td><td>B2</td><td>Not Verified</td><td>78593.0</td><td>Individual</td><td>null</td><td>null</td></tr>\n",
       "<tr><td>38edbe648d5b71710...</td><td>Carpenter</td><td>2 years</td><td>RENT</td><td>47840.0</td><td>MA</td><td>019xx</td><td>USA</td><td>C</td><td>C1</td><td>Verified</td><td>23705.0</td><td>Individual</td><td>null</td><td>null</td></tr>\n",
       "<tr><td>dc68448ffbc44bb2b...</td><td>null</td><td>null</td><td>MORTGAGE</td><td>32000.0</td><td>MN</td><td>557xx</td><td>USA</td><td>B</td><td>B4</td><td>Source Verified</td><td>149059.0</td><td>Individual</td><td>null</td><td>null</td></tr>\n",
       "</table>\n",
       "only showing top 20 rows\n"
      ],
      "text/plain": [
       "+--------------------+-------------------+----------+--------------+----------+----------+--------+-------+-----+---------+-------------------+---------------+----------------+----------------+-------------------------+\n",
       "|           member_id|          emp_title|emp_length|home_ownership|annual_inc|addr_state|zip_code|country|grade|sub_grade|verification_status|tot_hi_cred_lim|application_type|annual_inc_joint|verification_status_joint|\n",
       "+--------------------+-------------------+----------+--------------+----------+----------+--------+-------+-----+---------+-------------------+---------------+----------------+----------------+-------------------------+\n",
       "|d86a1c7244ace602c...|              Admin|   3 years|          RENT|   31000.0|        OR|   970xx|    USA|    B|       B3|    Source Verified|        49481.0|      Individual|            null|                     null|\n",
       "|25b8cd9ff47e50eea...|            Teacher| 10+ years|      MORTGAGE|   55983.0|        TX|   780xx|    USA|    C|       C2|    Source Verified|       210551.0|      Individual|            null|                     null|\n",
       "|f9773942305b2dc9c...|    Behavioral Asst| 10+ years|      MORTGAGE|   40000.0|        VA|   201xx|    USA|    F|       F1|    Source Verified|       272608.0|      Individual|            null|                     null|\n",
       "|b22f99c198f3738a7...|              owner|  < 1 year|          RENT|   20000.0|        NC|   274xx|    USA|    C|       C3|    Source Verified|        58521.0|      Individual|            null|                     null|\n",
       "|4b3b7068c15b0e046...|         Supervisor|  < 1 year|          RENT|   45000.0|        NY|   117xx|    USA|    C|       C5|    Source Verified|        25500.0|      Individual|            null|                     null|\n",
       "|0c7a9f8a6d5b209d2...|       case manager|    1 year|          RENT|   35000.0|        NV|   891xx|    USA|    B|       B1|           Verified|        37588.0|      Individual|            null|                     null|\n",
       "|f1cc7e6ae9c735148...|               null|      null|      MORTGAGE|   90000.0|        AZ|   851xx|    USA|    B|       B5|           Verified|       303921.0|      Individual|            null|                     null|\n",
       "|8f8faa7eeb2a1ee41...|       Merchandiser|   6 years|          RENT|   22000.0|        NY|   145xx|    USA|    D|       D1|    Source Verified|        17650.0|      Individual|            null|                     null|\n",
       "|dad3f5ea8788186cb...|executive assistant|    1 year|          RENT|   41000.0|        WA|   981xx|    USA|    C|       C5|           Verified|        29975.0|      Individual|            null|                     null|\n",
       "|a20867c0985126202...|    Industrial Tech| 10+ years|      MORTGAGE|   75000.0|        KS|   676xx|    USA|    B|       B4|       Not Verified|        68593.0|      Individual|            null|                     null|\n",
       "|b62a92faa291b619c...|    Mortgage banker|   3 years|      MORTGAGE|  141000.0|        TX|   773xx|    USA|    C|       C4|           Verified|       286555.0|      Individual|            null|                     null|\n",
       "|9468bb9f4c7e39e72...|   Process Engineer| 10+ years|      MORTGAGE|   90000.0|        IN|   461xx|    USA|    B|       B1|       Not Verified|       272537.0|      Individual|            null|                     null|\n",
       "|56a52156bd14bef8b...|               null|      null|           OWN|   39000.0|        FL|   334xx|    USA|    B|       B4|           Verified|        71821.0|      Individual|            null|                     null|\n",
       "|9b2294c29096348d5...|             Deputy| 10+ years|      MORTGAGE|   78428.0|        IL|   605xx|    USA|    B|       B3|    Source Verified|       261468.0|      Individual|            null|                     null|\n",
       "|b9c65cbaf8241cbe8...|               null|      null|           OWN|   55600.0|        IN|   462xx|    USA|    B|       B4|           Verified|        74000.0|      Individual|            null|                     null|\n",
       "|a14a75a803373848c...|   Material Handler| 10+ years|      MORTGAGE|   35000.0|        FL|   328xx|    USA|    B|       B4|           Verified|       111689.0|      Individual|            null|                     null|\n",
       "|c1573ce869bafcbe9...|    lead floor tech|  < 1 year|      MORTGAGE|   37800.0|        NC|   282xx|    USA|    B|       B4|    Source Verified|       152312.0|      Individual|            null|                     null|\n",
       "|7a748acb9cb11d073...|      Pharmacy Tech|   4 years|          RENT|   50000.0|        OH|   452xx|    USA|    B|       B2|       Not Verified|        78593.0|      Individual|            null|                     null|\n",
       "|38edbe648d5b71710...|          Carpenter|   2 years|          RENT|   47840.0|        MA|   019xx|    USA|    C|       C1|           Verified|        23705.0|      Individual|            null|                     null|\n",
       "|dc68448ffbc44bb2b...|               null|      null|      MORTGAGE|   32000.0|        MN|   557xx|    USA|    B|       B4|    Source Verified|       149059.0|      Individual|            null|                     null|\n",
       "+--------------------+-------------------+----------+--------------+----------+----------+--------+-------+-----+---------+-------------------+---------------+----------------+----------------+-------------------------+\n",
       "only showing top 20 rows"
      ]
     },
     "execution_count": 5,
     "metadata": {},
     "output_type": "execute_result"
    }
   ],
   "source": [
    "customers_raw_df"
   ]
  },
  {
   "cell_type": "code",
   "execution_count": 6,
   "id": "49a1331c",
   "metadata": {},
   "outputs": [
    {
     "name": "stdout",
     "output_type": "stream",
     "text": [
      "root\n",
      " |-- member_id: string (nullable = true)\n",
      " |-- emp_title: string (nullable = true)\n",
      " |-- emp_length: string (nullable = true)\n",
      " |-- home_ownership: string (nullable = true)\n",
      " |-- annual_inc: float (nullable = true)\n",
      " |-- addr_state: string (nullable = true)\n",
      " |-- zip_code: string (nullable = true)\n",
      " |-- country: string (nullable = true)\n",
      " |-- grade: string (nullable = true)\n",
      " |-- sub_grade: string (nullable = true)\n",
      " |-- verification_status: string (nullable = true)\n",
      " |-- tot_hi_cred_lim: float (nullable = true)\n",
      " |-- application_type: string (nullable = true)\n",
      " |-- annual_inc_joint: float (nullable = true)\n",
      " |-- verification_status_joint: string (nullable = true)\n",
      "\n"
     ]
    }
   ],
   "source": [
    "customers_raw_df.printSchema()"
   ]
  },
  {
   "cell_type": "code",
   "execution_count": 7,
   "id": "c2061870",
   "metadata": {},
   "outputs": [],
   "source": [
    "customer_df_renamed = customers_raw_df.withColumnRenamed(\"annual_inc\",\"annual_income\") \\\n",
    ".withColumnRenamed(\"addr_state\",\"address_state\") \\\n",
    ".withColumnRenamed(\"zip_code\",\"address_zipCode\") \\\n",
    ".withColumnRenamed(\"country\",\"address_country\") \\\n",
    ".withColumnRenamed(\"tot_hi_cred_lim\",\"total_high_credit_limit\") \\\n",
    ".withColumnRenamed(\"annual_inc_join\",\"joint_annual_income\")"
   ]
  },
  {
   "cell_type": "code",
   "execution_count": 8,
   "id": "415933d4",
   "metadata": {},
   "outputs": [
    {
     "data": {
      "text/html": [
       "<table border='1'>\n",
       "<tr><th>member_id</th><th>emp_title</th><th>emp_length</th><th>home_ownership</th><th>annual_income</th><th>address_state</th><th>address_zipCode</th><th>address_country</th><th>grade</th><th>sub_grade</th><th>verification_status</th><th>total_high_credit_limit</th><th>application_type</th><th>annual_inc_joint</th><th>verification_status_joint</th></tr>\n",
       "<tr><td>d86a1c7244ace602c...</td><td>Admin</td><td>3 years</td><td>RENT</td><td>31000.0</td><td>OR</td><td>970xx</td><td>USA</td><td>B</td><td>B3</td><td>Source Verified</td><td>49481.0</td><td>Individual</td><td>null</td><td>null</td></tr>\n",
       "<tr><td>25b8cd9ff47e50eea...</td><td>Teacher</td><td>10+ years</td><td>MORTGAGE</td><td>55983.0</td><td>TX</td><td>780xx</td><td>USA</td><td>C</td><td>C2</td><td>Source Verified</td><td>210551.0</td><td>Individual</td><td>null</td><td>null</td></tr>\n",
       "<tr><td>f9773942305b2dc9c...</td><td>Behavioral Asst</td><td>10+ years</td><td>MORTGAGE</td><td>40000.0</td><td>VA</td><td>201xx</td><td>USA</td><td>F</td><td>F1</td><td>Source Verified</td><td>272608.0</td><td>Individual</td><td>null</td><td>null</td></tr>\n",
       "<tr><td>b22f99c198f3738a7...</td><td>owner</td><td>&lt; 1 year</td><td>RENT</td><td>20000.0</td><td>NC</td><td>274xx</td><td>USA</td><td>C</td><td>C3</td><td>Source Verified</td><td>58521.0</td><td>Individual</td><td>null</td><td>null</td></tr>\n",
       "<tr><td>4b3b7068c15b0e046...</td><td>Supervisor</td><td>&lt; 1 year</td><td>RENT</td><td>45000.0</td><td>NY</td><td>117xx</td><td>USA</td><td>C</td><td>C5</td><td>Source Verified</td><td>25500.0</td><td>Individual</td><td>null</td><td>null</td></tr>\n",
       "<tr><td>0c7a9f8a6d5b209d2...</td><td>case manager</td><td>1 year</td><td>RENT</td><td>35000.0</td><td>NV</td><td>891xx</td><td>USA</td><td>B</td><td>B1</td><td>Verified</td><td>37588.0</td><td>Individual</td><td>null</td><td>null</td></tr>\n",
       "<tr><td>f1cc7e6ae9c735148...</td><td>null</td><td>null</td><td>MORTGAGE</td><td>90000.0</td><td>AZ</td><td>851xx</td><td>USA</td><td>B</td><td>B5</td><td>Verified</td><td>303921.0</td><td>Individual</td><td>null</td><td>null</td></tr>\n",
       "<tr><td>8f8faa7eeb2a1ee41...</td><td>Merchandiser</td><td>6 years</td><td>RENT</td><td>22000.0</td><td>NY</td><td>145xx</td><td>USA</td><td>D</td><td>D1</td><td>Source Verified</td><td>17650.0</td><td>Individual</td><td>null</td><td>null</td></tr>\n",
       "<tr><td>dad3f5ea8788186cb...</td><td>executive assistant</td><td>1 year</td><td>RENT</td><td>41000.0</td><td>WA</td><td>981xx</td><td>USA</td><td>C</td><td>C5</td><td>Verified</td><td>29975.0</td><td>Individual</td><td>null</td><td>null</td></tr>\n",
       "<tr><td>a20867c0985126202...</td><td>Industrial Tech</td><td>10+ years</td><td>MORTGAGE</td><td>75000.0</td><td>KS</td><td>676xx</td><td>USA</td><td>B</td><td>B4</td><td>Not Verified</td><td>68593.0</td><td>Individual</td><td>null</td><td>null</td></tr>\n",
       "<tr><td>b62a92faa291b619c...</td><td>Mortgage banker</td><td>3 years</td><td>MORTGAGE</td><td>141000.0</td><td>TX</td><td>773xx</td><td>USA</td><td>C</td><td>C4</td><td>Verified</td><td>286555.0</td><td>Individual</td><td>null</td><td>null</td></tr>\n",
       "<tr><td>9468bb9f4c7e39e72...</td><td>Process Engineer</td><td>10+ years</td><td>MORTGAGE</td><td>90000.0</td><td>IN</td><td>461xx</td><td>USA</td><td>B</td><td>B1</td><td>Not Verified</td><td>272537.0</td><td>Individual</td><td>null</td><td>null</td></tr>\n",
       "<tr><td>56a52156bd14bef8b...</td><td>null</td><td>null</td><td>OWN</td><td>39000.0</td><td>FL</td><td>334xx</td><td>USA</td><td>B</td><td>B4</td><td>Verified</td><td>71821.0</td><td>Individual</td><td>null</td><td>null</td></tr>\n",
       "<tr><td>9b2294c29096348d5...</td><td>Deputy</td><td>10+ years</td><td>MORTGAGE</td><td>78428.0</td><td>IL</td><td>605xx</td><td>USA</td><td>B</td><td>B3</td><td>Source Verified</td><td>261468.0</td><td>Individual</td><td>null</td><td>null</td></tr>\n",
       "<tr><td>b9c65cbaf8241cbe8...</td><td>null</td><td>null</td><td>OWN</td><td>55600.0</td><td>IN</td><td>462xx</td><td>USA</td><td>B</td><td>B4</td><td>Verified</td><td>74000.0</td><td>Individual</td><td>null</td><td>null</td></tr>\n",
       "<tr><td>a14a75a803373848c...</td><td>Material Handler</td><td>10+ years</td><td>MORTGAGE</td><td>35000.0</td><td>FL</td><td>328xx</td><td>USA</td><td>B</td><td>B4</td><td>Verified</td><td>111689.0</td><td>Individual</td><td>null</td><td>null</td></tr>\n",
       "<tr><td>c1573ce869bafcbe9...</td><td>lead floor tech</td><td>&lt; 1 year</td><td>MORTGAGE</td><td>37800.0</td><td>NC</td><td>282xx</td><td>USA</td><td>B</td><td>B4</td><td>Source Verified</td><td>152312.0</td><td>Individual</td><td>null</td><td>null</td></tr>\n",
       "<tr><td>7a748acb9cb11d073...</td><td>Pharmacy Tech</td><td>4 years</td><td>RENT</td><td>50000.0</td><td>OH</td><td>452xx</td><td>USA</td><td>B</td><td>B2</td><td>Not Verified</td><td>78593.0</td><td>Individual</td><td>null</td><td>null</td></tr>\n",
       "<tr><td>38edbe648d5b71710...</td><td>Carpenter</td><td>2 years</td><td>RENT</td><td>47840.0</td><td>MA</td><td>019xx</td><td>USA</td><td>C</td><td>C1</td><td>Verified</td><td>23705.0</td><td>Individual</td><td>null</td><td>null</td></tr>\n",
       "<tr><td>dc68448ffbc44bb2b...</td><td>null</td><td>null</td><td>MORTGAGE</td><td>32000.0</td><td>MN</td><td>557xx</td><td>USA</td><td>B</td><td>B4</td><td>Source Verified</td><td>149059.0</td><td>Individual</td><td>null</td><td>null</td></tr>\n",
       "</table>\n",
       "only showing top 20 rows\n"
      ],
      "text/plain": [
       "+--------------------+-------------------+----------+--------------+-------------+-------------+---------------+---------------+-----+---------+-------------------+-----------------------+----------------+----------------+-------------------------+\n",
       "|           member_id|          emp_title|emp_length|home_ownership|annual_income|address_state|address_zipCode|address_country|grade|sub_grade|verification_status|total_high_credit_limit|application_type|annual_inc_joint|verification_status_joint|\n",
       "+--------------------+-------------------+----------+--------------+-------------+-------------+---------------+---------------+-----+---------+-------------------+-----------------------+----------------+----------------+-------------------------+\n",
       "|d86a1c7244ace602c...|              Admin|   3 years|          RENT|      31000.0|           OR|          970xx|            USA|    B|       B3|    Source Verified|                49481.0|      Individual|            null|                     null|\n",
       "|25b8cd9ff47e50eea...|            Teacher| 10+ years|      MORTGAGE|      55983.0|           TX|          780xx|            USA|    C|       C2|    Source Verified|               210551.0|      Individual|            null|                     null|\n",
       "|f9773942305b2dc9c...|    Behavioral Asst| 10+ years|      MORTGAGE|      40000.0|           VA|          201xx|            USA|    F|       F1|    Source Verified|               272608.0|      Individual|            null|                     null|\n",
       "|b22f99c198f3738a7...|              owner|  < 1 year|          RENT|      20000.0|           NC|          274xx|            USA|    C|       C3|    Source Verified|                58521.0|      Individual|            null|                     null|\n",
       "|4b3b7068c15b0e046...|         Supervisor|  < 1 year|          RENT|      45000.0|           NY|          117xx|            USA|    C|       C5|    Source Verified|                25500.0|      Individual|            null|                     null|\n",
       "|0c7a9f8a6d5b209d2...|       case manager|    1 year|          RENT|      35000.0|           NV|          891xx|            USA|    B|       B1|           Verified|                37588.0|      Individual|            null|                     null|\n",
       "|f1cc7e6ae9c735148...|               null|      null|      MORTGAGE|      90000.0|           AZ|          851xx|            USA|    B|       B5|           Verified|               303921.0|      Individual|            null|                     null|\n",
       "|8f8faa7eeb2a1ee41...|       Merchandiser|   6 years|          RENT|      22000.0|           NY|          145xx|            USA|    D|       D1|    Source Verified|                17650.0|      Individual|            null|                     null|\n",
       "|dad3f5ea8788186cb...|executive assistant|    1 year|          RENT|      41000.0|           WA|          981xx|            USA|    C|       C5|           Verified|                29975.0|      Individual|            null|                     null|\n",
       "|a20867c0985126202...|    Industrial Tech| 10+ years|      MORTGAGE|      75000.0|           KS|          676xx|            USA|    B|       B4|       Not Verified|                68593.0|      Individual|            null|                     null|\n",
       "|b62a92faa291b619c...|    Mortgage banker|   3 years|      MORTGAGE|     141000.0|           TX|          773xx|            USA|    C|       C4|           Verified|               286555.0|      Individual|            null|                     null|\n",
       "|9468bb9f4c7e39e72...|   Process Engineer| 10+ years|      MORTGAGE|      90000.0|           IN|          461xx|            USA|    B|       B1|       Not Verified|               272537.0|      Individual|            null|                     null|\n",
       "|56a52156bd14bef8b...|               null|      null|           OWN|      39000.0|           FL|          334xx|            USA|    B|       B4|           Verified|                71821.0|      Individual|            null|                     null|\n",
       "|9b2294c29096348d5...|             Deputy| 10+ years|      MORTGAGE|      78428.0|           IL|          605xx|            USA|    B|       B3|    Source Verified|               261468.0|      Individual|            null|                     null|\n",
       "|b9c65cbaf8241cbe8...|               null|      null|           OWN|      55600.0|           IN|          462xx|            USA|    B|       B4|           Verified|                74000.0|      Individual|            null|                     null|\n",
       "|a14a75a803373848c...|   Material Handler| 10+ years|      MORTGAGE|      35000.0|           FL|          328xx|            USA|    B|       B4|           Verified|               111689.0|      Individual|            null|                     null|\n",
       "|c1573ce869bafcbe9...|    lead floor tech|  < 1 year|      MORTGAGE|      37800.0|           NC|          282xx|            USA|    B|       B4|    Source Verified|               152312.0|      Individual|            null|                     null|\n",
       "|7a748acb9cb11d073...|      Pharmacy Tech|   4 years|          RENT|      50000.0|           OH|          452xx|            USA|    B|       B2|       Not Verified|                78593.0|      Individual|            null|                     null|\n",
       "|38edbe648d5b71710...|          Carpenter|   2 years|          RENT|      47840.0|           MA|          019xx|            USA|    C|       C1|           Verified|                23705.0|      Individual|            null|                     null|\n",
       "|dc68448ffbc44bb2b...|               null|      null|      MORTGAGE|      32000.0|           MN|          557xx|            USA|    B|       B4|    Source Verified|               149059.0|      Individual|            null|                     null|\n",
       "+--------------------+-------------------+----------+--------------+-------------+-------------+---------------+---------------+-----+---------+-------------------+-----------------------+----------------+----------------+-------------------------+\n",
       "only showing top 20 rows"
      ]
     },
     "execution_count": 8,
     "metadata": {},
     "output_type": "execute_result"
    }
   ],
   "source": [
    "customer_df_renamed"
   ]
  },
  {
   "cell_type": "code",
   "execution_count": 9,
   "id": "18924f5b",
   "metadata": {},
   "outputs": [],
   "source": [
    "from pyspark.sql.functions import current_timestamp"
   ]
  },
  {
   "cell_type": "code",
   "execution_count": 10,
   "id": "33a3ae89",
   "metadata": {},
   "outputs": [],
   "source": [
    "customer_df_ingestd=customer_df_renamed.withColumn(\"ingest_date\",current_timestamp())"
   ]
  },
  {
   "cell_type": "code",
   "execution_count": 11,
   "id": "e148ffb8",
   "metadata": {},
   "outputs": [
    {
     "data": {
      "text/html": [
       "<table border='1'>\n",
       "<tr><th>member_id</th><th>emp_title</th><th>emp_length</th><th>home_ownership</th><th>annual_income</th><th>address_state</th><th>address_zipCode</th><th>address_country</th><th>grade</th><th>sub_grade</th><th>verification_status</th><th>total_high_credit_limit</th><th>application_type</th><th>annual_inc_joint</th><th>verification_status_joint</th><th>ingest_date</th></tr>\n",
       "<tr><td>d86a1c7244ace602c...</td><td>Admin</td><td>3 years</td><td>RENT</td><td>31000.0</td><td>OR</td><td>970xx</td><td>USA</td><td>B</td><td>B3</td><td>Source Verified</td><td>49481.0</td><td>Individual</td><td>null</td><td>null</td><td>2025-03-18 16:39:...</td></tr>\n",
       "<tr><td>25b8cd9ff47e50eea...</td><td>Teacher</td><td>10+ years</td><td>MORTGAGE</td><td>55983.0</td><td>TX</td><td>780xx</td><td>USA</td><td>C</td><td>C2</td><td>Source Verified</td><td>210551.0</td><td>Individual</td><td>null</td><td>null</td><td>2025-03-18 16:39:...</td></tr>\n",
       "<tr><td>f9773942305b2dc9c...</td><td>Behavioral Asst</td><td>10+ years</td><td>MORTGAGE</td><td>40000.0</td><td>VA</td><td>201xx</td><td>USA</td><td>F</td><td>F1</td><td>Source Verified</td><td>272608.0</td><td>Individual</td><td>null</td><td>null</td><td>2025-03-18 16:39:...</td></tr>\n",
       "<tr><td>b22f99c198f3738a7...</td><td>owner</td><td>&lt; 1 year</td><td>RENT</td><td>20000.0</td><td>NC</td><td>274xx</td><td>USA</td><td>C</td><td>C3</td><td>Source Verified</td><td>58521.0</td><td>Individual</td><td>null</td><td>null</td><td>2025-03-18 16:39:...</td></tr>\n",
       "<tr><td>4b3b7068c15b0e046...</td><td>Supervisor</td><td>&lt; 1 year</td><td>RENT</td><td>45000.0</td><td>NY</td><td>117xx</td><td>USA</td><td>C</td><td>C5</td><td>Source Verified</td><td>25500.0</td><td>Individual</td><td>null</td><td>null</td><td>2025-03-18 16:39:...</td></tr>\n",
       "<tr><td>0c7a9f8a6d5b209d2...</td><td>case manager</td><td>1 year</td><td>RENT</td><td>35000.0</td><td>NV</td><td>891xx</td><td>USA</td><td>B</td><td>B1</td><td>Verified</td><td>37588.0</td><td>Individual</td><td>null</td><td>null</td><td>2025-03-18 16:39:...</td></tr>\n",
       "<tr><td>f1cc7e6ae9c735148...</td><td>null</td><td>null</td><td>MORTGAGE</td><td>90000.0</td><td>AZ</td><td>851xx</td><td>USA</td><td>B</td><td>B5</td><td>Verified</td><td>303921.0</td><td>Individual</td><td>null</td><td>null</td><td>2025-03-18 16:39:...</td></tr>\n",
       "<tr><td>8f8faa7eeb2a1ee41...</td><td>Merchandiser</td><td>6 years</td><td>RENT</td><td>22000.0</td><td>NY</td><td>145xx</td><td>USA</td><td>D</td><td>D1</td><td>Source Verified</td><td>17650.0</td><td>Individual</td><td>null</td><td>null</td><td>2025-03-18 16:39:...</td></tr>\n",
       "<tr><td>dad3f5ea8788186cb...</td><td>executive assistant</td><td>1 year</td><td>RENT</td><td>41000.0</td><td>WA</td><td>981xx</td><td>USA</td><td>C</td><td>C5</td><td>Verified</td><td>29975.0</td><td>Individual</td><td>null</td><td>null</td><td>2025-03-18 16:39:...</td></tr>\n",
       "<tr><td>a20867c0985126202...</td><td>Industrial Tech</td><td>10+ years</td><td>MORTGAGE</td><td>75000.0</td><td>KS</td><td>676xx</td><td>USA</td><td>B</td><td>B4</td><td>Not Verified</td><td>68593.0</td><td>Individual</td><td>null</td><td>null</td><td>2025-03-18 16:39:...</td></tr>\n",
       "<tr><td>b62a92faa291b619c...</td><td>Mortgage banker</td><td>3 years</td><td>MORTGAGE</td><td>141000.0</td><td>TX</td><td>773xx</td><td>USA</td><td>C</td><td>C4</td><td>Verified</td><td>286555.0</td><td>Individual</td><td>null</td><td>null</td><td>2025-03-18 16:39:...</td></tr>\n",
       "<tr><td>9468bb9f4c7e39e72...</td><td>Process Engineer</td><td>10+ years</td><td>MORTGAGE</td><td>90000.0</td><td>IN</td><td>461xx</td><td>USA</td><td>B</td><td>B1</td><td>Not Verified</td><td>272537.0</td><td>Individual</td><td>null</td><td>null</td><td>2025-03-18 16:39:...</td></tr>\n",
       "<tr><td>56a52156bd14bef8b...</td><td>null</td><td>null</td><td>OWN</td><td>39000.0</td><td>FL</td><td>334xx</td><td>USA</td><td>B</td><td>B4</td><td>Verified</td><td>71821.0</td><td>Individual</td><td>null</td><td>null</td><td>2025-03-18 16:39:...</td></tr>\n",
       "<tr><td>9b2294c29096348d5...</td><td>Deputy</td><td>10+ years</td><td>MORTGAGE</td><td>78428.0</td><td>IL</td><td>605xx</td><td>USA</td><td>B</td><td>B3</td><td>Source Verified</td><td>261468.0</td><td>Individual</td><td>null</td><td>null</td><td>2025-03-18 16:39:...</td></tr>\n",
       "<tr><td>b9c65cbaf8241cbe8...</td><td>null</td><td>null</td><td>OWN</td><td>55600.0</td><td>IN</td><td>462xx</td><td>USA</td><td>B</td><td>B4</td><td>Verified</td><td>74000.0</td><td>Individual</td><td>null</td><td>null</td><td>2025-03-18 16:39:...</td></tr>\n",
       "<tr><td>a14a75a803373848c...</td><td>Material Handler</td><td>10+ years</td><td>MORTGAGE</td><td>35000.0</td><td>FL</td><td>328xx</td><td>USA</td><td>B</td><td>B4</td><td>Verified</td><td>111689.0</td><td>Individual</td><td>null</td><td>null</td><td>2025-03-18 16:39:...</td></tr>\n",
       "<tr><td>c1573ce869bafcbe9...</td><td>lead floor tech</td><td>&lt; 1 year</td><td>MORTGAGE</td><td>37800.0</td><td>NC</td><td>282xx</td><td>USA</td><td>B</td><td>B4</td><td>Source Verified</td><td>152312.0</td><td>Individual</td><td>null</td><td>null</td><td>2025-03-18 16:39:...</td></tr>\n",
       "<tr><td>7a748acb9cb11d073...</td><td>Pharmacy Tech</td><td>4 years</td><td>RENT</td><td>50000.0</td><td>OH</td><td>452xx</td><td>USA</td><td>B</td><td>B2</td><td>Not Verified</td><td>78593.0</td><td>Individual</td><td>null</td><td>null</td><td>2025-03-18 16:39:...</td></tr>\n",
       "<tr><td>38edbe648d5b71710...</td><td>Carpenter</td><td>2 years</td><td>RENT</td><td>47840.0</td><td>MA</td><td>019xx</td><td>USA</td><td>C</td><td>C1</td><td>Verified</td><td>23705.0</td><td>Individual</td><td>null</td><td>null</td><td>2025-03-18 16:39:...</td></tr>\n",
       "<tr><td>dc68448ffbc44bb2b...</td><td>null</td><td>null</td><td>MORTGAGE</td><td>32000.0</td><td>MN</td><td>557xx</td><td>USA</td><td>B</td><td>B4</td><td>Source Verified</td><td>149059.0</td><td>Individual</td><td>null</td><td>null</td><td>2025-03-18 16:39:...</td></tr>\n",
       "</table>\n",
       "only showing top 20 rows\n"
      ],
      "text/plain": [
       "+--------------------+-------------------+----------+--------------+-------------+-------------+---------------+---------------+-----+---------+-------------------+-----------------------+----------------+----------------+-------------------------+--------------------+\n",
       "|           member_id|          emp_title|emp_length|home_ownership|annual_income|address_state|address_zipCode|address_country|grade|sub_grade|verification_status|total_high_credit_limit|application_type|annual_inc_joint|verification_status_joint|         ingest_date|\n",
       "+--------------------+-------------------+----------+--------------+-------------+-------------+---------------+---------------+-----+---------+-------------------+-----------------------+----------------+----------------+-------------------------+--------------------+\n",
       "|d86a1c7244ace602c...|              Admin|   3 years|          RENT|      31000.0|           OR|          970xx|            USA|    B|       B3|    Source Verified|                49481.0|      Individual|            null|                     null|2025-03-18 16:39:...|\n",
       "|25b8cd9ff47e50eea...|            Teacher| 10+ years|      MORTGAGE|      55983.0|           TX|          780xx|            USA|    C|       C2|    Source Verified|               210551.0|      Individual|            null|                     null|2025-03-18 16:39:...|\n",
       "|f9773942305b2dc9c...|    Behavioral Asst| 10+ years|      MORTGAGE|      40000.0|           VA|          201xx|            USA|    F|       F1|    Source Verified|               272608.0|      Individual|            null|                     null|2025-03-18 16:39:...|\n",
       "|b22f99c198f3738a7...|              owner|  < 1 year|          RENT|      20000.0|           NC|          274xx|            USA|    C|       C3|    Source Verified|                58521.0|      Individual|            null|                     null|2025-03-18 16:39:...|\n",
       "|4b3b7068c15b0e046...|         Supervisor|  < 1 year|          RENT|      45000.0|           NY|          117xx|            USA|    C|       C5|    Source Verified|                25500.0|      Individual|            null|                     null|2025-03-18 16:39:...|\n",
       "|0c7a9f8a6d5b209d2...|       case manager|    1 year|          RENT|      35000.0|           NV|          891xx|            USA|    B|       B1|           Verified|                37588.0|      Individual|            null|                     null|2025-03-18 16:39:...|\n",
       "|f1cc7e6ae9c735148...|               null|      null|      MORTGAGE|      90000.0|           AZ|          851xx|            USA|    B|       B5|           Verified|               303921.0|      Individual|            null|                     null|2025-03-18 16:39:...|\n",
       "|8f8faa7eeb2a1ee41...|       Merchandiser|   6 years|          RENT|      22000.0|           NY|          145xx|            USA|    D|       D1|    Source Verified|                17650.0|      Individual|            null|                     null|2025-03-18 16:39:...|\n",
       "|dad3f5ea8788186cb...|executive assistant|    1 year|          RENT|      41000.0|           WA|          981xx|            USA|    C|       C5|           Verified|                29975.0|      Individual|            null|                     null|2025-03-18 16:39:...|\n",
       "|a20867c0985126202...|    Industrial Tech| 10+ years|      MORTGAGE|      75000.0|           KS|          676xx|            USA|    B|       B4|       Not Verified|                68593.0|      Individual|            null|                     null|2025-03-18 16:39:...|\n",
       "|b62a92faa291b619c...|    Mortgage banker|   3 years|      MORTGAGE|     141000.0|           TX|          773xx|            USA|    C|       C4|           Verified|               286555.0|      Individual|            null|                     null|2025-03-18 16:39:...|\n",
       "|9468bb9f4c7e39e72...|   Process Engineer| 10+ years|      MORTGAGE|      90000.0|           IN|          461xx|            USA|    B|       B1|       Not Verified|               272537.0|      Individual|            null|                     null|2025-03-18 16:39:...|\n",
       "|56a52156bd14bef8b...|               null|      null|           OWN|      39000.0|           FL|          334xx|            USA|    B|       B4|           Verified|                71821.0|      Individual|            null|                     null|2025-03-18 16:39:...|\n",
       "|9b2294c29096348d5...|             Deputy| 10+ years|      MORTGAGE|      78428.0|           IL|          605xx|            USA|    B|       B3|    Source Verified|               261468.0|      Individual|            null|                     null|2025-03-18 16:39:...|\n",
       "|b9c65cbaf8241cbe8...|               null|      null|           OWN|      55600.0|           IN|          462xx|            USA|    B|       B4|           Verified|                74000.0|      Individual|            null|                     null|2025-03-18 16:39:...|\n",
       "|a14a75a803373848c...|   Material Handler| 10+ years|      MORTGAGE|      35000.0|           FL|          328xx|            USA|    B|       B4|           Verified|               111689.0|      Individual|            null|                     null|2025-03-18 16:39:...|\n",
       "|c1573ce869bafcbe9...|    lead floor tech|  < 1 year|      MORTGAGE|      37800.0|           NC|          282xx|            USA|    B|       B4|    Source Verified|               152312.0|      Individual|            null|                     null|2025-03-18 16:39:...|\n",
       "|7a748acb9cb11d073...|      Pharmacy Tech|   4 years|          RENT|      50000.0|           OH|          452xx|            USA|    B|       B2|       Not Verified|                78593.0|      Individual|            null|                     null|2025-03-18 16:39:...|\n",
       "|38edbe648d5b71710...|          Carpenter|   2 years|          RENT|      47840.0|           MA|          019xx|            USA|    C|       C1|           Verified|                23705.0|      Individual|            null|                     null|2025-03-18 16:39:...|\n",
       "|dc68448ffbc44bb2b...|               null|      null|      MORTGAGE|      32000.0|           MN|          557xx|            USA|    B|       B4|    Source Verified|               149059.0|      Individual|            null|                     null|2025-03-18 16:39:...|\n",
       "+--------------------+-------------------+----------+--------------+-------------+-------------+---------------+---------------+-----+---------+-------------------+-----------------------+----------------+----------------+-------------------------+--------------------+\n",
       "only showing top 20 rows"
      ]
     },
     "execution_count": 11,
     "metadata": {},
     "output_type": "execute_result"
    }
   ],
   "source": [
    "customer_df_ingestd"
   ]
  },
  {
   "cell_type": "code",
   "execution_count": 12,
   "id": "fda719ec",
   "metadata": {},
   "outputs": [
    {
     "data": {
      "text/plain": [
       "2260701"
      ]
     },
     "execution_count": 12,
     "metadata": {},
     "output_type": "execute_result"
    }
   ],
   "source": [
    "customer_df_ingestd.count()"
   ]
  },
  {
   "cell_type": "code",
   "execution_count": 13,
   "id": "8969160c",
   "metadata": {},
   "outputs": [],
   "source": [
    "customer_distinct = customer_df_ingestd.distinct()"
   ]
  },
  {
   "cell_type": "code",
   "execution_count": 14,
   "id": "1e1c7e4e",
   "metadata": {},
   "outputs": [
    {
     "data": {
      "text/plain": [
       "2260638"
      ]
     },
     "execution_count": 14,
     "metadata": {},
     "output_type": "execute_result"
    }
   ],
   "source": [
    "customer_distinct.count()"
   ]
  },
  {
   "cell_type": "code",
   "execution_count": 15,
   "id": "15a8b90c",
   "metadata": {},
   "outputs": [],
   "source": [
    "customer_distinct.createOrReplaceTempView(\"customers\")"
   ]
  },
  {
   "cell_type": "code",
   "execution_count": 16,
   "id": "70d5ac1e",
   "metadata": {},
   "outputs": [
    {
     "data": {
      "text/html": [
       "<table border='1'>\n",
       "<tr><th>member_id</th><th>emp_title</th><th>emp_length</th><th>home_ownership</th><th>annual_income</th><th>address_state</th><th>address_zipCode</th><th>address_country</th><th>grade</th><th>sub_grade</th><th>verification_status</th><th>total_high_credit_limit</th><th>application_type</th><th>annual_inc_joint</th><th>verification_status_joint</th><th>ingest_date</th></tr>\n",
       "<tr><td>6f41ba80743de831a...</td><td>Compliance Manager</td><td>4 years</td><td>RENT</td><td>105000.0</td><td>NY</td><td>103xx</td><td>USA</td><td>B</td><td>B5</td><td>Source Verified</td><td>76200.0</td><td>Individual</td><td>null</td><td>null</td><td>2025-03-18 16:39:...</td></tr>\n",
       "<tr><td>cb34ff22c771a490a...</td><td>Program Manager</td><td>10+ years</td><td>RENT</td><td>50000.0</td><td>CO</td><td>802xx</td><td>USA</td><td>B</td><td>B2</td><td>Verified</td><td>128949.0</td><td>Individual</td><td>null</td><td>null</td><td>2025-03-18 16:39:...</td></tr>\n",
       "<tr><td>f799ea321cb9c012a...</td><td>Production Manager</td><td>10+ years</td><td>MORTGAGE</td><td>117000.0</td><td>GA</td><td>300xx</td><td>USA</td><td>D</td><td>D2</td><td>Not Verified</td><td>363998.0</td><td>Individual</td><td>null</td><td>null</td><td>2025-03-18 16:39:...</td></tr>\n",
       "<tr><td>031159a48dc448521...</td><td>certified ophthal...</td><td>2 years</td><td>MORTGAGE</td><td>24600.0</td><td>FL</td><td>344xx</td><td>USA</td><td>C</td><td>C3</td><td>Source Verified</td><td>146050.0</td><td>Individual</td><td>null</td><td>null</td><td>2025-03-18 16:39:...</td></tr>\n",
       "<tr><td>7d5805c6cb069a2e7...</td><td>Optometrist</td><td>1 year</td><td>MORTGAGE</td><td>86000.0</td><td>MT</td><td>591xx</td><td>USA</td><td>D</td><td>D5</td><td>Verified</td><td>343671.0</td><td>Individual</td><td>null</td><td>null</td><td>2025-03-18 16:39:...</td></tr>\n",
       "<tr><td>568a2f661ddb0165e...</td><td>fuel truck driver</td><td>2 years</td><td>RENT</td><td>40000.0</td><td>OH</td><td>439xx</td><td>USA</td><td>B</td><td>B1</td><td>Verified</td><td>24632.0</td><td>Individual</td><td>null</td><td>null</td><td>2025-03-18 16:39:...</td></tr>\n",
       "<tr><td>3a23f414ce21d7e33...</td><td>daytime server</td><td>10+ years</td><td>MORTGAGE</td><td>40000.0</td><td>NY</td><td>144xx</td><td>USA</td><td>B</td><td>B3</td><td>Source Verified</td><td>55200.0</td><td>Individual</td><td>null</td><td>null</td><td>2025-03-18 16:39:...</td></tr>\n",
       "<tr><td>0cc3c0aef89cccc7e...</td><td>Cook</td><td>10+ years</td><td>RENT</td><td>27000.0</td><td>TN</td><td>380xx</td><td>USA</td><td>B</td><td>B4</td><td>Verified</td><td>32636.0</td><td>Individual</td><td>null</td><td>null</td><td>2025-03-18 16:39:...</td></tr>\n",
       "<tr><td>f2a3507d760ad9b0e...</td><td>Sales Manager</td><td>7 years</td><td>RENT</td><td>61992.0</td><td>UT</td><td>841xx</td><td>USA</td><td>B</td><td>B5</td><td>Not Verified</td><td>83870.0</td><td>Individual</td><td>null</td><td>null</td><td>2025-03-18 16:39:...</td></tr>\n",
       "<tr><td>866871c33c28b03f3...</td><td>supervisor</td><td>10+ years</td><td>MORTGAGE</td><td>55000.0</td><td>MA</td><td>027xx</td><td>USA</td><td>B</td><td>B3</td><td>Not Verified</td><td>328380.0</td><td>Individual</td><td>null</td><td>null</td><td>2025-03-18 16:39:...</td></tr>\n",
       "<tr><td>16d6b8a41e1c4125a...</td><td>Flight Attendant</td><td>10+ years</td><td>RENT</td><td>65000.0</td><td>FL</td><td>337xx</td><td>USA</td><td>F</td><td>F3</td><td>Verified</td><td>55077.0</td><td>Individual</td><td>null</td><td>null</td><td>2025-03-18 16:39:...</td></tr>\n",
       "<tr><td>d976dc94e09aa976a...</td><td>Manager</td><td>10+ years</td><td>RENT</td><td>34000.0</td><td>NC</td><td>281xx</td><td>USA</td><td>D</td><td>D4</td><td>Source Verified</td><td>36827.0</td><td>Individual</td><td>null</td><td>null</td><td>2025-03-18 16:39:...</td></tr>\n",
       "<tr><td>4e3b68f3f7fc69391...</td><td>Returns Manager</td><td>6 years</td><td>RENT</td><td>58000.0</td><td>AZ</td><td>852xx</td><td>USA</td><td>B</td><td>B5</td><td>Verified</td><td>34633.0</td><td>Individual</td><td>null</td><td>null</td><td>2025-03-18 16:39:...</td></tr>\n",
       "<tr><td>654ad0246cb6f5572...</td><td>Assistant Manger ...</td><td>&lt; 1 year</td><td>RENT</td><td>31000.0</td><td>OH</td><td>458xx</td><td>USA</td><td>C</td><td>C1</td><td>Source Verified</td><td>61100.0</td><td>Individual</td><td>null</td><td>null</td><td>2025-03-18 16:39:...</td></tr>\n",
       "<tr><td>8fd96a84f9f84127d...</td><td>Table Games Dealer</td><td>7 years</td><td>RENT</td><td>92000.0</td><td>NV</td><td>890xx</td><td>USA</td><td>E</td><td>E4</td><td>Not Verified</td><td>87426.0</td><td>Individual</td><td>null</td><td>null</td><td>2025-03-18 16:39:...</td></tr>\n",
       "<tr><td>52aa0e6423ffc3035...</td><td>Maintenance Leader</td><td>10+ years</td><td>MORTGAGE</td><td>108000.0</td><td>AZ</td><td>850xx</td><td>USA</td><td>B</td><td>B4</td><td>Verified</td><td>89380.0</td><td>Individual</td><td>null</td><td>null</td><td>2025-03-18 16:39:...</td></tr>\n",
       "<tr><td>c689e773d08571680...</td><td>Code Enforcement ...</td><td>10+ years</td><td>MORTGAGE</td><td>67000.0</td><td>NY</td><td>109xx</td><td>USA</td><td>B</td><td>B5</td><td>Source Verified</td><td>267752.0</td><td>Individual</td><td>null</td><td>null</td><td>2025-03-18 16:39:...</td></tr>\n",
       "<tr><td>c164816f18063b32f...</td><td>VP</td><td>10+ years</td><td>MORTGAGE</td><td>130000.0</td><td>KY</td><td>400xx</td><td>USA</td><td>A</td><td>A1</td><td>Not Verified</td><td>433201.0</td><td>Individual</td><td>null</td><td>null</td><td>2025-03-18 16:39:...</td></tr>\n",
       "<tr><td>cd8079623ae6471d0...</td><td>Project Manager</td><td>10+ years</td><td>MORTGAGE</td><td>160300.0</td><td>MD</td><td>211xx</td><td>USA</td><td>B</td><td>B4</td><td>Source Verified</td><td>783611.0</td><td>Individual</td><td>null</td><td>null</td><td>2025-03-18 16:39:...</td></tr>\n",
       "<tr><td>4ea0a0f53a722a88c...</td><td>Collections Manager</td><td>3 years</td><td>RENT</td><td>46000.0</td><td>NJ</td><td>077xx</td><td>USA</td><td>B</td><td>B1</td><td>Source Verified</td><td>58004.0</td><td>Individual</td><td>null</td><td>null</td><td>2025-03-18 16:39:...</td></tr>\n",
       "</table>\n",
       "only showing top 20 rows\n"
      ],
      "text/plain": [
       "+--------------------+--------------------+----------+--------------+-------------+-------------+---------------+---------------+-----+---------+-------------------+-----------------------+----------------+----------------+-------------------------+--------------------+\n",
       "|           member_id|           emp_title|emp_length|home_ownership|annual_income|address_state|address_zipCode|address_country|grade|sub_grade|verification_status|total_high_credit_limit|application_type|annual_inc_joint|verification_status_joint|         ingest_date|\n",
       "+--------------------+--------------------+----------+--------------+-------------+-------------+---------------+---------------+-----+---------+-------------------+-----------------------+----------------+----------------+-------------------------+--------------------+\n",
       "|fa3f32b164de68d8c...|Business Manager ...|   2 years|      MORTGAGE|      55000.0|           CO|          806xx|            USA|    B|       B5|    Source Verified|                36631.0|      Individual|            null|                     null|2025-03-18 16:39:...|\n",
       "|f26c4b3f1a54dc0f9...|             cashier|   4 years|          RENT|      12164.0|           FL|          336xx|            USA|    D|       D3|    Source Verified|                46357.0|       Joint App|         53164.0|          Source Verified|2025-03-18 16:39:...|\n",
       "|9fcfac79b4de0d906...|    Flight Attendant| 10+ years|      MORTGAGE|     100000.0|           FL|          333xx|            USA|    C|       C5|    Source Verified|               285675.0|      Individual|            null|                     null|2025-03-18 16:39:...|\n",
       "|c136a72e8901d8868...|    Flight Attendent|   8 years|          RENT|      63000.0|           MO|          640xx|            USA|    A|       A2|    Source Verified|                69840.0|      Individual|            null|                     null|2025-03-18 16:39:...|\n",
       "|6b738ef3598687211...|            Mechanic| 10+ years|      MORTGAGE|      56000.0|           MO|          641xx|            USA|    C|       C3|           Verified|                29310.0|      Individual|            null|                     null|2025-03-18 16:39:...|\n",
       "|245a12e17871445f3...|Sr. Administrativ...|   3 years|      MORTGAGE|      57400.0|           MD|          212xx|            USA|    C|       C2|    Source Verified|               329713.0|      Individual|            null|                     null|2025-03-18 16:39:...|\n",
       "|fd5455969d4c76d41...|             Teacher|   4 years|      MORTGAGE|      84000.0|           PA|          173xx|            USA|    B|       B4|    Source Verified|                66959.0|      Individual|            null|                     null|2025-03-18 16:39:...|\n",
       "|1ce40189fdac651cc...|     Claims Adjuster| 10+ years|      MORTGAGE|      83000.0|           TX|          751xx|            USA|    B|       B1|    Source Verified|               217933.0|      Individual|            null|                     null|2025-03-18 16:39:...|\n",
       "|aeeefd1fbc8a083f7...|             Teacher|   4 years|           OWN|      54000.0|           AL|          367xx|            USA|    A|       A5|    Source Verified|                43720.0|      Individual|            null|                     null|2025-03-18 16:39:...|\n",
       "|9b28d65428aed7fa4...|    Dental assistant|   3 years|          RENT|      40000.0|           NY|          119xx|            USA|    C|       C3|       Not Verified|                60026.0|      Individual|            null|                     null|2025-03-18 16:39:...|\n",
       "|91d155d7deb0335af...|         SURVEY CREW|   3 years|      MORTGAGE|      40000.0|           FL|          333xx|            USA|    B|       B3|           Verified|               302647.0|       Joint App|        100000.0|                 Verified|2025-03-18 16:39:...|\n",
       "|3fa986cc8d753c838...|     Accounting Tech| 10+ years|      MORTGAGE|      56000.0|           FL|          341xx|            USA|    A|       A1|    Source Verified|               332853.0|       Joint App|        111000.0|                     null|2025-03-18 16:39:...|\n",
       "|9555dd1991623cd5b...|    Registered Nurse|   5 years|      MORTGAGE|      50000.0|           NC|          285xx|            USA|    B|       B5|           Verified|               225260.0|      Individual|            null|                     null|2025-03-18 16:39:...|\n",
       "|a27ac6f1e68387ad1...|         Home attend|   8 years|          RENT|      35000.0|           NY|          112xx|            USA|    C|       C5|    Source Verified|                29500.0|      Individual|            null|                     null|2025-03-18 16:39:...|\n",
       "|c02b39ee487291c33...|Assistant Office ...|   2 years|          RENT|      36000.0|           FL|          327xx|            USA|    E|       E3|    Source Verified|                38959.0|      Individual|            null|                     null|2025-03-18 16:39:...|\n",
       "|053c419307cc134c4...|                null|      null|          RENT|      35000.0|           CT|          065xx|            USA|    A|       A3|       Not Verified|               106430.0|      Individual|            null|                     null|2025-03-18 16:39:...|\n",
       "|c47ee61b7dd53eb40...|    Machine operator| 10+ years|          RENT|      40000.0|           NY|          115xx|            USA|    C|       C2|    Source Verified|                 9500.0|      Individual|            null|                     null|2025-03-18 16:39:...|\n",
       "|992d3e6f5c9547c4f...|Inventory Special...| 10+ years|          RENT|      48500.0|           CA|          900xx|            USA|    D|       D3|           Verified|                71580.0|       Joint App|        108500.0|                 Verified|2025-03-18 16:39:...|\n",
       "|69d23fce6d35a27cf...|Maintenance Techn...|   2 years|          RENT|      45000.0|           NY|          115xx|            USA|    C|       C2|       Not Verified|                19000.0|      Individual|            null|                     null|2025-03-18 16:39:...|\n",
       "|baa7f5b988143b1d2...|             analyst|   9 years|      MORTGAGE|      84000.0|           OH|          454xx|            USA|    C|       C5|           Verified|               414823.0|      Individual|            null|                     null|2025-03-18 16:39:...|\n",
       "+--------------------+--------------------+----------+--------------+-------------+-------------+---------------+---------------+-----+---------+-------------------+-----------------------+----------------+----------------+-------------------------+--------------------+\n",
       "only showing top 20 rows"
      ]
     },
     "execution_count": 16,
     "metadata": {},
     "output_type": "execute_result"
    }
   ],
   "source": [
    "spark.sql(\"select * from customers\")"
   ]
  },
  {
   "cell_type": "code",
   "execution_count": 17,
   "id": "c21ba485",
   "metadata": {},
   "outputs": [
    {
     "data": {
      "text/html": [
       "<table border='1'>\n",
       "<tr><th>count(1)</th></tr>\n",
       "<tr><td>5</td></tr>\n",
       "</table>\n"
      ],
      "text/plain": [
       "+--------+\n",
       "|count(1)|\n",
       "+--------+\n",
       "|       5|\n",
       "+--------+"
      ]
     },
     "execution_count": 17,
     "metadata": {},
     "output_type": "execute_result"
    }
   ],
   "source": [
    "spark.sql(\"select count(*) from customers where annual_income is null\")"
   ]
  },
  {
   "cell_type": "code",
   "execution_count": 18,
   "id": "554d940e",
   "metadata": {},
   "outputs": [],
   "source": [
    "customers_income_filtered = spark.sql(\"select * from customers where annual_income is not null\")"
   ]
  },
  {
   "cell_type": "code",
   "execution_count": 19,
   "id": "7d94c0ff",
   "metadata": {},
   "outputs": [],
   "source": [
    "customers_income_filtered.createOrReplaceTempView(\"customers\")"
   ]
  },
  {
   "cell_type": "code",
   "execution_count": 20,
   "id": "d4385173",
   "metadata": {},
   "outputs": [
    {
     "name": "stdout",
     "output_type": "stream",
     "text": [
      "+----------+\n",
      "|emp_length|\n",
      "+----------+\n",
      "|   9 years|\n",
      "|   5 years|\n",
      "|      null|\n",
      "|    1 year|\n",
      "|   2 years|\n",
      "|   7 years|\n",
      "|   8 years|\n",
      "|   4 years|\n",
      "|   6 years|\n",
      "|   3 years|\n",
      "| 10+ years|\n",
      "|  < 1 year|\n",
      "+----------+\n",
      "\n"
     ]
    }
   ],
   "source": [
    "spark.sql(\"select distinct(emp_length) from customers\").show()"
   ]
  },
  {
   "cell_type": "code",
   "execution_count": 21,
   "id": "69e9154e",
   "metadata": {},
   "outputs": [],
   "source": [
    "from pyspark.sql.functions import regexp_replace, col"
   ]
  },
  {
   "cell_type": "code",
   "execution_count": 22,
   "id": "7b0c1607",
   "metadata": {},
   "outputs": [],
   "source": [
    "customers_employement_length_cleaned = customers_income_filtered.withColumn(\"emp_length\",regexp_replace(col(\"emp_length\"),\"(\\D)\",\"\"))"
   ]
  },
  {
   "cell_type": "code",
   "execution_count": 23,
   "id": "e611f35a",
   "metadata": {},
   "outputs": [
    {
     "data": {
      "text/html": [
       "<table border='1'>\n",
       "<tr><th>member_id</th><th>emp_title</th><th>emp_length</th><th>home_ownership</th><th>annual_income</th><th>address_state</th><th>address_zipCode</th><th>address_country</th><th>grade</th><th>sub_grade</th><th>verification_status</th><th>total_high_credit_limit</th><th>application_type</th><th>annual_inc_joint</th><th>verification_status_joint</th><th>ingest_date</th></tr>\n",
       "<tr><td>c6d019775fa5cd969...</td><td>Director Client S...</td><td>3</td><td>MORTGAGE</td><td>115000.0</td><td>CA</td><td>925xx</td><td>USA</td><td>B</td><td>B5</td><td>Not Verified</td><td>503470.0</td><td>Individual</td><td>null</td><td>null</td><td>2025-03-18 16:40:...</td></tr>\n",
       "<tr><td>21183d2c7db249daa...</td><td>QA Data Analyst</td><td>1</td><td>RENT</td><td>80000.0</td><td>TN</td><td>372xx</td><td>USA</td><td>F</td><td>F1</td><td>Verified</td><td>90937.0</td><td>Individual</td><td>null</td><td>null</td><td>2025-03-18 16:40:...</td></tr>\n",
       "<tr><td>9c9d0d405a4a4f946...</td><td>Head Chef</td><td>3</td><td>OWN</td><td>42000.0</td><td>NY</td><td>144xx</td><td>USA</td><td>D</td><td>D1</td><td>Source Verified</td><td>35860.0</td><td>Individual</td><td>null</td><td>null</td><td>2025-03-18 16:40:...</td></tr>\n",
       "<tr><td>4417c1dd92ca00cb8...</td><td>Water Utility Man...</td><td>10</td><td>MORTGAGE</td><td>88000.0</td><td>WI</td><td>549xx</td><td>USA</td><td>B</td><td>B2</td><td>Source Verified</td><td>415437.0</td><td>Joint App</td><td>109360.0</td><td>Not Verified</td><td>2025-03-18 16:40:...</td></tr>\n",
       "<tr><td>cbacde71545fbf19f...</td><td>Production associate</td><td>2</td><td>MORTGAGE</td><td>50000.0</td><td>OH</td><td>433xx</td><td>USA</td><td>D</td><td>D5</td><td>Source Verified</td><td>200460.0</td><td>Individual</td><td>null</td><td>null</td><td>2025-03-18 16:40:...</td></tr>\n",
       "<tr><td>bf7f61644080059b0...</td><td>Customer service ...</td><td>1</td><td>RENT</td><td>21600.0</td><td>NC</td><td>276xx</td><td>USA</td><td>D</td><td>D2</td><td>Verified</td><td>35499.0</td><td>Individual</td><td>null</td><td>null</td><td>2025-03-18 16:40:...</td></tr>\n",
       "<tr><td>daed3153c617945a4...</td><td>mail carrier</td><td>10</td><td>MORTGAGE</td><td>64000.0</td><td>CA</td><td>925xx</td><td>USA</td><td>C</td><td>C4</td><td>Source Verified</td><td>323637.0</td><td>Individual</td><td>null</td><td>null</td><td>2025-03-18 16:40:...</td></tr>\n",
       "<tr><td>a526496511decc037...</td><td>QA Supervisor</td><td>10</td><td>RENT</td><td>65000.0</td><td>OR</td><td>975xx</td><td>USA</td><td>A</td><td>A1</td><td>Source Verified</td><td>6000.0</td><td>Individual</td><td>null</td><td>null</td><td>2025-03-18 16:40:...</td></tr>\n",
       "<tr><td>9eccca78cb1e4e54a...</td><td>National Sales Ex...</td><td>1</td><td>RENT</td><td>175000.0</td><td>TN</td><td>370xx</td><td>USA</td><td>C</td><td>C4</td><td>Source Verified</td><td>208937.0</td><td>Individual</td><td>null</td><td>null</td><td>2025-03-18 16:40:...</td></tr>\n",
       "<tr><td>f097799d08f359b9e...</td><td>Director</td><td>5</td><td>RENT</td><td>120000.0</td><td>CA</td><td>954xx</td><td>USA</td><td>C</td><td>C2</td><td>Verified</td><td>113835.0</td><td>Individual</td><td>null</td><td>null</td><td>2025-03-18 16:40:...</td></tr>\n",
       "<tr><td>02bdc832c9b9af205...</td><td>Aide to City Comm...</td><td>10</td><td>RENT</td><td>57000.0</td><td>FL</td><td>323xx</td><td>USA</td><td>D</td><td>D4</td><td>Not Verified</td><td>102111.0</td><td>Individual</td><td>null</td><td>null</td><td>2025-03-18 16:40:...</td></tr>\n",
       "<tr><td>fbe242a8006199bc0...</td><td>Operations Coordi...</td><td>1</td><td>RENT</td><td>50000.0</td><td>CA</td><td>941xx</td><td>USA</td><td>D</td><td>D1</td><td>Verified</td><td>47716.0</td><td>Individual</td><td>null</td><td>null</td><td>2025-03-18 16:40:...</td></tr>\n",
       "<tr><td>52c766eb6140d53e4...</td><td>CSR</td><td>2</td><td>RENT</td><td>47200.0</td><td>CA</td><td>950xx</td><td>USA</td><td>B</td><td>B4</td><td>Source Verified</td><td>53284.0</td><td>Individual</td><td>null</td><td>null</td><td>2025-03-18 16:40:...</td></tr>\n",
       "<tr><td>0aa68dcdf1fa0ef56...</td><td>PCAM</td><td>3</td><td>MORTGAGE</td><td>86500.0</td><td>MA</td><td>010xx</td><td>USA</td><td>A</td><td>A2</td><td>Source Verified</td><td>406462.0</td><td>Individual</td><td>null</td><td>null</td><td>2025-03-18 16:40:...</td></tr>\n",
       "<tr><td>3d37aff873d156b37...</td><td>Finance Manager</td><td>10</td><td>RENT</td><td>102000.0</td><td>CA</td><td>945xx</td><td>USA</td><td>A</td><td>A1</td><td>Not Verified</td><td>78247.0</td><td>Individual</td><td>null</td><td>null</td><td>2025-03-18 16:40:...</td></tr>\n",
       "<tr><td>130b59ba2864fbbe1...</td><td>Academic Program ...</td><td>3</td><td>RENT</td><td>50000.0</td><td>CA</td><td>950xx</td><td>USA</td><td>A</td><td>A1</td><td>Source Verified</td><td>93320.0</td><td>Individual</td><td>null</td><td>null</td><td>2025-03-18 16:40:...</td></tr>\n",
       "<tr><td>f126be70556b696a9...</td><td>Administrator</td><td>5</td><td>RENT</td><td>84000.0</td><td>CA</td><td>953xx</td><td>USA</td><td>B</td><td>B1</td><td>Verified</td><td>171112.0</td><td>Individual</td><td>null</td><td>null</td><td>2025-03-18 16:40:...</td></tr>\n",
       "<tr><td>7166136d80b52c33e...</td><td>Professor</td><td>10</td><td>MORTGAGE</td><td>68000.0</td><td>WV</td><td>261xx</td><td>USA</td><td>A</td><td>A1</td><td>Not Verified</td><td>378756.0</td><td>Individual</td><td>null</td><td>null</td><td>2025-03-18 16:40:...</td></tr>\n",
       "<tr><td>6c61d0816cceeee5b...</td><td>Accountant</td><td>7</td><td>OWN</td><td>95000.0</td><td>TX</td><td>787xx</td><td>USA</td><td>C</td><td>C4</td><td>Not Verified</td><td>213712.0</td><td>Individual</td><td>null</td><td>null</td><td>2025-03-18 16:40:...</td></tr>\n",
       "<tr><td>98a9668a1930f3fc1...</td><td>Sales</td><td>7</td><td>OWN</td><td>70000.0</td><td>MI</td><td>483xx</td><td>USA</td><td>B</td><td>B1</td><td>Verified</td><td>31769.0</td><td>Individual</td><td>null</td><td>null</td><td>2025-03-18 16:40:...</td></tr>\n",
       "</table>\n",
       "only showing top 20 rows\n"
      ],
      "text/plain": [
       "+--------------------+--------------------+----------+--------------+-------------+-------------+---------------+---------------+-----+---------+-------------------+-----------------------+----------------+----------------+-------------------------+--------------------+\n",
       "|           member_id|           emp_title|emp_length|home_ownership|annual_income|address_state|address_zipCode|address_country|grade|sub_grade|verification_status|total_high_credit_limit|application_type|annual_inc_joint|verification_status_joint|         ingest_date|\n",
       "+--------------------+--------------------+----------+--------------+-------------+-------------+---------------+---------------+-----+---------+-------------------+-----------------------+----------------+----------------+-------------------------+--------------------+\n",
       "|9f9b3681427516080...|Senior Center/Tra...|         4|      MORTGAGE|      49700.0|           GA|          305xx|            USA|    C|       C4|       Not Verified|                86355.0|      Individual|            null|                     null|2025-03-18 16:40:...|\n",
       "|44e16150d2bd26219...|Clinical Research...|         1|          RENT|      74000.0|           NY|          112xx|            USA|    C|       C1|       Not Verified|                 7100.0|      Individual|            null|                     null|2025-03-18 16:40:...|\n",
       "|5e287b33592c1835d...|      Deputy Sheriff|        10|      MORTGAGE|      90000.0|           WA|          982xx|            USA|    C|       C2|           Verified|               414855.0|      Individual|            null|                     null|2025-03-18 16:40:...|\n",
       "|5f2b9e0a06dc9065f...|                null|      null|           OWN|     150000.0|           MI|          490xx|            USA|    A|       A2|       Not Verified|                70893.0|      Individual|            null|                     null|2025-03-18 16:40:...|\n",
       "|7fb7b582fbe9a13dd...|          CONTROLLER|         1|          RENT|      75000.0|           TX|          785xx|            USA|    A|       A4|       Not Verified|               139514.0|      Individual|            null|                     null|2025-03-18 16:40:...|\n",
       "|e818b3415139fd288...| Nursing Coordinator|        10|          RENT|      75000.0|           VA|          223xx|            USA|    A|       A5|    Source Verified|               209811.0|      Individual|            null|                     null|2025-03-18 16:40:...|\n",
       "|0dc0583ebe18709c5...|Community associa...|         5|          RENT|     101000.0|           FL|          334xx|            USA|    A|       A5|    Source Verified|                56507.0|      Individual|            null|                     null|2025-03-18 16:40:...|\n",
       "|3a87e44b6bcbf3c0c...|          Accountant|         2|          RENT|      55000.0|           TX|          796xx|            USA|    A|       A5|       Not Verified|                89319.0|      Individual|            null|                     null|2025-03-18 16:40:...|\n",
       "|e36ca0517a81dcecd...|refridgeration le...|         5|      MORTGAGE|      73716.0|           AR|          727xx|            USA|    C|       C1|    Source Verified|               147597.0|      Individual|            null|                     null|2025-03-18 16:40:...|\n",
       "|71fd1d4cdd002ab6e...|                 DSP|         2|          RENT|      37800.0|           NY|          115xx|            USA|    A|       A4|    Source Verified|                62953.0|      Individual|            null|                     null|2025-03-18 16:40:...|\n",
       "|f0daf688cca239fb2...|Salesforce Config...|         2|          RENT|     102500.0|           MN|          553xx|            USA|    D|       D2|       Not Verified|                71627.0|       Joint App|        170800.0|             Not Verified|2025-03-18 16:40:...|\n",
       "|63a0e753ff5336f86...|Senior Network Sy...|         7|      MORTGAGE|     125000.0|           CA|          910xx|            USA|    B|       B4|           Verified|               160185.0|      Individual|            null|                     null|2025-03-18 16:40:...|\n",
       "|b64e192af7bcb0dab...|              Driver|         4|          RENT|      55000.0|           CA|          923xx|            USA|    B|       B3|       Not Verified|                21500.0|      Individual|            null|                     null|2025-03-18 16:40:...|\n",
       "|a3485169a67d8fa00...|                null|      null|          RENT|          0.0|           CA|          912xx|            USA|    A|       A1|       Not Verified|                72100.0|       Joint App|        120000.0|             Not Verified|2025-03-18 16:40:...|\n",
       "|e3035fa72c300a7fe...|            Operator|        10|      MORTGAGE|      90000.0|           TX|          774xx|            USA|    D|       D1|           Verified|               313695.0|      Individual|            null|                     null|2025-03-18 16:40:...|\n",
       "|202bb53285ce2d66e...|           Pressroom|        10|      MORTGAGE|      23540.0|           IL|          614xx|            USA|    C|       C4|           Verified|                 4800.0|      Individual|            null|                     null|2025-03-18 16:40:...|\n",
       "|6e47325e58fc11bb8...|       QC Technician|         5|          RENT|      60000.0|           WV|          268xx|            USA|    A|       A4|       Not Verified|               126772.0|      Individual|            null|                     null|2025-03-18 16:40:...|\n",
       "|497724279a2fc57a7...|         Firefighter|         2|          RENT|      80000.0|           IL|          606xx|            USA|    A|       A2|       Not Verified|               116312.0|      Individual|            null|                     null|2025-03-18 16:40:...|\n",
       "|05be71c7f43b97403...|   Territory Manager|         1|          RENT|      56100.0|           WI|          549xx|            USA|    B|       B3|       Not Verified|                88070.0|      Individual|            null|                     null|2025-03-18 16:40:...|\n",
       "|5182e7ec7d5fb2b38...|                null|      null|          RENT|      60000.0|           NV|          891xx|            USA|    B|       B1|       Not Verified|                45320.0|      Individual|            null|                     null|2025-03-18 16:40:...|\n",
       "+--------------------+--------------------+----------+--------------+-------------+-------------+---------------+---------------+-----+---------+-------------------+-----------------------+----------------+----------------+-------------------------+--------------------+\n",
       "only showing top 20 rows"
      ]
     },
     "execution_count": 23,
     "metadata": {},
     "output_type": "execute_result"
    }
   ],
   "source": [
    "customers_employement_length_cleaned"
   ]
  },
  {
   "cell_type": "code",
   "execution_count": 24,
   "id": "43a9d3be",
   "metadata": {},
   "outputs": [
    {
     "name": "stdout",
     "output_type": "stream",
     "text": [
      "root\n",
      " |-- member_id: string (nullable = true)\n",
      " |-- emp_title: string (nullable = true)\n",
      " |-- emp_length: string (nullable = true)\n",
      " |-- home_ownership: string (nullable = true)\n",
      " |-- annual_income: float (nullable = true)\n",
      " |-- address_state: string (nullable = true)\n",
      " |-- address_zipCode: string (nullable = true)\n",
      " |-- address_country: string (nullable = true)\n",
      " |-- grade: string (nullable = true)\n",
      " |-- sub_grade: string (nullable = true)\n",
      " |-- verification_status: string (nullable = true)\n",
      " |-- total_high_credit_limit: float (nullable = true)\n",
      " |-- application_type: string (nullable = true)\n",
      " |-- annual_inc_joint: float (nullable = true)\n",
      " |-- verification_status_joint: string (nullable = true)\n",
      " |-- ingest_date: timestamp (nullable = false)\n",
      "\n"
     ]
    }
   ],
   "source": [
    "customers_employement_length_cleaned.printSchema()"
   ]
  },
  {
   "cell_type": "code",
   "execution_count": 25,
   "id": "2ceb78fd",
   "metadata": {},
   "outputs": [],
   "source": [
    "customers_employement_length_casted = customers_employement_length_cleaned.withColumn(\"emp_length\",customers_employement_length_cleaned.emp_length.cast('int'))"
   ]
  },
  {
   "cell_type": "code",
   "execution_count": 26,
   "id": "9bb3a4fd",
   "metadata": {},
   "outputs": [
    {
     "data": {
      "text/html": [
       "<table border='1'>\n",
       "<tr><th>member_id</th><th>emp_title</th><th>emp_length</th><th>home_ownership</th><th>annual_income</th><th>address_state</th><th>address_zipCode</th><th>address_country</th><th>grade</th><th>sub_grade</th><th>verification_status</th><th>total_high_credit_limit</th><th>application_type</th><th>annual_inc_joint</th><th>verification_status_joint</th><th>ingest_date</th></tr>\n",
       "<tr><td>47d9fb70fc3f7dbe9...</td><td>Senior Dental NCO</td><td>10</td><td>RENT</td><td>80000.0</td><td>CO</td><td>809xx</td><td>USA</td><td>D</td><td>D1</td><td>Verified</td><td>135120.0</td><td>Individual</td><td>null</td><td>null</td><td>2025-03-18 16:40:...</td></tr>\n",
       "<tr><td>178fcd21a0680e314...</td><td>owner operator</td><td>10</td><td>RENT</td><td>75000.0</td><td>CA</td><td>906xx</td><td>USA</td><td>A</td><td>A5</td><td>Source Verified</td><td>9400.0</td><td>Individual</td><td>null</td><td>null</td><td>2025-03-18 16:40:...</td></tr>\n",
       "<tr><td>8f06c25aeb784e844...</td><td>Welder</td><td>10</td><td>OWN</td><td>70000.0</td><td>MI</td><td>481xx</td><td>USA</td><td>C</td><td>C5</td><td>Not Verified</td><td>181446.0</td><td>Individual</td><td>null</td><td>null</td><td>2025-03-18 16:40:...</td></tr>\n",
       "<tr><td>8e12c66923ea4491f...</td><td>Special Ed Teacher</td><td>9</td><td>MORTGAGE</td><td>49627.0</td><td>AR</td><td>721xx</td><td>USA</td><td>A</td><td>A1</td><td>Verified</td><td>231785.0</td><td>Joint App</td><td>76627.0</td><td>Not Verified</td><td>2025-03-18 16:40:...</td></tr>\n",
       "<tr><td>b91b8986ace47f3aa...</td><td>Director of Revenue</td><td>2</td><td>MORTGAGE</td><td>80000.0</td><td>WV</td><td>253xx</td><td>USA</td><td>B</td><td>B1</td><td>Source Verified</td><td>85453.0</td><td>Individual</td><td>null</td><td>null</td><td>2025-03-18 16:40:...</td></tr>\n",
       "<tr><td>4d583cc2d828b1b29...</td><td>Senior Master Ser...</td><td>10</td><td>MORTGAGE</td><td>84700.0</td><td>TX</td><td>782xx</td><td>USA</td><td>A</td><td>A2</td><td>Source Verified</td><td>267628.0</td><td>Joint App</td><td>87200.0</td><td>Not Verified</td><td>2025-03-18 16:40:...</td></tr>\n",
       "<tr><td>b58d5191c15ec7b39...</td><td>null</td><td>null</td><td>RENT</td><td>40000.0</td><td>GA</td><td>305xx</td><td>USA</td><td>A</td><td>A4</td><td>Not Verified</td><td>64190.0</td><td>Joint App</td><td>70000.0</td><td>Not Verified</td><td>2025-03-18 16:40:...</td></tr>\n",
       "<tr><td>7582023dc8766cdf1...</td><td>Branch Manager II</td><td>2</td><td>RENT</td><td>70000.0</td><td>OR</td><td>974xx</td><td>USA</td><td>C</td><td>C2</td><td>Not Verified</td><td>117758.0</td><td>Individual</td><td>null</td><td>null</td><td>2025-03-18 16:40:...</td></tr>\n",
       "<tr><td>5ab27cfffd327070c...</td><td>Director</td><td>10</td><td>RENT</td><td>80313.0</td><td>WI</td><td>547xx</td><td>USA</td><td>B</td><td>B4</td><td>Not Verified</td><td>149053.0</td><td>Individual</td><td>null</td><td>null</td><td>2025-03-18 16:40:...</td></tr>\n",
       "<tr><td>465c31e6f936ffd59...</td><td>Document Review A...</td><td>1</td><td>RENT</td><td>75000.0</td><td>TX</td><td>774xx</td><td>USA</td><td>D</td><td>D5</td><td>Source Verified</td><td>252743.0</td><td>Individual</td><td>null</td><td>null</td><td>2025-03-18 16:40:...</td></tr>\n",
       "<tr><td>d9238f446bfbbd86f...</td><td>Nurse Case Manager</td><td>1</td><td>MORTGAGE</td><td>65500.0</td><td>PA</td><td>156xx</td><td>USA</td><td>A</td><td>A1</td><td>Not Verified</td><td>261526.0</td><td>Individual</td><td>null</td><td>null</td><td>2025-03-18 16:40:...</td></tr>\n",
       "<tr><td>f0c87aa1952f9850f...</td><td>office manager</td><td>9</td><td>MORTGAGE</td><td>44000.0</td><td>ID</td><td>836xx</td><td>USA</td><td>C</td><td>C2</td><td>Source Verified</td><td>277354.0</td><td>Individual</td><td>null</td><td>null</td><td>2025-03-18 16:40:...</td></tr>\n",
       "<tr><td>4d97cf941d44677b3...</td><td>RN</td><td>4</td><td>MORTGAGE</td><td>70000.0</td><td>MN</td><td>550xx</td><td>USA</td><td>C</td><td>C3</td><td>Source Verified</td><td>340233.0</td><td>Individual</td><td>null</td><td>null</td><td>2025-03-18 16:40:...</td></tr>\n",
       "<tr><td>b744ecb3a3409b669...</td><td>Pastor</td><td>4</td><td>MORTGAGE</td><td>66000.0</td><td>MN</td><td>560xx</td><td>USA</td><td>B</td><td>B2</td><td>Source Verified</td><td>83923.0</td><td>Individual</td><td>null</td><td>null</td><td>2025-03-18 16:40:...</td></tr>\n",
       "<tr><td>e645916060011332f...</td><td>Safety Consultant</td><td>10</td><td>MORTGAGE</td><td>85000.0</td><td>NC</td><td>280xx</td><td>USA</td><td>C</td><td>C2</td><td>Source Verified</td><td>221143.0</td><td>Individual</td><td>null</td><td>null</td><td>2025-03-18 16:40:...</td></tr>\n",
       "<tr><td>f19dfaea3c3072dd8...</td><td>Ablebodied Seaman...</td><td>7</td><td>MORTGAGE</td><td>47820.0</td><td>NC</td><td>281xx</td><td>USA</td><td>A</td><td>A1</td><td>Verified</td><td>117715.0</td><td>Individual</td><td>null</td><td>null</td><td>2025-03-18 16:40:...</td></tr>\n",
       "<tr><td>92f1dcc5182405465...</td><td>Food Clerk</td><td>10</td><td>MORTGAGE</td><td>56000.0</td><td>CA</td><td>907xx</td><td>USA</td><td>A</td><td>A1</td><td>Verified</td><td>346500.0</td><td>Individual</td><td>null</td><td>null</td><td>2025-03-18 16:40:...</td></tr>\n",
       "<tr><td>388c55a9b730ce3a9...</td><td>Director of IT</td><td>2</td><td>MORTGAGE</td><td>90000.0</td><td>WA</td><td>986xx</td><td>USA</td><td>A</td><td>A3</td><td>Source Verified</td><td>325532.0</td><td>Individual</td><td>null</td><td>null</td><td>2025-03-18 16:40:...</td></tr>\n",
       "<tr><td>fe15cea1455f29ad8...</td><td>Store Director</td><td>2</td><td>MORTGAGE</td><td>130000.0</td><td>WI</td><td>531xx</td><td>USA</td><td>A</td><td>A3</td><td>Not Verified</td><td>302149.0</td><td>Individual</td><td>null</td><td>null</td><td>2025-03-18 16:40:...</td></tr>\n",
       "<tr><td>788faa8ec71b8c25f...</td><td>Sales</td><td>10</td><td>MORTGAGE</td><td>69000.0</td><td>AL</td><td>354xx</td><td>USA</td><td>B</td><td>B4</td><td>Not Verified</td><td>218001.0</td><td>Individual</td><td>null</td><td>null</td><td>2025-03-18 16:40:...</td></tr>\n",
       "</table>\n",
       "only showing top 20 rows\n"
      ],
      "text/plain": [
       "+--------------------+--------------------+----------+--------------+-------------+-------------+---------------+---------------+-----+---------+-------------------+-----------------------+----------------+----------------+-------------------------+--------------------+\n",
       "|           member_id|           emp_title|emp_length|home_ownership|annual_income|address_state|address_zipCode|address_country|grade|sub_grade|verification_status|total_high_credit_limit|application_type|annual_inc_joint|verification_status_joint|         ingest_date|\n",
       "+--------------------+--------------------+----------+--------------+-------------+-------------+---------------+---------------+-----+---------+-------------------+-----------------------+----------------+----------------+-------------------------+--------------------+\n",
       "|ee7fe0ee60a5bdeee...|     Default Analyst|         5|      MORTGAGE|      67000.0|           PA|          195xx|            USA|    C|       C2|    Source Verified|               157076.0|      Individual|            null|                     null|2025-03-18 16:40:...|\n",
       "|25cc89ffb64b02d92...|Senior Case Techn...|         8|      MORTGAGE|      42000.0|           OH|          432xx|            USA|    C|       C4|           Verified|               225070.0|      Individual|            null|                     null|2025-03-18 16:40:...|\n",
       "|c28568e792e014f25...|     Loader operator|        10|      MORTGAGE|     100000.0|           CA|          925xx|            USA|    C|       C3|           Verified|                43700.0|      Individual|            null|                     null|2025-03-18 16:40:...|\n",
       "|de7afd50c6e9809cc...|    Attendance Clerk|         9|      MORTGAGE|      22600.0|           SC|          295xx|            USA|    B|       B4|    Source Verified|               139316.0|      Individual|            null|                     null|2025-03-18 16:40:...|\n",
       "|9a0a9d05ba637b245...|Field superintendent|        10|      MORTGAGE|      60000.0|           TX|          773xx|            USA|    C|       C2|       Not Verified|               184900.0|      Individual|            null|                     null|2025-03-18 16:40:...|\n",
       "|261f4decf3803b2fe...|             Analyst|        10|      MORTGAGE|      54000.0|           IN|          474xx|            USA|    C|       C1|    Source Verified|               192439.0|      Individual|            null|                     null|2025-03-18 16:40:...|\n",
       "|9521ca08dd6d06f09...|          Accountant|         6|          RENT|      42000.0|           NM|          871xx|            USA|    B|       B3|       Not Verified|                67544.0|      Individual|            null|                     null|2025-03-18 16:40:...|\n",
       "|616f4a406480243f1...|Production Superv...|         9|      MORTGAGE|      62500.0|           WA|          983xx|            USA|    B|       B1|       Not Verified|               344306.0|      Individual|            null|                     null|2025-03-18 16:40:...|\n",
       "|9f89843fe5183e7ca...|      Special Ed T.A|         7|          RENT|      25000.0|           CA|          902xx|            USA|    B|       B5|       Not Verified|                29415.0|      Individual|            null|                     null|2025-03-18 16:40:...|\n",
       "|7afb776d272742dea...|        Banquet Chef|         8|          RENT|      65000.0|           MD|          208xx|            USA|    C|       C5|    Source Verified|                82091.0|       Joint App|        131000.0|          Source Verified|2025-03-18 16:40:...|\n",
       "|bf8a3b90ae04e26a1...|    Plant Controller|         1|          RENT|      90000.0|           OR|          970xx|            USA|    B|       B2|    Source Verified|                62725.0|      Individual|            null|                     null|2025-03-18 16:40:...|\n",
       "|175e5c9e0f727d30a...|Workforce Analyst...|        10|      MORTGAGE|      78000.0|           TX|          762xx|            USA|    D|       D3|           Verified|               252531.0|      Individual|            null|                     null|2025-03-18 16:40:...|\n",
       "|d93a98ed1220b4426...|  Accounting Manager|         4|      MORTGAGE|     130000.0|           VA|          238xx|            USA|    A|       A2|       Not Verified|               352719.0|      Individual|            null|                     null|2025-03-18 16:40:...|\n",
       "|9e4452079517d5c21...|Senior Functional...|         1|      MORTGAGE|      85000.0|           MN|          563xx|            USA|    A|       A3|           Verified|               285242.0|      Individual|            null|                     null|2025-03-18 16:40:...|\n",
       "|2a58a5c51c672104a...|        Team Manager|         3|          RENT|      70000.0|           TX|          750xx|            USA|    B|       B1|       Not Verified|                81859.0|      Individual|            null|                     null|2025-03-18 16:40:...|\n",
       "|65846543ef976450a...| Sr. Admin Assistant|        10|          RENT|      65000.0|           NJ|          071xx|            USA|    C|       C1|       Not Verified|                57223.0|      Individual|            null|                     null|2025-03-18 16:40:...|\n",
       "|c992957c853d94950...|       Rn Supervisor|         6|      MORTGAGE|      83900.0|           MO|          633xx|            USA|    C|       C2|           Verified|               369438.0|      Individual|            null|                     null|2025-03-18 16:40:...|\n",
       "|6032c546cc976acb1...|                null|      null|          RENT|      12000.0|           CA|          916xx|            USA|    D|       D3|           Verified|                 8500.0|      Individual|            null|                     null|2025-03-18 16:40:...|\n",
       "|eb27979656630e97c...|   Associate Manager|         1|          RENT|      56000.0|           CA|          913xx|            USA|    B|       B2|    Source Verified|                22438.0|      Individual|            null|                     null|2025-03-18 16:40:...|\n",
       "|b3afdb4fae4f9232c...|    Dispute Examiner|         1|          RENT|      69000.0|           FL|          337xx|            USA|    B|       B2|       Not Verified|                68319.0|      Individual|            null|                     null|2025-03-18 16:40:...|\n",
       "+--------------------+--------------------+----------+--------------+-------------+-------------+---------------+---------------+-----+---------+-------------------+-----------------------+----------------+----------------+-------------------------+--------------------+\n",
       "only showing top 20 rows"
      ]
     },
     "execution_count": 26,
     "metadata": {},
     "output_type": "execute_result"
    }
   ],
   "source": [
    "customers_employement_length_casted"
   ]
  },
  {
   "cell_type": "code",
   "execution_count": 27,
   "id": "ffb06e85",
   "metadata": {},
   "outputs": [
    {
     "data": {
      "text/plain": [
       "146903"
      ]
     },
     "execution_count": 27,
     "metadata": {},
     "output_type": "execute_result"
    }
   ],
   "source": [
    "customers_employement_length_casted.filter(\"emp_length is null\").count()"
   ]
  },
  {
   "cell_type": "code",
   "execution_count": 28,
   "id": "6e759ac0",
   "metadata": {},
   "outputs": [],
   "source": [
    "customers_employement_length_casted.createOrReplaceTempView(\"customers\")"
   ]
  },
  {
   "cell_type": "code",
   "execution_count": null,
   "id": "e03cb230",
   "metadata": {},
   "outputs": [],
   "source": [
    "average_emp_length = spark.sql(\"select floor(avg(emp_length)) as average_emp_length from customers\").collect()"
   ]
  },
  {
   "cell_type": "code",
   "execution_count": null,
   "id": "49fe4e75",
   "metadata": {},
   "outputs": [],
   "source": [
    "print(average_emp_length)"
   ]
  },
  {
   "cell_type": "code",
   "execution_count": null,
   "id": "bf006606",
   "metadata": {},
   "outputs": [],
   "source": [
    "avg_emp_duration = average_emp_length[0][0]"
   ]
  },
  {
   "cell_type": "raw",
   "id": "fcd0ac08",
   "metadata": {},
   "source": [
    "print(avg_emp_duration)"
   ]
  },
  {
   "cell_type": "code",
   "execution_count": null,
   "id": "468820bb",
   "metadata": {},
   "outputs": [],
   "source": [
    "print(avg_emp_duration)"
   ]
  },
  {
   "cell_type": "code",
   "execution_count": null,
   "id": "e6749286",
   "metadata": {},
   "outputs": [],
   "source": [
    "customers_emp_length_replaced = customers_employement_length_casted.na.fill(avg_emp_duration,subset=['emp_length'])"
   ]
  },
  {
   "cell_type": "code",
   "execution_count": null,
   "id": "07190336",
   "metadata": {},
   "outputs": [],
   "source": [
    "customers_emp_length_replaced"
   ]
  },
  {
   "cell_type": "code",
   "execution_count": null,
   "id": "fe82cd15",
   "metadata": {},
   "outputs": [],
   "source": [
    "customers_emp_length_replaced.filter(\"emp_length is null\").count()"
   ]
  },
  {
   "cell_type": "code",
   "execution_count": null,
   "id": "12a1e132",
   "metadata": {},
   "outputs": [],
   "source": [
    "customers_emp_length_replaced.createOrReplaceTempView(\"customers\")"
   ]
  },
  {
   "cell_type": "code",
   "execution_count": null,
   "id": "d01da9e4",
   "metadata": {},
   "outputs": [],
   "source": [
    "spark.sql(\"select distinct address_state from customers\")"
   ]
  },
  {
   "cell_type": "code",
   "execution_count": null,
   "id": "a4429947",
   "metadata": {},
   "outputs": [],
   "source": [
    "spark.sql(\"select  count(address_state) from customers where length(address_state)>2\")"
   ]
  },
  {
   "cell_type": "code",
   "execution_count": null,
   "id": "4e2e4da0",
   "metadata": {},
   "outputs": [],
   "source": [
    "from pyspark.sql.functions import length, when, col"
   ]
  },
  {
   "cell_type": "code",
   "execution_count": null,
   "id": "789fba0b",
   "metadata": {},
   "outputs": [],
   "source": [
    "customers_state_cleaned = customers_emp_length_replaced.withColumn(\"address_state\",when(length(col(\"address_state\"))>2, \"NA\" ).otherwise(col(\"address_state\")))"
   ]
  },
  {
   "cell_type": "code",
   "execution_count": null,
   "id": "e295408c",
   "metadata": {},
   "outputs": [],
   "source": [
    "customers_state_cleaned.select(\"address_state\").distinct()"
   ]
  },
  {
   "cell_type": "code",
   "execution_count": null,
   "id": "f2bbc68c",
   "metadata": {},
   "outputs": [],
   "source": [
    "customers_state_cleaned.write.format(\"parquet\").mode(\"overwrite\").option(\"path\",\"/user/itv017244/lendingclubproject/cleaned/customers_parquet\").save()"
   ]
  },
  {
   "cell_type": "code",
   "execution_count": 198,
   "id": "a2450ba3",
   "metadata": {},
   "outputs": [],
   "source": [
    "customers_state_cleaned.createOrReplaceTempView(\"customers\")"
   ]
  },
  {
   "cell_type": "code",
   "execution_count": 200,
   "id": "963b396b",
   "metadata": {},
   "outputs": [],
   "source": [
    "spark.sql(\"\"\"select * from customers\n",
    "\"\"\").write.option(\"header\",True).format(\"parquet\").mode(\"overwrite\"). \\\n",
    "option(\"path\",\"/user/itv017244/lendingclubproject/cleaned/customers_parquet\").save()"
   ]
  },
  {
   "cell_type": "code",
   "execution_count": 201,
   "id": "0908fa86",
   "metadata": {},
   "outputs": [],
   "source": [
    "spark.sql(\"\"\"select * from customers\n",
    "\"\"\").write.option(\"header\",True).format(\"csv\").mode(\"overwrite\"). \\\n",
    "option(\"path\",\"/user/itv017244/lendingclubproject/cleaned/customers_csv\").save()"
   ]
  },
  {
   "cell_type": "code",
   "execution_count": 197,
   "id": "658b9351",
   "metadata": {},
   "outputs": [],
   "source": [
    "customers_state_cleaned.write.option(\"header\",True).format(\"csv\").mode(\"overwrite\").option(\"path\",\"/user/itv017244/lendingclubproject/cleaned/customers_csv\").save()"
   ]
  },
  {
   "cell_type": "code",
   "execution_count": null,
   "id": "f1a10982",
   "metadata": {},
   "outputs": [],
   "source": [
    "spark.stop()"
   ]
  }
 ],
 "metadata": {
  "kernelspec": {
   "display_name": "Pyspark 3",
   "language": "python",
   "name": "pyspark3"
  },
  "language_info": {
   "codemirror_mode": {
    "name": "ipython",
    "version": 3
   },
   "file_extension": ".py",
   "mimetype": "text/x-python",
   "name": "python",
   "nbconvert_exporter": "python",
   "pygments_lexer": "ipython3",
   "version": "3.6.12"
  }
 },
 "nbformat": 4,
 "nbformat_minor": 5
}
