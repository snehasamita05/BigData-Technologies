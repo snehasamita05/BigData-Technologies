{
 "cells": [
  {
   "cell_type": "code",
   "execution_count": 40,
   "id": "4284a869",
   "metadata": {},
   "outputs": [],
   "source": [
    "from pyspark.sql import SparkSession\n",
    "import getpass\n",
    "username = getpass.getuser()\n",
    "spark = SparkSession. \\\n",
    "    builder. \\\n",
    "    config('spark.ui.port','0'). \\\n",
    "    config(\"spark.sql.warehouse.dir\", f\"/user/{username}/warehouse\"). \\\n",
    "    config('spark.shuffle.useOldFetchProtocol','true'). \\\n",
    "    enableHiveSupport(). \\\n",
    "    master('yarn'). \\\n",
    "    getOrCreate()\n"
   ]
  },
  {
   "cell_type": "code",
   "execution_count": 41,
   "id": "5bb77e80",
   "metadata": {},
   "outputs": [
    {
     "data": {
      "text/html": [
       "\n",
       "            <div>\n",
       "                <p><b>SparkSession - hive</b></p>\n",
       "                \n",
       "        <div>\n",
       "            <p><b>SparkContext</b></p>\n",
       "\n",
       "            <p><a href=\"http://g01.itversity.com:41423\">Spark UI</a></p>\n",
       "\n",
       "            <dl>\n",
       "              <dt>Version</dt>\n",
       "                <dd><code>v3.1.2</code></dd>\n",
       "              <dt>Master</dt>\n",
       "                <dd><code>yarn</code></dd>\n",
       "              <dt>AppName</dt>\n",
       "                <dd><code>pyspark-shell</code></dd>\n",
       "            </dl>\n",
       "        </div>\n",
       "        \n",
       "            </div>\n",
       "        "
      ],
      "text/plain": [
       "<pyspark.sql.session.SparkSession at 0x7f01976ad908>"
      ]
     },
     "execution_count": 41,
     "metadata": {},
     "output_type": "execute_result"
    }
   ],
   "source": [
    "spark"
   ]
  },
  {
   "cell_type": "code",
   "execution_count": 42,
   "id": "ee78e271",
   "metadata": {},
   "outputs": [],
   "source": [
    "loans_deafulter_raw_df = spark.read.format(\"csv\").option(\"header\",True).option(\"inferSchema\",True).load(\"/user/itv017244/lendingclubproject/raw/loans_defaulters_csv\")"
   ]
  },
  {
   "cell_type": "code",
   "execution_count": 43,
   "id": "55b4ac15",
   "metadata": {},
   "outputs": [
    {
     "data": {
      "text/html": [
       "<table border='1'>\n",
       "<tr><th>member_id</th><th>delinq_2yrs</th><th>delinq_amnt</th><th>pub_rec</th><th>pub_rec_bankruptcies</th><th>inq_last_6mths</th><th>total_rec_late_fee</th><th>mths_since_last_delinq</th><th>mths_since_last_record</th></tr>\n",
       "<tr><td>bfcec8da7b3f1fe83...</td><td>1.0</td><td>0.0</td><td>0.0</td><td>0.0</td><td>2.0</td><td>0.0</td><td>11.0</td><td>null</td></tr>\n",
       "<tr><td>36399458db4295868...</td><td>0.0</td><td>0.0</td><td>1.0</td><td>1.0</td><td>0.0</td><td>0.0</td><td>null</td><td>63.0</td></tr>\n",
       "<tr><td>e4912b650878ca941...</td><td>0.0</td><td>0.0</td><td>0.0</td><td>0.0</td><td>0.0</td><td>0.0</td><td>67.0</td><td>null</td></tr>\n",
       "<tr><td>3d6f35ad2e2be4572...</td><td>0.0</td><td>0.0</td><td>1.0</td><td>1.0</td><td>0.0</td><td>0.0</td><td>null</td><td>66.0</td></tr>\n",
       "<tr><td>478e1cd37e35c20f7...</td><td>1.0</td><td>0.0</td><td>1.0</td><td>1.0</td><td>0.0</td><td>0.0</td><td>15.0</td><td>108.0</td></tr>\n",
       "<tr><td>a5d42e35cc0be2789...</td><td>0.0</td><td>0.0</td><td>1.0</td><td>1.0</td><td>1.0</td><td>0.0</td><td>null</td><td>83.0</td></tr>\n",
       "<tr><td>7f3ef55c784bf6b16...</td><td>0.0</td><td>0.0</td><td>0.0</td><td>0.0</td><td>0.0</td><td>0.0</td><td>41.0</td><td>null</td></tr>\n",
       "<tr><td>beb30abaeca08f49b...</td><td>2.0</td><td>0.0</td><td>0.0</td><td>0.0</td><td>0.0</td><td>0.0</td><td>14.0</td><td>null</td></tr>\n",
       "<tr><td>233e5e6797dd0a68b...</td><td>0.0</td><td>0.0</td><td>1.0</td><td>1.0</td><td>1.0</td><td>0.0</td><td>58.0</td><td>85.0</td></tr>\n",
       "<tr><td>c4b178ffaf80ed472...</td><td>1.0</td><td>0.0</td><td>0.0</td><td>0.0</td><td>0.0</td><td>0.0</td><td>17.0</td><td>null</td></tr>\n",
       "<tr><td>7f45445bc792b29c7...</td><td>0.0</td><td>0.0</td><td>0.0</td><td>0.0</td><td>0.0</td><td>0.0</td><td>38.0</td><td>null</td></tr>\n",
       "<tr><td>582a9b2d3a658ab05...</td><td>0.0</td><td>0.0</td><td>0.0</td><td>0.0</td><td>0.0</td><td>0.0</td><td>null</td><td>null</td></tr>\n",
       "<tr><td>f67ba01e72eb5f109...</td><td>0.0</td><td>0.0</td><td>0.0</td><td>0.0</td><td>0.0</td><td>0.0</td><td>74.0</td><td>null</td></tr>\n",
       "<tr><td>07e81491adcc0e7c3...</td><td>0.0</td><td>0.0</td><td>0.0</td><td>0.0</td><td>2.0</td><td>0.0</td><td>null</td><td>null</td></tr>\n",
       "<tr><td>6f5c275cbae528914...</td><td>0.0</td><td>0.0</td><td>0.0</td><td>0.0</td><td>0.0</td><td>0.0</td><td>null</td><td>null</td></tr>\n",
       "<tr><td>412a63a98577abf03...</td><td>0.0</td><td>0.0</td><td>0.0</td><td>0.0</td><td>1.0</td><td>0.0</td><td>null</td><td>null</td></tr>\n",
       "<tr><td>47196375e82e575cb...</td><td>1.0</td><td>0.0</td><td>0.0</td><td>0.0</td><td>0.0</td><td>0.0</td><td>21.0</td><td>null</td></tr>\n",
       "<tr><td>6f45755c48f1b4e98...</td><td>2.0</td><td>0.0</td><td>1.0</td><td>1.0</td><td>2.0</td><td>0.0</td><td>15.0</td><td>69.0</td></tr>\n",
       "<tr><td>229e078da68df21b4...</td><td>2.0</td><td>0.0</td><td>0.0</td><td>0.0</td><td>1.0</td><td>0.0</td><td>13.0</td><td>null</td></tr>\n",
       "<tr><td>94e84e829870062c2...</td><td>5.0</td><td>0.0</td><td>0.0</td><td>0.0</td><td>1.0</td><td>0.0</td><td>8.0</td><td>null</td></tr>\n",
       "</table>\n",
       "only showing top 20 rows\n"
      ],
      "text/plain": [
       "+--------------------+-----------+-----------+-------+--------------------+--------------+------------------+----------------------+----------------------+\n",
       "|           member_id|delinq_2yrs|delinq_amnt|pub_rec|pub_rec_bankruptcies|inq_last_6mths|total_rec_late_fee|mths_since_last_delinq|mths_since_last_record|\n",
       "+--------------------+-----------+-----------+-------+--------------------+--------------+------------------+----------------------+----------------------+\n",
       "|bfcec8da7b3f1fe83...|        1.0|        0.0|    0.0|                 0.0|           2.0|               0.0|                  11.0|                  null|\n",
       "|36399458db4295868...|        0.0|        0.0|    1.0|                 1.0|           0.0|               0.0|                  null|                  63.0|\n",
       "|e4912b650878ca941...|        0.0|        0.0|    0.0|                 0.0|           0.0|               0.0|                  67.0|                  null|\n",
       "|3d6f35ad2e2be4572...|        0.0|        0.0|    1.0|                 1.0|           0.0|               0.0|                  null|                  66.0|\n",
       "|478e1cd37e35c20f7...|        1.0|        0.0|    1.0|                 1.0|           0.0|               0.0|                  15.0|                 108.0|\n",
       "|a5d42e35cc0be2789...|        0.0|        0.0|    1.0|                 1.0|           1.0|               0.0|                  null|                  83.0|\n",
       "|7f3ef55c784bf6b16...|        0.0|        0.0|    0.0|                 0.0|           0.0|               0.0|                  41.0|                  null|\n",
       "|beb30abaeca08f49b...|        2.0|        0.0|    0.0|                 0.0|           0.0|               0.0|                  14.0|                  null|\n",
       "|233e5e6797dd0a68b...|        0.0|        0.0|    1.0|                 1.0|           1.0|               0.0|                  58.0|                  85.0|\n",
       "|c4b178ffaf80ed472...|        1.0|        0.0|    0.0|                 0.0|           0.0|               0.0|                  17.0|                  null|\n",
       "|7f45445bc792b29c7...|        0.0|        0.0|    0.0|                 0.0|           0.0|               0.0|                  38.0|                  null|\n",
       "|582a9b2d3a658ab05...|        0.0|        0.0|    0.0|                 0.0|           0.0|               0.0|                  null|                  null|\n",
       "|f67ba01e72eb5f109...|        0.0|        0.0|    0.0|                 0.0|           0.0|               0.0|                  74.0|                  null|\n",
       "|07e81491adcc0e7c3...|        0.0|        0.0|    0.0|                 0.0|           2.0|               0.0|                  null|                  null|\n",
       "|6f5c275cbae528914...|        0.0|        0.0|    0.0|                 0.0|           0.0|               0.0|                  null|                  null|\n",
       "|412a63a98577abf03...|        0.0|        0.0|    0.0|                 0.0|           1.0|               0.0|                  null|                  null|\n",
       "|47196375e82e575cb...|        1.0|        0.0|    0.0|                 0.0|           0.0|               0.0|                  21.0|                  null|\n",
       "|6f45755c48f1b4e98...|        2.0|        0.0|    1.0|                 1.0|           2.0|               0.0|                  15.0|                  69.0|\n",
       "|229e078da68df21b4...|        2.0|        0.0|    0.0|                 0.0|           1.0|               0.0|                  13.0|                  null|\n",
       "|94e84e829870062c2...|        5.0|        0.0|    0.0|                 0.0|           1.0|               0.0|                   8.0|                  null|\n",
       "+--------------------+-----------+-----------+-------+--------------------+--------------+------------------+----------------------+----------------------+\n",
       "only showing top 20 rows"
      ]
     },
     "execution_count": 43,
     "metadata": {},
     "output_type": "execute_result"
    }
   ],
   "source": [
    "loans_deafulter_raw_df"
   ]
  },
  {
   "cell_type": "code",
   "execution_count": 44,
   "id": "c95de4a6",
   "metadata": {},
   "outputs": [
    {
     "name": "stdout",
     "output_type": "stream",
     "text": [
      "root\n",
      " |-- member_id: string (nullable = true)\n",
      " |-- delinq_2yrs: string (nullable = true)\n",
      " |-- delinq_amnt: double (nullable = true)\n",
      " |-- pub_rec: string (nullable = true)\n",
      " |-- pub_rec_bankruptcies: double (nullable = true)\n",
      " |-- inq_last_6mths: string (nullable = true)\n",
      " |-- total_rec_late_fee: string (nullable = true)\n",
      " |-- mths_since_last_delinq: string (nullable = true)\n",
      " |-- mths_since_last_record: string (nullable = true)\n",
      "\n"
     ]
    }
   ],
   "source": [
    "loans_deafulter_raw_df.printSchema()"
   ]
  },
  {
   "cell_type": "code",
   "execution_count": 45,
   "id": "6db41874",
   "metadata": {},
   "outputs": [],
   "source": [
    "loans_deafulter_raw_df.createOrReplaceTempView(\"loans_defaulters\")"
   ]
  },
  {
   "cell_type": "code",
   "execution_count": 46,
   "id": "8b207a7d",
   "metadata": {},
   "outputs": [
    {
     "data": {
      "text/html": [
       "<table border='1'>\n",
       "<tr><th>delinq_2yrs</th></tr>\n",
       "<tr><td>1.0</td></tr>\n",
       "<tr><td>271 monthly payme...</td></tr>\n",
       "<tr><td>I bike to work on...</td></tr>\n",
       "<tr><td>183xx</td></tr>\n",
       "<tr><td>VISA and AMEX cre...</td></tr>\n",
       "<tr><td>etc. and I feel t...</td></tr>\n",
       "<tr><td>AZ</td></tr>\n",
       "<tr><td>017xx</td></tr>\n",
       "<tr><td>923xx</td></tr>\n",
       "<tr><td>446xx</td></tr>\n",
       "<tr><td>who is a financia...</td></tr>\n",
       "<tr><td>and all of that c...</td></tr>\n",
       "<tr><td>LA</td></tr>\n",
       "<tr><td>24.66</td></tr>\n",
       "<tr><td>and the removal o...</td></tr>\n",
       "<tr><td>I would like to c...</td></tr>\n",
       "<tr><td>12.24</td></tr>\n",
       "<tr><td>22.0</td></tr>\n",
       "<tr><td>so most of my inc...</td></tr>\n",
       "<tr><td>I would like to p...</td></tr>\n",
       "</table>\n",
       "only showing top 20 rows\n"
      ],
      "text/plain": [
       "+--------------------+\n",
       "|         delinq_2yrs|\n",
       "+--------------------+\n",
       "|                 1.0|\n",
       "|271 monthly payme...|\n",
       "|I bike to work on...|\n",
       "|               183xx|\n",
       "|VISA and AMEX cre...|\n",
       "|etc. and I feel t...|\n",
       "|                  AZ|\n",
       "|               017xx|\n",
       "|               923xx|\n",
       "|               446xx|\n",
       "|who is a financia...|\n",
       "|and all of that c...|\n",
       "|                  LA|\n",
       "|               24.66|\n",
       "|and the removal o...|\n",
       "|I would like to c...|\n",
       "|               12.24|\n",
       "|                22.0|\n",
       "|so most of my inc...|\n",
       "|I would like to p...|\n",
       "+--------------------+\n",
       "only showing top 20 rows"
      ]
     },
     "execution_count": 46,
     "metadata": {},
     "output_type": "execute_result"
    }
   ],
   "source": [
    "spark.sql(\"select distinct(delinq_2yrs) from loans_defaulters\")"
   ]
  },
  {
   "cell_type": "code",
   "execution_count": 47,
   "id": "404dede0",
   "metadata": {},
   "outputs": [
    {
     "data": {
      "text/html": [
       "<table border='1'>\n",
       "<tr><th>delinq_2yrs</th><th>total</th></tr>\n",
       "<tr><td>0.0</td><td>1838878</td></tr>\n",
       "<tr><td>1.0</td><td>281335</td></tr>\n",
       "<tr><td>2.0</td><td>81285</td></tr>\n",
       "<tr><td>3.0</td><td>29539</td></tr>\n",
       "<tr><td>4.0</td><td>13179</td></tr>\n",
       "<tr><td>5.0</td><td>6599</td></tr>\n",
       "<tr><td>6.0</td><td>3717</td></tr>\n",
       "<tr><td>7.0</td><td>2062</td></tr>\n",
       "<tr><td>8.0</td><td>1223</td></tr>\n",
       "<tr><td>9.0</td><td>818</td></tr>\n",
       "<tr><td>10.0</td><td>556</td></tr>\n",
       "<tr><td>11.0</td><td>363</td></tr>\n",
       "<tr><td>12.0</td><td>264</td></tr>\n",
       "<tr><td>13.0</td><td>165</td></tr>\n",
       "<tr><td>14.0</td><td>120</td></tr>\n",
       "<tr><td>15.0</td><td>87</td></tr>\n",
       "<tr><td>null</td><td>63</td></tr>\n",
       "<tr><td>16.0</td><td>55</td></tr>\n",
       "<tr><td>18.0</td><td>30</td></tr>\n",
       "<tr><td>17.0</td><td>30</td></tr>\n",
       "</table>\n",
       "only showing top 20 rows\n"
      ],
      "text/plain": [
       "+-----------+-------+\n",
       "|delinq_2yrs|  total|\n",
       "+-----------+-------+\n",
       "|        0.0|1838878|\n",
       "|        1.0| 281335|\n",
       "|        2.0|  81285|\n",
       "|        3.0|  29539|\n",
       "|        4.0|  13179|\n",
       "|        5.0|   6599|\n",
       "|        6.0|   3717|\n",
       "|        7.0|   2062|\n",
       "|        8.0|   1223|\n",
       "|        9.0|    818|\n",
       "|       10.0|    556|\n",
       "|       11.0|    363|\n",
       "|       12.0|    264|\n",
       "|       13.0|    165|\n",
       "|       14.0|    120|\n",
       "|       15.0|     87|\n",
       "|       null|     63|\n",
       "|       16.0|     55|\n",
       "|       18.0|     30|\n",
       "|       17.0|     30|\n",
       "+-----------+-------+\n",
       "only showing top 20 rows"
      ]
     },
     "execution_count": 47,
     "metadata": {},
     "output_type": "execute_result"
    }
   ],
   "source": [
    "spark.sql(\"select delinq_2yrs, count(*) as total from loans_defaulters group by delinq_2yrs order by total desc\")"
   ]
  },
  {
   "cell_type": "code",
   "execution_count": 48,
   "id": "39de5ec3",
   "metadata": {},
   "outputs": [],
   "source": [
    "loans_defaulter_schema = 'member_id string,delinq_2yrs float,delinq_amnt float,pub_rec float,pub_rec_bankruptcies float,inq_last_6mths float,total_rec_late_fee float,mths_since_last_delinq float,mths_since_last_record float'"
   ]
  },
  {
   "cell_type": "code",
   "execution_count": 49,
   "id": "3d2b3eac",
   "metadata": {},
   "outputs": [],
   "source": [
    "loans_defaulter_raw_df = spark.read.format(\"csv\").option(\"header\",True).schema(loans_defaulter_schema).load(\"/user/itv017244/lendingclubproject/raw/loans_defaulters_csv\")"
   ]
  },
  {
   "cell_type": "code",
   "execution_count": 50,
   "id": "31c3c442",
   "metadata": {},
   "outputs": [
    {
     "data": {
      "text/html": [
       "<table border='1'>\n",
       "<tr><th>member_id</th><th>delinq_2yrs</th><th>delinq_amnt</th><th>pub_rec</th><th>pub_rec_bankruptcies</th><th>inq_last_6mths</th><th>total_rec_late_fee</th><th>mths_since_last_delinq</th><th>mths_since_last_record</th></tr>\n",
       "<tr><td>bfcec8da7b3f1fe83...</td><td>1.0</td><td>0.0</td><td>0.0</td><td>0.0</td><td>2.0</td><td>0.0</td><td>11.0</td><td>null</td></tr>\n",
       "<tr><td>36399458db4295868...</td><td>0.0</td><td>0.0</td><td>1.0</td><td>1.0</td><td>0.0</td><td>0.0</td><td>null</td><td>63.0</td></tr>\n",
       "<tr><td>e4912b650878ca941...</td><td>0.0</td><td>0.0</td><td>0.0</td><td>0.0</td><td>0.0</td><td>0.0</td><td>67.0</td><td>null</td></tr>\n",
       "<tr><td>3d6f35ad2e2be4572...</td><td>0.0</td><td>0.0</td><td>1.0</td><td>1.0</td><td>0.0</td><td>0.0</td><td>null</td><td>66.0</td></tr>\n",
       "<tr><td>478e1cd37e35c20f7...</td><td>1.0</td><td>0.0</td><td>1.0</td><td>1.0</td><td>0.0</td><td>0.0</td><td>15.0</td><td>108.0</td></tr>\n",
       "<tr><td>a5d42e35cc0be2789...</td><td>0.0</td><td>0.0</td><td>1.0</td><td>1.0</td><td>1.0</td><td>0.0</td><td>null</td><td>83.0</td></tr>\n",
       "<tr><td>7f3ef55c784bf6b16...</td><td>0.0</td><td>0.0</td><td>0.0</td><td>0.0</td><td>0.0</td><td>0.0</td><td>41.0</td><td>null</td></tr>\n",
       "<tr><td>beb30abaeca08f49b...</td><td>2.0</td><td>0.0</td><td>0.0</td><td>0.0</td><td>0.0</td><td>0.0</td><td>14.0</td><td>null</td></tr>\n",
       "<tr><td>233e5e6797dd0a68b...</td><td>0.0</td><td>0.0</td><td>1.0</td><td>1.0</td><td>1.0</td><td>0.0</td><td>58.0</td><td>85.0</td></tr>\n",
       "<tr><td>c4b178ffaf80ed472...</td><td>1.0</td><td>0.0</td><td>0.0</td><td>0.0</td><td>0.0</td><td>0.0</td><td>17.0</td><td>null</td></tr>\n",
       "<tr><td>7f45445bc792b29c7...</td><td>0.0</td><td>0.0</td><td>0.0</td><td>0.0</td><td>0.0</td><td>0.0</td><td>38.0</td><td>null</td></tr>\n",
       "<tr><td>582a9b2d3a658ab05...</td><td>0.0</td><td>0.0</td><td>0.0</td><td>0.0</td><td>0.0</td><td>0.0</td><td>null</td><td>null</td></tr>\n",
       "<tr><td>f67ba01e72eb5f109...</td><td>0.0</td><td>0.0</td><td>0.0</td><td>0.0</td><td>0.0</td><td>0.0</td><td>74.0</td><td>null</td></tr>\n",
       "<tr><td>07e81491adcc0e7c3...</td><td>0.0</td><td>0.0</td><td>0.0</td><td>0.0</td><td>2.0</td><td>0.0</td><td>null</td><td>null</td></tr>\n",
       "<tr><td>6f5c275cbae528914...</td><td>0.0</td><td>0.0</td><td>0.0</td><td>0.0</td><td>0.0</td><td>0.0</td><td>null</td><td>null</td></tr>\n",
       "<tr><td>412a63a98577abf03...</td><td>0.0</td><td>0.0</td><td>0.0</td><td>0.0</td><td>1.0</td><td>0.0</td><td>null</td><td>null</td></tr>\n",
       "<tr><td>47196375e82e575cb...</td><td>1.0</td><td>0.0</td><td>0.0</td><td>0.0</td><td>0.0</td><td>0.0</td><td>21.0</td><td>null</td></tr>\n",
       "<tr><td>6f45755c48f1b4e98...</td><td>2.0</td><td>0.0</td><td>1.0</td><td>1.0</td><td>2.0</td><td>0.0</td><td>15.0</td><td>69.0</td></tr>\n",
       "<tr><td>229e078da68df21b4...</td><td>2.0</td><td>0.0</td><td>0.0</td><td>0.0</td><td>1.0</td><td>0.0</td><td>13.0</td><td>null</td></tr>\n",
       "<tr><td>94e84e829870062c2...</td><td>5.0</td><td>0.0</td><td>0.0</td><td>0.0</td><td>1.0</td><td>0.0</td><td>8.0</td><td>null</td></tr>\n",
       "</table>\n",
       "only showing top 20 rows\n"
      ],
      "text/plain": [
       "+--------------------+-----------+-----------+-------+--------------------+--------------+------------------+----------------------+----------------------+\n",
       "|           member_id|delinq_2yrs|delinq_amnt|pub_rec|pub_rec_bankruptcies|inq_last_6mths|total_rec_late_fee|mths_since_last_delinq|mths_since_last_record|\n",
       "+--------------------+-----------+-----------+-------+--------------------+--------------+------------------+----------------------+----------------------+\n",
       "|bfcec8da7b3f1fe83...|        1.0|        0.0|    0.0|                 0.0|           2.0|               0.0|                  11.0|                  null|\n",
       "|36399458db4295868...|        0.0|        0.0|    1.0|                 1.0|           0.0|               0.0|                  null|                  63.0|\n",
       "|e4912b650878ca941...|        0.0|        0.0|    0.0|                 0.0|           0.0|               0.0|                  67.0|                  null|\n",
       "|3d6f35ad2e2be4572...|        0.0|        0.0|    1.0|                 1.0|           0.0|               0.0|                  null|                  66.0|\n",
       "|478e1cd37e35c20f7...|        1.0|        0.0|    1.0|                 1.0|           0.0|               0.0|                  15.0|                 108.0|\n",
       "|a5d42e35cc0be2789...|        0.0|        0.0|    1.0|                 1.0|           1.0|               0.0|                  null|                  83.0|\n",
       "|7f3ef55c784bf6b16...|        0.0|        0.0|    0.0|                 0.0|           0.0|               0.0|                  41.0|                  null|\n",
       "|beb30abaeca08f49b...|        2.0|        0.0|    0.0|                 0.0|           0.0|               0.0|                  14.0|                  null|\n",
       "|233e5e6797dd0a68b...|        0.0|        0.0|    1.0|                 1.0|           1.0|               0.0|                  58.0|                  85.0|\n",
       "|c4b178ffaf80ed472...|        1.0|        0.0|    0.0|                 0.0|           0.0|               0.0|                  17.0|                  null|\n",
       "|7f45445bc792b29c7...|        0.0|        0.0|    0.0|                 0.0|           0.0|               0.0|                  38.0|                  null|\n",
       "|582a9b2d3a658ab05...|        0.0|        0.0|    0.0|                 0.0|           0.0|               0.0|                  null|                  null|\n",
       "|f67ba01e72eb5f109...|        0.0|        0.0|    0.0|                 0.0|           0.0|               0.0|                  74.0|                  null|\n",
       "|07e81491adcc0e7c3...|        0.0|        0.0|    0.0|                 0.0|           2.0|               0.0|                  null|                  null|\n",
       "|6f5c275cbae528914...|        0.0|        0.0|    0.0|                 0.0|           0.0|               0.0|                  null|                  null|\n",
       "|412a63a98577abf03...|        0.0|        0.0|    0.0|                 0.0|           1.0|               0.0|                  null|                  null|\n",
       "|47196375e82e575cb...|        1.0|        0.0|    0.0|                 0.0|           0.0|               0.0|                  21.0|                  null|\n",
       "|6f45755c48f1b4e98...|        2.0|        0.0|    1.0|                 1.0|           2.0|               0.0|                  15.0|                  69.0|\n",
       "|229e078da68df21b4...|        2.0|        0.0|    0.0|                 0.0|           1.0|               0.0|                  13.0|                  null|\n",
       "|94e84e829870062c2...|        5.0|        0.0|    0.0|                 0.0|           1.0|               0.0|                   8.0|                  null|\n",
       "+--------------------+-----------+-----------+-------+--------------------+--------------+------------------+----------------------+----------------------+\n",
       "only showing top 20 rows"
      ]
     },
     "execution_count": 50,
     "metadata": {},
     "output_type": "execute_result"
    }
   ],
   "source": [
    "loans_defaulter_raw_df"
   ]
  },
  {
   "cell_type": "code",
   "execution_count": 51,
   "id": "2340f878",
   "metadata": {},
   "outputs": [],
   "source": [
    "loans_defaulter_raw_df.createOrReplaceTempView(\"loans_defaulters\")"
   ]
  },
  {
   "cell_type": "code",
   "execution_count": 52,
   "id": "13497213",
   "metadata": {},
   "outputs": [
    {
     "data": {
      "text/html": [
       "<table border='1'>\n",
       "<tr><th>delinq_2yrs</th><th>total</th></tr>\n",
       "<tr><td>0.0</td><td>1838878</td></tr>\n",
       "<tr><td>1.0</td><td>281335</td></tr>\n",
       "<tr><td>2.0</td><td>81285</td></tr>\n",
       "<tr><td>3.0</td><td>29539</td></tr>\n",
       "<tr><td>4.0</td><td>13179</td></tr>\n",
       "<tr><td>5.0</td><td>6599</td></tr>\n",
       "<tr><td>6.0</td><td>3717</td></tr>\n",
       "<tr><td>7.0</td><td>2062</td></tr>\n",
       "<tr><td>8.0</td><td>1223</td></tr>\n",
       "<tr><td>9.0</td><td>818</td></tr>\n",
       "<tr><td>10.0</td><td>556</td></tr>\n",
       "<tr><td>11.0</td><td>363</td></tr>\n",
       "<tr><td>12.0</td><td>264</td></tr>\n",
       "<tr><td>null</td><td>261</td></tr>\n",
       "<tr><td>13.0</td><td>165</td></tr>\n",
       "<tr><td>14.0</td><td>120</td></tr>\n",
       "<tr><td>15.0</td><td>87</td></tr>\n",
       "<tr><td>16.0</td><td>55</td></tr>\n",
       "<tr><td>18.0</td><td>30</td></tr>\n",
       "<tr><td>17.0</td><td>30</td></tr>\n",
       "</table>\n",
       "only showing top 20 rows\n"
      ],
      "text/plain": [
       "+-----------+-------+\n",
       "|delinq_2yrs|  total|\n",
       "+-----------+-------+\n",
       "|        0.0|1838878|\n",
       "|        1.0| 281335|\n",
       "|        2.0|  81285|\n",
       "|        3.0|  29539|\n",
       "|        4.0|  13179|\n",
       "|        5.0|   6599|\n",
       "|        6.0|   3717|\n",
       "|        7.0|   2062|\n",
       "|        8.0|   1223|\n",
       "|        9.0|    818|\n",
       "|       10.0|    556|\n",
       "|       11.0|    363|\n",
       "|       12.0|    264|\n",
       "|       null|    261|\n",
       "|       13.0|    165|\n",
       "|       14.0|    120|\n",
       "|       15.0|     87|\n",
       "|       16.0|     55|\n",
       "|       18.0|     30|\n",
       "|       17.0|     30|\n",
       "+-----------+-------+\n",
       "only showing top 20 rows"
      ]
     },
     "execution_count": 52,
     "metadata": {},
     "output_type": "execute_result"
    }
   ],
   "source": [
    "spark.sql(\"select delinq_2yrs, count(*) as total from loans_defaulters group by delinq_2yrs order by total desc\")"
   ]
  },
  {
   "cell_type": "code",
   "execution_count": 53,
   "id": "1f468bf1",
   "metadata": {},
   "outputs": [],
   "source": [
    "from pyspark.sql.functions import col"
   ]
  },
  {
   "cell_type": "code",
   "execution_count": 54,
   "id": "3e8ab9ee",
   "metadata": {},
   "outputs": [],
   "source": [
    "loans_def_processed_df = loans_defaulter_raw_df.withColumn(\"delinq_2yrs\", col(\"delinq_2yrs\").cast(\"integer\")).fillna(0,subset = [\"delinq_2yrs\"])"
   ]
  },
  {
   "cell_type": "code",
   "execution_count": 55,
   "id": "78a08e39",
   "metadata": {},
   "outputs": [],
   "source": [
    "loans_def_processed_df.createOrReplaceTempView(\"loans_defaulters\")"
   ]
  },
  {
   "cell_type": "code",
   "execution_count": 56,
   "id": "2744cb3d",
   "metadata": {},
   "outputs": [
    {
     "data": {
      "text/html": [
       "<table border='1'>\n",
       "<tr><th>delinq_2yrs</th><th>total</th></tr>\n",
       "<tr><td>0</td><td>1839141</td></tr>\n",
       "<tr><td>1</td><td>281337</td></tr>\n",
       "<tr><td>2</td><td>81285</td></tr>\n",
       "<tr><td>3</td><td>29545</td></tr>\n",
       "<tr><td>4</td><td>13180</td></tr>\n",
       "<tr><td>5</td><td>6601</td></tr>\n",
       "<tr><td>6</td><td>3719</td></tr>\n",
       "<tr><td>7</td><td>2063</td></tr>\n",
       "<tr><td>8</td><td>1226</td></tr>\n",
       "<tr><td>9</td><td>821</td></tr>\n",
       "<tr><td>10</td><td>558</td></tr>\n",
       "<tr><td>11</td><td>363</td></tr>\n",
       "<tr><td>12</td><td>266</td></tr>\n",
       "<tr><td>13</td><td>167</td></tr>\n",
       "<tr><td>14</td><td>123</td></tr>\n",
       "<tr><td>15</td><td>90</td></tr>\n",
       "<tr><td>16</td><td>56</td></tr>\n",
       "<tr><td>17</td><td>33</td></tr>\n",
       "<tr><td>18</td><td>32</td></tr>\n",
       "<tr><td>19</td><td>24</td></tr>\n",
       "</table>\n",
       "only showing top 20 rows\n"
      ],
      "text/plain": [
       "+-----------+-------+\n",
       "|delinq_2yrs|  total|\n",
       "+-----------+-------+\n",
       "|          0|1839141|\n",
       "|          1| 281337|\n",
       "|          2|  81285|\n",
       "|          3|  29545|\n",
       "|          4|  13180|\n",
       "|          5|   6601|\n",
       "|          6|   3719|\n",
       "|          7|   2063|\n",
       "|          8|   1226|\n",
       "|          9|    821|\n",
       "|         10|    558|\n",
       "|         11|    363|\n",
       "|         12|    266|\n",
       "|         13|    167|\n",
       "|         14|    123|\n",
       "|         15|     90|\n",
       "|         16|     56|\n",
       "|         17|     33|\n",
       "|         18|     32|\n",
       "|         19|     24|\n",
       "+-----------+-------+\n",
       "only showing top 20 rows"
      ]
     },
     "execution_count": 56,
     "metadata": {},
     "output_type": "execute_result"
    }
   ],
   "source": [
    "spark.sql(\"select delinq_2yrs, count(*) as total from loans_defaulters group by delinq_2yrs order by total desc\")"
   ]
  },
  {
   "cell_type": "code",
   "execution_count": 57,
   "id": "0d925a25",
   "metadata": {},
   "outputs": [
    {
     "name": "stdout",
     "output_type": "stream",
     "text": [
      "+--------------------+-----------+-----------+-------+--------------------+--------------+------------------+----------------------+----------------------+\n",
      "|           member_id|delinq_2yrs|delinq_amnt|pub_rec|pub_rec_bankruptcies|inq_last_6mths|total_rec_late_fee|mths_since_last_delinq|mths_since_last_record|\n",
      "+--------------------+-----------+-----------+-------+--------------------+--------------+------------------+----------------------+----------------------+\n",
      "|bfcec8da7b3f1fe83...|          1|        0.0|    0.0|                 0.0|           2.0|               0.0|                  11.0|                  null|\n",
      "|36399458db4295868...|          0|        0.0|    1.0|                 1.0|           0.0|               0.0|                  null|                  63.0|\n",
      "+--------------------+-----------+-----------+-------+--------------------+--------------+------------------+----------------------+----------------------+\n",
      "only showing top 2 rows\n",
      "\n"
     ]
    }
   ],
   "source": [
    "spark.sql(\"select * from loans_defaulters\").show(2)"
   ]
  },
  {
   "cell_type": "code",
   "execution_count": 58,
   "id": "5c7be5ff",
   "metadata": {},
   "outputs": [],
   "source": [
    "loans_def_delinq_df= spark.sql(\"select member_id, delinq_2yrs,delinq_amnt, int(mths_since_last_delinq) from loans_defaulters where delinq_2yrs>0 or mths_since_last_delinq>0 \")"
   ]
  },
  {
   "cell_type": "code",
   "execution_count": 59,
   "id": "76404294",
   "metadata": {},
   "outputs": [
    {
     "data": {
      "text/html": [
       "<table border='1'>\n",
       "<tr><th>member_id</th><th>delinq_2yrs</th><th>delinq_amnt</th><th>mths_since_last_delinq</th></tr>\n",
       "<tr><td>bfcec8da7b3f1fe83...</td><td>1</td><td>0.0</td><td>11</td></tr>\n",
       "<tr><td>e4912b650878ca941...</td><td>0</td><td>0.0</td><td>67</td></tr>\n",
       "<tr><td>478e1cd37e35c20f7...</td><td>1</td><td>0.0</td><td>15</td></tr>\n",
       "<tr><td>7f3ef55c784bf6b16...</td><td>0</td><td>0.0</td><td>41</td></tr>\n",
       "<tr><td>beb30abaeca08f49b...</td><td>2</td><td>0.0</td><td>14</td></tr>\n",
       "<tr><td>233e5e6797dd0a68b...</td><td>0</td><td>0.0</td><td>58</td></tr>\n",
       "<tr><td>c4b178ffaf80ed472...</td><td>1</td><td>0.0</td><td>17</td></tr>\n",
       "<tr><td>7f45445bc792b29c7...</td><td>0</td><td>0.0</td><td>38</td></tr>\n",
       "<tr><td>f67ba01e72eb5f109...</td><td>0</td><td>0.0</td><td>74</td></tr>\n",
       "<tr><td>47196375e82e575cb...</td><td>1</td><td>0.0</td><td>21</td></tr>\n",
       "<tr><td>6f45755c48f1b4e98...</td><td>2</td><td>0.0</td><td>15</td></tr>\n",
       "<tr><td>229e078da68df21b4...</td><td>2</td><td>0.0</td><td>13</td></tr>\n",
       "<tr><td>94e84e829870062c2...</td><td>5</td><td>0.0</td><td>8</td></tr>\n",
       "<tr><td>8ba04b7205bd402cb...</td><td>0</td><td>0.0</td><td>64</td></tr>\n",
       "<tr><td>acadbd304bf5b17f0...</td><td>0</td><td>0.0</td><td>28</td></tr>\n",
       "<tr><td>7946f2fb3939438ca...</td><td>1</td><td>0.0</td><td>5</td></tr>\n",
       "<tr><td>b503a2404117daca1...</td><td>0</td><td>0.0</td><td>61</td></tr>\n",
       "<tr><td>c4740b15a1f14bd63...</td><td>2</td><td>0.0</td><td>9</td></tr>\n",
       "<tr><td>c4eee6c4d7ffa3aef...</td><td>1</td><td>0.0</td><td>22</td></tr>\n",
       "<tr><td>fab1fdff1f809fa19...</td><td>1</td><td>0.0</td><td>2</td></tr>\n",
       "</table>\n",
       "only showing top 20 rows\n"
      ],
      "text/plain": [
       "+--------------------+-----------+-----------+----------------------+\n",
       "|           member_id|delinq_2yrs|delinq_amnt|mths_since_last_delinq|\n",
       "+--------------------+-----------+-----------+----------------------+\n",
       "|bfcec8da7b3f1fe83...|          1|        0.0|                    11|\n",
       "|e4912b650878ca941...|          0|        0.0|                    67|\n",
       "|478e1cd37e35c20f7...|          1|        0.0|                    15|\n",
       "|7f3ef55c784bf6b16...|          0|        0.0|                    41|\n",
       "|beb30abaeca08f49b...|          2|        0.0|                    14|\n",
       "|233e5e6797dd0a68b...|          0|        0.0|                    58|\n",
       "|c4b178ffaf80ed472...|          1|        0.0|                    17|\n",
       "|7f45445bc792b29c7...|          0|        0.0|                    38|\n",
       "|f67ba01e72eb5f109...|          0|        0.0|                    74|\n",
       "|47196375e82e575cb...|          1|        0.0|                    21|\n",
       "|6f45755c48f1b4e98...|          2|        0.0|                    15|\n",
       "|229e078da68df21b4...|          2|        0.0|                    13|\n",
       "|94e84e829870062c2...|          5|        0.0|                     8|\n",
       "|8ba04b7205bd402cb...|          0|        0.0|                    64|\n",
       "|acadbd304bf5b17f0...|          0|        0.0|                    28|\n",
       "|7946f2fb3939438ca...|          1|        0.0|                     5|\n",
       "|b503a2404117daca1...|          0|        0.0|                    61|\n",
       "|c4740b15a1f14bd63...|          2|        0.0|                     9|\n",
       "|c4eee6c4d7ffa3aef...|          1|        0.0|                    22|\n",
       "|fab1fdff1f809fa19...|          1|        0.0|                     2|\n",
       "+--------------------+-----------+-----------+----------------------+\n",
       "only showing top 20 rows"
      ]
     },
     "execution_count": 59,
     "metadata": {},
     "output_type": "execute_result"
    }
   ],
   "source": [
    "loans_def_delinq_df"
   ]
  },
  {
   "cell_type": "code",
   "execution_count": 60,
   "id": "8a894759",
   "metadata": {},
   "outputs": [
    {
     "name": "stdout",
     "output_type": "stream",
     "text": [
      "+--------------------+-----------+-----------+-------+--------------------+--------------+------------------+----------------------+----------------------+\n",
      "|           member_id|delinq_2yrs|delinq_amnt|pub_rec|pub_rec_bankruptcies|inq_last_6mths|total_rec_late_fee|mths_since_last_delinq|mths_since_last_record|\n",
      "+--------------------+-----------+-----------+-------+--------------------+--------------+------------------+----------------------+----------------------+\n",
      "|bfcec8da7b3f1fe83...|          1|        0.0|    0.0|                 0.0|           2.0|               0.0|                  11.0|                  null|\n",
      "|36399458db4295868...|          0|        0.0|    1.0|                 1.0|           0.0|               0.0|                  null|                  63.0|\n",
      "+--------------------+-----------+-----------+-------+--------------------+--------------+------------------+----------------------+----------------------+\n",
      "only showing top 2 rows\n",
      "\n"
     ]
    }
   ],
   "source": [
    "spark.sql(\"select * from loans_defaulters\").show(2)"
   ]
  },
  {
   "cell_type": "code",
   "execution_count": 61,
   "id": "b9a2cc2a",
   "metadata": {},
   "outputs": [],
   "source": [
    "loans_def_records_enq_df= spark.sql(\"select member_id from loans_defaulters where pub_rec>0.0 or pub_rec_bankruptcies>0.0 or inq_last_6mths>0.0 \")"
   ]
  },
  {
   "cell_type": "code",
   "execution_count": 62,
   "id": "dcfd8811",
   "metadata": {},
   "outputs": [
    {
     "data": {
      "text/html": [
       "<table border='1'>\n",
       "<tr><th>member_id</th></tr>\n",
       "<tr><td>bfcec8da7b3f1fe83...</td></tr>\n",
       "<tr><td>36399458db4295868...</td></tr>\n",
       "<tr><td>3d6f35ad2e2be4572...</td></tr>\n",
       "<tr><td>478e1cd37e35c20f7...</td></tr>\n",
       "<tr><td>a5d42e35cc0be2789...</td></tr>\n",
       "<tr><td>233e5e6797dd0a68b...</td></tr>\n",
       "<tr><td>07e81491adcc0e7c3...</td></tr>\n",
       "<tr><td>412a63a98577abf03...</td></tr>\n",
       "<tr><td>6f45755c48f1b4e98...</td></tr>\n",
       "<tr><td>229e078da68df21b4...</td></tr>\n",
       "<tr><td>94e84e829870062c2...</td></tr>\n",
       "<tr><td>acadbd304bf5b17f0...</td></tr>\n",
       "<tr><td>48a42801de99bd7a1...</td></tr>\n",
       "<tr><td>b503a2404117daca1...</td></tr>\n",
       "<tr><td>77b41dc2cfa6886c5...</td></tr>\n",
       "<tr><td>c4eee6c4d7ffa3aef...</td></tr>\n",
       "<tr><td>2daf5b2cfce333936...</td></tr>\n",
       "<tr><td>cb4acf7bedcb9d4a7...</td></tr>\n",
       "<tr><td>207029259e7542493...</td></tr>\n",
       "<tr><td>f6363d7ede91e05dd...</td></tr>\n",
       "</table>\n",
       "only showing top 20 rows\n"
      ],
      "text/plain": [
       "+--------------------+\n",
       "|           member_id|\n",
       "+--------------------+\n",
       "|bfcec8da7b3f1fe83...|\n",
       "|36399458db4295868...|\n",
       "|3d6f35ad2e2be4572...|\n",
       "|478e1cd37e35c20f7...|\n",
       "|a5d42e35cc0be2789...|\n",
       "|233e5e6797dd0a68b...|\n",
       "|07e81491adcc0e7c3...|\n",
       "|412a63a98577abf03...|\n",
       "|6f45755c48f1b4e98...|\n",
       "|229e078da68df21b4...|\n",
       "|94e84e829870062c2...|\n",
       "|acadbd304bf5b17f0...|\n",
       "|48a42801de99bd7a1...|\n",
       "|b503a2404117daca1...|\n",
       "|77b41dc2cfa6886c5...|\n",
       "|c4eee6c4d7ffa3aef...|\n",
       "|2daf5b2cfce333936...|\n",
       "|cb4acf7bedcb9d4a7...|\n",
       "|207029259e7542493...|\n",
       "|f6363d7ede91e05dd...|\n",
       "+--------------------+\n",
       "only showing top 20 rows"
      ]
     },
     "execution_count": 62,
     "metadata": {},
     "output_type": "execute_result"
    }
   ],
   "source": [
    "loans_def_records_enq_df"
   ]
  },
  {
   "cell_type": "code",
   "execution_count": 63,
   "id": "81bef212",
   "metadata": {},
   "outputs": [],
   "source": [
    "loans_def_delinq_df.write.option(\"header\", True).format(\"csv\").mode(\"overwrite\").option(\"path\",\"/user/itv017244/lendingclubproject/cleaned/loan_deafulters_delinq_csv\").save()"
   ]
  },
  {
   "cell_type": "code",
   "execution_count": 64,
   "id": "8149a2d4",
   "metadata": {},
   "outputs": [],
   "source": [
    "loans_def_delinq_df.write.format(\"parquet\").mode(\"overwrite\").option(\"path\",\"/user/itv017244/lendingclubproject/cleaned/loan_defaulters_delinq_parquet\").save()"
   ]
  },
  {
   "cell_type": "code",
   "execution_count": 65,
   "id": "d8d20d03",
   "metadata": {},
   "outputs": [],
   "source": [
    "loans_def_records_enq_df.write.option(\"header\", True).format(\"csv\").mode(\"overwrite\").option(\"path\",\"/user/itv017244/lendingclubproject/cleaned/loan_deafulters_records_enq_csv\").save()"
   ]
  },
  {
   "cell_type": "code",
   "execution_count": 66,
   "id": "b9a639bf",
   "metadata": {},
   "outputs": [],
   "source": [
    "loans_def_records_enq_df.write.format(\"parquet\").mode(\"overwrite\").option(\"path\",\"/user/itv017244/lendingclubproject/cleaned/loan_defaulters_records_enq_parquet\").save()"
   ]
  },
  {
   "cell_type": "code",
   "execution_count": 67,
   "id": "452bd005",
   "metadata": {},
   "outputs": [],
   "source": [
    "loans_def_p_pub_rec_df = loans_def_processed_df.withColumn(\"pub_rec\", col(\"pub_rec\").cast(\"integer\")).fillna(0,subset = [\"pub_rec\"])"
   ]
  },
  {
   "cell_type": "code",
   "execution_count": 68,
   "id": "65bb258b",
   "metadata": {},
   "outputs": [],
   "source": [
    "loans_def_p_pub_rec_bankruptcies_df = loans_def_p_pub_rec_df.withColumn(\"pub_rec_bankruptcies\", col(\"pub_rec_bankruptcies\").cast(\"integer\")).fillna(0,subset = [\"pub_rec_bankruptcies\"])"
   ]
  },
  {
   "cell_type": "code",
   "execution_count": 69,
   "id": "dd6977ab",
   "metadata": {},
   "outputs": [],
   "source": [
    "loans_def_p_inq_last_6mths_df = loans_def_p_pub_rec_bankruptcies_df.withColumn(\"inq_last_6mths\", col(\"inq_last_6mths\").cast(\"integer\")).fillna(0,subset = [\"inq_last_6mths\"])"
   ]
  },
  {
   "cell_type": "code",
   "execution_count": 70,
   "id": "572fda93",
   "metadata": {},
   "outputs": [],
   "source": [
    "loans_def_p_inq_last_6mths_df.createOrReplaceTempView(\"loans_defaulters\")"
   ]
  },
  {
   "cell_type": "code",
   "execution_count": 71,
   "id": "6c7322b8",
   "metadata": {},
   "outputs": [],
   "source": [
    "loans_def_detail_records_enq_df= spark.sql(\"select member_id,pub_rec,pub_rec_bankruptcies,inq_last_6mths from loans_defaulters\")"
   ]
  },
  {
   "cell_type": "code",
   "execution_count": 72,
   "id": "2c427e42",
   "metadata": {},
   "outputs": [],
   "source": [
    "loans_def_detail_records_enq_df.write.option(\"header\", True).format(\"csv\").mode(\"overwrite\").option(\"path\",\"/user/itv017244/lendingclubproject/cleaned/loan_deafulters_detail_records_enq_csv\").save()"
   ]
  },
  {
   "cell_type": "code",
   "execution_count": 73,
   "id": "c0096807",
   "metadata": {},
   "outputs": [],
   "source": [
    "loans_def_detail_records_enq_df.write.format(\"parquet\").mode(\"overwrite\").option(\"path\",\"/user/itv017244/lendingclubproject/cleaned/loan_defaulters_detail_records_enq_parquet\").save()"
   ]
  },
  {
   "cell_type": "code",
   "execution_count": null,
   "id": "505b6ac6",
   "metadata": {},
   "outputs": [],
   "source": [
    "spark.stop()"
   ]
  }
 ],
 "metadata": {
  "kernelspec": {
   "display_name": "Pyspark 3",
   "language": "python",
   "name": "pyspark3"
  },
  "language_info": {
   "codemirror_mode": {
    "name": "ipython",
    "version": 3
   },
   "file_extension": ".py",
   "mimetype": "text/x-python",
   "name": "python",
   "nbconvert_exporter": "python",
   "pygments_lexer": "ipython3",
   "version": "3.6.12"
  }
 },
 "nbformat": 4,
 "nbformat_minor": 5
}
