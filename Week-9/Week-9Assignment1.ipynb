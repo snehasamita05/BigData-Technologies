{
 "cells": [
  {
   "cell_type": "code",
   "execution_count": 53,
   "id": "281d9afa",
   "metadata": {},
   "outputs": [],
   "source": [
    "from pyspark.sql import SparkSession\n",
    "import getpass\n",
    "username = getpass.getuser()\n",
    "spark = SparkSession. \\\n",
    "builder. \\\n",
    "appName(\"Sneha Spark Session\").\\\n",
    "config(\"spark.sql.warehouse.dir\", f\"/user/{username}/warehouse\"). \\\n",
    "enableHiveSupport(). \\\n",
    "master('yarn'). \\\n",
    "getOrCreate()"
   ]
  },
  {
   "cell_type": "code",
   "execution_count": 54,
   "id": "01d7baf6",
   "metadata": {},
   "outputs": [
    {
     "data": {
      "text/html": [
       "\n",
       "            <div>\n",
       "                <p><b>SparkSession - hive</b></p>\n",
       "                \n",
       "        <div>\n",
       "            <p><b>SparkContext</b></p>\n",
       "\n",
       "            <p><a href=\"http://g01.itversity.com:4040\">Spark UI</a></p>\n",
       "\n",
       "            <dl>\n",
       "              <dt>Version</dt>\n",
       "                <dd><code>v3.1.2</code></dd>\n",
       "              <dt>Master</dt>\n",
       "                <dd><code>yarn</code></dd>\n",
       "              <dt>AppName</dt>\n",
       "                <dd><code>Sneha Spark Session</code></dd>\n",
       "            </dl>\n",
       "        </div>\n",
       "        \n",
       "            </div>\n",
       "        "
      ],
      "text/plain": [
       "<pyspark.sql.session.SparkSession at 0x7f2cc5153a58>"
      ]
     },
     "execution_count": 54,
     "metadata": {},
     "output_type": "execute_result"
    }
   ],
   "source": [
    "spark"
   ]
  },
  {
   "cell_type": "code",
   "execution_count": 55,
   "id": "99b33a72",
   "metadata": {},
   "outputs": [],
   "source": [
    "from pyspark.sql.types import StructType, StructField, StringType, IntegerType, ArrayType"
   ]
  },
  {
   "cell_type": "code",
   "execution_count": 56,
   "id": "a9aeaf69",
   "metadata": {},
   "outputs": [],
   "source": [
    "user_schema = StructType([\n",
    "                        StructField(\"user_id\", IntegerType(),nullable = False),\n",
    "                        StructField(\"user_first_name\", StringType(),nullable = False),\n",
    "                        StructField(\"user_last_name\", StringType(),nullable = False),\n",
    "                        StructField(\"user_email\", StringType(),nullable = False),\n",
    "                        StructField(\"user_gender\", StringType(),nullable = False),\n",
    "                        StructField(\"user_phone_numbers\", ArrayType(StringType()),nullable=True),\n",
    "                        StructField(\"user_address\", StructType([\n",
    "                        StructField(\"street\", StringType(), nullable=False),\n",
    "                        StructField(\"city\", StringType(), nullable=False),\n",
    "                        StructField(\"state\", StringType(), nullable=False),\n",
    "                        StructField(\"postal_code\", StringType(), nullable=False),\n",
    "                        ]), nullable=False)\n",
    "                        ])"
   ]
  },
  {
   "cell_type": "code",
   "execution_count": 57,
   "id": "1cb60dc1",
   "metadata": {},
   "outputs": [],
   "source": [
    "sms_df = spark.read.format(\"json\").schema(user_schema).load(\"/public/sms/users\")"
   ]
  },
  {
   "cell_type": "code",
   "execution_count": 58,
   "id": "6c2e62f7",
   "metadata": {},
   "outputs": [
    {
     "data": {
      "text/plain": [
       "3"
      ]
     },
     "execution_count": 58,
     "metadata": {},
     "output_type": "execute_result"
    }
   ],
   "source": [
    "sms_df.rdd.getNumPartitions()"
   ]
  },
  {
   "cell_type": "code",
   "execution_count": 59,
   "id": "66ecbdc3",
   "metadata": {},
   "outputs": [
    {
     "data": {
      "text/plain": [
       "1000000"
      ]
     },
     "execution_count": 59,
     "metadata": {},
     "output_type": "execute_result"
    }
   ],
   "source": [
    "sms_df.count()"
   ]
  },
  {
   "cell_type": "code",
   "execution_count": 60,
   "id": "bd3096a1",
   "metadata": {},
   "outputs": [
    {
     "data": {
      "text/html": [
       "<table border='1'>\n",
       "<tr><th>user_id</th><th>user_first_name</th><th>user_last_name</th><th>user_email</th><th>user_gender</th><th>user_phone_numbers</th><th>user_address</th></tr>\n",
       "<tr><td>300001</td><td>Abramo</td><td>Jaggi</td><td>ajaggi0@biglobe.n...</td><td>Male</td><td>[7183860953, 2149...</td><td>{27777 Loftsgordo...</td></tr>\n",
       "<tr><td>300002</td><td>Honey</td><td>Lacase</td><td>hlacase1@dedecms.com</td><td>Female</td><td>[2039620506, 3129...</td><td>{86340 Sherman Al...</td></tr>\n",
       "</table>\n"
      ],
      "text/plain": [
       "+-------+---------------+--------------+--------------------+-----------+--------------------+--------------------+\n",
       "|user_id|user_first_name|user_last_name|          user_email|user_gender|  user_phone_numbers|        user_address|\n",
       "+-------+---------------+--------------+--------------------+-----------+--------------------+--------------------+\n",
       "| 200001|         Eirena|     Cutsforth|ecutsforth0@wisc.edu|     Female|[4197404036, 9173...|{8 Warrior Drive,...|\n",
       "| 200002|          Marja|      Shopcott|mshopcott1@hexun.com|     Female|[9542037028, 2128...|{66 Prairieview T...|\n",
       "+-------+---------------+--------------+--------------------+-----------+--------------------+--------------------+"
      ]
     },
     "execution_count": 60,
     "metadata": {},
     "output_type": "execute_result"
    }
   ],
   "source": [
    "sms_df.limit(2)"
   ]
  },
  {
   "cell_type": "code",
   "execution_count": 61,
   "id": "66cb66e4",
   "metadata": {},
   "outputs": [],
   "source": [
    "from pyspark.sql.functions import col, size"
   ]
  },
  {
   "cell_type": "code",
   "execution_count": 62,
   "id": "d5e2e346",
   "metadata": {},
   "outputs": [],
   "source": [
    "sms_df.withColumn(\"user_street\",col(\"user_address.street\"))\\\n",
    "      .withColumn(\"user_city\",col(\"user_address.city\"))\\\n",
    "      .withColumn(\"user_state\",col(\"user_address.state\"))\\\n",
    "      .withColumn(\"user_postal_code\",col(\"user_address.postal_code\"))\\\n",
    "      .withColumn(\"num_phn_numbers\",size(col(\"user_phone_numbers\"))).createOrReplaceTempView(\"user_vw\")"
   ]
  },
  {
   "cell_type": "code",
   "execution_count": 63,
   "id": "5068ebeb",
   "metadata": {},
   "outputs": [
    {
     "name": "stdout",
     "output_type": "stream",
     "text": [
      "+--------+\n",
      "|user_cnt|\n",
      "+--------+\n",
      "|   49576|\n",
      "+--------+\n",
      "\n"
     ]
    }
   ],
   "source": [
    "spark.sql(\"select count(distinct(user_Id)) as user_cnt from user_vw where user_state = 'New York'\").show()"
   ]
  },
  {
   "cell_type": "code",
   "execution_count": 64,
   "id": "fa4e14ad",
   "metadata": {},
   "outputs": [
    {
     "data": {
      "text/html": [
       "<table border='1'>\n",
       "<tr><th>cnt</th><th>user_state</th></tr>\n",
       "<tr><td>206</td><td>California</td></tr>\n",
       "</table>\n"
      ],
      "text/plain": [
       "+---+----------+\n",
       "|cnt|user_state|\n",
       "+---+----------+\n",
       "|206|California|\n",
       "+---+----------+"
      ]
     },
     "execution_count": 64,
     "metadata": {},
     "output_type": "execute_result"
    }
   ],
   "source": [
    "spark.sql(\"select count(distinct(user_postal_code)) as cnt,user_state from user_vw group by user_state order by cnt desc limit(1)\")"
   ]
  },
  {
   "cell_type": "code",
   "execution_count": 65,
   "id": "f5e70a56",
   "metadata": {},
   "outputs": [
    {
     "data": {
      "text/html": [
       "<table border='1'>\n",
       "<tr><th>cnt</th><th>user_city</th></tr>\n",
       "<tr><td>28504</td><td>Washington</td></tr>\n",
       "</table>\n"
      ],
      "text/plain": [
       "+-----+----------+\n",
       "|  cnt| user_city|\n",
       "+-----+----------+\n",
       "|28504|Washington|\n",
       "+-----+----------+"
      ]
     },
     "execution_count": 65,
     "metadata": {},
     "output_type": "execute_result"
    }
   ],
   "source": [
    "spark.sql(\"select count(distinct(user_id)) as cnt, user_city from user_vw limit where user_city is not null group by user_city order by cnt desc limit(1)\")"
   ]
  },
  {
   "cell_type": "code",
   "execution_count": 69,
   "id": "85390dac",
   "metadata": {},
   "outputs": [
    {
     "data": {
      "text/html": [
       "<table border='1'>\n",
       "<tr><th>user_cnt</th></tr>\n",
       "<tr><td>2015</td></tr>\n",
       "</table>\n"
      ],
      "text/plain": [
       "+--------+\n",
       "|user_cnt|\n",
       "+--------+\n",
       "|    2015|\n",
       "+--------+"
      ]
     },
     "execution_count": 69,
     "metadata": {},
     "output_type": "execute_result"
    }
   ],
   "source": [
    "spark.sql(\"\"\"select count(distinct user_id) as user_cnt from user_vw where user_email like '%bizjournals.com'\"\"\")"
   ]
  },
  {
   "cell_type": "code",
   "execution_count": 70,
   "id": "6ad14e8e",
   "metadata": {},
   "outputs": [
    {
     "data": {
      "text/html": [
       "<table border='1'>\n",
       "<tr><th>user_cnt</th></tr>\n",
       "<tr><td>179041</td></tr>\n",
       "</table>\n"
      ],
      "text/plain": [
       "+--------+\n",
       "|user_cnt|\n",
       "+--------+\n",
       "|  179041|\n",
       "+--------+"
      ]
     },
     "execution_count": 70,
     "metadata": {},
     "output_type": "execute_result"
    }
   ],
   "source": [
    "spark.sql(\"\"\"select count(distinct user_id) as user_cnt from user_vw where num_phn_numbers = 4\"\"\")"
   ]
  },
  {
   "cell_type": "code",
   "execution_count": 71,
   "id": "4e9dac40",
   "metadata": {},
   "outputs": [
    {
     "data": {
      "text/html": [
       "<table border='1'>\n",
       "<tr><th>user_cnt</th></tr>\n",
       "<tr><td>108981</td></tr>\n",
       "</table>\n"
      ],
      "text/plain": [
       "+--------+\n",
       "|user_cnt|\n",
       "+--------+\n",
       "|  108981|\n",
       "+--------+"
      ]
     },
     "execution_count": 71,
     "metadata": {},
     "output_type": "execute_result"
    }
   ],
   "source": [
    "spark.sql(\"\"\"select count(distinct user_id) as user_cnt from user_vw where user_phone_numbers is null\"\"\")"
   ]
  },
  {
   "cell_type": "code",
   "execution_count": 72,
   "id": "e99bf053",
   "metadata": {},
   "outputs": [],
   "source": [
    "sms_df.write.format(\"parquet\").mode(\"overwrite\").option(\"path\",\"/user/itv017244/week9/assignment\").save()"
   ]
  },
  {
   "cell_type": "code",
   "execution_count": 75,
   "id": "20d53630",
   "metadata": {},
   "outputs": [
    {
     "data": {
      "text/html": [
       "<table border='1'>\n",
       "<tr><th>user_state</th><th>male</th><th>female</th></tr>\n",
       "<tr><td>Alabama</td><td>9307</td><td>9178</td></tr>\n",
       "<tr><td>Alaska</td><td>1882</td><td>1938</td></tr>\n",
       "<tr><td>Arizona</td><td>9406</td><td>9543</td></tr>\n",
       "<tr><td>Arkansas</td><td>2420</td><td>2416</td></tr>\n",
       "<tr><td>California</td><td>49120</td><td>48716</td></tr>\n",
       "<tr><td>Colorado</td><td>10128</td><td>10125</td></tr>\n",
       "<tr><td>Connecticut</td><td>5797</td><td>5917</td></tr>\n",
       "<tr><td>Delaware</td><td>1651</td><td>1654</td></tr>\n",
       "<tr><td>District of Columbia</td><td>14212</td><td>14292</td></tr>\n",
       "<tr><td>Florida</td><td>36692</td><td>36688</td></tr>\n",
       "<tr><td>Georgia</td><td>13008</td><td>13028</td></tr>\n",
       "<tr><td>Hawaii</td><td>2172</td><td>2062</td></tr>\n",
       "<tr><td>Idaho</td><td>2058</td><td>2101</td></tr>\n",
       "<tr><td>Illinois</td><td>11178</td><td>11267</td></tr>\n",
       "<tr><td>Indiana</td><td>9604</td><td>9676</td></tr>\n",
       "<tr><td>Iowa</td><td>4706</td><td>4726</td></tr>\n",
       "<tr><td>Kansas</td><td>5962</td><td>5776</td></tr>\n",
       "<tr><td>Kentucky</td><td>6216</td><td>6108</td></tr>\n",
       "<tr><td>Louisiana</td><td>8706</td><td>8631</td></tr>\n",
       "<tr><td>Maine</td><td>225</td><td>228</td></tr>\n",
       "</table>\n",
       "only showing top 20 rows\n"
      ],
      "text/plain": [
       "+--------------------+-----+------+\n",
       "|          user_state| male|female|\n",
       "+--------------------+-----+------+\n",
       "|             Alabama| 9307|  9178|\n",
       "|              Alaska| 1882|  1938|\n",
       "|             Arizona| 9406|  9543|\n",
       "|            Arkansas| 2420|  2416|\n",
       "|          California|49120| 48716|\n",
       "|            Colorado|10128| 10125|\n",
       "|         Connecticut| 5797|  5917|\n",
       "|            Delaware| 1651|  1654|\n",
       "|District of Columbia|14212| 14292|\n",
       "|             Florida|36692| 36688|\n",
       "|             Georgia|13008| 13028|\n",
       "|              Hawaii| 2172|  2062|\n",
       "|               Idaho| 2058|  2101|\n",
       "|            Illinois|11178| 11267|\n",
       "|             Indiana| 9604|  9676|\n",
       "|                Iowa| 4706|  4726|\n",
       "|              Kansas| 5962|  5776|\n",
       "|            Kentucky| 6216|  6108|\n",
       "|           Louisiana| 8706|  8631|\n",
       "|               Maine|  225|   228|\n",
       "+--------------------+-----+------+\n",
       "only showing top 20 rows"
      ]
     },
     "execution_count": 75,
     "metadata": {},
     "output_type": "execute_result"
    }
   ],
   "source": [
    "spark.sql(\"\"\"\n",
    "        select user_state,sum(male_cnt) as male, sum(female_cnt) as female from \n",
    "        (select user_state,\n",
    "        case when user_gender = 'Male' then count(user_id) end as male_cnt,\n",
    "        case when user_gender = 'Female' then count(user_id) end as female_cnt\n",
    "        from user_vw where user_state is not null and user_phone_numbers is not null\n",
    "        group by user_state,user_gender)\n",
    "        group by user_state\n",
    "        order by user_state\n",
    "\"\"\")"
   ]
  },
  {
   "cell_type": "code",
   "execution_count": null,
   "id": "441de0b0",
   "metadata": {},
   "outputs": [],
   "source": []
  }
 ],
 "metadata": {
  "kernelspec": {
   "display_name": "Pyspark 3",
   "language": "python",
   "name": "pyspark3"
  },
  "language_info": {
   "codemirror_mode": {
    "name": "ipython",
    "version": 3
   },
   "file_extension": ".py",
   "mimetype": "text/x-python",
   "name": "python",
   "nbconvert_exporter": "python",
   "pygments_lexer": "ipython3",
   "version": "3.6.12"
  }
 },
 "nbformat": 4,
 "nbformat_minor": 5
}
