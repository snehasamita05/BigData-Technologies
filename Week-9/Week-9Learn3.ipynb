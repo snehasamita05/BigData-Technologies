{
 "cells": [
  {
   "cell_type": "code",
   "execution_count": 1,
   "id": "ebb9575c",
   "metadata": {},
   "outputs": [],
   "source": [
    "from pyspark.sql import SparkSession\n",
    "import getpass\n",
    "username = getpass.getuser()\n",
    "spark = SparkSession. \\\n",
    "builder. \\\n",
    "appName(\"Sneha Spark Session\").\\\n",
    "config(\"spark.sql.warehouse.dir\", f\"/user/{username}/warehouse\"). \\\n",
    "enableHiveSupport(). \\\n",
    "master('yarn'). \\\n",
    "getOrCreate()"
   ]
  },
  {
   "cell_type": "code",
   "execution_count": 2,
   "id": "ea66c7b6",
   "metadata": {},
   "outputs": [
    {
     "data": {
      "text/html": [
       "\n",
       "            <div>\n",
       "                <p><b>SparkSession - hive</b></p>\n",
       "                \n",
       "        <div>\n",
       "            <p><b>SparkContext</b></p>\n",
       "\n",
       "            <p><a href=\"http://g01.itversity.com:4043\">Spark UI</a></p>\n",
       "\n",
       "            <dl>\n",
       "              <dt>Version</dt>\n",
       "                <dd><code>v3.1.2</code></dd>\n",
       "              <dt>Master</dt>\n",
       "                <dd><code>yarn</code></dd>\n",
       "              <dt>AppName</dt>\n",
       "                <dd><code>Sneha Spark Session</code></dd>\n",
       "            </dl>\n",
       "        </div>\n",
       "        \n",
       "            </div>\n",
       "        "
      ],
      "text/plain": [
       "<pyspark.sql.session.SparkSession at 0x7fdc7c770550>"
      ]
     },
     "execution_count": 2,
     "metadata": {},
     "output_type": "execute_result"
    }
   ],
   "source": [
    "spark"
   ]
  },
  {
   "cell_type": "code",
   "execution_count": 3,
   "id": "e47aad3d",
   "metadata": {},
   "outputs": [],
   "source": [
    "customers_df = spark.read.format('csv').option('inferSchema',True).load('/public/trendytech/retail_db/customers/part-00000')"
   ]
  },
  {
   "cell_type": "code",
   "execution_count": 4,
   "id": "97a92d21",
   "metadata": {},
   "outputs": [
    {
     "name": "stdout",
     "output_type": "stream",
     "text": [
      "+---+-----------+---------+---------+---------+--------------------+-------------+---+-----+\n",
      "|_c0|        _c1|      _c2|      _c3|      _c4|                 _c5|          _c6|_c7|  _c8|\n",
      "+---+-----------+---------+---------+---------+--------------------+-------------+---+-----+\n",
      "|  1|    Richard|Hernandez|XXXXXXXXX|XXXXXXXXX|  6303 Heather Plaza|  Brownsville| TX|78521|\n",
      "|  2|       Mary|  Barrett|XXXXXXXXX|XXXXXXXXX|9526 Noble Embers...|    Littleton| CO|80126|\n",
      "|  3|        Ann|    Smith|XXXXXXXXX|XXXXXXXXX|3422 Blue Pioneer...|       Caguas| PR|  725|\n",
      "|  4|       Mary|    Jones|XXXXXXXXX|XXXXXXXXX|  8324 Little Common|   San Marcos| CA|92069|\n",
      "|  5|     Robert|   Hudson|XXXXXXXXX|XXXXXXXXX|10 Crystal River ...|       Caguas| PR|  725|\n",
      "|  6|       Mary|    Smith|XXXXXXXXX|XXXXXXXXX|3151 Sleepy Quail...|      Passaic| NJ| 7055|\n",
      "|  7|    Melissa|   Wilcox|XXXXXXXXX|XXXXXXXXX|9453 High Concession|       Caguas| PR|  725|\n",
      "|  8|      Megan|    Smith|XXXXXXXXX|XXXXXXXXX|3047 Foggy Forest...|     Lawrence| MA| 1841|\n",
      "|  9|       Mary|    Perez|XXXXXXXXX|XXXXXXXXX| 3616 Quaking Street|       Caguas| PR|  725|\n",
      "| 10|    Melissa|    Smith|XXXXXXXXX|XXXXXXXXX|8598 Harvest Beac...|     Stafford| VA|22554|\n",
      "| 11|       Mary|  Huffman|XXXXXXXXX|XXXXXXXXX|    3169 Stony Woods|       Caguas| PR|  725|\n",
      "| 12|Christopher|    Smith|XXXXXXXXX|XXXXXXXXX|5594 Jagged Ember...|  San Antonio| TX|78227|\n",
      "| 13|       Mary|  Baldwin|XXXXXXXXX|XXXXXXXXX|7922 Iron Oak Gar...|       Caguas| PR|  725|\n",
      "| 14|  Katherine|    Smith|XXXXXXXXX|XXXXXXXXX|5666 Hazy Pony Sq...|  Pico Rivera| CA|90660|\n",
      "| 15|       Jane|     Luna|XXXXXXXXX|XXXXXXXXX|    673 Burning Glen|      Fontana| CA|92336|\n",
      "| 16|    Tiffany|    Smith|XXXXXXXXX|XXXXXXXXX|      6651 Iron Port|       Caguas| PR|  725|\n",
      "| 17|       Mary| Robinson|XXXXXXXXX|XXXXXXXXX|     1325 Noble Pike|       Taylor| MI|48180|\n",
      "| 18|     Robert|    Smith|XXXXXXXXX|XXXXXXXXX|2734 Hazy Butterf...|     Martinez| CA|94553|\n",
      "| 19|  Stephanie| Mitchell|XXXXXXXXX|XXXXXXXXX|3543 Red Treasure...|       Caguas| PR|  725|\n",
      "| 20|       Mary|    Ellis|XXXXXXXXX|XXXXXXXXX|      4703 Old Route|West New York| NJ| 7093|\n",
      "+---+-----------+---------+---------+---------+--------------------+-------------+---+-----+\n",
      "only showing top 20 rows\n",
      "\n"
     ]
    }
   ],
   "source": [
    "customers_df.show()"
   ]
  },
  {
   "cell_type": "code",
   "execution_count": 5,
   "id": "4f4f6091",
   "metadata": {},
   "outputs": [],
   "source": [
    "customers_new_df = customers_df.toDF(\"customer_id\",\"customer_fname\",\"customer_lastname\",\"customer_email\",\"customer_password\",\"customer_street\",\"customer_city\",\"customer_state\",\"customer_zipcode\")"
   ]
  },
  {
   "cell_type": "code",
   "execution_count": 6,
   "id": "e56e8433",
   "metadata": {},
   "outputs": [
    {
     "name": "stdout",
     "output_type": "stream",
     "text": [
      "+-----------+--------------+-----------------+--------------+-----------------+--------------------+-------------+--------------+----------------+\n",
      "|customer_id|customer_fname|customer_lastname|customer_email|customer_password|     customer_street|customer_city|customer_state|customer_zipcode|\n",
      "+-----------+--------------+-----------------+--------------+-----------------+--------------------+-------------+--------------+----------------+\n",
      "|          1|       Richard|        Hernandez|     XXXXXXXXX|        XXXXXXXXX|  6303 Heather Plaza|  Brownsville|            TX|           78521|\n",
      "|          2|          Mary|          Barrett|     XXXXXXXXX|        XXXXXXXXX|9526 Noble Embers...|    Littleton|            CO|           80126|\n",
      "|          3|           Ann|            Smith|     XXXXXXXXX|        XXXXXXXXX|3422 Blue Pioneer...|       Caguas|            PR|             725|\n",
      "|          4|          Mary|            Jones|     XXXXXXXXX|        XXXXXXXXX|  8324 Little Common|   San Marcos|            CA|           92069|\n",
      "|          5|        Robert|           Hudson|     XXXXXXXXX|        XXXXXXXXX|10 Crystal River ...|       Caguas|            PR|             725|\n",
      "|          6|          Mary|            Smith|     XXXXXXXXX|        XXXXXXXXX|3151 Sleepy Quail...|      Passaic|            NJ|            7055|\n",
      "|          7|       Melissa|           Wilcox|     XXXXXXXXX|        XXXXXXXXX|9453 High Concession|       Caguas|            PR|             725|\n",
      "|          8|         Megan|            Smith|     XXXXXXXXX|        XXXXXXXXX|3047 Foggy Forest...|     Lawrence|            MA|            1841|\n",
      "|          9|          Mary|            Perez|     XXXXXXXXX|        XXXXXXXXX| 3616 Quaking Street|       Caguas|            PR|             725|\n",
      "|         10|       Melissa|            Smith|     XXXXXXXXX|        XXXXXXXXX|8598 Harvest Beac...|     Stafford|            VA|           22554|\n",
      "|         11|          Mary|          Huffman|     XXXXXXXXX|        XXXXXXXXX|    3169 Stony Woods|       Caguas|            PR|             725|\n",
      "|         12|   Christopher|            Smith|     XXXXXXXXX|        XXXXXXXXX|5594 Jagged Ember...|  San Antonio|            TX|           78227|\n",
      "|         13|          Mary|          Baldwin|     XXXXXXXXX|        XXXXXXXXX|7922 Iron Oak Gar...|       Caguas|            PR|             725|\n",
      "|         14|     Katherine|            Smith|     XXXXXXXXX|        XXXXXXXXX|5666 Hazy Pony Sq...|  Pico Rivera|            CA|           90660|\n",
      "|         15|          Jane|             Luna|     XXXXXXXXX|        XXXXXXXXX|    673 Burning Glen|      Fontana|            CA|           92336|\n",
      "|         16|       Tiffany|            Smith|     XXXXXXXXX|        XXXXXXXXX|      6651 Iron Port|       Caguas|            PR|             725|\n",
      "|         17|          Mary|         Robinson|     XXXXXXXXX|        XXXXXXXXX|     1325 Noble Pike|       Taylor|            MI|           48180|\n",
      "|         18|        Robert|            Smith|     XXXXXXXXX|        XXXXXXXXX|2734 Hazy Butterf...|     Martinez|            CA|           94553|\n",
      "|         19|     Stephanie|         Mitchell|     XXXXXXXXX|        XXXXXXXXX|3543 Red Treasure...|       Caguas|            PR|             725|\n",
      "|         20|          Mary|            Ellis|     XXXXXXXXX|        XXXXXXXXX|      4703 Old Route|West New York|            NJ|            7093|\n",
      "+-----------+--------------+-----------------+--------------+-----------------+--------------------+-------------+--------------+----------------+\n",
      "only showing top 20 rows\n",
      "\n"
     ]
    }
   ],
   "source": [
    "customers_new_df.show()"
   ]
  },
  {
   "cell_type": "code",
   "execution_count": 7,
   "id": "62489764",
   "metadata": {},
   "outputs": [
    {
     "data": {
      "text/html": [
       "<table border='1'>\n",
       "<tr><th></th></tr>\n",
       "</table>\n"
      ],
      "text/plain": [
       "++\n",
       "||\n",
       "++\n",
       "++"
      ]
     },
     "execution_count": 7,
     "metadata": {},
     "output_type": "execute_result"
    }
   ],
   "source": [
    "spark.sql(\"create database itv017244_bucketingdb\")"
   ]
  },
  {
   "cell_type": "code",
   "execution_count": 10,
   "id": "41ee1945",
   "metadata": {},
   "outputs": [],
   "source": [
    "customers_new_df.write.format('parquet').mode('overwrite').bucketBy(4,'customer_id').saveAsTable('itv017244_bucketingdb.customernew')"
   ]
  },
  {
   "cell_type": "code",
   "execution_count": 11,
   "id": "a0724c89",
   "metadata": {},
   "outputs": [
    {
     "data": {
      "text/html": [
       "<table border='1'>\n",
       "<tr><th>count(1)</th></tr>\n",
       "<tr><td>635</td></tr>\n",
       "</table>\n"
      ],
      "text/plain": [
       "+--------+\n",
       "|count(1)|\n",
       "+--------+\n",
       "|     635|\n",
       "+--------+"
      ]
     },
     "execution_count": 11,
     "metadata": {},
     "output_type": "execute_result"
    }
   ],
   "source": [
    "spark.sql(\"select count(*) from itv017244_bucketingdb.customernew where customer_state = 'TX'\")"
   ]
  },
  {
   "cell_type": "code",
   "execution_count": 12,
   "id": "15d7d7da",
   "metadata": {},
   "outputs": [
    {
     "data": {
      "text/html": [
       "<table border='1'>\n",
       "<tr><th>count(1)</th></tr>\n",
       "<tr><td>1</td></tr>\n",
       "</table>\n"
      ],
      "text/plain": [
       "+--------+\n",
       "|count(1)|\n",
       "+--------+\n",
       "|       1|\n",
       "+--------+"
      ]
     },
     "execution_count": 12,
     "metadata": {},
     "output_type": "execute_result"
    }
   ],
   "source": [
    "spark.sql(\"select count(*) from itv017244_bucketingdb.customernew where customer_id = 10\")"
   ]
  },
  {
   "cell_type": "code",
   "execution_count": 14,
   "id": "3462f6bf",
   "metadata": {},
   "outputs": [],
   "source": [
    "customers_new_df.createOrReplaceTempView(\"customer_nonbucket\")"
   ]
  },
  {
   "cell_type": "code",
   "execution_count": 15,
   "id": "db5d049e",
   "metadata": {},
   "outputs": [
    {
     "data": {
      "text/html": [
       "<table border='1'>\n",
       "<tr><th>customer_id</th><th>customer_fname</th><th>customer_lastname</th><th>customer_email</th><th>customer_password</th><th>customer_street</th><th>customer_city</th><th>customer_state</th><th>customer_zipcode</th></tr>\n",
       "<tr><td>10</td><td>Melissa</td><td>Smith</td><td>XXXXXXXXX</td><td>XXXXXXXXX</td><td>8598 Harvest Beac...</td><td>Stafford</td><td>VA</td><td>22554</td></tr>\n",
       "</table>\n"
      ],
      "text/plain": [
       "+-----------+--------------+-----------------+--------------+-----------------+--------------------+-------------+--------------+----------------+\n",
       "|customer_id|customer_fname|customer_lastname|customer_email|customer_password|     customer_street|customer_city|customer_state|customer_zipcode|\n",
       "+-----------+--------------+-----------------+--------------+-----------------+--------------------+-------------+--------------+----------------+\n",
       "|         10|       Melissa|            Smith|     XXXXXXXXX|        XXXXXXXXX|8598 Harvest Beac...|     Stafford|            VA|           22554|\n",
       "+-----------+--------------+-----------------+--------------+-----------------+--------------------+-------------+--------------+----------------+"
      ]
     },
     "execution_count": 15,
     "metadata": {},
     "output_type": "execute_result"
    }
   ],
   "source": [
    "spark.sql(\"select * from customer_nonbucket where customer_id = 10\")"
   ]
  },
  {
   "cell_type": "code",
   "execution_count": null,
   "id": "356b864d",
   "metadata": {},
   "outputs": [],
   "source": []
  }
 ],
 "metadata": {
  "kernelspec": {
   "display_name": "Pyspark 3",
   "language": "python",
   "name": "pyspark3"
  },
  "language_info": {
   "codemirror_mode": {
    "name": "ipython",
    "version": 3
   },
   "file_extension": ".py",
   "mimetype": "text/x-python",
   "name": "python",
   "nbconvert_exporter": "python",
   "pygments_lexer": "ipython3",
   "version": "3.6.12"
  }
 },
 "nbformat": 4,
 "nbformat_minor": 5
}
