{
 "cells": [
  {
   "cell_type": "code",
   "execution_count": 51,
   "id": "9f679670",
   "metadata": {},
   "outputs": [],
   "source": [
    "from pyspark.sql import SparkSession\n",
    "import getpass\n",
    "username = getpass.getuser()\n",
    "spark = SparkSession. \\\n",
    "builder. \\\n",
    "appName(\"Sneha Spark Session\").\\\n",
    "config(\"spark.sql.warehouse.dir\", f\"/user/{username}/warehouse\"). \\\n",
    "enableHiveSupport(). \\\n",
    "master('yarn'). \\\n",
    "getOrCreate()"
   ]
  },
  {
   "cell_type": "code",
   "execution_count": 52,
   "id": "cd7d2ed3",
   "metadata": {},
   "outputs": [
    {
     "data": {
      "text/html": [
       "\n",
       "            <div>\n",
       "                <p><b>SparkSession - hive</b></p>\n",
       "                \n",
       "        <div>\n",
       "            <p><b>SparkContext</b></p>\n",
       "\n",
       "            <p><a href=\"http://g01.itversity.com:4040\">Spark UI</a></p>\n",
       "\n",
       "            <dl>\n",
       "              <dt>Version</dt>\n",
       "                <dd><code>v3.1.2</code></dd>\n",
       "              <dt>Master</dt>\n",
       "                <dd><code>yarn</code></dd>\n",
       "              <dt>AppName</dt>\n",
       "                <dd><code>Sneha Spark Session</code></dd>\n",
       "            </dl>\n",
       "        </div>\n",
       "        \n",
       "            </div>\n",
       "        "
      ],
      "text/plain": [
       "<pyspark.sql.session.SparkSession at 0x7f72a4778eb8>"
      ]
     },
     "execution_count": 52,
     "metadata": {},
     "output_type": "execute_result"
    }
   ],
   "source": [
    "spark"
   ]
  },
  {
   "cell_type": "code",
   "execution_count": 53,
   "id": "965e105d",
   "metadata": {},
   "outputs": [],
   "source": [
    "order_schema = 'order_id long, order_date string, customer_id long, order_status string'"
   ]
  },
  {
   "cell_type": "code",
   "execution_count": 54,
   "id": "d8e19723",
   "metadata": {},
   "outputs": [],
   "source": [
    "order_df = spark.read.\\\n",
    "format(\"csv\").\\\n",
    "schema(order_schema).\\\n",
    "load(\"/public/trendytech/orders/orders_1gb.csv\")"
   ]
  },
  {
   "cell_type": "code",
   "execution_count": 55,
   "id": "0022fb14",
   "metadata": {},
   "outputs": [
    {
     "name": "stdout",
     "output_type": "stream",
     "text": [
      "+--------+--------------------+-----------+---------------+\n",
      "|order_id|          order_date|customer_id|   order_status|\n",
      "+--------+--------------------+-----------+---------------+\n",
      "|       1|2013-07-25 00:00:...|      11599|         CLOSED|\n",
      "|       2|2013-07-25 00:00:...|        256|PENDING_PAYMENT|\n",
      "|       3|2013-07-25 00:00:...|      12111|       COMPLETE|\n",
      "|       4|2013-07-25 00:00:...|       8827|         CLOSED|\n",
      "|       5|2013-07-25 00:00:...|      11318|       COMPLETE|\n",
      "|       6|2013-07-25 00:00:...|       7130|       COMPLETE|\n",
      "|       7|2013-07-25 00:00:...|       4530|       COMPLETE|\n",
      "|       8|2013-07-25 00:00:...|       2911|     PROCESSING|\n",
      "|       9|2013-07-25 00:00:...|       5657|PENDING_PAYMENT|\n",
      "|      10|2013-07-25 00:00:...|       5648|PENDING_PAYMENT|\n",
      "|      11|2013-07-25 00:00:...|        918| PAYMENT_REVIEW|\n",
      "|      12|2013-07-25 00:00:...|       1837|         CLOSED|\n",
      "|      13|2013-07-25 00:00:...|       9149|PENDING_PAYMENT|\n",
      "|      14|2013-07-25 00:00:...|       9842|     PROCESSING|\n",
      "|      15|2013-07-25 00:00:...|       2568|       COMPLETE|\n",
      "|      16|2013-07-25 00:00:...|       7276|PENDING_PAYMENT|\n",
      "|      17|2013-07-25 00:00:...|       2667|       COMPLETE|\n",
      "|      18|2013-07-25 00:00:...|       1205|         CLOSED|\n",
      "|      19|2013-07-25 00:00:...|       9488|PENDING_PAYMENT|\n",
      "|      20|2013-07-25 00:00:...|       9198|     PROCESSING|\n",
      "+--------+--------------------+-----------+---------------+\n",
      "only showing top 20 rows\n",
      "\n"
     ]
    }
   ],
   "source": [
    "order_df.show()"
   ]
  },
  {
   "cell_type": "code",
   "execution_count": 56,
   "id": "3d53f2cb",
   "metadata": {},
   "outputs": [
    {
     "data": {
      "text/plain": [
       "'134217728b'"
      ]
     },
     "execution_count": 56,
     "metadata": {},
     "output_type": "execute_result"
    }
   ],
   "source": [
    "spark.conf.get(\"spark.sql.files.maxPartitionBytes\")"
   ]
  },
  {
   "cell_type": "code",
   "execution_count": 57,
   "id": "ae0f0c9b",
   "metadata": {},
   "outputs": [
    {
     "data": {
      "text/plain": [
       "128.0"
      ]
     },
     "execution_count": 57,
     "metadata": {},
     "output_type": "execute_result"
    }
   ],
   "source": [
    "(134217728 / (1024*1024))\n"
   ]
  },
  {
   "cell_type": "code",
   "execution_count": 58,
   "id": "31ea6b0c",
   "metadata": {},
   "outputs": [
    {
     "data": {
      "text/plain": [
       "2"
      ]
     },
     "execution_count": 58,
     "metadata": {},
     "output_type": "execute_result"
    }
   ],
   "source": [
    "spark.sparkContext.defaultParallelism"
   ]
  },
  {
   "cell_type": "code",
   "execution_count": 59,
   "id": "6bc00ecb",
   "metadata": {},
   "outputs": [
    {
     "data": {
      "text/plain": [
       "9"
      ]
     },
     "execution_count": 59,
     "metadata": {},
     "output_type": "execute_result"
    }
   ],
   "source": [
    "order_df.rdd.getNumPartitions()"
   ]
  },
  {
   "cell_type": "code",
   "execution_count": 60,
   "id": "1fde01cf",
   "metadata": {},
   "outputs": [],
   "source": [
    "new_order_df = order_df.repartition(1)"
   ]
  },
  {
   "cell_type": "code",
   "execution_count": 61,
   "id": "ccf3b410",
   "metadata": {},
   "outputs": [
    {
     "data": {
      "text/plain": [
       "1"
      ]
     },
     "execution_count": 61,
     "metadata": {},
     "output_type": "execute_result"
    }
   ],
   "source": [
    "new_order_df.rdd.getNumPartitions()"
   ]
  },
  {
   "cell_type": "code",
   "execution_count": 62,
   "id": "3232838b",
   "metadata": {},
   "outputs": [],
   "source": [
    "new_order_df.write.format('csv'). \\\n",
    "mode('overwrite'). \\\n",
    "option(\"codec\",\"org.apache.hadoop.io.compress.GzipCodec\"). \\\n",
    "save(\"orders_Gz\")"
   ]
  },
  {
   "cell_type": "code",
   "execution_count": 63,
   "id": "51a2b315",
   "metadata": {},
   "outputs": [],
   "source": [
    "order_df_new = spark.read.format('csv').schema(order_schema).load(\"orders_Gz\")"
   ]
  },
  {
   "cell_type": "code",
   "execution_count": 64,
   "id": "4f0f48f8",
   "metadata": {},
   "outputs": [
    {
     "name": "stdout",
     "output_type": "stream",
     "text": [
      "+--------+--------------------+-----------+---------------+\n",
      "|order_id|          order_date|customer_id|   order_status|\n",
      "+--------+--------------------+-----------+---------------+\n",
      "|   66159|2014-06-09 00:00:...|       3641|PENDING_PAYMENT|\n",
      "|   66160|2014-06-09 00:00:...|       1507|       COMPLETE|\n",
      "|   66161|2014-06-09 00:00:...|       2703|       COMPLETE|\n",
      "|   66162|2014-06-10 00:00:...|      10268|PENDING_PAYMENT|\n",
      "|   66163|2014-06-10 00:00:...|       6729|        PENDING|\n",
      "|   66164|2014-06-10 00:00:...|       6943|       COMPLETE|\n",
      "|   66165|2014-06-10 00:00:...|      12394|       COMPLETE|\n",
      "|   66166|2014-06-10 00:00:...|        290|       COMPLETE|\n",
      "|   66167|2014-06-10 00:00:...|       5828|PENDING_PAYMENT|\n",
      "|   66168|2014-06-10 00:00:...|       7569|       COMPLETE|\n",
      "|   66169|2014-06-10 00:00:...|       3927|        ON_HOLD|\n",
      "|   66170|2014-06-10 00:00:...|      11218|         CLOSED|\n",
      "|   66171|2014-06-10 00:00:...|       8803|PENDING_PAYMENT|\n",
      "|   66172|2014-06-10 00:00:...|       3479|        ON_HOLD|\n",
      "|   66173|2014-06-10 00:00:...|       5624|       COMPLETE|\n",
      "|   66174|2014-06-10 00:00:...|       3913|       COMPLETE|\n",
      "|   66175|2014-06-10 00:00:...|       4779|PENDING_PAYMENT|\n",
      "|   66176|2014-06-10 00:00:...|       4812|     PROCESSING|\n",
      "|   66177|2014-06-10 00:00:...|       3062|PENDING_PAYMENT|\n",
      "|   66178|2014-06-10 00:00:...|       2373|        PENDING|\n",
      "+--------+--------------------+-----------+---------------+\n",
      "only showing top 20 rows\n",
      "\n"
     ]
    }
   ],
   "source": [
    "order_df_new.show()"
   ]
  },
  {
   "cell_type": "code",
   "execution_count": 65,
   "id": "2d40d225",
   "metadata": {},
   "outputs": [
    {
     "data": {
      "text/plain": [
       "1"
      ]
     },
     "execution_count": 65,
     "metadata": {},
     "output_type": "execute_result"
    }
   ],
   "source": [
    "order_df_new.rdd.getNumPartitions()"
   ]
  },
  {
   "cell_type": "code",
   "execution_count": 66,
   "id": "71ba7c9d",
   "metadata": {},
   "outputs": [],
   "source": [
    "new_order_df.write.format('csv'). \\\n",
    "mode('overwrite'). \\\n",
    "option(\"codec\",\"snappy\"). \\\n",
    "save(\"orders_snappy\")"
   ]
  },
  {
   "cell_type": "code",
   "execution_count": 67,
   "id": "2ada161e",
   "metadata": {},
   "outputs": [],
   "source": [
    "order_df_new = spark.read.format('csv').schema(order_schema).load(\"orders_snappy\")"
   ]
  },
  {
   "cell_type": "code",
   "execution_count": 68,
   "id": "a8794240",
   "metadata": {},
   "outputs": [
    {
     "data": {
      "text/plain": [
       "1"
      ]
     },
     "execution_count": 68,
     "metadata": {},
     "output_type": "execute_result"
    }
   ],
   "source": [
    "order_df_new.rdd.getNumPartitions()"
   ]
  },
  {
   "cell_type": "code",
   "execution_count": 69,
   "id": "50655084",
   "metadata": {},
   "outputs": [],
   "source": [
    "new_order_df.write. \\\n",
    "mode('overwrite'). \\\n",
    "save(\"orders_parquet_new\")"
   ]
  },
  {
   "cell_type": "code",
   "execution_count": 70,
   "id": "a670b69e",
   "metadata": {},
   "outputs": [],
   "source": [
    "order_df_new = spark.read.format('csv').load(\"orders_parquet_new\")"
   ]
  },
  {
   "cell_type": "code",
   "execution_count": 71,
   "id": "5b465452",
   "metadata": {},
   "outputs": [
    {
     "data": {
      "text/plain": [
       "2"
      ]
     },
     "execution_count": 71,
     "metadata": {},
     "output_type": "execute_result"
    }
   ],
   "source": [
    "order_df_new.rdd.getNumPartitions()"
   ]
  },
  {
   "cell_type": "code",
   "execution_count": 72,
   "id": "e4510efb",
   "metadata": {},
   "outputs": [
    {
     "data": {
      "text/plain": [
       "1"
      ]
     },
     "execution_count": 72,
     "metadata": {},
     "output_type": "execute_result"
    }
   ],
   "source": [
    "new_order_df.rdd.getNumPartitions()"
   ]
  },
  {
   "cell_type": "code",
   "execution_count": 73,
   "id": "91401588",
   "metadata": {},
   "outputs": [],
   "source": [
    "final_order_df = new_order_df.repartition(20)"
   ]
  },
  {
   "cell_type": "code",
   "execution_count": 74,
   "id": "7b196516",
   "metadata": {},
   "outputs": [
    {
     "data": {
      "text/plain": [
       "20"
      ]
     },
     "execution_count": 74,
     "metadata": {},
     "output_type": "execute_result"
    }
   ],
   "source": [
    "final_order_df.rdd.getNumPartitions()"
   ]
  },
  {
   "cell_type": "code",
   "execution_count": 75,
   "id": "094318cf",
   "metadata": {},
   "outputs": [],
   "source": [
    "final_order_df.write. \\\n",
    "format(\"csv\"). \\\n",
    "mode('overwrite'). \\\n",
    "save(\"orders_final\")"
   ]
  },
  {
   "cell_type": "code",
   "execution_count": 76,
   "id": "90f54a4c",
   "metadata": {},
   "outputs": [],
   "source": [
    "order_df= spark.read.format('csv').schema(order_schema).load(\"orders_final\")"
   ]
  },
  {
   "cell_type": "code",
   "execution_count": 77,
   "id": "df9eee5e",
   "metadata": {},
   "outputs": [
    {
     "name": "stdout",
     "output_type": "stream",
     "text": [
      "+--------+--------------------+-----------+---------------+\n",
      "|order_id|          order_date|customer_id|   order_status|\n",
      "+--------+--------------------+-----------+---------------+\n",
      "|   17523|2013-11-11 00:00:...|       9277|         CLOSED|\n",
      "|   17523|2013-11-11 00:00:...|       9277|         CLOSED|\n",
      "|   42679|2014-04-14 00:00:...|       1479|        ON_HOLD|\n",
      "|   42679|2014-04-14 00:00:...|       1479|        ON_HOLD|\n",
      "|   33615|2014-02-17 00:00:...|       8581|       COMPLETE|\n",
      "|   33615|2014-02-17 00:00:...|       8581|       COMPLETE|\n",
      "|   32649|2014-02-11 00:00:...|       7926|PENDING_PAYMENT|\n",
      "|   32649|2014-02-11 00:00:...|       7926|PENDING_PAYMENT|\n",
      "|   32649|2014-02-11 00:00:...|       7926|PENDING_PAYMENT|\n",
      "|    3520|2013-08-14 00:00:...|      12180|       COMPLETE|\n",
      "|    3520|2013-08-14 00:00:...|      12180|       COMPLETE|\n",
      "|   39976|2014-03-29 00:00:...|       7426|         CLOSED|\n",
      "|   39976|2014-03-29 00:00:...|       7426|         CLOSED|\n",
      "|   27250|2014-01-10 00:00:...|      10025|         CLOSED|\n",
      "|   27250|2014-01-10 00:00:...|      10025|         CLOSED|\n",
      "|   44570|2014-04-27 00:00:...|       1422|       COMPLETE|\n",
      "|   44570|2014-04-27 00:00:...|       1422|       COMPLETE|\n",
      "|   44570|2014-04-27 00:00:...|       1422|       COMPLETE|\n",
      "|   59434|2013-09-29 00:00:...|       6332|       COMPLETE|\n",
      "|   59434|2013-09-29 00:00:...|       6332|       COMPLETE|\n",
      "+--------+--------------------+-----------+---------------+\n",
      "only showing top 20 rows\n",
      "\n"
     ]
    }
   ],
   "source": [
    "order_df.show()"
   ]
  },
  {
   "cell_type": "code",
   "execution_count": 78,
   "id": "e295d3ea",
   "metadata": {},
   "outputs": [
    {
     "data": {
      "text/plain": [
       "10"
      ]
     },
     "execution_count": 78,
     "metadata": {},
     "output_type": "execute_result"
    }
   ],
   "source": [
    "order_df.rdd.getNumPartitions()"
   ]
  },
  {
   "cell_type": "code",
   "execution_count": 79,
   "id": "fd5637e6",
   "metadata": {},
   "outputs": [
    {
     "data": {
      "text/plain": [
       "'4194304'"
      ]
     },
     "execution_count": 79,
     "metadata": {},
     "output_type": "execute_result"
    }
   ],
   "source": [
    "spark.conf.get(\"spark.sql.files.openCostInBytes\")"
   ]
  },
  {
   "cell_type": "code",
   "execution_count": 80,
   "id": "f1d6c04b",
   "metadata": {},
   "outputs": [
    {
     "data": {
      "text/plain": [
       "4.0"
      ]
     },
     "execution_count": 80,
     "metadata": {},
     "output_type": "execute_result"
    }
   ],
   "source": [
    "(4194304 / (1024*1024))"
   ]
  },
  {
   "cell_type": "code",
   "execution_count": 81,
   "id": "f05c1934",
   "metadata": {},
   "outputs": [],
   "source": [
    "final_order_df = new_order_df.repartition(500)"
   ]
  },
  {
   "cell_type": "code",
   "execution_count": 82,
   "id": "f8087022",
   "metadata": {},
   "outputs": [
    {
     "data": {
      "text/plain": [
       "500"
      ]
     },
     "execution_count": 82,
     "metadata": {},
     "output_type": "execute_result"
    }
   ],
   "source": [
    "final_order_df.rdd.getNumPartitions()"
   ]
  },
  {
   "cell_type": "code",
   "execution_count": 83,
   "id": "588dfc3b",
   "metadata": {},
   "outputs": [],
   "source": [
    "final_order_df.write. \\\n",
    "format(\"csv\"). \\\n",
    "mode('overwrite'). \\\n",
    "save(\"orders_final_new\")"
   ]
  },
  {
   "cell_type": "code",
   "execution_count": 84,
   "id": "425a1ab9",
   "metadata": {},
   "outputs": [],
   "source": [
    "order_df= spark.read.format('csv').schema(order_schema).load(\"orders_final_new\")"
   ]
  },
  {
   "cell_type": "code",
   "execution_count": 85,
   "id": "2f31d6ea",
   "metadata": {},
   "outputs": [
    {
     "data": {
      "text/plain": [
       "24"
      ]
     },
     "execution_count": 85,
     "metadata": {},
     "output_type": "execute_result"
    }
   ],
   "source": [
    "order_df.rdd.getNumPartitions()"
   ]
  },
  {
   "cell_type": "code",
   "execution_count": null,
   "id": "e27a05ed",
   "metadata": {},
   "outputs": [],
   "source": []
  }
 ],
 "metadata": {
  "kernelspec": {
   "display_name": "Pyspark 3",
   "language": "python",
   "name": "pyspark3"
  },
  "language_info": {
   "codemirror_mode": {
    "name": "ipython",
    "version": 3
   },
   "file_extension": ".py",
   "mimetype": "text/x-python",
   "name": "python",
   "nbconvert_exporter": "python",
   "pygments_lexer": "ipython3",
   "version": "3.6.12"
  }
 },
 "nbformat": 4,
 "nbformat_minor": 5
}
