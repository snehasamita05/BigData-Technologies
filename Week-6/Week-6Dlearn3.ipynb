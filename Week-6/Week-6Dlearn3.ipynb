{
 "cells": [
  {
   "cell_type": "code",
   "execution_count": 18,
   "id": "3f619410",
   "metadata": {},
   "outputs": [],
   "source": [
    "from pyspark.sql import SparkSession\n",
    "import getpass\n",
    "username = getpass.getuser()\n",
    "spark = SparkSession. \\\n",
    "builder. \\\n",
    "config('spark.ui.port','0'). \\\n",
    "config(\"spark.sql.warehouse.dir\", f\"/user/{username}/warehouse\"). \\\n",
    "enableHiveSupport(). \\\n",
    "master('yarn'). \\\n",
    "getOrCreate()"
   ]
  },
  {
   "cell_type": "code",
   "execution_count": 17,
   "id": "a52daf8d",
   "metadata": {},
   "outputs": [],
   "source": [
    "##spark.stop()"
   ]
  },
  {
   "cell_type": "code",
   "execution_count": 19,
   "id": "575a23e3",
   "metadata": {},
   "outputs": [
    {
     "data": {
      "text/html": [
       "\n",
       "            <div>\n",
       "                <p><b>SparkSession - hive</b></p>\n",
       "                \n",
       "        <div>\n",
       "            <p><b>SparkContext</b></p>\n",
       "\n",
       "            <p><a href=\"http://g01.itversity.com:44437\">Spark UI</a></p>\n",
       "\n",
       "            <dl>\n",
       "              <dt>Version</dt>\n",
       "                <dd><code>v3.1.2</code></dd>\n",
       "              <dt>Master</dt>\n",
       "                <dd><code>yarn</code></dd>\n",
       "              <dt>AppName</dt>\n",
       "                <dd><code>pyspark-shell</code></dd>\n",
       "            </dl>\n",
       "        </div>\n",
       "        \n",
       "            </div>\n",
       "        "
      ],
      "text/plain": [
       "<pyspark.sql.session.SparkSession at 0x7fd04f907208>"
      ]
     },
     "execution_count": 19,
     "metadata": {},
     "output_type": "execute_result"
    }
   ],
   "source": [
    "spark"
   ]
  },
  {
   "cell_type": "code",
   "execution_count": 20,
   "id": "470cfbb2",
   "metadata": {},
   "outputs": [
    {
     "name": "stdout",
     "output_type": "stream",
     "text": [
      "Found 1 items\n",
      "-rw-r--r--   3 itv005857 supergroup    5408880 2023-04-26 16:47 /public/trendytech/retail_db/order_items/part-00000\n"
     ]
    }
   ],
   "source": [
    "! hadoop fs -ls /public/trendytech/retail_db/order_items"
   ]
  },
  {
   "cell_type": "code",
   "execution_count": 21,
   "id": "5cd74585",
   "metadata": {},
   "outputs": [],
   "source": [
    "raw_df = spark.read.\\\n",
    "format(\"csv\").\\\n",
    "option(\"inferSchema\", \"True\").\\\n",
    "load(\"/public/trendytech/retail_db/order_items/part-00000\")"
   ]
  },
  {
   "cell_type": "code",
   "execution_count": 22,
   "id": "d42d46b6",
   "metadata": {},
   "outputs": [
    {
     "name": "stdout",
     "output_type": "stream",
     "text": [
      "+---+---+----+---+------+------+\n",
      "|_c0|_c1| _c2|_c3|   _c4|   _c5|\n",
      "+---+---+----+---+------+------+\n",
      "|  1|  1| 957|  1|299.98|299.98|\n",
      "|  2|  2|1073|  1|199.99|199.99|\n",
      "|  3|  2| 502|  5| 250.0|  50.0|\n",
      "|  4|  2| 403|  1|129.99|129.99|\n",
      "|  5|  4| 897|  2| 49.98| 24.99|\n",
      "|  6|  4| 365|  5|299.95| 59.99|\n",
      "|  7|  4| 502|  3| 150.0|  50.0|\n",
      "|  8|  4|1014|  4|199.92| 49.98|\n",
      "|  9|  5| 957|  1|299.98|299.98|\n",
      "| 10|  5| 365|  5|299.95| 59.99|\n",
      "| 11|  5|1014|  2| 99.96| 49.98|\n",
      "| 12|  5| 957|  1|299.98|299.98|\n",
      "| 13|  5| 403|  1|129.99|129.99|\n",
      "| 14|  7|1073|  1|199.99|199.99|\n",
      "| 15|  7| 957|  1|299.98|299.98|\n",
      "| 16|  7| 926|  5| 79.95| 15.99|\n",
      "| 17|  8| 365|  3|179.97| 59.99|\n",
      "| 18|  8| 365|  5|299.95| 59.99|\n",
      "| 19|  8|1014|  4|199.92| 49.98|\n",
      "| 20|  8| 502|  1|  50.0|  50.0|\n",
      "+---+---+----+---+------+------+\n",
      "only showing top 20 rows\n",
      "\n"
     ]
    }
   ],
   "source": [
    "raw_df.show()"
   ]
  },
  {
   "cell_type": "code",
   "execution_count": 23,
   "id": "582470e1",
   "metadata": {},
   "outputs": [
    {
     "name": "stdout",
     "output_type": "stream",
     "text": [
      "root\n",
      " |-- _c0: integer (nullable = true)\n",
      " |-- _c1: integer (nullable = true)\n",
      " |-- _c2: integer (nullable = true)\n",
      " |-- _c3: integer (nullable = true)\n",
      " |-- _c4: double (nullable = true)\n",
      " |-- _c5: double (nullable = true)\n",
      "\n"
     ]
    }
   ],
   "source": [
    "raw_df.printSchema()"
   ]
  },
  {
   "cell_type": "code",
   "execution_count": 24,
   "id": "5288b6e4",
   "metadata": {},
   "outputs": [],
   "source": [
    "refined_df = raw_df.toDF(\"order_item_id\",\"order_id\",\"product_id\",\"quantity\",\"subtotal\",\"product_price\")"
   ]
  },
  {
   "cell_type": "code",
   "execution_count": 25,
   "id": "ca463c48",
   "metadata": {},
   "outputs": [
    {
     "name": "stdout",
     "output_type": "stream",
     "text": [
      "+-------------+--------+----------+--------+--------+-------------+\n",
      "|order_item_id|order_id|product_id|quantity|subtotal|product_price|\n",
      "+-------------+--------+----------+--------+--------+-------------+\n",
      "|            1|       1|       957|       1|  299.98|       299.98|\n",
      "|            2|       2|      1073|       1|  199.99|       199.99|\n",
      "|            3|       2|       502|       5|   250.0|         50.0|\n",
      "|            4|       2|       403|       1|  129.99|       129.99|\n",
      "|            5|       4|       897|       2|   49.98|        24.99|\n",
      "|            6|       4|       365|       5|  299.95|        59.99|\n",
      "|            7|       4|       502|       3|   150.0|         50.0|\n",
      "|            8|       4|      1014|       4|  199.92|        49.98|\n",
      "|            9|       5|       957|       1|  299.98|       299.98|\n",
      "|           10|       5|       365|       5|  299.95|        59.99|\n",
      "|           11|       5|      1014|       2|   99.96|        49.98|\n",
      "|           12|       5|       957|       1|  299.98|       299.98|\n",
      "|           13|       5|       403|       1|  129.99|       129.99|\n",
      "|           14|       7|      1073|       1|  199.99|       199.99|\n",
      "|           15|       7|       957|       1|  299.98|       299.98|\n",
      "|           16|       7|       926|       5|   79.95|        15.99|\n",
      "|           17|       8|       365|       3|  179.97|        59.99|\n",
      "|           18|       8|       365|       5|  299.95|        59.99|\n",
      "|           19|       8|      1014|       4|  199.92|        49.98|\n",
      "|           20|       8|       502|       1|    50.0|         50.0|\n",
      "+-------------+--------+----------+--------+--------+-------------+\n",
      "only showing top 20 rows\n",
      "\n"
     ]
    }
   ],
   "source": [
    "refined_df.show()"
   ]
  },
  {
   "cell_type": "code",
   "execution_count": 26,
   "id": "82385e00",
   "metadata": {},
   "outputs": [],
   "source": [
    "df1= refined_df.drop(\"subtotal\")"
   ]
  },
  {
   "cell_type": "code",
   "execution_count": 27,
   "id": "2f4ed358",
   "metadata": {},
   "outputs": [
    {
     "name": "stdout",
     "output_type": "stream",
     "text": [
      "+-------------+--------+----------+--------+-------------+\n",
      "|order_item_id|order_id|product_id|quantity|product_price|\n",
      "+-------------+--------+----------+--------+-------------+\n",
      "|            1|       1|       957|       1|       299.98|\n",
      "|            2|       2|      1073|       1|       199.99|\n",
      "|            3|       2|       502|       5|         50.0|\n",
      "|            4|       2|       403|       1|       129.99|\n",
      "|            5|       4|       897|       2|        24.99|\n",
      "|            6|       4|       365|       5|        59.99|\n",
      "|            7|       4|       502|       3|         50.0|\n",
      "|            8|       4|      1014|       4|        49.98|\n",
      "|            9|       5|       957|       1|       299.98|\n",
      "|           10|       5|       365|       5|        59.99|\n",
      "|           11|       5|      1014|       2|        49.98|\n",
      "|           12|       5|       957|       1|       299.98|\n",
      "|           13|       5|       403|       1|       129.99|\n",
      "|           14|       7|      1073|       1|       199.99|\n",
      "|           15|       7|       957|       1|       299.98|\n",
      "|           16|       7|       926|       5|        15.99|\n",
      "|           17|       8|       365|       3|        59.99|\n",
      "|           18|       8|       365|       5|        59.99|\n",
      "|           19|       8|      1014|       4|        49.98|\n",
      "|           20|       8|       502|       1|         50.0|\n",
      "+-------------+--------+----------+--------+-------------+\n",
      "only showing top 20 rows\n",
      "\n"
     ]
    }
   ],
   "source": [
    "df1.show()"
   ]
  },
  {
   "cell_type": "code",
   "execution_count": 28,
   "id": "ed3681fe",
   "metadata": {},
   "outputs": [
    {
     "name": "stdout",
     "output_type": "stream",
     "text": [
      "+-------------+--------+----------+--------+-------------+\n",
      "|order_item_id|order_id|product_id|quantity|product_price|\n",
      "+-------------+--------+----------+--------+-------------+\n",
      "|            1|       1|       957|       1|       299.98|\n",
      "|            2|       2|      1073|       1|       199.99|\n",
      "|            3|       2|       502|       5|         50.0|\n",
      "|            4|       2|       403|       1|       129.99|\n",
      "|            5|       4|       897|       2|        24.99|\n",
      "|            6|       4|       365|       5|        59.99|\n",
      "|            7|       4|       502|       3|         50.0|\n",
      "|            8|       4|      1014|       4|        49.98|\n",
      "|            9|       5|       957|       1|       299.98|\n",
      "|           10|       5|       365|       5|        59.99|\n",
      "|           11|       5|      1014|       2|        49.98|\n",
      "|           12|       5|       957|       1|       299.98|\n",
      "|           13|       5|       403|       1|       129.99|\n",
      "|           14|       7|      1073|       1|       199.99|\n",
      "|           15|       7|       957|       1|       299.98|\n",
      "|           16|       7|       926|       5|        15.99|\n",
      "|           17|       8|       365|       3|        59.99|\n",
      "|           18|       8|       365|       5|        59.99|\n",
      "|           19|       8|      1014|       4|        49.98|\n",
      "|           20|       8|       502|       1|         50.0|\n",
      "+-------------+--------+----------+--------+-------------+\n",
      "only showing top 20 rows\n",
      "\n"
     ]
    }
   ],
   "source": [
    "df1.select(\"*\").show()"
   ]
  },
  {
   "cell_type": "code",
   "execution_count": 29,
   "id": "d42bce23",
   "metadata": {},
   "outputs": [
    {
     "name": "stdout",
     "output_type": "stream",
     "text": [
      "+-------------+--------+----------+\n",
      "|order_item_id|order_id|product_id|\n",
      "+-------------+--------+----------+\n",
      "|            1|       1|       957|\n",
      "|            2|       2|      1073|\n",
      "|            3|       2|       502|\n",
      "|            4|       2|       403|\n",
      "|            5|       4|       897|\n",
      "|            6|       4|       365|\n",
      "|            7|       4|       502|\n",
      "|            8|       4|      1014|\n",
      "|            9|       5|       957|\n",
      "|           10|       5|       365|\n",
      "|           11|       5|      1014|\n",
      "|           12|       5|       957|\n",
      "|           13|       5|       403|\n",
      "|           14|       7|      1073|\n",
      "|           15|       7|       957|\n",
      "|           16|       7|       926|\n",
      "|           17|       8|       365|\n",
      "|           18|       8|       365|\n",
      "|           19|       8|      1014|\n",
      "|           20|       8|       502|\n",
      "+-------------+--------+----------+\n",
      "only showing top 20 rows\n",
      "\n"
     ]
    }
   ],
   "source": [
    "df1.select(\"order_item_id\",\"order_id\",\"product_id\").show()"
   ]
  },
  {
   "cell_type": "code",
   "execution_count": 30,
   "id": "bc6f3113",
   "metadata": {},
   "outputs": [],
   "source": [
    "from pyspark.sql.functions import expr"
   ]
  },
  {
   "cell_type": "code",
   "execution_count": 31,
   "id": "637e61f1",
   "metadata": {},
   "outputs": [
    {
     "name": "stdout",
     "output_type": "stream",
     "text": [
      "+-------------+--------+----------+--------+-------------+--------+\n",
      "|order_item_id|order_id|product_id|quantity|product_price|subtotal|\n",
      "+-------------+--------+----------+--------+-------------+--------+\n",
      "|            1|       1|       957|       1|       299.98|  299.98|\n",
      "|            2|       2|      1073|       1|       199.99|  199.99|\n",
      "|            3|       2|       502|       5|         50.0|   250.0|\n",
      "|            4|       2|       403|       1|       129.99|  129.99|\n",
      "|            5|       4|       897|       2|        24.99|   49.98|\n",
      "|            6|       4|       365|       5|        59.99|  299.95|\n",
      "|            7|       4|       502|       3|         50.0|   150.0|\n",
      "|            8|       4|      1014|       4|        49.98|  199.92|\n",
      "|            9|       5|       957|       1|       299.98|  299.98|\n",
      "|           10|       5|       365|       5|        59.99|  299.95|\n",
      "|           11|       5|      1014|       2|        49.98|   99.96|\n",
      "|           12|       5|       957|       1|       299.98|  299.98|\n",
      "|           13|       5|       403|       1|       129.99|  129.99|\n",
      "|           14|       7|      1073|       1|       199.99|  199.99|\n",
      "|           15|       7|       957|       1|       299.98|  299.98|\n",
      "|           16|       7|       926|       5|        15.99|   79.95|\n",
      "|           17|       8|       365|       3|        59.99|  179.97|\n",
      "|           18|       8|       365|       5|        59.99|  299.95|\n",
      "|           19|       8|      1014|       4|        49.98|  199.92|\n",
      "|           20|       8|       502|       1|         50.0|    50.0|\n",
      "+-------------+--------+----------+--------+-------------+--------+\n",
      "only showing top 20 rows\n",
      "\n"
     ]
    }
   ],
   "source": [
    "df1.select(\"*\", expr(\"product_price * quantity as subtotal\")).show()"
   ]
  },
  {
   "cell_type": "code",
   "execution_count": 32,
   "id": "7b2e2933",
   "metadata": {},
   "outputs": [
    {
     "name": "stdout",
     "output_type": "stream",
     "text": [
      "+-------------+--------+----------+--------+-------------+--------+\n",
      "|order_item_id|order_id|product_id|quantity|product_price|subtotal|\n",
      "+-------------+--------+----------+--------+-------------+--------+\n",
      "|            1|       1|       957|       1|       299.98|  299.98|\n",
      "|            2|       2|      1073|       1|       199.99|  199.99|\n",
      "|            3|       2|       502|       5|         50.0|   250.0|\n",
      "|            4|       2|       403|       1|       129.99|  129.99|\n",
      "|            5|       4|       897|       2|        24.99|   49.98|\n",
      "|            6|       4|       365|       5|        59.99|  299.95|\n",
      "|            7|       4|       502|       3|         50.0|   150.0|\n",
      "|            8|       4|      1014|       4|        49.98|  199.92|\n",
      "|            9|       5|       957|       1|       299.98|  299.98|\n",
      "|           10|       5|       365|       5|        59.99|  299.95|\n",
      "|           11|       5|      1014|       2|        49.98|   99.96|\n",
      "|           12|       5|       957|       1|       299.98|  299.98|\n",
      "|           13|       5|       403|       1|       129.99|  129.99|\n",
      "|           14|       7|      1073|       1|       199.99|  199.99|\n",
      "|           15|       7|       957|       1|       299.98|  299.98|\n",
      "|           16|       7|       926|       5|        15.99|   79.95|\n",
      "|           17|       8|       365|       3|        59.99|  179.97|\n",
      "|           18|       8|       365|       5|        59.99|  299.95|\n",
      "|           19|       8|      1014|       4|        49.98|  199.92|\n",
      "|           20|       8|       502|       1|         50.0|    50.0|\n",
      "+-------------+--------+----------+--------+-------------+--------+\n",
      "only showing top 20 rows\n",
      "\n"
     ]
    }
   ],
   "source": [
    "df1.selectExpr(\"*\", \"product_price * quantity as subtotal\").show()"
   ]
  },
  {
   "cell_type": "code",
   "execution_count": 33,
   "id": "d38c440e",
   "metadata": {},
   "outputs": [],
   "source": [
    "product_raw_df = spark.read.\\\n",
    "format(\"csv\").\\\n",
    "option(\"inferSchema\", \"True\").\\\n",
    "load(\"/public/trendytech/retail_db/products/part-00000\")"
   ]
  },
  {
   "cell_type": "code",
   "execution_count": 34,
   "id": "649a4fa5",
   "metadata": {},
   "outputs": [
    {
     "name": "stdout",
     "output_type": "stream",
     "text": [
      "+---+---+--------------------+----+------+--------------------+\n",
      "|_c0|_c1|                 _c2| _c3|   _c4|                 _c5|\n",
      "+---+---+--------------------+----+------+--------------------+\n",
      "|  1|  2|Quest Q64 10 FT. ...|null| 59.98|http://images.acm...|\n",
      "|  2|  2|Under Armour Men'...|null|129.99|http://images.acm...|\n",
      "|  3|  2|Under Armour Men'...|null| 89.99|http://images.acm...|\n",
      "|  4|  2|Under Armour Men'...|null| 89.99|http://images.acm...|\n",
      "|  5|  2|Riddell Youth Rev...|null|199.99|http://images.acm...|\n",
      "|  6|  2|Jordan Men's VI R...|null|134.99|http://images.acm...|\n",
      "|  7|  2|Schutt Youth Recr...|null| 99.99|http://images.acm...|\n",
      "|  8|  2|Nike Men's Vapor ...|null|129.99|http://images.acm...|\n",
      "|  9|  2|Nike Adult Vapor ...|null|  50.0|http://images.acm...|\n",
      "| 10|  2|Under Armour Men'...|null|129.99|http://images.acm...|\n",
      "| 11|  2|Fitness Gear 300 ...|null|209.99|http://images.acm...|\n",
      "| 12|  2|Under Armour Men'...|null|139.99|http://images.acm...|\n",
      "| 13|  2|Under Armour Men'...|null| 89.99|http://images.acm...|\n",
      "| 14|  2|Quik Shade Summit...|null|199.99|http://images.acm...|\n",
      "| 15|  2|Under Armour Kids...|null| 59.99|http://images.acm...|\n",
      "| 16|  2|Riddell Youth 360...|null|299.99|http://images.acm...|\n",
      "| 17|  2|Under Armour Men'...|null|129.99|http://images.acm...|\n",
      "| 18|  2|Reebok Men's Full...|null| 29.97|http://images.acm...|\n",
      "| 19|  2|Nike Men's Finger...|null|124.99|http://images.acm...|\n",
      "| 20|  2|Under Armour Men'...|null|129.99|http://images.acm...|\n",
      "+---+---+--------------------+----+------+--------------------+\n",
      "only showing top 20 rows\n",
      "\n"
     ]
    }
   ],
   "source": [
    "product_raw_df.show()"
   ]
  },
  {
   "cell_type": "code",
   "execution_count": 35,
   "id": "eda01ef3",
   "metadata": {},
   "outputs": [],
   "source": [
    "df1 = product_raw_df.toDF(\"product_id\",\"product_category_id\",\"product_name\",\"product_description\",\"product_price\",\"product_image\")"
   ]
  },
  {
   "cell_type": "code",
   "execution_count": 36,
   "id": "6fa16e5a",
   "metadata": {},
   "outputs": [
    {
     "name": "stdout",
     "output_type": "stream",
     "text": [
      "+----------+-------------------+--------------------+-------------------+-------------+--------------------+\n",
      "|product_id|product_category_id|        product_name|product_description|product_price|       product_image|\n",
      "+----------+-------------------+--------------------+-------------------+-------------+--------------------+\n",
      "|         1|                  2|Quest Q64 10 FT. ...|               null|        59.98|http://images.acm...|\n",
      "|         2|                  2|Under Armour Men'...|               null|       129.99|http://images.acm...|\n",
      "|         3|                  2|Under Armour Men'...|               null|        89.99|http://images.acm...|\n",
      "|         4|                  2|Under Armour Men'...|               null|        89.99|http://images.acm...|\n",
      "|         5|                  2|Riddell Youth Rev...|               null|       199.99|http://images.acm...|\n",
      "|         6|                  2|Jordan Men's VI R...|               null|       134.99|http://images.acm...|\n",
      "|         7|                  2|Schutt Youth Recr...|               null|        99.99|http://images.acm...|\n",
      "|         8|                  2|Nike Men's Vapor ...|               null|       129.99|http://images.acm...|\n",
      "|         9|                  2|Nike Adult Vapor ...|               null|         50.0|http://images.acm...|\n",
      "|        10|                  2|Under Armour Men'...|               null|       129.99|http://images.acm...|\n",
      "|        11|                  2|Fitness Gear 300 ...|               null|       209.99|http://images.acm...|\n",
      "|        12|                  2|Under Armour Men'...|               null|       139.99|http://images.acm...|\n",
      "|        13|                  2|Under Armour Men'...|               null|        89.99|http://images.acm...|\n",
      "|        14|                  2|Quik Shade Summit...|               null|       199.99|http://images.acm...|\n",
      "|        15|                  2|Under Armour Kids...|               null|        59.99|http://images.acm...|\n",
      "|        16|                  2|Riddell Youth 360...|               null|       299.99|http://images.acm...|\n",
      "|        17|                  2|Under Armour Men'...|               null|       129.99|http://images.acm...|\n",
      "|        18|                  2|Reebok Men's Full...|               null|        29.97|http://images.acm...|\n",
      "|        19|                  2|Nike Men's Finger...|               null|       124.99|http://images.acm...|\n",
      "|        20|                  2|Under Armour Men'...|               null|       129.99|http://images.acm...|\n",
      "+----------+-------------------+--------------------+-------------------+-------------+--------------------+\n",
      "only showing top 20 rows\n",
      "\n"
     ]
    }
   ],
   "source": [
    "df1.show()"
   ]
  },
  {
   "cell_type": "code",
   "execution_count": 37,
   "id": "5ca6fd91",
   "metadata": {},
   "outputs": [
    {
     "name": "stdout",
     "output_type": "stream",
     "text": [
      "root\n",
      " |-- product_id: integer (nullable = true)\n",
      " |-- product_category_id: integer (nullable = true)\n",
      " |-- product_name: string (nullable = true)\n",
      " |-- product_description: string (nullable = true)\n",
      " |-- product_price: double (nullable = true)\n",
      " |-- product_image: string (nullable = true)\n",
      "\n"
     ]
    }
   ],
   "source": [
    "df1.printSchema()"
   ]
  },
  {
   "cell_type": "code",
   "execution_count": 38,
   "id": "28b515f3",
   "metadata": {},
   "outputs": [],
   "source": [
    "df2 = df1.withColumn(\"product_price\", expr(\"product_price*1.2\"))"
   ]
  },
  {
   "cell_type": "code",
   "execution_count": 39,
   "id": "5ec28d03",
   "metadata": {},
   "outputs": [
    {
     "name": "stdout",
     "output_type": "stream",
     "text": [
      "+----------+-------------------+--------------------+-------------------+------------------+--------------------+\n",
      "|product_id|product_category_id|        product_name|product_description|     product_price|       product_image|\n",
      "+----------+-------------------+--------------------+-------------------+------------------+--------------------+\n",
      "|         1|                  2|Quest Q64 10 FT. ...|               null|            71.976|http://images.acm...|\n",
      "|         2|                  2|Under Armour Men'...|               null|           155.988|http://images.acm...|\n",
      "|         3|                  2|Under Armour Men'...|               null|107.98799999999999|http://images.acm...|\n",
      "|         4|                  2|Under Armour Men'...|               null|107.98799999999999|http://images.acm...|\n",
      "|         5|                  2|Riddell Youth Rev...|               null|           239.988|http://images.acm...|\n",
      "|         6|                  2|Jordan Men's VI R...|               null|           161.988|http://images.acm...|\n",
      "|         7|                  2|Schutt Youth Recr...|               null|119.98799999999999|http://images.acm...|\n",
      "|         8|                  2|Nike Men's Vapor ...|               null|           155.988|http://images.acm...|\n",
      "|         9|                  2|Nike Adult Vapor ...|               null|              60.0|http://images.acm...|\n",
      "|        10|                  2|Under Armour Men'...|               null|           155.988|http://images.acm...|\n",
      "|        11|                  2|Fitness Gear 300 ...|               null|           251.988|http://images.acm...|\n",
      "|        12|                  2|Under Armour Men'...|               null|           167.988|http://images.acm...|\n",
      "|        13|                  2|Under Armour Men'...|               null|107.98799999999999|http://images.acm...|\n",
      "|        14|                  2|Quik Shade Summit...|               null|           239.988|http://images.acm...|\n",
      "|        15|                  2|Under Armour Kids...|               null|            71.988|http://images.acm...|\n",
      "|        16|                  2|Riddell Youth 360...|               null|           359.988|http://images.acm...|\n",
      "|        17|                  2|Under Armour Men'...|               null|           155.988|http://images.acm...|\n",
      "|        18|                  2|Reebok Men's Full...|               null|            35.964|http://images.acm...|\n",
      "|        19|                  2|Nike Men's Finger...|               null|           149.988|http://images.acm...|\n",
      "|        20|                  2|Under Armour Men'...|               null|           155.988|http://images.acm...|\n",
      "+----------+-------------------+--------------------+-------------------+------------------+--------------------+\n",
      "only showing top 20 rows\n",
      "\n"
     ]
    }
   ],
   "source": [
    "df2.show()"
   ]
  },
  {
   "cell_type": "code",
   "execution_count": 41,
   "id": "24280347",
   "metadata": {},
   "outputs": [],
   "source": [
    "new_df = df1.withColumn(\"product_price\", expr(\"CASE WHEN product_name like '%nike%' THEN product_price *1.2 WHEN product_name like '%Armour%' THEN product_price * 1.1  ELSE product_price END\"))"
   ]
  },
  {
   "cell_type": "code",
   "execution_count": 42,
   "id": "d1d4c5b0",
   "metadata": {},
   "outputs": [
    {
     "name": "stdout",
     "output_type": "stream",
     "text": [
      "+----------+-------------------+--------------------+-------------------+------------------+--------------------+\n",
      "|product_id|product_category_id|        product_name|product_description|     product_price|       product_image|\n",
      "+----------+-------------------+--------------------+-------------------+------------------+--------------------+\n",
      "|         1|                  2|Quest Q64 10 FT. ...|               null|             59.98|http://images.acm...|\n",
      "|         2|                  2|Under Armour Men'...|               null|142.98900000000003|http://images.acm...|\n",
      "|         3|                  2|Under Armour Men'...|               null|            98.989|http://images.acm...|\n",
      "|         4|                  2|Under Armour Men'...|               null|            98.989|http://images.acm...|\n",
      "|         5|                  2|Riddell Youth Rev...|               null|            199.99|http://images.acm...|\n",
      "|         6|                  2|Jordan Men's VI R...|               null|            134.99|http://images.acm...|\n",
      "|         7|                  2|Schutt Youth Recr...|               null|             99.99|http://images.acm...|\n",
      "|         8|                  2|Nike Men's Vapor ...|               null|            129.99|http://images.acm...|\n",
      "|         9|                  2|Nike Adult Vapor ...|               null|              50.0|http://images.acm...|\n",
      "|        10|                  2|Under Armour Men'...|               null|142.98900000000003|http://images.acm...|\n",
      "|        11|                  2|Fitness Gear 300 ...|               null|            209.99|http://images.acm...|\n",
      "|        12|                  2|Under Armour Men'...|               null|153.98900000000003|http://images.acm...|\n",
      "|        13|                  2|Under Armour Men'...|               null|            98.989|http://images.acm...|\n",
      "|        14|                  2|Quik Shade Summit...|               null|            199.99|http://images.acm...|\n",
      "|        15|                  2|Under Armour Kids...|               null|            65.989|http://images.acm...|\n",
      "|        16|                  2|Riddell Youth 360...|               null|            299.99|http://images.acm...|\n",
      "|        17|                  2|Under Armour Men'...|               null|142.98900000000003|http://images.acm...|\n",
      "|        18|                  2|Reebok Men's Full...|               null|             29.97|http://images.acm...|\n",
      "|        19|                  2|Nike Men's Finger...|               null|            124.99|http://images.acm...|\n",
      "|        20|                  2|Under Armour Men'...|               null|142.98900000000003|http://images.acm...|\n",
      "+----------+-------------------+--------------------+-------------------+------------------+--------------------+\n",
      "only showing top 20 rows\n",
      "\n"
     ]
    }
   ],
   "source": [
    "new_df.show()"
   ]
  },
  {
   "cell_type": "code",
   "execution_count": 43,
   "id": "c9d8b5c4",
   "metadata": {},
   "outputs": [],
   "source": [
    "mylist = [(1,\"kapil\",34),(1,\"kapil\",34),(1,\"satish\",26),(2,\"satish\",26)]"
   ]
  },
  {
   "cell_type": "code",
   "execution_count": 44,
   "id": "a45b61c2",
   "metadata": {},
   "outputs": [],
   "source": [
    "df = spark.createDataFrame(mylist).toDF(\"id\",\"name\",\"age\")"
   ]
  },
  {
   "cell_type": "code",
   "execution_count": 45,
   "id": "274a71cd",
   "metadata": {},
   "outputs": [
    {
     "name": "stdout",
     "output_type": "stream",
     "text": [
      "+---+------+---+\n",
      "| id|  name|age|\n",
      "+---+------+---+\n",
      "|  1| kapil| 34|\n",
      "|  1| kapil| 34|\n",
      "|  1|satish| 26|\n",
      "|  2|satish| 26|\n",
      "+---+------+---+\n",
      "\n"
     ]
    }
   ],
   "source": [
    "df.show()"
   ]
  },
  {
   "cell_type": "code",
   "execution_count": 46,
   "id": "16b1071d",
   "metadata": {},
   "outputs": [
    {
     "name": "stdout",
     "output_type": "stream",
     "text": [
      "+---+------+---+\n",
      "| id|  name|age|\n",
      "+---+------+---+\n",
      "|  1|satish| 26|\n",
      "|  2|satish| 26|\n",
      "|  1| kapil| 34|\n",
      "+---+------+---+\n",
      "\n"
     ]
    }
   ],
   "source": [
    "df1 = df.distinct().show()"
   ]
  },
  {
   "cell_type": "code",
   "execution_count": 47,
   "id": "90d4ff2f",
   "metadata": {},
   "outputs": [],
   "source": [
    "df1= df.select(\"id\").distinct()"
   ]
  },
  {
   "cell_type": "code",
   "execution_count": 48,
   "id": "2b725430",
   "metadata": {},
   "outputs": [
    {
     "name": "stdout",
     "output_type": "stream",
     "text": [
      "+---+\n",
      "| id|\n",
      "+---+\n",
      "|  1|\n",
      "|  2|\n",
      "+---+\n",
      "\n"
     ]
    }
   ],
   "source": [
    "df1.show()"
   ]
  },
  {
   "cell_type": "code",
   "execution_count": 49,
   "id": "bef805fe",
   "metadata": {},
   "outputs": [],
   "source": [
    "new_df = df.dropDuplicates()"
   ]
  },
  {
   "cell_type": "code",
   "execution_count": 50,
   "id": "e1a75bf0",
   "metadata": {},
   "outputs": [
    {
     "name": "stdout",
     "output_type": "stream",
     "text": [
      "+---+------+---+\n",
      "| id|  name|age|\n",
      "+---+------+---+\n",
      "|  1|satish| 26|\n",
      "|  2|satish| 26|\n",
      "|  1| kapil| 34|\n",
      "+---+------+---+\n",
      "\n"
     ]
    }
   ],
   "source": [
    "new_df.show()"
   ]
  },
  {
   "cell_type": "code",
   "execution_count": 51,
   "id": "c91c7fb1",
   "metadata": {},
   "outputs": [
    {
     "name": "stdout",
     "output_type": "stream",
     "text": [
      "+---+------+---+\n",
      "| id|  name|age|\n",
      "+---+------+---+\n",
      "|  1| kapil| 34|\n",
      "|  1|satish| 26|\n",
      "+---+------+---+\n",
      "\n"
     ]
    }
   ],
   "source": [
    "df.dropDuplicates([\"name\",\"age\"]).show()"
   ]
  },
  {
   "cell_type": "code",
   "execution_count": 52,
   "id": "aeefc4a7",
   "metadata": {},
   "outputs": [
    {
     "name": "stdout",
     "output_type": "stream",
     "text": [
      "+---+------+---+\n",
      "| id|  name|age|\n",
      "+---+------+---+\n",
      "|  1|satish| 26|\n",
      "|  2|satish| 26|\n",
      "+---+------+---+\n",
      "\n"
     ]
    },
    {
     "name": "stderr",
     "output_type": "stream",
     "text": [
      "----------------------------------------\n",
      "Exception happened during processing of request from ('127.0.0.1', 51102)\n",
      "Traceback (most recent call last):\n",
      "  File \"/opt/anaconda3/envs/beakerx/lib/python3.6/socketserver.py\", line 320, in _handle_request_noblock\n",
      "    self.process_request(request, client_address)\n",
      "  File \"/opt/anaconda3/envs/beakerx/lib/python3.6/socketserver.py\", line 351, in process_request\n",
      "    self.finish_request(request, client_address)\n",
      "  File \"/opt/anaconda3/envs/beakerx/lib/python3.6/socketserver.py\", line 364, in finish_request\n",
      "    self.RequestHandlerClass(request, client_address, self)\n",
      "  File \"/opt/anaconda3/envs/beakerx/lib/python3.6/socketserver.py\", line 724, in __init__\n",
      "    self.handle()\n",
      "  File \"/opt/spark-3.1.2-bin-hadoop3.2/python/pyspark/accumulators.py\", line 262, in handle\n",
      "    poll(accum_updates)\n",
      "  File \"/opt/spark-3.1.2-bin-hadoop3.2/python/pyspark/accumulators.py\", line 235, in poll\n",
      "    if func():\n",
      "  File \"/opt/spark-3.1.2-bin-hadoop3.2/python/pyspark/accumulators.py\", line 239, in accum_updates\n",
      "    num_updates = read_int(self.rfile)\n",
      "  File \"/opt/spark-3.1.2-bin-hadoop3.2/python/pyspark/serializers.py\", line 564, in read_int\n",
      "    raise EOFError\n",
      "EOFError\n",
      "----------------------------------------\n"
     ]
    }
   ],
   "source": [
    "df.dropDuplicates([\"id\"]).show()"
   ]
  },
  {
   "cell_type": "code",
   "execution_count": null,
   "id": "94e48f95",
   "metadata": {},
   "outputs": [],
   "source": []
  }
 ],
 "metadata": {
  "kernelspec": {
   "display_name": "Pyspark 3",
   "language": "python",
   "name": "pyspark3"
  },
  "language_info": {
   "codemirror_mode": {
    "name": "ipython",
    "version": 3
   },
   "file_extension": ".py",
   "mimetype": "text/x-python",
   "name": "python",
   "nbconvert_exporter": "python",
   "pygments_lexer": "ipython3",
   "version": "3.6.12"
  }
 },
 "nbformat": 4,
 "nbformat_minor": 5
}
