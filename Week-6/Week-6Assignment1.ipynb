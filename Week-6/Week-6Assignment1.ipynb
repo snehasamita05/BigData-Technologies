{
 "cells": [
  {
   "cell_type": "code",
   "execution_count": 56,
   "id": "04bc000c",
   "metadata": {},
   "outputs": [],
   "source": [
    "from pyspark.sql import SparkSession\n",
    "import getpass\n",
    "username = getpass.getuser()\n",
    "spark = SparkSession. \\\n",
    "builder. \\\n",
    "config('spark.ui.port','0'). \\\n",
    "config(\"spark.sql.warehouse.dir\", f\"/user/{username}/warehouse\"). \\\n",
    "enableHiveSupport(). \\\n",
    "master('yarn'). \\\n",
    "getOrCreate()"
   ]
  },
  {
   "cell_type": "code",
   "execution_count": 57,
   "id": "93a32e0f",
   "metadata": {},
   "outputs": [
    {
     "data": {
      "text/html": [
       "\n",
       "            <div>\n",
       "                <p><b>SparkSession - hive</b></p>\n",
       "                \n",
       "        <div>\n",
       "            <p><b>SparkContext</b></p>\n",
       "\n",
       "            <p><a href=\"http://g01.itversity.com:42343\">Spark UI</a></p>\n",
       "\n",
       "            <dl>\n",
       "              <dt>Version</dt>\n",
       "                <dd><code>v3.1.2</code></dd>\n",
       "              <dt>Master</dt>\n",
       "                <dd><code>yarn</code></dd>\n",
       "              <dt>AppName</dt>\n",
       "                <dd><code>pyspark-shell</code></dd>\n",
       "            </dl>\n",
       "        </div>\n",
       "        \n",
       "            </div>\n",
       "        "
      ],
      "text/plain": [
       "<pyspark.sql.session.SparkSession at 0x7fd38bd307f0>"
      ]
     },
     "execution_count": 57,
     "metadata": {},
     "output_type": "execute_result"
    }
   ],
   "source": [
    "spark"
   ]
  },
  {
   "cell_type": "code",
   "execution_count": 3,
   "id": "75dd0b18",
   "metadata": {},
   "outputs": [],
   "source": [
    "Data = [(\"Spring\", 12.3),(\"Summer\", 10.5),(\"Autumn\", 8.2),(\"Winter\", 15.1)]"
   ]
  },
  {
   "cell_type": "code",
   "execution_count": 4,
   "id": "1fcd429f",
   "metadata": {},
   "outputs": [],
   "source": [
    "df1 = spark.createDataFrame(Data,schema = [\"season\",\"windspeed\"])"
   ]
  },
  {
   "cell_type": "code",
   "execution_count": 5,
   "id": "01b7a1c4",
   "metadata": {},
   "outputs": [
    {
     "name": "stdout",
     "output_type": "stream",
     "text": [
      "+------+---------+\n",
      "|season|windspeed|\n",
      "+------+---------+\n",
      "|Spring|     12.3|\n",
      "|Summer|     10.5|\n",
      "|Autumn|      8.2|\n",
      "|Winter|     15.1|\n",
      "+------+---------+\n",
      "\n"
     ]
    }
   ],
   "source": [
    "df1.show()"
   ]
  },
  {
   "cell_type": "code",
   "execution_count": 6,
   "id": "b6e97d5d",
   "metadata": {},
   "outputs": [
    {
     "name": "stdout",
     "output_type": "stream",
     "text": [
      "root\n",
      " |-- season: string (nullable = true)\n",
      " |-- windspeed: double (nullable = true)\n",
      "\n"
     ]
    }
   ],
   "source": [
    "df1.printSchema()"
   ]
  },
  {
   "cell_type": "code",
   "execution_count": 7,
   "id": "7fa48170",
   "metadata": {},
   "outputs": [
    {
     "name": "stdout",
     "output_type": "stream",
     "text": [
      "{\"library_name\": \"Central Library\",\"location\": \"City Center\",\"books\": [{\"book_id\": \"B001\",\"book_name\": \"The Great Gatsby\",\"author\": \"F. Scott Fitzgerald\",\"copies_available\": 5},{\"book_id\": \"B002\",\"book_name\": \"To Kill a Mockingbird\",\"author\": \"Harper Lee\",\"copies_available\": 3}],\"members\": [{\"member_id\": \"M001\",\"member_name\": \"John Smith\",\"age\": 28,\"books_borrowed\": [\"B001\"]},{\"member_id\": \"M002\",\"member_name\": \"Emma Johnson\",\"age\": 35,\"books_borrowed\": []}]},\n",
      "{\"library_name\": \"Community Library\",\"location\": \"Suburb\",\"books\": [{\"book_id\": \"B003\",\"book_name\": \"1984\",\"author\": \"George Orwell\",\"copies_available\": 2},{\"book_id\": \"B004\",\"book_name\": \"Pride and Prejudice\",\"author\": \"Jane Austen\",\"copies_available\": 4}],\"members\": [{\"member_id\": \"M003\",\"member_name\": \"Michael Brown\",\"age\": 42,\"books_borrowed\": [\"B003\",\"B004\"]},{\"member_id\": \"M004\",\"member_name\": \"Sophia Davis\",\"age\": 31,\"books_borrowed\": [\"B004\"]}]}\n"
     ]
    }
   ],
   "source": [
    "! hadoop fs -cat /public/trendytech/datasets/library_data.json "
   ]
  },
  {
   "cell_type": "code",
   "execution_count": 8,
   "id": "d30cea58",
   "metadata": {},
   "outputs": [],
   "source": [
    "from pyspark.sql.types import *"
   ]
  },
  {
   "cell_type": "code",
   "execution_count": 9,
   "id": "e6266dc2",
   "metadata": {},
   "outputs": [],
   "source": [
    "schema = StructType([\n",
    "                    StructField(\"library_name\", StringType()),\n",
    "                    StructField(\"location\", StringType()),\n",
    "                    StructField(\"books\", ArrayType(\n",
    "                    StructType([\n",
    "                    StructField(\"book_id\", StringType()),\n",
    "                    StructField(\"book_name\", StringType()),\n",
    "                    StructField(\"author\", StringType()),\n",
    "                    StructField(\"copies_available\", IntegerType())\n",
    "                    ])\n",
    "                    )),\n",
    "                    StructField(\"members\", ArrayType(\n",
    "                    StructType([\n",
    "                    StructField(\"member_id\", StringType()),\n",
    "                    StructField(\"member_name\", StringType()),\n",
    "                    StructField(\"age\", IntegerType()),\n",
    "                    StructField(\"books_borrowed\", ArrayType(StringType()))\n",
    "                    ])\n",
    "                    ))\n",
    "                    ])"
   ]
  },
  {
   "cell_type": "code",
   "execution_count": 10,
   "id": "56a3ad63",
   "metadata": {},
   "outputs": [],
   "source": [
    "library_df =spark.read.schema(schema).json(\"/public/trendytech/datasets/library_data.json\")"
   ]
  },
  {
   "cell_type": "code",
   "execution_count": 11,
   "id": "c25bff98",
   "metadata": {},
   "outputs": [
    {
     "name": "stdout",
     "output_type": "stream",
     "text": [
      "+-----------------+-----------+--------------------+--------------------+\n",
      "|     library_name|   location|               books|             members|\n",
      "+-----------------+-----------+--------------------+--------------------+\n",
      "|  Central Library|City Center|[{B001, The Great...|[{M001, John Smit...|\n",
      "|Community Library|     Suburb|[{B003, 1984, Geo...|[{M003, Michael B...|\n",
      "+-----------------+-----------+--------------------+--------------------+\n",
      "\n"
     ]
    }
   ],
   "source": [
    "library_df.show()"
   ]
  },
  {
   "cell_type": "code",
   "execution_count": 12,
   "id": "8a03b52e",
   "metadata": {},
   "outputs": [
    {
     "name": "stdout",
     "output_type": "stream",
     "text": [
      "root\n",
      " |-- library_name: string (nullable = true)\n",
      " |-- location: string (nullable = true)\n",
      " |-- books: array (nullable = true)\n",
      " |    |-- element: struct (containsNull = true)\n",
      " |    |    |-- book_id: string (nullable = true)\n",
      " |    |    |-- book_name: string (nullable = true)\n",
      " |    |    |-- author: string (nullable = true)\n",
      " |    |    |-- copies_available: integer (nullable = true)\n",
      " |-- members: array (nullable = true)\n",
      " |    |-- element: struct (containsNull = true)\n",
      " |    |    |-- member_id: string (nullable = true)\n",
      " |    |    |-- member_name: string (nullable = true)\n",
      " |    |    |-- age: integer (nullable = true)\n",
      " |    |    |-- books_borrowed: array (nullable = true)\n",
      " |    |    |    |-- element: string (containsNull = true)\n",
      "\n"
     ]
    }
   ],
   "source": [
    "library_df.printSchema()"
   ]
  },
  {
   "cell_type": "code",
   "execution_count": 13,
   "id": "37b44cd4",
   "metadata": {},
   "outputs": [
    {
     "name": "stdout",
     "output_type": "stream",
     "text": [
      "train_number,train_name,seats_available,passenger_name,age,ticket_number,seat_number\n",
      "123,Express,100,John,25,T123,A1\n",
      "123,Express,100,Emma,30,T124,B2\n",
      "456,Superfast,150,Michael,35,T125,C3\n",
      "456,Superfast,150,Sophia,40,T126,D4\n",
      "789,Local,50,William,28,T127,E5\n",
      "789,Local,50,Sophia,32,T128,F6\n",
      "789,Local,50,Oliver,45,T129,G7\n"
     ]
    }
   ],
   "source": [
    "! hadoop fs -cat /public/trendytech/datasets/train.csv |head"
   ]
  },
  {
   "cell_type": "code",
   "execution_count": 14,
   "id": "82794c56",
   "metadata": {},
   "outputs": [],
   "source": [
    "train_df = spark.read.format(\"csv\").option(\"header\",True).option(\"inferSchema\", True).load(\"/public/trendytech/datasets/train.csv\")"
   ]
  },
  {
   "cell_type": "code",
   "execution_count": 15,
   "id": "65e47c71",
   "metadata": {},
   "outputs": [
    {
     "name": "stdout",
     "output_type": "stream",
     "text": [
      "+------------+----------+---------------+--------------+---+-------------+-----------+\n",
      "|train_number|train_name|seats_available|passenger_name|age|ticket_number|seat_number|\n",
      "+------------+----------+---------------+--------------+---+-------------+-----------+\n",
      "|         123|   Express|            100|          John| 25|         T123|         A1|\n",
      "|         123|   Express|            100|          Emma| 30|         T124|         B2|\n",
      "|         456| Superfast|            150|       Michael| 35|         T125|         C3|\n",
      "|         456| Superfast|            150|        Sophia| 40|         T126|         D4|\n",
      "|         789|     Local|             50|       William| 28|         T127|         E5|\n",
      "|         789|     Local|             50|        Sophia| 32|         T128|         F6|\n",
      "|         789|     Local|             50|        Oliver| 45|         T129|         G7|\n",
      "+------------+----------+---------------+--------------+---+-------------+-----------+\n",
      "\n"
     ]
    }
   ],
   "source": [
    "train_df.show()"
   ]
  },
  {
   "cell_type": "code",
   "execution_count": 16,
   "id": "5c62c49c",
   "metadata": {},
   "outputs": [],
   "source": [
    "dropped_df = train_df.drop(\"passenger_name\",\"age\")"
   ]
  },
  {
   "cell_type": "code",
   "execution_count": 17,
   "id": "0192cba0",
   "metadata": {},
   "outputs": [
    {
     "name": "stdout",
     "output_type": "stream",
     "text": [
      "+------------+----------+---------------+-------------+-----------+\n",
      "|train_number|train_name|seats_available|ticket_number|seat_number|\n",
      "+------------+----------+---------------+-------------+-----------+\n",
      "|         123|   Express|            100|         T123|         A1|\n",
      "|         123|   Express|            100|         T124|         B2|\n",
      "|         456| Superfast|            150|         T125|         C3|\n",
      "|         456| Superfast|            150|         T126|         D4|\n",
      "|         789|     Local|             50|         T127|         E5|\n",
      "|         789|     Local|             50|         T128|         F6|\n",
      "|         789|     Local|             50|         T129|         G7|\n",
      "+------------+----------+---------------+-------------+-----------+\n",
      "\n"
     ]
    }
   ],
   "source": [
    "dropped_df.show()"
   ]
  },
  {
   "cell_type": "code",
   "execution_count": 18,
   "id": "f48ff085",
   "metadata": {},
   "outputs": [],
   "source": [
    "duplicates_df = train_df.dropDuplicates([\"train_number\",\"ticket_number\"]).count()"
   ]
  },
  {
   "cell_type": "code",
   "execution_count": 19,
   "id": "84e195c8",
   "metadata": {},
   "outputs": [
    {
     "name": "stdout",
     "output_type": "stream",
     "text": [
      "7\n"
     ]
    }
   ],
   "source": [
    "print(duplicates_df)"
   ]
  },
  {
   "cell_type": "code",
   "execution_count": 20,
   "id": "52eeb88f",
   "metadata": {},
   "outputs": [],
   "source": [
    "unique_df = train_df.select(\"train_name\").distinct().count()"
   ]
  },
  {
   "cell_type": "code",
   "execution_count": 21,
   "id": "ecc806f9",
   "metadata": {},
   "outputs": [
    {
     "name": "stdout",
     "output_type": "stream",
     "text": [
      "3\n"
     ]
    }
   ],
   "source": [
    "print(unique_df)"
   ]
  },
  {
   "cell_type": "code",
   "execution_count": 22,
   "id": "08fa8650",
   "metadata": {},
   "outputs": [
    {
     "name": "stdout",
     "output_type": "stream",
     "text": [
      "{\"store_id\": 1, \"product\": \"Apple\", \"quantity\": 10, \"revenue\": 100.0}\n",
      "{\"store_id\": 2, \"product\": \"Banana\", \"quantity\": 15, \"revenue\": 75.0}\n",
      "{\"store_id\": 3, \"product\": \"Orange\", \"quantity\": 12, \"revenue\": 90.0}\n",
      "{\"store_id\": 4, \"product\": \"Mango\", \"quantity\": 8, \"revenue\": 120.0}\n",
      "{\"store_id\": 5, \"product\": \"Grape\", \"quantity\": 20, \"revenue\": 150.0}\n",
      "{\"store_id\": 6, \"product\": \"Watermelon\", \"quantity\": 5, \"revenue\": 50.0}\n",
      "{\"store_id\": 7, \"product\": \"Strawberry\", \"quantity\": 18, \"revenue\": 108.0}\n",
      "{\"store_id\": 8, \"product\": \"Pineapple\", \"quantity\": 14, \"revenue\": 140.0}\n",
      "{\"store_id\": 9, \"product\": \"Cherry\", \"quantity\": 7, \"revenue\": 105.0}\n",
      "{\"store_id\": 10, \"product\": \"Pear\", \"quantity\": 9, \"revenue\": 81.0}\n"
     ]
    }
   ],
   "source": [
    "! hadoop fs -cat /public/trendytech/datasets/sales_data.json |head"
   ]
  },
  {
   "cell_type": "code",
   "execution_count": 23,
   "id": "5e9ef375",
   "metadata": {},
   "outputs": [],
   "source": [
    "schema=\"store_id integer,product string,quantity integer,revenue double\""
   ]
  },
  {
   "cell_type": "code",
   "execution_count": 30,
   "id": "d5b3cb22",
   "metadata": {},
   "outputs": [],
   "source": [
    "sales_df = spark.read.format(\"json\").schema(schema).option(\"mode\",\"permissive\").load(\"/public/trendytech/datasets/sales_data.json\")"
   ]
  },
  {
   "cell_type": "code",
   "execution_count": 31,
   "id": "f667939a",
   "metadata": {},
   "outputs": [
    {
     "data": {
      "text/plain": [
       "22"
      ]
     },
     "execution_count": 31,
     "metadata": {},
     "output_type": "execute_result"
    }
   ],
   "source": [
    "sales_df.count()"
   ]
  },
  {
   "cell_type": "code",
   "execution_count": 49,
   "id": "77f4302a",
   "metadata": {},
   "outputs": [],
   "source": [
    "sales_df1 = spark.read.format(\"json\").option(\"mode\",\"dropmalformed\").schema(schema).load(\"/public/trendytech/datasets/sales_data.json\")"
   ]
  },
  {
   "cell_type": "code",
   "execution_count": 50,
   "id": "bc52ffa2",
   "metadata": {},
   "outputs": [
    {
     "data": {
      "text/plain": [
       "21"
      ]
     },
     "execution_count": 50,
     "metadata": {},
     "output_type": "execute_result"
    }
   ],
   "source": [
    "sales_df1.count()"
   ]
  },
  {
   "cell_type": "code",
   "execution_count": null,
   "id": "71f987ec",
   "metadata": {},
   "outputs": [],
   "source": [
    "sales_df1 = spark.read.format(\"json\").option(\"mode\",\"failfast\").schema(schema).load(\"/public/trendytech/datasets/sales_data.json\")"
   ]
  },
  {
   "cell_type": "code",
   "execution_count": 51,
   "id": "7e2c278c",
   "metadata": {},
   "outputs": [
    {
     "name": "stdout",
     "output_type": "stream",
     "text": [
      "patient_id,admission_date,discharge_date,diagnosis,doctor_id,total_cost\n",
      "1,01-01-2022,2022-01-10,Pneumonia,101,5000.00\n",
      "2,02-05-2022,2022-02-09,Appendicitis,102,7000.00\n",
      "3,03-12-2022,2022-03-18,Fractured Arm,103,3500.00\n",
      "4,04-02-2022,2022-04-08,Heart Attack,104,15000.00\n",
      "5,05-05-2022,2022-05-07,Influenza,105,2500.00\n",
      "6,06-10-2022,2022-06-15,Appendicitis,106,8000.00\n",
      "7,07-20-2022,2022-07-25,Pneumonia,107,5500.00\n",
      "8,08-25-2022,2022-09-01,Heart Attack,108,20000.00\n",
      "9,09-15-2022,2022-09-22,Fractured Leg,109,6000.00\n"
     ]
    }
   ],
   "source": [
    "! hadoop fs -cat /public/trendytech/datasets/hospital.csv |head"
   ]
  },
  {
   "cell_type": "code",
   "execution_count": 58,
   "id": "ee28ea07",
   "metadata": {},
   "outputs": [],
   "source": [
    "schema = \"patient_id integer, admission_date date, discharge_date date, diagnosis string, doctor_id integer,total_cost float\""
   ]
  },
  {
   "cell_type": "code",
   "execution_count": 64,
   "id": "983dbbdc",
   "metadata": {},
   "outputs": [],
   "source": [
    "hosp_df=spark.read \\\n",
    ".format(\"csv\") \\\n",
    ".option(\"header\",\"true\") \\\n",
    ".schema(schema) \\\n",
    ".option(\"dateFormat\",\"MM-dd-yyyy\") \\\n",
    ".load(\"/public/trendytech/datasets/hospital.csv\")"
   ]
  },
  {
   "cell_type": "code",
   "execution_count": 65,
   "id": "67ca48da",
   "metadata": {},
   "outputs": [
    {
     "name": "stdout",
     "output_type": "stream",
     "text": [
      "+----------+--------------+--------------+-------------+---------+----------+\n",
      "|patient_id|admission_date|discharge_date|    diagnosis|doctor_id|total_cost|\n",
      "+----------+--------------+--------------+-------------+---------+----------+\n",
      "|         1|    2022-01-01|    2022-01-10|    Pneumonia|      101|    5000.0|\n",
      "|         2|    2022-02-05|    2022-02-09| Appendicitis|      102|    7000.0|\n",
      "|         3|    2022-03-12|    2022-03-18|Fractured Arm|      103|    3500.0|\n",
      "|         4|    2022-04-02|    2022-04-08| Heart Attack|      104|   15000.0|\n",
      "|         5|    2022-05-05|    2022-05-07|    Influenza|      105|    2500.0|\n",
      "|         6|    2022-06-10|    2022-06-15| Appendicitis|      106|    8000.0|\n",
      "|         7|    2022-07-20|    2022-07-25|    Pneumonia|      107|    5500.0|\n",
      "|         8|    2022-08-25|    2022-09-01| Heart Attack|      108|   20000.0|\n",
      "|         9|    2022-09-15|    2022-09-22|Fractured Leg|      109|    6000.0|\n",
      "|        10|    2022-10-05|    2022-10-10| Appendicitis|      110|    7500.0|\n",
      "|        11|    2022-11-02|    2022-11-05|    Influenza|      111|    2800.0|\n",
      "|        12|    2022-12-10|    2022-12-18|    Pneumonia|      112|    6000.0|\n",
      "|        13|    2023-01-02|    2023-01-09| Heart Attack|      113|   18000.0|\n",
      "|        14|    2023-02-14|    2023-02-18| Appendicitis|      114|    7200.0|\n",
      "|        15|    2023-03-20|    2023-03-28|Fractured Arm|      115|    3800.0|\n",
      "|        16|    2023-04-05|    2023-04-11|    Influenza|      116|    2700.0|\n",
      "|        17|    2023-05-08|    2023-05-11| Heart Attack|      117|   16000.0|\n",
      "|        18|    2023-06-15|    2023-06-20|    Pneumonia|      118|    4800.0|\n",
      "|        19|    2023-07-22|    2023-07-27|Fractured Leg|      119|    6500.0|\n",
      "|        20|    2023-08-10|    2023-08-16| Appendicitis|      120|    7800.0|\n",
      "+----------+--------------+--------------+-------------+---------+----------+\n",
      "only showing top 20 rows\n",
      "\n"
     ]
    }
   ],
   "source": [
    "hosp_df.show()"
   ]
  },
  {
   "cell_type": "code",
   "execution_count": 66,
   "id": "4b3e76e7",
   "metadata": {},
   "outputs": [],
   "source": [
    "dropped_df = hosp_df.drop(\"doctor_id\")"
   ]
  },
  {
   "cell_type": "code",
   "execution_count": 67,
   "id": "5a79059b",
   "metadata": {},
   "outputs": [
    {
     "name": "stdout",
     "output_type": "stream",
     "text": [
      "+----------+--------------+--------------+-------------+----------+\n",
      "|patient_id|admission_date|discharge_date|    diagnosis|total_cost|\n",
      "+----------+--------------+--------------+-------------+----------+\n",
      "|         1|    2022-01-01|    2022-01-10|    Pneumonia|    5000.0|\n",
      "|         2|    2022-02-05|    2022-02-09| Appendicitis|    7000.0|\n",
      "|         3|    2022-03-12|    2022-03-18|Fractured Arm|    3500.0|\n",
      "|         4|    2022-04-02|    2022-04-08| Heart Attack|   15000.0|\n",
      "|         5|    2022-05-05|    2022-05-07|    Influenza|    2500.0|\n",
      "|         6|    2022-06-10|    2022-06-15| Appendicitis|    8000.0|\n",
      "|         7|    2022-07-20|    2022-07-25|    Pneumonia|    5500.0|\n",
      "|         8|    2022-08-25|    2022-09-01| Heart Attack|   20000.0|\n",
      "|         9|    2022-09-15|    2022-09-22|Fractured Leg|    6000.0|\n",
      "|        10|    2022-10-05|    2022-10-10| Appendicitis|    7500.0|\n",
      "|        11|    2022-11-02|    2022-11-05|    Influenza|    2800.0|\n",
      "|        12|    2022-12-10|    2022-12-18|    Pneumonia|    6000.0|\n",
      "|        13|    2023-01-02|    2023-01-09| Heart Attack|   18000.0|\n",
      "|        14|    2023-02-14|    2023-02-18| Appendicitis|    7200.0|\n",
      "|        15|    2023-03-20|    2023-03-28|Fractured Arm|    3800.0|\n",
      "|        16|    2023-04-05|    2023-04-11|    Influenza|    2700.0|\n",
      "|        17|    2023-05-08|    2023-05-11| Heart Attack|   16000.0|\n",
      "|        18|    2023-06-15|    2023-06-20|    Pneumonia|    4800.0|\n",
      "|        19|    2023-07-22|    2023-07-27|Fractured Leg|    6500.0|\n",
      "|        20|    2023-08-10|    2023-08-16| Appendicitis|    7800.0|\n",
      "+----------+--------------+--------------+-------------+----------+\n",
      "only showing top 20 rows\n",
      "\n"
     ]
    }
   ],
   "source": [
    "dropped_df.show()"
   ]
  },
  {
   "cell_type": "code",
   "execution_count": 69,
   "id": "7d3dd6f0",
   "metadata": {},
   "outputs": [],
   "source": [
    "renamed_df = hosp_df.withColumnRenamed(\"total_cost\",\"hospital_bill\")"
   ]
  },
  {
   "cell_type": "code",
   "execution_count": 70,
   "id": "cd1ae582",
   "metadata": {},
   "outputs": [
    {
     "name": "stdout",
     "output_type": "stream",
     "text": [
      "+----------+--------------+--------------+-------------+---------+-------------+\n",
      "|patient_id|admission_date|discharge_date|    diagnosis|doctor_id|hospital_bill|\n",
      "+----------+--------------+--------------+-------------+---------+-------------+\n",
      "|         1|    2022-01-01|    2022-01-10|    Pneumonia|      101|       5000.0|\n",
      "|         2|    2022-02-05|    2022-02-09| Appendicitis|      102|       7000.0|\n",
      "|         3|    2022-03-12|    2022-03-18|Fractured Arm|      103|       3500.0|\n",
      "|         4|    2022-04-02|    2022-04-08| Heart Attack|      104|      15000.0|\n",
      "|         5|    2022-05-05|    2022-05-07|    Influenza|      105|       2500.0|\n",
      "|         6|    2022-06-10|    2022-06-15| Appendicitis|      106|       8000.0|\n",
      "|         7|    2022-07-20|    2022-07-25|    Pneumonia|      107|       5500.0|\n",
      "|         8|    2022-08-25|    2022-09-01| Heart Attack|      108|      20000.0|\n",
      "|         9|    2022-09-15|    2022-09-22|Fractured Leg|      109|       6000.0|\n",
      "|        10|    2022-10-05|    2022-10-10| Appendicitis|      110|       7500.0|\n",
      "|        11|    2022-11-02|    2022-11-05|    Influenza|      111|       2800.0|\n",
      "|        12|    2022-12-10|    2022-12-18|    Pneumonia|      112|       6000.0|\n",
      "|        13|    2023-01-02|    2023-01-09| Heart Attack|      113|      18000.0|\n",
      "|        14|    2023-02-14|    2023-02-18| Appendicitis|      114|       7200.0|\n",
      "|        15|    2023-03-20|    2023-03-28|Fractured Arm|      115|       3800.0|\n",
      "|        16|    2023-04-05|    2023-04-11|    Influenza|      116|       2700.0|\n",
      "|        17|    2023-05-08|    2023-05-11| Heart Attack|      117|      16000.0|\n",
      "|        18|    2023-06-15|    2023-06-20|    Pneumonia|      118|       4800.0|\n",
      "|        19|    2023-07-22|    2023-07-27|Fractured Leg|      119|       6500.0|\n",
      "|        20|    2023-08-10|    2023-08-16| Appendicitis|      120|       7800.0|\n",
      "+----------+--------------+--------------+-------------+---------+-------------+\n",
      "only showing top 20 rows\n",
      "\n"
     ]
    }
   ],
   "source": [
    "renamed_df.show()"
   ]
  },
  {
   "cell_type": "code",
   "execution_count": 75,
   "id": "a3342d2a",
   "metadata": {},
   "outputs": [],
   "source": [
    "from pyspark.sql.functions import *"
   ]
  },
  {
   "cell_type": "code",
   "execution_count": 76,
   "id": "63fc002d",
   "metadata": {},
   "outputs": [],
   "source": [
    "discharge_df = hosp_df.withColumn(\"Duration_of_Stay\",expr(\"datediff(discharge_date,admission_date)\"))"
   ]
  },
  {
   "cell_type": "code",
   "execution_count": 77,
   "id": "44515ca8",
   "metadata": {},
   "outputs": [
    {
     "name": "stdout",
     "output_type": "stream",
     "text": [
      "+----------+--------------+--------------+-------------+---------+----------+----------------+\n",
      "|patient_id|admission_date|discharge_date|    diagnosis|doctor_id|total_cost|Duration_of_Stay|\n",
      "+----------+--------------+--------------+-------------+---------+----------+----------------+\n",
      "|         1|    2022-01-01|    2022-01-10|    Pneumonia|      101|    5000.0|               9|\n",
      "|         2|    2022-02-05|    2022-02-09| Appendicitis|      102|    7000.0|               4|\n",
      "|         3|    2022-03-12|    2022-03-18|Fractured Arm|      103|    3500.0|               6|\n",
      "|         4|    2022-04-02|    2022-04-08| Heart Attack|      104|   15000.0|               6|\n",
      "|         5|    2022-05-05|    2022-05-07|    Influenza|      105|    2500.0|               2|\n",
      "|         6|    2022-06-10|    2022-06-15| Appendicitis|      106|    8000.0|               5|\n",
      "|         7|    2022-07-20|    2022-07-25|    Pneumonia|      107|    5500.0|               5|\n",
      "|         8|    2022-08-25|    2022-09-01| Heart Attack|      108|   20000.0|               7|\n",
      "|         9|    2022-09-15|    2022-09-22|Fractured Leg|      109|    6000.0|               7|\n",
      "|        10|    2022-10-05|    2022-10-10| Appendicitis|      110|    7500.0|               5|\n",
      "|        11|    2022-11-02|    2022-11-05|    Influenza|      111|    2800.0|               3|\n",
      "|        12|    2022-12-10|    2022-12-18|    Pneumonia|      112|    6000.0|               8|\n",
      "|        13|    2023-01-02|    2023-01-09| Heart Attack|      113|   18000.0|               7|\n",
      "|        14|    2023-02-14|    2023-02-18| Appendicitis|      114|    7200.0|               4|\n",
      "|        15|    2023-03-20|    2023-03-28|Fractured Arm|      115|    3800.0|               8|\n",
      "|        16|    2023-04-05|    2023-04-11|    Influenza|      116|    2700.0|               6|\n",
      "|        17|    2023-05-08|    2023-05-11| Heart Attack|      117|   16000.0|               3|\n",
      "|        18|    2023-06-15|    2023-06-20|    Pneumonia|      118|    4800.0|               5|\n",
      "|        19|    2023-07-22|    2023-07-27|Fractured Leg|      119|    6500.0|               5|\n",
      "|        20|    2023-08-10|    2023-08-16| Appendicitis|      120|    7800.0|               6|\n",
      "+----------+--------------+--------------+-------------+---------+----------+----------------+\n",
      "only showing top 20 rows\n",
      "\n"
     ]
    }
   ],
   "source": [
    "discharge_df.show()"
   ]
  },
  {
   "cell_type": "code",
   "execution_count": 79,
   "id": "c405ce33",
   "metadata": {},
   "outputs": [],
   "source": [
    "adjusted_df = renamed_df.withColumn(\"adjusted_total_cost\",expr(\"CASE WHEN diagnosis LIKE 'Heart Attack' THEN hospital_bill * 1.5 WHEN diagnosis LIKE 'Appendicitis' THEN hospital_bill * 1.2 ELSE hospital_bill END\"))"
   ]
  },
  {
   "cell_type": "code",
   "execution_count": 80,
   "id": "47364ce7",
   "metadata": {},
   "outputs": [
    {
     "name": "stdout",
     "output_type": "stream",
     "text": [
      "+----------+--------------+--------------+-------------+---------+-------------+-------------------+\n",
      "|patient_id|admission_date|discharge_date|    diagnosis|doctor_id|hospital_bill|adjusted_total_cost|\n",
      "+----------+--------------+--------------+-------------+---------+-------------+-------------------+\n",
      "|         1|    2022-01-01|    2022-01-10|    Pneumonia|      101|       5000.0|             5000.0|\n",
      "|         2|    2022-02-05|    2022-02-09| Appendicitis|      102|       7000.0|             8400.0|\n",
      "|         3|    2022-03-12|    2022-03-18|Fractured Arm|      103|       3500.0|             3500.0|\n",
      "|         4|    2022-04-02|    2022-04-08| Heart Attack|      104|      15000.0|            22500.0|\n",
      "|         5|    2022-05-05|    2022-05-07|    Influenza|      105|       2500.0|             2500.0|\n",
      "|         6|    2022-06-10|    2022-06-15| Appendicitis|      106|       8000.0|             9600.0|\n",
      "|         7|    2022-07-20|    2022-07-25|    Pneumonia|      107|       5500.0|             5500.0|\n",
      "|         8|    2022-08-25|    2022-09-01| Heart Attack|      108|      20000.0|            30000.0|\n",
      "|         9|    2022-09-15|    2022-09-22|Fractured Leg|      109|       6000.0|             6000.0|\n",
      "|        10|    2022-10-05|    2022-10-10| Appendicitis|      110|       7500.0|             9000.0|\n",
      "|        11|    2022-11-02|    2022-11-05|    Influenza|      111|       2800.0|             2800.0|\n",
      "|        12|    2022-12-10|    2022-12-18|    Pneumonia|      112|       6000.0|             6000.0|\n",
      "|        13|    2023-01-02|    2023-01-09| Heart Attack|      113|      18000.0|            27000.0|\n",
      "|        14|    2023-02-14|    2023-02-18| Appendicitis|      114|       7200.0|             8640.0|\n",
      "|        15|    2023-03-20|    2023-03-28|Fractured Arm|      115|       3800.0|             3800.0|\n",
      "|        16|    2023-04-05|    2023-04-11|    Influenza|      116|       2700.0|             2700.0|\n",
      "|        17|    2023-05-08|    2023-05-11| Heart Attack|      117|      16000.0|            24000.0|\n",
      "|        18|    2023-06-15|    2023-06-20|    Pneumonia|      118|       4800.0|             4800.0|\n",
      "|        19|    2023-07-22|    2023-07-27|Fractured Leg|      119|       6500.0|             6500.0|\n",
      "|        20|    2023-08-10|    2023-08-16| Appendicitis|      120|       7800.0|             9360.0|\n",
      "+----------+--------------+--------------+-------------+---------+-------------+-------------------+\n",
      "only showing top 20 rows\n",
      "\n"
     ]
    }
   ],
   "source": [
    "adjusted_df.show()"
   ]
  },
  {
   "cell_type": "code",
   "execution_count": 81,
   "id": "d8dcea63",
   "metadata": {},
   "outputs": [],
   "source": [
    "hospital_final_df = adjusted_df.select(\"patient_id\", \"diagnosis\",\"hospital_bill\", \"adjusted_total_cost\")"
   ]
  },
  {
   "cell_type": "code",
   "execution_count": 82,
   "id": "a815e779",
   "metadata": {},
   "outputs": [
    {
     "name": "stdout",
     "output_type": "stream",
     "text": [
      "+----------+-------------+-------------+-------------------+\n",
      "|patient_id|    diagnosis|hospital_bill|adjusted_total_cost|\n",
      "+----------+-------------+-------------+-------------------+\n",
      "|         1|    Pneumonia|       5000.0|             5000.0|\n",
      "|         2| Appendicitis|       7000.0|             8400.0|\n",
      "|         3|Fractured Arm|       3500.0|             3500.0|\n",
      "|         4| Heart Attack|      15000.0|            22500.0|\n",
      "|         5|    Influenza|       2500.0|             2500.0|\n",
      "|         6| Appendicitis|       8000.0|             9600.0|\n",
      "|         7|    Pneumonia|       5500.0|             5500.0|\n",
      "|         8| Heart Attack|      20000.0|            30000.0|\n",
      "|         9|Fractured Leg|       6000.0|             6000.0|\n",
      "|        10| Appendicitis|       7500.0|             9000.0|\n",
      "|        11|    Influenza|       2800.0|             2800.0|\n",
      "|        12|    Pneumonia|       6000.0|             6000.0|\n",
      "|        13| Heart Attack|      18000.0|            27000.0|\n",
      "|        14| Appendicitis|       7200.0|             8640.0|\n",
      "|        15|Fractured Arm|       3800.0|             3800.0|\n",
      "|        16|    Influenza|       2700.0|             2700.0|\n",
      "|        17| Heart Attack|      16000.0|            24000.0|\n",
      "|        18|    Pneumonia|       4800.0|             4800.0|\n",
      "|        19|Fractured Leg|       6500.0|             6500.0|\n",
      "|        20| Appendicitis|       7800.0|             9360.0|\n",
      "+----------+-------------+-------------+-------------------+\n",
      "only showing top 20 rows\n",
      "\n"
     ]
    }
   ],
   "source": [
    "hospital_final_df.show()"
   ]
  },
  {
   "cell_type": "code",
   "execution_count": null,
   "id": "e083be29",
   "metadata": {},
   "outputs": [],
   "source": []
  }
 ],
 "metadata": {
  "kernelspec": {
   "display_name": "Pyspark 3",
   "language": "python",
   "name": "pyspark3"
  },
  "language_info": {
   "codemirror_mode": {
    "name": "ipython",
    "version": 3
   },
   "file_extension": ".py",
   "mimetype": "text/x-python",
   "name": "python",
   "nbconvert_exporter": "python",
   "pygments_lexer": "ipython3",
   "version": "3.6.12"
  }
 },
 "nbformat": 4,
 "nbformat_minor": 5
}
